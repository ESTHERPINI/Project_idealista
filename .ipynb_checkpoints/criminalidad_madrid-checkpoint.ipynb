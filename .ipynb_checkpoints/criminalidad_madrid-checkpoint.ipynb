{
 "cells": [
  {
   "cell_type": "code",
   "execution_count": 4,
   "metadata": {},
   "outputs": [],
   "source": [
    "import requests\n",
    "import pandas as pd\n",
    "import numpy as np"
   ]
  },
  {
   "cell_type": "markdown",
   "metadata": {},
   "source": [
    "https://datos.madrid.es/sites/v/index.jsp?vgnextoid=bffff1d2a9fdb410VgnVCM2000000c205a0aRCRD&vgnextchannel=20d612b9ace9f310VgnVCM100000171f5a0aRCRD"
   ]
  },
  {
   "cell_type": "markdown",
   "metadata": {},
   "source": [
    "C:\\Users\\pinil\\Project\\input"
   ]
  },
  {
   "cell_type": "code",
   "execution_count": 41,
   "metadata": {},
   "outputs": [
    {
     "data": {
      "text/html": [
       "<div>\n",
       "<style scoped>\n",
       "    .dataframe tbody tr th:only-of-type {\n",
       "        vertical-align: middle;\n",
       "    }\n",
       "\n",
       "    .dataframe tbody tr th {\n",
       "        vertical-align: top;\n",
       "    }\n",
       "\n",
       "    .dataframe thead th {\n",
       "        text-align: right;\n",
       "    }\n",
       "</style>\n",
       "<table border=\"1\" class=\"dataframe\">\n",
       "  <thead>\n",
       "    <tr style=\"text-align: right;\">\n",
       "      <th></th>\n",
       "      <th>SEGURIDAD CIUDADANA</th>\n",
       "      <th>Unnamed: 1</th>\n",
       "      <th>Unnamed: 2</th>\n",
       "      <th>Unnamed: 3</th>\n",
       "      <th>Unnamed: 4</th>\n",
       "      <th>Unnamed: 5</th>\n",
       "    </tr>\n",
       "  </thead>\n",
       "  <tbody>\n",
       "    <tr>\n",
       "      <th>0</th>\n",
       "      <td>NaN</td>\n",
       "      <td>NaN</td>\n",
       "      <td>NaN</td>\n",
       "      <td>NaN</td>\n",
       "      <td>NaN</td>\n",
       "      <td>NaN</td>\n",
       "    </tr>\n",
       "    <tr>\n",
       "      <th>1</th>\n",
       "      <td>DISTRITOS</td>\n",
       "      <td>RELACIONADAS CON LAS PERSONAS</td>\n",
       "      <td>RELACIONADAS CON EL PATRIMONIO</td>\n",
       "      <td>POR TENENCIA DE ARMAS</td>\n",
       "      <td>POR TENENCIA DE DROGAS</td>\n",
       "      <td>POR CONSUMO DE DROGAS</td>\n",
       "    </tr>\n",
       "    <tr>\n",
       "      <th>2</th>\n",
       "      <td>CENTRO</td>\n",
       "      <td>52</td>\n",
       "      <td>97</td>\n",
       "      <td>15</td>\n",
       "      <td>76</td>\n",
       "      <td>12</td>\n",
       "    </tr>\n",
       "    <tr>\n",
       "      <th>3</th>\n",
       "      <td>ARGANZUELA</td>\n",
       "      <td>6</td>\n",
       "      <td>14</td>\n",
       "      <td>2</td>\n",
       "      <td>6</td>\n",
       "      <td>14</td>\n",
       "    </tr>\n",
       "    <tr>\n",
       "      <th>4</th>\n",
       "      <td>RETIRO</td>\n",
       "      <td>2</td>\n",
       "      <td>4</td>\n",
       "      <td>2</td>\n",
       "      <td>21</td>\n",
       "      <td>2</td>\n",
       "    </tr>\n",
       "  </tbody>\n",
       "</table>\n",
       "</div>"
      ],
      "text/plain": [
       "  SEGURIDAD CIUDADANA                     Unnamed: 1  \\\n",
       "0                 NaN                            NaN   \n",
       "1           DISTRITOS  RELACIONADAS CON LAS PERSONAS   \n",
       "2              CENTRO                             52   \n",
       "3          ARGANZUELA                              6   \n",
       "4              RETIRO                              2   \n",
       "\n",
       "                       Unnamed: 2             Unnamed: 3  \\\n",
       "0                             NaN                    NaN   \n",
       "1  RELACIONADAS CON EL PATRIMONIO  POR TENENCIA DE ARMAS   \n",
       "2                              97                     15   \n",
       "3                              14                      2   \n",
       "4                               4                      2   \n",
       "\n",
       "               Unnamed: 4             Unnamed: 5  \n",
       "0                     NaN                    NaN  \n",
       "1  POR TENENCIA DE DROGAS  POR CONSUMO DE DROGAS  \n",
       "2                      76                     12  \n",
       "3                       6                     14  \n",
       "4                      21                      2  "
      ]
     },
     "execution_count": 41,
     "metadata": {},
     "output_type": "execute_result"
    }
   ],
   "source": [
    "dls_mayo_21=\"https://datos.madrid.es/egob/catalogo/212616-89-policia-estadisticas.xlsx\"\n",
    "resp = requests.get(dls_mayo_21)\n",
    "\n",
    "output = open('../Project/input/criminalidad_mayo_21.xls', 'wb')\n",
    "output.write(resp.content)\n",
    "output.close()    \n",
    "\n",
    "file = \"../Project/input/criminalidad_mayo_21.xls\"\n",
    "df_criminalidad_mayo_21 = pd.read_excel(file, sheet_name=\"SEGURIDAD\" ) #reading file\n",
    "df_criminalidad_mayo_21.head() "
   ]
  },
  {
   "cell_type": "code",
   "execution_count": 42,
   "metadata": {},
   "outputs": [
    {
     "data": {
      "text/html": [
       "<div>\n",
       "<style scoped>\n",
       "    .dataframe tbody tr th:only-of-type {\n",
       "        vertical-align: middle;\n",
       "    }\n",
       "\n",
       "    .dataframe tbody tr th {\n",
       "        vertical-align: top;\n",
       "    }\n",
       "\n",
       "    .dataframe thead th {\n",
       "        text-align: right;\n",
       "    }\n",
       "</style>\n",
       "<table border=\"1\" class=\"dataframe\">\n",
       "  <thead>\n",
       "    <tr style=\"text-align: right;\">\n",
       "      <th>1</th>\n",
       "      <th>DISTRITOS</th>\n",
       "      <th>RELACIONADAS CON LAS PERSONAS</th>\n",
       "      <th>RELACIONADAS CON EL PATRIMONIO</th>\n",
       "      <th>POR TENENCIA DE ARMAS</th>\n",
       "      <th>POR TENENCIA DE DROGAS</th>\n",
       "      <th>POR CONSUMO DE DROGAS</th>\n",
       "    </tr>\n",
       "  </thead>\n",
       "  <tbody>\n",
       "    <tr>\n",
       "      <th>0</th>\n",
       "      <td>NaN</td>\n",
       "      <td>NaN</td>\n",
       "      <td>NaN</td>\n",
       "      <td>NaN</td>\n",
       "      <td>NaN</td>\n",
       "      <td>NaN</td>\n",
       "    </tr>\n",
       "    <tr>\n",
       "      <th>1</th>\n",
       "      <td>DISTRITOS</td>\n",
       "      <td>RELACIONADAS CON LAS PERSONAS</td>\n",
       "      <td>RELACIONADAS CON EL PATRIMONIO</td>\n",
       "      <td>POR TENENCIA DE ARMAS</td>\n",
       "      <td>POR TENENCIA DE DROGAS</td>\n",
       "      <td>POR CONSUMO DE DROGAS</td>\n",
       "    </tr>\n",
       "    <tr>\n",
       "      <th>2</th>\n",
       "      <td>CENTRO</td>\n",
       "      <td>52</td>\n",
       "      <td>97</td>\n",
       "      <td>15</td>\n",
       "      <td>76</td>\n",
       "      <td>12</td>\n",
       "    </tr>\n",
       "    <tr>\n",
       "      <th>3</th>\n",
       "      <td>ARGANZUELA</td>\n",
       "      <td>6</td>\n",
       "      <td>14</td>\n",
       "      <td>2</td>\n",
       "      <td>6</td>\n",
       "      <td>14</td>\n",
       "    </tr>\n",
       "    <tr>\n",
       "      <th>4</th>\n",
       "      <td>RETIRO</td>\n",
       "      <td>2</td>\n",
       "      <td>4</td>\n",
       "      <td>2</td>\n",
       "      <td>21</td>\n",
       "      <td>2</td>\n",
       "    </tr>\n",
       "  </tbody>\n",
       "</table>\n",
       "</div>"
      ],
      "text/plain": [
       "1   DISTRITOS  RELACIONADAS CON LAS PERSONAS  RELACIONADAS CON EL PATRIMONIO  \\\n",
       "0         NaN                            NaN                             NaN   \n",
       "1   DISTRITOS  RELACIONADAS CON LAS PERSONAS  RELACIONADAS CON EL PATRIMONIO   \n",
       "2      CENTRO                             52                              97   \n",
       "3  ARGANZUELA                              6                              14   \n",
       "4      RETIRO                              2                               4   \n",
       "\n",
       "1  POR TENENCIA DE ARMAS  POR TENENCIA DE DROGAS  POR CONSUMO DE DROGAS  \n",
       "0                    NaN                     NaN                    NaN  \n",
       "1  POR TENENCIA DE ARMAS  POR TENENCIA DE DROGAS  POR CONSUMO DE DROGAS  \n",
       "2                     15                      76                     12  \n",
       "3                      2                       6                     14  \n",
       "4                      2                      21                      2  "
      ]
     },
     "execution_count": 42,
     "metadata": {},
     "output_type": "execute_result"
    }
   ],
   "source": [
    "df_criminalidad_mayo_21.columns = df_criminalidad_mayo_21.iloc[1]\n",
    "df_criminalidad_mayo_21.head()"
   ]
  },
  {
   "cell_type": "code",
   "execution_count": 43,
   "metadata": {},
   "outputs": [],
   "source": [
    "df_criminalidad_mayo_21 = df_criminalidad_mayo_21.drop(1)"
   ]
  },
  {
   "cell_type": "code",
   "execution_count": 44,
   "metadata": {},
   "outputs": [],
   "source": [
    "df_criminalidad_mayo_21 = df_criminalidad_mayo_21.drop(0)"
   ]
  },
  {
   "cell_type": "code",
   "execution_count": 45,
   "metadata": {},
   "outputs": [
    {
     "data": {
      "text/html": [
       "<div>\n",
       "<style scoped>\n",
       "    .dataframe tbody tr th:only-of-type {\n",
       "        vertical-align: middle;\n",
       "    }\n",
       "\n",
       "    .dataframe tbody tr th {\n",
       "        vertical-align: top;\n",
       "    }\n",
       "\n",
       "    .dataframe thead th {\n",
       "        text-align: right;\n",
       "    }\n",
       "</style>\n",
       "<table border=\"1\" class=\"dataframe\">\n",
       "  <thead>\n",
       "    <tr style=\"text-align: right;\">\n",
       "      <th>1</th>\n",
       "      <th>DISTRITOS</th>\n",
       "      <th>RELACIONADAS CON LAS PERSONAS</th>\n",
       "      <th>RELACIONADAS CON EL PATRIMONIO</th>\n",
       "      <th>POR TENENCIA DE ARMAS</th>\n",
       "      <th>POR TENENCIA DE DROGAS</th>\n",
       "      <th>POR CONSUMO DE DROGAS</th>\n",
       "    </tr>\n",
       "  </thead>\n",
       "  <tbody>\n",
       "    <tr>\n",
       "      <th>2</th>\n",
       "      <td>CENTRO</td>\n",
       "      <td>52</td>\n",
       "      <td>97</td>\n",
       "      <td>15</td>\n",
       "      <td>76</td>\n",
       "      <td>12</td>\n",
       "    </tr>\n",
       "    <tr>\n",
       "      <th>3</th>\n",
       "      <td>ARGANZUELA</td>\n",
       "      <td>6</td>\n",
       "      <td>14</td>\n",
       "      <td>2</td>\n",
       "      <td>6</td>\n",
       "      <td>14</td>\n",
       "    </tr>\n",
       "    <tr>\n",
       "      <th>4</th>\n",
       "      <td>RETIRO</td>\n",
       "      <td>2</td>\n",
       "      <td>4</td>\n",
       "      <td>2</td>\n",
       "      <td>21</td>\n",
       "      <td>2</td>\n",
       "    </tr>\n",
       "  </tbody>\n",
       "</table>\n",
       "</div>"
      ],
      "text/plain": [
       "1   DISTRITOS RELACIONADAS CON LAS PERSONAS RELACIONADAS CON EL PATRIMONIO  \\\n",
       "2      CENTRO                            52                             97   \n",
       "3  ARGANZUELA                             6                             14   \n",
       "4      RETIRO                             2                              4   \n",
       "\n",
       "1 POR TENENCIA DE ARMAS POR TENENCIA DE DROGAS POR CONSUMO DE DROGAS  \n",
       "2                    15                     76                    12  \n",
       "3                     2                      6                    14  \n",
       "4                     2                     21                     2  "
      ]
     },
     "execution_count": 45,
     "metadata": {},
     "output_type": "execute_result"
    }
   ],
   "source": [
    "df_criminalidad_mayo_21.head(3)"
   ]
  },
  {
   "cell_type": "code",
   "execution_count": 46,
   "metadata": {},
   "outputs": [],
   "source": [
    "df_criminalidad_mayo_21[\"MES\"]=\"Mayo\"\n",
    "df_criminalidad_mayo_21[\"AÑO\"]=2021"
   ]
  },
  {
   "cell_type": "code",
   "execution_count": 47,
   "metadata": {},
   "outputs": [
    {
     "data": {
      "text/html": [
       "<div>\n",
       "<style scoped>\n",
       "    .dataframe tbody tr th:only-of-type {\n",
       "        vertical-align: middle;\n",
       "    }\n",
       "\n",
       "    .dataframe tbody tr th {\n",
       "        vertical-align: top;\n",
       "    }\n",
       "\n",
       "    .dataframe thead th {\n",
       "        text-align: right;\n",
       "    }\n",
       "</style>\n",
       "<table border=\"1\" class=\"dataframe\">\n",
       "  <thead>\n",
       "    <tr style=\"text-align: right;\">\n",
       "      <th>1</th>\n",
       "      <th>DISTRITOS</th>\n",
       "      <th>RELACIONADAS CON LAS PERSONAS</th>\n",
       "      <th>RELACIONADAS CON EL PATRIMONIO</th>\n",
       "      <th>POR TENENCIA DE ARMAS</th>\n",
       "      <th>POR TENENCIA DE DROGAS</th>\n",
       "      <th>POR CONSUMO DE DROGAS</th>\n",
       "      <th>MES</th>\n",
       "      <th>AÑO</th>\n",
       "    </tr>\n",
       "  </thead>\n",
       "  <tbody>\n",
       "    <tr>\n",
       "      <th>2</th>\n",
       "      <td>CENTRO</td>\n",
       "      <td>52</td>\n",
       "      <td>97</td>\n",
       "      <td>15</td>\n",
       "      <td>76</td>\n",
       "      <td>12</td>\n",
       "      <td>Mayo</td>\n",
       "      <td>2021</td>\n",
       "    </tr>\n",
       "    <tr>\n",
       "      <th>3</th>\n",
       "      <td>ARGANZUELA</td>\n",
       "      <td>6</td>\n",
       "      <td>14</td>\n",
       "      <td>2</td>\n",
       "      <td>6</td>\n",
       "      <td>14</td>\n",
       "      <td>Mayo</td>\n",
       "      <td>2021</td>\n",
       "    </tr>\n",
       "    <tr>\n",
       "      <th>4</th>\n",
       "      <td>RETIRO</td>\n",
       "      <td>2</td>\n",
       "      <td>4</td>\n",
       "      <td>2</td>\n",
       "      <td>21</td>\n",
       "      <td>2</td>\n",
       "      <td>Mayo</td>\n",
       "      <td>2021</td>\n",
       "    </tr>\n",
       "    <tr>\n",
       "      <th>5</th>\n",
       "      <td>SALAMANCA</td>\n",
       "      <td>8</td>\n",
       "      <td>43</td>\n",
       "      <td>1</td>\n",
       "      <td>20</td>\n",
       "      <td>2</td>\n",
       "      <td>Mayo</td>\n",
       "      <td>2021</td>\n",
       "    </tr>\n",
       "    <tr>\n",
       "      <th>6</th>\n",
       "      <td>CHAMARTÍN</td>\n",
       "      <td>5</td>\n",
       "      <td>10</td>\n",
       "      <td>3</td>\n",
       "      <td>16</td>\n",
       "      <td>4</td>\n",
       "      <td>Mayo</td>\n",
       "      <td>2021</td>\n",
       "    </tr>\n",
       "  </tbody>\n",
       "</table>\n",
       "</div>"
      ],
      "text/plain": [
       "1   DISTRITOS RELACIONADAS CON LAS PERSONAS RELACIONADAS CON EL PATRIMONIO  \\\n",
       "2      CENTRO                            52                             97   \n",
       "3  ARGANZUELA                             6                             14   \n",
       "4      RETIRO                             2                              4   \n",
       "5   SALAMANCA                             8                             43   \n",
       "6   CHAMARTÍN                             5                             10   \n",
       "\n",
       "1 POR TENENCIA DE ARMAS POR TENENCIA DE DROGAS POR CONSUMO DE DROGAS   MES  \\\n",
       "2                    15                     76                    12  Mayo   \n",
       "3                     2                      6                    14  Mayo   \n",
       "4                     2                     21                     2  Mayo   \n",
       "5                     1                     20                     2  Mayo   \n",
       "6                     3                     16                     4  Mayo   \n",
       "\n",
       "1   AÑO  \n",
       "2  2021  \n",
       "3  2021  \n",
       "4  2021  \n",
       "5  2021  \n",
       "6  2021  "
      ]
     },
     "execution_count": 47,
     "metadata": {},
     "output_type": "execute_result"
    }
   ],
   "source": [
    "df_criminalidad_mayo_21.head()"
   ]
  },
  {
   "cell_type": "code",
   "execution_count": 48,
   "metadata": {},
   "outputs": [
    {
     "name": "stdout",
     "output_type": "stream",
     "text": [
      "<class 'pandas.core.frame.DataFrame'>\n",
      "Int64Index: 23 entries, 2 to 24\n",
      "Data columns (total 8 columns):\n",
      " #   Column                          Non-Null Count  Dtype \n",
      "---  ------                          --------------  ----- \n",
      " 0   DISTRITOS                       23 non-null     object\n",
      " 1   RELACIONADAS CON LAS PERSONAS   23 non-null     object\n",
      " 2   RELACIONADAS CON EL PATRIMONIO  23 non-null     object\n",
      " 3   POR TENENCIA DE ARMAS           23 non-null     object\n",
      " 4   POR TENENCIA DE DROGAS          23 non-null     object\n",
      " 5   POR CONSUMO DE DROGAS           23 non-null     object\n",
      " 6   MES                             23 non-null     object\n",
      " 7   AÑO                             23 non-null     int64 \n",
      "dtypes: int64(1), object(7)\n",
      "memory usage: 1.6+ KB\n"
     ]
    }
   ],
   "source": [
    "df_criminalidad_mayo_21.info()"
   ]
  },
  {
   "cell_type": "code",
   "execution_count": 49,
   "metadata": {},
   "outputs": [
    {
     "name": "stdout",
     "output_type": "stream",
     "text": [
      "1\n",
      "DISTRITOS                         object\n",
      "RELACIONADAS CON LAS PERSONAS      int32\n",
      "RELACIONADAS CON EL PATRIMONIO     int32\n",
      "POR TENENCIA DE ARMAS              int32\n",
      "POR TENENCIA DE DROGAS             int32\n",
      "POR CONSUMO DE DROGAS              int32\n",
      "MES                               object\n",
      "AÑO                                int64\n",
      "dtype: object\n"
     ]
    }
   ],
   "source": [
    "#print(pd.to_numeric(df_criminalidad_mayo_21, errors='coerce'))\n",
    "df_criminalidad_mayo_21[['RELACIONADAS CON LAS PERSONAS',\n",
    "       'RELACIONADAS CON EL PATRIMONIO', 'POR TENENCIA DE ARMAS',\n",
    "       'POR TENENCIA DE DROGAS', 'POR CONSUMO DE DROGAS']] = df_criminalidad_mayo_21[['RELACIONADAS CON LAS PERSONAS',\n",
    "       'RELACIONADAS CON EL PATRIMONIO', 'POR TENENCIA DE ARMAS',\n",
    "       'POR TENENCIA DE DROGAS', 'POR CONSUMO DE DROGAS']].astype(str).astype(int)\n",
    "  \n",
    "print(df_criminalidad_mayo_21.dtypes)"
   ]
  },
  {
   "cell_type": "code",
   "execution_count": 50,
   "metadata": {},
   "outputs": [],
   "source": [
    "df_criminalidad_mayo_21[\"TOTAL_INSEGURIDAD\"]= df_criminalidad_mayo_21.apply(lambda row: (row['RELACIONADAS CON LAS PERSONAS'] +\n",
    "       row['RELACIONADAS CON EL PATRIMONIO'] + row['POR TENENCIA DE ARMAS']+ row['POR TENENCIA DE DROGAS'] + \n",
    "        row['POR CONSUMO DE DROGAS']), axis=1)"
   ]
  },
  {
   "cell_type": "code",
   "execution_count": 51,
   "metadata": {},
   "outputs": [
    {
     "data": {
      "text/html": [
       "<div>\n",
       "<style scoped>\n",
       "    .dataframe tbody tr th:only-of-type {\n",
       "        vertical-align: middle;\n",
       "    }\n",
       "\n",
       "    .dataframe tbody tr th {\n",
       "        vertical-align: top;\n",
       "    }\n",
       "\n",
       "    .dataframe thead th {\n",
       "        text-align: right;\n",
       "    }\n",
       "</style>\n",
       "<table border=\"1\" class=\"dataframe\">\n",
       "  <thead>\n",
       "    <tr style=\"text-align: right;\">\n",
       "      <th>1</th>\n",
       "      <th>DISTRITOS</th>\n",
       "      <th>RELACIONADAS CON LAS PERSONAS</th>\n",
       "      <th>RELACIONADAS CON EL PATRIMONIO</th>\n",
       "      <th>POR TENENCIA DE ARMAS</th>\n",
       "      <th>POR TENENCIA DE DROGAS</th>\n",
       "      <th>POR CONSUMO DE DROGAS</th>\n",
       "      <th>MES</th>\n",
       "      <th>AÑO</th>\n",
       "      <th>TOTAL_INSEGURIDAD</th>\n",
       "    </tr>\n",
       "  </thead>\n",
       "  <tbody>\n",
       "    <tr>\n",
       "      <th>2</th>\n",
       "      <td>CENTRO</td>\n",
       "      <td>52</td>\n",
       "      <td>97</td>\n",
       "      <td>15</td>\n",
       "      <td>76</td>\n",
       "      <td>12</td>\n",
       "      <td>Mayo</td>\n",
       "      <td>2021</td>\n",
       "      <td>252</td>\n",
       "    </tr>\n",
       "    <tr>\n",
       "      <th>3</th>\n",
       "      <td>ARGANZUELA</td>\n",
       "      <td>6</td>\n",
       "      <td>14</td>\n",
       "      <td>2</td>\n",
       "      <td>6</td>\n",
       "      <td>14</td>\n",
       "      <td>Mayo</td>\n",
       "      <td>2021</td>\n",
       "      <td>42</td>\n",
       "    </tr>\n",
       "    <tr>\n",
       "      <th>4</th>\n",
       "      <td>RETIRO</td>\n",
       "      <td>2</td>\n",
       "      <td>4</td>\n",
       "      <td>2</td>\n",
       "      <td>21</td>\n",
       "      <td>2</td>\n",
       "      <td>Mayo</td>\n",
       "      <td>2021</td>\n",
       "      <td>31</td>\n",
       "    </tr>\n",
       "  </tbody>\n",
       "</table>\n",
       "</div>"
      ],
      "text/plain": [
       "1   DISTRITOS  RELACIONADAS CON LAS PERSONAS  RELACIONADAS CON EL PATRIMONIO  \\\n",
       "2      CENTRO                             52                              97   \n",
       "3  ARGANZUELA                              6                              14   \n",
       "4      RETIRO                              2                               4   \n",
       "\n",
       "1  POR TENENCIA DE ARMAS  POR TENENCIA DE DROGAS  POR CONSUMO DE DROGAS   MES  \\\n",
       "2                     15                      76                     12  Mayo   \n",
       "3                      2                       6                     14  Mayo   \n",
       "4                      2                      21                      2  Mayo   \n",
       "\n",
       "1   AÑO  TOTAL_INSEGURIDAD  \n",
       "2  2021                252  \n",
       "3  2021                 42  \n",
       "4  2021                 31  "
      ]
     },
     "execution_count": 51,
     "metadata": {},
     "output_type": "execute_result"
    }
   ],
   "source": [
    "df_criminalidad_mayo_21.head(3)"
   ]
  },
  {
   "cell_type": "code",
   "execution_count": 52,
   "metadata": {},
   "outputs": [],
   "source": [
    "#df_criminalidad_mayo_21.drop(columns=['RELACIONADAS CON LAS PERSONAS','RELACIONADAS CON EL PATRIMONIO',\n",
    "                                      #'POR TENENCIA DE ARMAS', 'POR TENENCIA DE DROGAS','POR CONSUMO DE DROGAS'],\n",
    "                             #inplace=True)\n"
   ]
  },
  {
   "cell_type": "code",
   "execution_count": 53,
   "metadata": {},
   "outputs": [
    {
     "data": {
      "text/html": [
       "<div>\n",
       "<style scoped>\n",
       "    .dataframe tbody tr th:only-of-type {\n",
       "        vertical-align: middle;\n",
       "    }\n",
       "\n",
       "    .dataframe tbody tr th {\n",
       "        vertical-align: top;\n",
       "    }\n",
       "\n",
       "    .dataframe thead th {\n",
       "        text-align: right;\n",
       "    }\n",
       "</style>\n",
       "<table border=\"1\" class=\"dataframe\">\n",
       "  <thead>\n",
       "    <tr style=\"text-align: right;\">\n",
       "      <th>1</th>\n",
       "      <th>DISTRITOS</th>\n",
       "      <th>RELACIONADAS CON LAS PERSONAS</th>\n",
       "      <th>RELACIONADAS CON EL PATRIMONIO</th>\n",
       "      <th>POR TENENCIA DE ARMAS</th>\n",
       "      <th>POR TENENCIA DE DROGAS</th>\n",
       "      <th>POR CONSUMO DE DROGAS</th>\n",
       "      <th>MES</th>\n",
       "      <th>AÑO</th>\n",
       "      <th>TOTAL_INSEGURIDAD</th>\n",
       "    </tr>\n",
       "  </thead>\n",
       "  <tbody>\n",
       "    <tr>\n",
       "      <th>2</th>\n",
       "      <td>CENTRO</td>\n",
       "      <td>52</td>\n",
       "      <td>97</td>\n",
       "      <td>15</td>\n",
       "      <td>76</td>\n",
       "      <td>12</td>\n",
       "      <td>Mayo</td>\n",
       "      <td>2021</td>\n",
       "      <td>252</td>\n",
       "    </tr>\n",
       "    <tr>\n",
       "      <th>3</th>\n",
       "      <td>ARGANZUELA</td>\n",
       "      <td>6</td>\n",
       "      <td>14</td>\n",
       "      <td>2</td>\n",
       "      <td>6</td>\n",
       "      <td>14</td>\n",
       "      <td>Mayo</td>\n",
       "      <td>2021</td>\n",
       "      <td>42</td>\n",
       "    </tr>\n",
       "    <tr>\n",
       "      <th>4</th>\n",
       "      <td>RETIRO</td>\n",
       "      <td>2</td>\n",
       "      <td>4</td>\n",
       "      <td>2</td>\n",
       "      <td>21</td>\n",
       "      <td>2</td>\n",
       "      <td>Mayo</td>\n",
       "      <td>2021</td>\n",
       "      <td>31</td>\n",
       "    </tr>\n",
       "    <tr>\n",
       "      <th>5</th>\n",
       "      <td>SALAMANCA</td>\n",
       "      <td>8</td>\n",
       "      <td>43</td>\n",
       "      <td>1</td>\n",
       "      <td>20</td>\n",
       "      <td>2</td>\n",
       "      <td>Mayo</td>\n",
       "      <td>2021</td>\n",
       "      <td>74</td>\n",
       "    </tr>\n",
       "    <tr>\n",
       "      <th>6</th>\n",
       "      <td>CHAMARTÍN</td>\n",
       "      <td>5</td>\n",
       "      <td>10</td>\n",
       "      <td>3</td>\n",
       "      <td>16</td>\n",
       "      <td>4</td>\n",
       "      <td>Mayo</td>\n",
       "      <td>2021</td>\n",
       "      <td>38</td>\n",
       "    </tr>\n",
       "  </tbody>\n",
       "</table>\n",
       "</div>"
      ],
      "text/plain": [
       "1   DISTRITOS  RELACIONADAS CON LAS PERSONAS  RELACIONADAS CON EL PATRIMONIO  \\\n",
       "2      CENTRO                             52                              97   \n",
       "3  ARGANZUELA                              6                              14   \n",
       "4      RETIRO                              2                               4   \n",
       "5   SALAMANCA                              8                              43   \n",
       "6   CHAMARTÍN                              5                              10   \n",
       "\n",
       "1  POR TENENCIA DE ARMAS  POR TENENCIA DE DROGAS  POR CONSUMO DE DROGAS   MES  \\\n",
       "2                     15                      76                     12  Mayo   \n",
       "3                      2                       6                     14  Mayo   \n",
       "4                      2                      21                      2  Mayo   \n",
       "5                      1                      20                      2  Mayo   \n",
       "6                      3                      16                      4  Mayo   \n",
       "\n",
       "1   AÑO  TOTAL_INSEGURIDAD  \n",
       "2  2021                252  \n",
       "3  2021                 42  \n",
       "4  2021                 31  \n",
       "5  2021                 74  \n",
       "6  2021                 38  "
      ]
     },
     "execution_count": 53,
     "metadata": {},
     "output_type": "execute_result"
    }
   ],
   "source": [
    "df_criminalidad_mayo_21.head()"
   ]
  },
  {
   "cell_type": "markdown",
   "metadata": {},
   "source": [
    "### CRIMINALIDAD abril_21"
   ]
  },
  {
   "cell_type": "code",
   "execution_count": 55,
   "metadata": {},
   "outputs": [],
   "source": [
    "dls_abril_21 = \"https://datos.madrid.es/egob/catalogo/212616-88-policia-estadisticas.xlsx\"\n",
    "resp = requests.get(dls_abril_21)\n",
    "\n",
    "output = open('../Project/input/criminalidad_abril_21.xls', 'wb')\n",
    "output.write(resp.content)\n",
    "output.close()\n",
    "file = '../Project/input/criminalidad_abril_21.xls'\n",
    "df_criminalidad_abril_21 = pd.read_excel(file, sheet_name=\"SEGURIDAD\" ) #reading file\n",
    "df_criminalidad_abril_21.head() \n",
    "df_criminalidad_abril_21.columns = df_criminalidad_abril_21.iloc[1]\n",
    "\n",
    "df_criminalidad_abril_21 = df_criminalidad_abril_21.drop(1)\n",
    "df_criminalidad_abril_21 = df_criminalidad_abril_21.drop(0)\n",
    "\n",
    "df_criminalidad_abril_21[\"MES\"]=\"Abril\"\n",
    "df_criminalidad_abril_21[\"AÑO\"]=2021\n",
    "\n",
    "df_criminalidad_abril_21[['RELACIONADAS CON LAS PERSONAS',\n",
    "       'RELACIONADAS CON EL PATRIMONIO', 'POR TENENCIA DE ARMAS',\n",
    "       'POR TENENCIA DE DROGAS', 'POR CONSUMO DE DROGAS']] = df_criminalidad_abril_21[['RELACIONADAS CON LAS PERSONAS',\n",
    "       'RELACIONADAS CON EL PATRIMONIO', 'POR TENENCIA DE ARMAS',\n",
    "       'POR TENENCIA DE DROGAS', 'POR CONSUMO DE DROGAS']].astype(str).astype(int)\n",
    "  \n",
    "\n",
    "df_criminalidad_abril_21[\"TOTAL_INSEGURIDAD\"]= df_criminalidad_abril_21.apply(lambda row: (row['RELACIONADAS CON LAS PERSONAS'] +\n",
    "       row['RELACIONADAS CON EL PATRIMONIO'] + row['POR TENENCIA DE ARMAS']+ row['POR TENENCIA DE DROGAS'] + \n",
    "        row['POR CONSUMO DE DROGAS']), axis=1)\n",
    "\n",
    "#df_criminalidad_abril_21.drop(columns=['RELACIONADAS CON LAS PERSONAS','RELACIONADAS CON EL PATRIMONIO',\n",
    "                                      #'POR TENENCIA DE ARMAS', 'POR TENENCIA DE DROGAS','POR CONSUMO DE DROGAS'],\n",
    "                             #inplace=True)\n"
   ]
  },
  {
   "cell_type": "code",
   "execution_count": 56,
   "metadata": {},
   "outputs": [
    {
     "data": {
      "text/html": [
       "<div>\n",
       "<style scoped>\n",
       "    .dataframe tbody tr th:only-of-type {\n",
       "        vertical-align: middle;\n",
       "    }\n",
       "\n",
       "    .dataframe tbody tr th {\n",
       "        vertical-align: top;\n",
       "    }\n",
       "\n",
       "    .dataframe thead th {\n",
       "        text-align: right;\n",
       "    }\n",
       "</style>\n",
       "<table border=\"1\" class=\"dataframe\">\n",
       "  <thead>\n",
       "    <tr style=\"text-align: right;\">\n",
       "      <th>1</th>\n",
       "      <th>DISTRITOS</th>\n",
       "      <th>RELACIONADAS CON LAS PERSONAS</th>\n",
       "      <th>RELACIONADAS CON EL PATRIMONIO</th>\n",
       "      <th>POR TENENCIA DE ARMAS</th>\n",
       "      <th>POR TENENCIA DE DROGAS</th>\n",
       "      <th>POR CONSUMO DE DROGAS</th>\n",
       "      <th>MES</th>\n",
       "      <th>AÑO</th>\n",
       "      <th>TOTAL_INSEGURIDAD</th>\n",
       "    </tr>\n",
       "  </thead>\n",
       "  <tbody>\n",
       "    <tr>\n",
       "      <th>2</th>\n",
       "      <td>CENTRO</td>\n",
       "      <td>36</td>\n",
       "      <td>64</td>\n",
       "      <td>14</td>\n",
       "      <td>81</td>\n",
       "      <td>19</td>\n",
       "      <td>Abril</td>\n",
       "      <td>2021</td>\n",
       "      <td>214</td>\n",
       "    </tr>\n",
       "    <tr>\n",
       "      <th>3</th>\n",
       "      <td>ARGANZUELA</td>\n",
       "      <td>6</td>\n",
       "      <td>11</td>\n",
       "      <td>0</td>\n",
       "      <td>8</td>\n",
       "      <td>2</td>\n",
       "      <td>Abril</td>\n",
       "      <td>2021</td>\n",
       "      <td>27</td>\n",
       "    </tr>\n",
       "    <tr>\n",
       "      <th>4</th>\n",
       "      <td>RETIRO</td>\n",
       "      <td>5</td>\n",
       "      <td>4</td>\n",
       "      <td>1</td>\n",
       "      <td>20</td>\n",
       "      <td>9</td>\n",
       "      <td>Abril</td>\n",
       "      <td>2021</td>\n",
       "      <td>39</td>\n",
       "    </tr>\n",
       "    <tr>\n",
       "      <th>5</th>\n",
       "      <td>SALAMANCA</td>\n",
       "      <td>5</td>\n",
       "      <td>42</td>\n",
       "      <td>1</td>\n",
       "      <td>25</td>\n",
       "      <td>1</td>\n",
       "      <td>Abril</td>\n",
       "      <td>2021</td>\n",
       "      <td>74</td>\n",
       "    </tr>\n",
       "    <tr>\n",
       "      <th>6</th>\n",
       "      <td>CHAMARTÍN</td>\n",
       "      <td>4</td>\n",
       "      <td>10</td>\n",
       "      <td>2</td>\n",
       "      <td>14</td>\n",
       "      <td>3</td>\n",
       "      <td>Abril</td>\n",
       "      <td>2021</td>\n",
       "      <td>33</td>\n",
       "    </tr>\n",
       "  </tbody>\n",
       "</table>\n",
       "</div>"
      ],
      "text/plain": [
       "1   DISTRITOS  RELACIONADAS CON LAS PERSONAS  RELACIONADAS CON EL PATRIMONIO  \\\n",
       "2      CENTRO                             36                              64   \n",
       "3  ARGANZUELA                              6                              11   \n",
       "4      RETIRO                              5                               4   \n",
       "5   SALAMANCA                              5                              42   \n",
       "6   CHAMARTÍN                              4                              10   \n",
       "\n",
       "1  POR TENENCIA DE ARMAS  POR TENENCIA DE DROGAS  POR CONSUMO DE DROGAS  \\\n",
       "2                     14                      81                     19   \n",
       "3                      0                       8                      2   \n",
       "4                      1                      20                      9   \n",
       "5                      1                      25                      1   \n",
       "6                      2                      14                      3   \n",
       "\n",
       "1    MES   AÑO  TOTAL_INSEGURIDAD  \n",
       "2  Abril  2021                214  \n",
       "3  Abril  2021                 27  \n",
       "4  Abril  2021                 39  \n",
       "5  Abril  2021                 74  \n",
       "6  Abril  2021                 33  "
      ]
     },
     "execution_count": 56,
     "metadata": {},
     "output_type": "execute_result"
    }
   ],
   "source": [
    "df_criminalidad_abril_21.head()"
   ]
  },
  {
   "cell_type": "markdown",
   "metadata": {},
   "source": [
    "### CRIMINALIDAD marzo_21"
   ]
  },
  {
   "cell_type": "code",
   "execution_count": 57,
   "metadata": {},
   "outputs": [],
   "source": [
    "dls_marzo_21 = \"https://datos.madrid.es/egob/catalogo/212616-87-policia-estadisticas.xlsx\"\n",
    "resp = requests.get(dls_marzo_21)\n",
    "\n",
    "output = open('../Project/input/criminalidad_marzo_21.xls', 'wb')\n",
    "output.write(resp.content)\n",
    "output.close()\n",
    "file = '../Project/input/criminalidad_marzo_21.xls'\n",
    "df_criminalidad_marzo_21 = pd.read_excel(file, sheet_name=\"SEGURIDAD\" ) #reading file\n",
    "df_criminalidad_marzo_21.head() \n",
    "df_criminalidad_marzo_21.columns = df_criminalidad_marzo_21.iloc[1]\n",
    "\n",
    "df_criminalidad_marzo_21 = df_criminalidad_marzo_21.drop(1)\n",
    "df_criminalidad_marzo_21 = df_criminalidad_marzo_21.drop(0)\n",
    "\n",
    "df_criminalidad_marzo_21[\"MES\"]=\"Marzo\"\n",
    "df_criminalidad_marzo_21[\"AÑO\"]=2021\n",
    "\n",
    "df_criminalidad_marzo_21[['RELACIONADAS CON LAS PERSONAS',\n",
    "       'RELACIONADAS CON EL PATRIMONIO', 'POR TENENCIA DE ARMAS',\n",
    "       'POR TENENCIA DE DROGAS', 'POR CONSUMO DE DROGAS']] = df_criminalidad_marzo_21[['RELACIONADAS CON LAS PERSONAS',\n",
    "       'RELACIONADAS CON EL PATRIMONIO', 'POR TENENCIA DE ARMAS',\n",
    "       'POR TENENCIA DE DROGAS', 'POR CONSUMO DE DROGAS']].astype(str).astype(int)\n",
    "  \n",
    "\n",
    "df_criminalidad_marzo_21[\"TOTAL_INSEGURIDAD\"]= df_criminalidad_marzo_21.apply(lambda row: (row['RELACIONADAS CON LAS PERSONAS'] +\n",
    "       row['RELACIONADAS CON EL PATRIMONIO'] + row['POR TENENCIA DE ARMAS']+ row['POR TENENCIA DE DROGAS'] + \n",
    "        row['POR CONSUMO DE DROGAS']), axis=1)\n",
    "\n",
    "#df_criminalidad_marzo_21.drop(columns=['RELACIONADAS CON LAS PERSONAS','RELACIONADAS CON EL PATRIMONIO',\n",
    "                                      #'POR TENENCIA DE ARMAS', 'POR TENENCIA DE DROGAS','POR CONSUMO DE DROGAS'],inplace=True)"
   ]
  },
  {
   "cell_type": "code",
   "execution_count": 58,
   "metadata": {},
   "outputs": [
    {
     "data": {
      "text/html": [
       "<div>\n",
       "<style scoped>\n",
       "    .dataframe tbody tr th:only-of-type {\n",
       "        vertical-align: middle;\n",
       "    }\n",
       "\n",
       "    .dataframe tbody tr th {\n",
       "        vertical-align: top;\n",
       "    }\n",
       "\n",
       "    .dataframe thead th {\n",
       "        text-align: right;\n",
       "    }\n",
       "</style>\n",
       "<table border=\"1\" class=\"dataframe\">\n",
       "  <thead>\n",
       "    <tr style=\"text-align: right;\">\n",
       "      <th>1</th>\n",
       "      <th>DISTRITOS</th>\n",
       "      <th>RELACIONADAS CON LAS PERSONAS</th>\n",
       "      <th>RELACIONADAS CON EL PATRIMONIO</th>\n",
       "      <th>POR TENENCIA DE ARMAS</th>\n",
       "      <th>POR TENENCIA DE DROGAS</th>\n",
       "      <th>POR CONSUMO DE DROGAS</th>\n",
       "      <th>MES</th>\n",
       "      <th>AÑO</th>\n",
       "      <th>TOTAL_INSEGURIDAD</th>\n",
       "    </tr>\n",
       "  </thead>\n",
       "  <tbody>\n",
       "    <tr>\n",
       "      <th>2</th>\n",
       "      <td>CENTRO</td>\n",
       "      <td>37</td>\n",
       "      <td>71</td>\n",
       "      <td>11</td>\n",
       "      <td>83</td>\n",
       "      <td>16</td>\n",
       "      <td>Marzo</td>\n",
       "      <td>2021</td>\n",
       "      <td>218</td>\n",
       "    </tr>\n",
       "    <tr>\n",
       "      <th>3</th>\n",
       "      <td>ARGANZUELA</td>\n",
       "      <td>6</td>\n",
       "      <td>3</td>\n",
       "      <td>2</td>\n",
       "      <td>7</td>\n",
       "      <td>5</td>\n",
       "      <td>Marzo</td>\n",
       "      <td>2021</td>\n",
       "      <td>23</td>\n",
       "    </tr>\n",
       "    <tr>\n",
       "      <th>4</th>\n",
       "      <td>RETIRO</td>\n",
       "      <td>4</td>\n",
       "      <td>5</td>\n",
       "      <td>1</td>\n",
       "      <td>24</td>\n",
       "      <td>0</td>\n",
       "      <td>Marzo</td>\n",
       "      <td>2021</td>\n",
       "      <td>34</td>\n",
       "    </tr>\n",
       "    <tr>\n",
       "      <th>5</th>\n",
       "      <td>SALAMANCA</td>\n",
       "      <td>10</td>\n",
       "      <td>43</td>\n",
       "      <td>3</td>\n",
       "      <td>17</td>\n",
       "      <td>2</td>\n",
       "      <td>Marzo</td>\n",
       "      <td>2021</td>\n",
       "      <td>75</td>\n",
       "    </tr>\n",
       "    <tr>\n",
       "      <th>6</th>\n",
       "      <td>CHAMARTÍN</td>\n",
       "      <td>7</td>\n",
       "      <td>8</td>\n",
       "      <td>1</td>\n",
       "      <td>26</td>\n",
       "      <td>4</td>\n",
       "      <td>Marzo</td>\n",
       "      <td>2021</td>\n",
       "      <td>46</td>\n",
       "    </tr>\n",
       "  </tbody>\n",
       "</table>\n",
       "</div>"
      ],
      "text/plain": [
       "1   DISTRITOS  RELACIONADAS CON LAS PERSONAS  RELACIONADAS CON EL PATRIMONIO  \\\n",
       "2      CENTRO                             37                              71   \n",
       "3  ARGANZUELA                              6                               3   \n",
       "4      RETIRO                              4                               5   \n",
       "5   SALAMANCA                             10                              43   \n",
       "6   CHAMARTÍN                              7                               8   \n",
       "\n",
       "1  POR TENENCIA DE ARMAS  POR TENENCIA DE DROGAS  POR CONSUMO DE DROGAS  \\\n",
       "2                     11                      83                     16   \n",
       "3                      2                       7                      5   \n",
       "4                      1                      24                      0   \n",
       "5                      3                      17                      2   \n",
       "6                      1                      26                      4   \n",
       "\n",
       "1    MES   AÑO  TOTAL_INSEGURIDAD  \n",
       "2  Marzo  2021                218  \n",
       "3  Marzo  2021                 23  \n",
       "4  Marzo  2021                 34  \n",
       "5  Marzo  2021                 75  \n",
       "6  Marzo  2021                 46  "
      ]
     },
     "execution_count": 58,
     "metadata": {},
     "output_type": "execute_result"
    }
   ],
   "source": [
    "df_criminalidad_marzo_21.head()"
   ]
  },
  {
   "cell_type": "markdown",
   "metadata": {},
   "source": [
    "### CRIMINALIDAD febrero_21"
   ]
  },
  {
   "cell_type": "code",
   "execution_count": 74,
   "metadata": {},
   "outputs": [
    {
     "ename": "ValueError",
     "evalue": "Invalid file path or buffer object type: <class 'tuple'>",
     "output_type": "error",
     "traceback": [
      "\u001b[1;31m---------------------------------------------------------------------------\u001b[0m",
      "\u001b[1;31mValueError\u001b[0m                                Traceback (most recent call last)",
      "\u001b[1;32m<ipython-input-74-e5b9f32ddc68>\u001b[0m in \u001b[0;36m<module>\u001b[1;34m\u001b[0m\n\u001b[0;32m      6\u001b[0m \u001b[0moutput\u001b[0m\u001b[1;33m.\u001b[0m\u001b[0mclose\u001b[0m\u001b[1;33m(\u001b[0m\u001b[1;33m)\u001b[0m\u001b[1;33m\u001b[0m\u001b[1;33m\u001b[0m\u001b[0m\n\u001b[0;32m      7\u001b[0m \u001b[0mfile\u001b[0m \u001b[1;33m=\u001b[0m \u001b[1;34m'../Project/input/criminalidad_marzo_21.xls'\u001b[0m\u001b[1;33m,\u001b[0m\u001b[1;33m\u001b[0m\u001b[1;33m\u001b[0m\u001b[0m\n\u001b[1;32m----> 8\u001b[1;33m \u001b[0mdf_criminalidad_febrero_21\u001b[0m \u001b[1;33m=\u001b[0m \u001b[0mpd\u001b[0m\u001b[1;33m.\u001b[0m\u001b[0mread_excel\u001b[0m\u001b[1;33m(\u001b[0m\u001b[0mfile\u001b[0m\u001b[1;33m,\u001b[0m \u001b[0msheet_name\u001b[0m\u001b[1;33m=\u001b[0m\u001b[1;34m\"SEGURIDAD\"\u001b[0m \u001b[1;33m)\u001b[0m \u001b[1;31m#reading file\u001b[0m\u001b[1;33m\u001b[0m\u001b[1;33m\u001b[0m\u001b[0m\n\u001b[0m\u001b[0;32m      9\u001b[0m \u001b[0mdf_criminalidad_febrero_21\u001b[0m\u001b[1;33m.\u001b[0m\u001b[0mhead\u001b[0m\u001b[1;33m(\u001b[0m\u001b[1;33m)\u001b[0m\u001b[1;33m\u001b[0m\u001b[1;33m\u001b[0m\u001b[0m\n\u001b[0;32m     10\u001b[0m \u001b[0mdf_criminalidad_febrero_21\u001b[0m\u001b[1;33m.\u001b[0m\u001b[0mcolumns\u001b[0m \u001b[1;33m=\u001b[0m \u001b[0mdf_criminalidad_febrero_21\u001b[0m\u001b[1;33m.\u001b[0m\u001b[0miloc\u001b[0m\u001b[1;33m[\u001b[0m\u001b[1;36m1\u001b[0m\u001b[1;33m]\u001b[0m\u001b[1;33m\u001b[0m\u001b[1;33m\u001b[0m\u001b[0m\n",
      "\u001b[1;32m~\\anaconda3\\lib\\site-packages\\pandas\\io\\excel\\_base.py\u001b[0m in \u001b[0;36mread_excel\u001b[1;34m(io, sheet_name, header, names, index_col, usecols, squeeze, dtype, engine, converters, true_values, false_values, skiprows, nrows, na_values, keep_default_na, verbose, parse_dates, date_parser, thousands, comment, skipfooter, convert_float, mangle_dupe_cols, **kwds)\u001b[0m\n\u001b[0;32m    302\u001b[0m \u001b[1;33m\u001b[0m\u001b[0m\n\u001b[0;32m    303\u001b[0m     \u001b[1;32mif\u001b[0m \u001b[1;32mnot\u001b[0m \u001b[0misinstance\u001b[0m\u001b[1;33m(\u001b[0m\u001b[0mio\u001b[0m\u001b[1;33m,\u001b[0m \u001b[0mExcelFile\u001b[0m\u001b[1;33m)\u001b[0m\u001b[1;33m:\u001b[0m\u001b[1;33m\u001b[0m\u001b[1;33m\u001b[0m\u001b[0m\n\u001b[1;32m--> 304\u001b[1;33m         \u001b[0mio\u001b[0m \u001b[1;33m=\u001b[0m \u001b[0mExcelFile\u001b[0m\u001b[1;33m(\u001b[0m\u001b[0mio\u001b[0m\u001b[1;33m,\u001b[0m \u001b[0mengine\u001b[0m\u001b[1;33m=\u001b[0m\u001b[0mengine\u001b[0m\u001b[1;33m)\u001b[0m\u001b[1;33m\u001b[0m\u001b[1;33m\u001b[0m\u001b[0m\n\u001b[0m\u001b[0;32m    305\u001b[0m     \u001b[1;32melif\u001b[0m \u001b[0mengine\u001b[0m \u001b[1;32mand\u001b[0m \u001b[0mengine\u001b[0m \u001b[1;33m!=\u001b[0m \u001b[0mio\u001b[0m\u001b[1;33m.\u001b[0m\u001b[0mengine\u001b[0m\u001b[1;33m:\u001b[0m\u001b[1;33m\u001b[0m\u001b[1;33m\u001b[0m\u001b[0m\n\u001b[0;32m    306\u001b[0m         raise ValueError(\n",
      "\u001b[1;32m~\\anaconda3\\lib\\site-packages\\pandas\\io\\excel\\_base.py\u001b[0m in \u001b[0;36m__init__\u001b[1;34m(self, io, engine)\u001b[0m\n\u001b[0;32m    822\u001b[0m         \u001b[0mself\u001b[0m\u001b[1;33m.\u001b[0m\u001b[0m_io\u001b[0m \u001b[1;33m=\u001b[0m \u001b[0mstringify_path\u001b[0m\u001b[1;33m(\u001b[0m\u001b[0mio\u001b[0m\u001b[1;33m)\u001b[0m\u001b[1;33m\u001b[0m\u001b[1;33m\u001b[0m\u001b[0m\n\u001b[0;32m    823\u001b[0m \u001b[1;33m\u001b[0m\u001b[0m\n\u001b[1;32m--> 824\u001b[1;33m         \u001b[0mself\u001b[0m\u001b[1;33m.\u001b[0m\u001b[0m_reader\u001b[0m \u001b[1;33m=\u001b[0m \u001b[0mself\u001b[0m\u001b[1;33m.\u001b[0m\u001b[0m_engines\u001b[0m\u001b[1;33m[\u001b[0m\u001b[0mengine\u001b[0m\u001b[1;33m]\u001b[0m\u001b[1;33m(\u001b[0m\u001b[0mself\u001b[0m\u001b[1;33m.\u001b[0m\u001b[0m_io\u001b[0m\u001b[1;33m)\u001b[0m\u001b[1;33m\u001b[0m\u001b[1;33m\u001b[0m\u001b[0m\n\u001b[0m\u001b[0;32m    825\u001b[0m \u001b[1;33m\u001b[0m\u001b[0m\n\u001b[0;32m    826\u001b[0m     \u001b[1;32mdef\u001b[0m \u001b[0m__fspath__\u001b[0m\u001b[1;33m(\u001b[0m\u001b[0mself\u001b[0m\u001b[1;33m)\u001b[0m\u001b[1;33m:\u001b[0m\u001b[1;33m\u001b[0m\u001b[1;33m\u001b[0m\u001b[0m\n",
      "\u001b[1;32m~\\anaconda3\\lib\\site-packages\\pandas\\io\\excel\\_xlrd.py\u001b[0m in \u001b[0;36m__init__\u001b[1;34m(self, filepath_or_buffer)\u001b[0m\n\u001b[0;32m     19\u001b[0m         \u001b[0merr_msg\u001b[0m \u001b[1;33m=\u001b[0m \u001b[1;34m\"Install xlrd >= 1.0.0 for Excel support\"\u001b[0m\u001b[1;33m\u001b[0m\u001b[1;33m\u001b[0m\u001b[0m\n\u001b[0;32m     20\u001b[0m         \u001b[0mimport_optional_dependency\u001b[0m\u001b[1;33m(\u001b[0m\u001b[1;34m\"xlrd\"\u001b[0m\u001b[1;33m,\u001b[0m \u001b[0mextra\u001b[0m\u001b[1;33m=\u001b[0m\u001b[0merr_msg\u001b[0m\u001b[1;33m)\u001b[0m\u001b[1;33m\u001b[0m\u001b[1;33m\u001b[0m\u001b[0m\n\u001b[1;32m---> 21\u001b[1;33m         \u001b[0msuper\u001b[0m\u001b[1;33m(\u001b[0m\u001b[1;33m)\u001b[0m\u001b[1;33m.\u001b[0m\u001b[0m__init__\u001b[0m\u001b[1;33m(\u001b[0m\u001b[0mfilepath_or_buffer\u001b[0m\u001b[1;33m)\u001b[0m\u001b[1;33m\u001b[0m\u001b[1;33m\u001b[0m\u001b[0m\n\u001b[0m\u001b[0;32m     22\u001b[0m \u001b[1;33m\u001b[0m\u001b[0m\n\u001b[0;32m     23\u001b[0m     \u001b[1;33m@\u001b[0m\u001b[0mproperty\u001b[0m\u001b[1;33m\u001b[0m\u001b[1;33m\u001b[0m\u001b[0m\n",
      "\u001b[1;32m~\\anaconda3\\lib\\site-packages\\pandas\\io\\excel\\_base.py\u001b[0m in \u001b[0;36m__init__\u001b[1;34m(self, filepath_or_buffer)\u001b[0m\n\u001b[0;32m    342\u001b[0m             \u001b[0mfilepath_or_buffer\u001b[0m \u001b[1;33m=\u001b[0m \u001b[0mBytesIO\u001b[0m\u001b[1;33m(\u001b[0m\u001b[0murlopen\u001b[0m\u001b[1;33m(\u001b[0m\u001b[0mfilepath_or_buffer\u001b[0m\u001b[1;33m)\u001b[0m\u001b[1;33m.\u001b[0m\u001b[0mread\u001b[0m\u001b[1;33m(\u001b[0m\u001b[1;33m)\u001b[0m\u001b[1;33m)\u001b[0m\u001b[1;33m\u001b[0m\u001b[1;33m\u001b[0m\u001b[0m\n\u001b[0;32m    343\u001b[0m         \u001b[1;32melif\u001b[0m \u001b[1;32mnot\u001b[0m \u001b[0misinstance\u001b[0m\u001b[1;33m(\u001b[0m\u001b[0mfilepath_or_buffer\u001b[0m\u001b[1;33m,\u001b[0m \u001b[1;33m(\u001b[0m\u001b[0mExcelFile\u001b[0m\u001b[1;33m,\u001b[0m \u001b[0mself\u001b[0m\u001b[1;33m.\u001b[0m\u001b[0m_workbook_class\u001b[0m\u001b[1;33m)\u001b[0m\u001b[1;33m)\u001b[0m\u001b[1;33m:\u001b[0m\u001b[1;33m\u001b[0m\u001b[1;33m\u001b[0m\u001b[0m\n\u001b[1;32m--> 344\u001b[1;33m             \u001b[0mfilepath_or_buffer\u001b[0m\u001b[1;33m,\u001b[0m \u001b[0m_\u001b[0m\u001b[1;33m,\u001b[0m \u001b[0m_\u001b[0m\u001b[1;33m,\u001b[0m \u001b[0m_\u001b[0m \u001b[1;33m=\u001b[0m \u001b[0mget_filepath_or_buffer\u001b[0m\u001b[1;33m(\u001b[0m\u001b[0mfilepath_or_buffer\u001b[0m\u001b[1;33m)\u001b[0m\u001b[1;33m\u001b[0m\u001b[1;33m\u001b[0m\u001b[0m\n\u001b[0m\u001b[0;32m    345\u001b[0m \u001b[1;33m\u001b[0m\u001b[0m\n\u001b[0;32m    346\u001b[0m         \u001b[1;32mif\u001b[0m \u001b[0misinstance\u001b[0m\u001b[1;33m(\u001b[0m\u001b[0mfilepath_or_buffer\u001b[0m\u001b[1;33m,\u001b[0m \u001b[0mself\u001b[0m\u001b[1;33m.\u001b[0m\u001b[0m_workbook_class\u001b[0m\u001b[1;33m)\u001b[0m\u001b[1;33m:\u001b[0m\u001b[1;33m\u001b[0m\u001b[1;33m\u001b[0m\u001b[0m\n",
      "\u001b[1;32m~\\anaconda3\\lib\\site-packages\\pandas\\io\\common.py\u001b[0m in \u001b[0;36mget_filepath_or_buffer\u001b[1;34m(filepath_or_buffer, encoding, compression, mode)\u001b[0m\n\u001b[0;32m    198\u001b[0m     \u001b[1;32mif\u001b[0m \u001b[1;32mnot\u001b[0m \u001b[0mis_file_like\u001b[0m\u001b[1;33m(\u001b[0m\u001b[0mfilepath_or_buffer\u001b[0m\u001b[1;33m)\u001b[0m\u001b[1;33m:\u001b[0m\u001b[1;33m\u001b[0m\u001b[1;33m\u001b[0m\u001b[0m\n\u001b[0;32m    199\u001b[0m         \u001b[0mmsg\u001b[0m \u001b[1;33m=\u001b[0m \u001b[1;34mf\"Invalid file path or buffer object type: {type(filepath_or_buffer)}\"\u001b[0m\u001b[1;33m\u001b[0m\u001b[1;33m\u001b[0m\u001b[0m\n\u001b[1;32m--> 200\u001b[1;33m         \u001b[1;32mraise\u001b[0m \u001b[0mValueError\u001b[0m\u001b[1;33m(\u001b[0m\u001b[0mmsg\u001b[0m\u001b[1;33m)\u001b[0m\u001b[1;33m\u001b[0m\u001b[1;33m\u001b[0m\u001b[0m\n\u001b[0m\u001b[0;32m    201\u001b[0m \u001b[1;33m\u001b[0m\u001b[0m\n\u001b[0;32m    202\u001b[0m     \u001b[1;32mreturn\u001b[0m \u001b[0mfilepath_or_buffer\u001b[0m\u001b[1;33m,\u001b[0m \u001b[1;32mNone\u001b[0m\u001b[1;33m,\u001b[0m \u001b[0mcompression\u001b[0m\u001b[1;33m,\u001b[0m \u001b[1;32mFalse\u001b[0m\u001b[1;33m\u001b[0m\u001b[1;33m\u001b[0m\u001b[0m\n",
      "\u001b[1;31mValueError\u001b[0m: Invalid file path or buffer object type: <class 'tuple'>"
     ]
    }
   ],
   "source": [
    "dls_febrero_21 = \"https://datos.madrid.es/egob/catalogo/212616-86-policia-estadisticas.xlsx\"\n",
    "resp = requests.get(dls_febrero_21)\n",
    "\n",
    "output = open('../Project/input/criminalidad_marzo_21.xls', 'wb')\n",
    "output.write(resp.content)\n",
    "output.close()\n",
    "file = '../Project/input/criminalidad_marzo_21.xls',\n",
    "df_criminalidad_febrero_21 = pd.read_excel(file, sheet_name=\"SEGURIDAD\" ) #reading file\n",
    "df_criminalidad_febrero_21.head() \n",
    "df_criminalidad_febrero_21.columns = df_criminalidad_febrero_21.iloc[1]\n",
    "\n",
    "df_criminalidad_febrero_21 = df_criminalidad_febrero_21.drop(1)\n",
    "df_criminalidad_febrero_21 = df_criminalidad_febrero_21.drop(0)\n",
    "\n",
    "df_criminalidad_febrero_21[\"MES\"]=\"Febrero\"\n",
    "df_criminalidad_febrero_21[\"AÑO\"]=2021\n",
    "\n",
    "df_criminalidad_febrero_21[['RELACIONADAS CON LAS PERSONAS',\n",
    "       'RELACIONADAS CON EL PATRIMONIO', 'POR TENENCIA DE ARMAS',\n",
    "       'POR TENENCIA DE DROGAS', 'POR CONSUMO DE DROGAS']] = df_criminalidad_febrero_21[['RELACIONADAS CON LAS PERSONAS',\n",
    "       'RELACIONADAS CON EL PATRIMONIO', 'POR TENENCIA DE ARMAS',\n",
    "       'POR TENENCIA DE DROGAS', 'POR CONSUMO DE DROGAS']].astype(str).astype(int)\n",
    "  \n",
    "\n",
    "df_criminalidad_febrero_21[\"TOTAL_INSEGURIDAD\"]= df_criminalidad_febrero_21.apply(lambda row: (row['RELACIONADAS CON LAS PERSONAS'] +\n",
    "       row['RELACIONADAS CON EL PATRIMONIO'] + row['POR TENENCIA DE ARMAS']+ row['POR TENENCIA DE DROGAS'] + \n",
    "        row['POR CONSUMO DE DROGAS']), axis=1)\n",
    "\n",
    "#df_criminalidad_febrero_21.drop(columns=['RELACIONADAS CON LAS PERSONAS','RELACIONADAS CON EL PATRIMONIO',\n",
    "                                      #'POR TENENCIA DE ARMAS', 'POR TENENCIA DE DROGAS','POR CONSUMO DE DROGAS'],\n",
    "                             #inplace=True)"
   ]
  },
  {
   "cell_type": "code",
   "execution_count": 75,
   "metadata": {},
   "outputs": [
    {
     "data": {
      "text/html": [
       "<div>\n",
       "<style scoped>\n",
       "    .dataframe tbody tr th:only-of-type {\n",
       "        vertical-align: middle;\n",
       "    }\n",
       "\n",
       "    .dataframe tbody tr th {\n",
       "        vertical-align: top;\n",
       "    }\n",
       "\n",
       "    .dataframe thead th {\n",
       "        text-align: right;\n",
       "    }\n",
       "</style>\n",
       "<table border=\"1\" class=\"dataframe\">\n",
       "  <thead>\n",
       "    <tr style=\"text-align: right;\">\n",
       "      <th>1</th>\n",
       "      <th>DISTRITOS</th>\n",
       "      <th>RELACIONADAS CON LAS PERSONAS</th>\n",
       "      <th>RELACIONADAS CON EL PATRIMONIO</th>\n",
       "      <th>POR TENENCIA DE ARMAS</th>\n",
       "      <th>POR TENENCIA DE DROGAS</th>\n",
       "      <th>POR CONSUMO DE DROGAS</th>\n",
       "      <th>MES</th>\n",
       "      <th>AÑO</th>\n",
       "      <th>TOTAL_INSEGURIDAD</th>\n",
       "    </tr>\n",
       "  </thead>\n",
       "  <tbody>\n",
       "    <tr>\n",
       "      <th>2</th>\n",
       "      <td>CENTRO</td>\n",
       "      <td>20</td>\n",
       "      <td>41</td>\n",
       "      <td>4</td>\n",
       "      <td>68</td>\n",
       "      <td>10</td>\n",
       "      <td>Febrero</td>\n",
       "      <td>2021</td>\n",
       "      <td>143</td>\n",
       "    </tr>\n",
       "    <tr>\n",
       "      <th>3</th>\n",
       "      <td>ARGANZUELA</td>\n",
       "      <td>4</td>\n",
       "      <td>9</td>\n",
       "      <td>9</td>\n",
       "      <td>10</td>\n",
       "      <td>1</td>\n",
       "      <td>Febrero</td>\n",
       "      <td>2021</td>\n",
       "      <td>33</td>\n",
       "    </tr>\n",
       "    <tr>\n",
       "      <th>4</th>\n",
       "      <td>RETIRO</td>\n",
       "      <td>3</td>\n",
       "      <td>5</td>\n",
       "      <td>0</td>\n",
       "      <td>7</td>\n",
       "      <td>0</td>\n",
       "      <td>Febrero</td>\n",
       "      <td>2021</td>\n",
       "      <td>15</td>\n",
       "    </tr>\n",
       "  </tbody>\n",
       "</table>\n",
       "</div>"
      ],
      "text/plain": [
       "1   DISTRITOS  RELACIONADAS CON LAS PERSONAS  RELACIONADAS CON EL PATRIMONIO  \\\n",
       "2      CENTRO                             20                              41   \n",
       "3  ARGANZUELA                              4                               9   \n",
       "4      RETIRO                              3                               5   \n",
       "\n",
       "1  POR TENENCIA DE ARMAS  POR TENENCIA DE DROGAS  POR CONSUMO DE DROGAS  \\\n",
       "2                      4                      68                     10   \n",
       "3                      9                      10                      1   \n",
       "4                      0                       7                      0   \n",
       "\n",
       "1      MES   AÑO  TOTAL_INSEGURIDAD  \n",
       "2  Febrero  2021                143  \n",
       "3  Febrero  2021                 33  \n",
       "4  Febrero  2021                 15  "
      ]
     },
     "execution_count": 75,
     "metadata": {},
     "output_type": "execute_result"
    }
   ],
   "source": [
    "df_criminalidad_febrero_21.head(3)"
   ]
  },
  {
   "cell_type": "code",
   "execution_count": 76,
   "metadata": {},
   "outputs": [],
   "source": [
    "### CRIMINALIDAD enero_21"
   ]
  },
  {
   "cell_type": "code",
   "execution_count": 77,
   "metadata": {},
   "outputs": [],
   "source": [
    "dls_enero_21 = \"https://datos.madrid.es/egob/catalogo/212616-85-policia-estadisticas.xlsx\"\n",
    "resp = requests.get(dls_enero_21)\n",
    "\n",
    "output = open('../Project/input/criminalidad_enero_21.xls', 'wb')\n",
    "output.write(resp.content)\n",
    "output.close()\n",
    "file = \"../Project/input/criminalidad_enero_21.xls\"\n",
    "df_criminalidad_enero_21 = pd.read_excel(file, sheet_name=\"SEGURIDAD\" ) #reading file\n",
    "df_criminalidad_enero_21.head() \n",
    "df_criminalidad_enero_21.columns = df_criminalidad_enero_21.iloc[1]\n",
    "\n",
    "df_criminalidad_enero_21 = df_criminalidad_enero_21.drop(1)\n",
    "df_criminalidad_enero_21 = df_criminalidad_enero_21.drop(0)\n",
    "\n",
    "df_criminalidad_enero_21[\"MES\"]=\"Enero\"\n",
    "df_criminalidad_enero_21[\"AÑO\"]=2021\n",
    "\n",
    "df_criminalidad_enero_21[['RELACIONADAS CON LAS PERSONAS',\n",
    "       'RELACIONADAS CON EL PATRIMONIO', 'POR TENENCIA DE ARMAS',\n",
    "       'POR TENENCIA DE DROGAS', 'POR CONSUMO DE DROGAS']] = df_criminalidad_enero_21[['RELACIONADAS CON LAS PERSONAS',\n",
    "       'RELACIONADAS CON EL PATRIMONIO', 'POR TENENCIA DE ARMAS',\n",
    "       'POR TENENCIA DE DROGAS', 'POR CONSUMO DE DROGAS']].astype(str).astype(int)\n",
    "  \n",
    "\n",
    "df_criminalidad_enero_21[\"TOTAL_INSEGURIDAD\"]= df_criminalidad_enero_21.apply(lambda row: (row['RELACIONADAS CON LAS PERSONAS'] +\n",
    "       row['RELACIONADAS CON EL PATRIMONIO'] + row['POR TENENCIA DE ARMAS']+ row['POR TENENCIA DE DROGAS'] + \n",
    "        row['POR CONSUMO DE DROGAS']), axis=1)\n",
    "\n",
    "#df_criminalidad_enero_21.drop(columns=['RELACIONADAS CON LAS PERSONAS','RELACIONADAS CON EL PATRIMONIO',\n",
    "                                      #'POR TENENCIA DE ARMAS', 'POR TENENCIA DE DROGAS','POR CONSUMO DE DROGAS'],\n",
    "                             #inplace=True)"
   ]
  },
  {
   "cell_type": "code",
   "execution_count": 78,
   "metadata": {},
   "outputs": [
    {
     "data": {
      "text/html": [
       "<div>\n",
       "<style scoped>\n",
       "    .dataframe tbody tr th:only-of-type {\n",
       "        vertical-align: middle;\n",
       "    }\n",
       "\n",
       "    .dataframe tbody tr th {\n",
       "        vertical-align: top;\n",
       "    }\n",
       "\n",
       "    .dataframe thead th {\n",
       "        text-align: right;\n",
       "    }\n",
       "</style>\n",
       "<table border=\"1\" class=\"dataframe\">\n",
       "  <thead>\n",
       "    <tr style=\"text-align: right;\">\n",
       "      <th>1</th>\n",
       "      <th>DISTRITOS</th>\n",
       "      <th>RELACIONADAS CON LAS PERSONAS</th>\n",
       "      <th>RELACIONADAS CON EL PATRIMONIO</th>\n",
       "      <th>POR TENENCIA DE ARMAS</th>\n",
       "      <th>POR TENENCIA DE DROGAS</th>\n",
       "      <th>POR CONSUMO DE DROGAS</th>\n",
       "      <th>MES</th>\n",
       "      <th>AÑO</th>\n",
       "      <th>TOTAL_INSEGURIDAD</th>\n",
       "    </tr>\n",
       "  </thead>\n",
       "  <tbody>\n",
       "    <tr>\n",
       "      <th>2</th>\n",
       "      <td>CENTRO</td>\n",
       "      <td>19</td>\n",
       "      <td>43</td>\n",
       "      <td>17</td>\n",
       "      <td>32</td>\n",
       "      <td>8</td>\n",
       "      <td>Enero</td>\n",
       "      <td>2021</td>\n",
       "      <td>119</td>\n",
       "    </tr>\n",
       "    <tr>\n",
       "      <th>3</th>\n",
       "      <td>ARGANZUELA</td>\n",
       "      <td>4</td>\n",
       "      <td>10</td>\n",
       "      <td>1</td>\n",
       "      <td>3</td>\n",
       "      <td>1</td>\n",
       "      <td>Enero</td>\n",
       "      <td>2021</td>\n",
       "      <td>19</td>\n",
       "    </tr>\n",
       "    <tr>\n",
       "      <th>4</th>\n",
       "      <td>RETIRO</td>\n",
       "      <td>1</td>\n",
       "      <td>4</td>\n",
       "      <td>0</td>\n",
       "      <td>5</td>\n",
       "      <td>1</td>\n",
       "      <td>Enero</td>\n",
       "      <td>2021</td>\n",
       "      <td>11</td>\n",
       "    </tr>\n",
       "    <tr>\n",
       "      <th>5</th>\n",
       "      <td>SALAMANCA</td>\n",
       "      <td>3</td>\n",
       "      <td>49</td>\n",
       "      <td>0</td>\n",
       "      <td>11</td>\n",
       "      <td>0</td>\n",
       "      <td>Enero</td>\n",
       "      <td>2021</td>\n",
       "      <td>63</td>\n",
       "    </tr>\n",
       "    <tr>\n",
       "      <th>6</th>\n",
       "      <td>CHAMARTÍN</td>\n",
       "      <td>3</td>\n",
       "      <td>6</td>\n",
       "      <td>1</td>\n",
       "      <td>7</td>\n",
       "      <td>2</td>\n",
       "      <td>Enero</td>\n",
       "      <td>2021</td>\n",
       "      <td>19</td>\n",
       "    </tr>\n",
       "  </tbody>\n",
       "</table>\n",
       "</div>"
      ],
      "text/plain": [
       "1   DISTRITOS  RELACIONADAS CON LAS PERSONAS  RELACIONADAS CON EL PATRIMONIO  \\\n",
       "2      CENTRO                             19                              43   \n",
       "3  ARGANZUELA                              4                              10   \n",
       "4      RETIRO                              1                               4   \n",
       "5   SALAMANCA                              3                              49   \n",
       "6   CHAMARTÍN                              3                               6   \n",
       "\n",
       "1  POR TENENCIA DE ARMAS  POR TENENCIA DE DROGAS  POR CONSUMO DE DROGAS  \\\n",
       "2                     17                      32                      8   \n",
       "3                      1                       3                      1   \n",
       "4                      0                       5                      1   \n",
       "5                      0                      11                      0   \n",
       "6                      1                       7                      2   \n",
       "\n",
       "1    MES   AÑO  TOTAL_INSEGURIDAD  \n",
       "2  Enero  2021                119  \n",
       "3  Enero  2021                 19  \n",
       "4  Enero  2021                 11  \n",
       "5  Enero  2021                 63  \n",
       "6  Enero  2021                 19  "
      ]
     },
     "execution_count": 78,
     "metadata": {},
     "output_type": "execute_result"
    }
   ],
   "source": [
    "df_criminalidad_enero_21.head()"
   ]
  },
  {
   "cell_type": "markdown",
   "metadata": {},
   "source": [
    "## Concatenar df"
   ]
  },
  {
   "cell_type": "code",
   "execution_count": 79,
   "metadata": {},
   "outputs": [],
   "source": [
    "frames = [df_criminalidad_marzo_21, df_criminalidad_abril_21, df_criminalidad_mayo_21, df_criminalidad_febrero_21,\n",
    "          df_criminalidad_enero_21 ]\n",
    "\n",
    "#concatenate dataframes\n",
    "df = pd.concat(frames, sort=False)"
   ]
  },
  {
   "cell_type": "code",
   "execution_count": 80,
   "metadata": {},
   "outputs": [
    {
     "data": {
      "text/plain": [
       "array(['CENTRO', 'ARGANZUELA', 'RETIRO', 'SALAMANCA', 'CHAMARTÍN',\n",
       "       'TETUÁN', 'CHAMBERÍ', 'FUENCARRAL - EL PARDO', 'MONCLOA - ARAVACA',\n",
       "       'LATINA', 'CARABANCHEL', 'USERA', 'PUENTE DE VALLECAS',\n",
       "       'MORATALAZ', 'CIUDAD LINEAL', 'HORTALEZA', 'VILLAVERDE',\n",
       "       'VILLA DE VALLECAS', 'VICÁLVARO', 'SAN BLAS - CANILLEJAS',\n",
       "       'BARAJAS', 'SIN DISTRITO ASIGNADO', 'TOTAL'], dtype=object)"
      ]
     },
     "execution_count": 80,
     "metadata": {},
     "output_type": "execute_result"
    }
   ],
   "source": [
    "df.DISTRITOS.unique()"
   ]
  },
  {
   "cell_type": "code",
   "execution_count": 81,
   "metadata": {},
   "outputs": [],
   "source": [
    "df=df[(df.DISTRITOS !=  \"TOTAL\")] "
   ]
  },
  {
   "cell_type": "code",
   "execution_count": 82,
   "metadata": {},
   "outputs": [
    {
     "data": {
      "text/html": [
       "        <script type=\"text/javascript\">\n",
       "        window.PlotlyConfig = {MathJaxConfig: 'local'};\n",
       "        if (window.MathJax) {MathJax.Hub.Config({SVG: {font: \"STIX-Web\"}});}\n",
       "        if (typeof require !== 'undefined') {\n",
       "        require.undef(\"plotly\");\n",
       "        requirejs.config({\n",
       "            paths: {\n",
       "                'plotly': ['https://cdn.plot.ly/plotly-latest.min']\n",
       "            }\n",
       "        });\n",
       "        require(['plotly'], function(Plotly) {\n",
       "            window._Plotly = Plotly;\n",
       "        });\n",
       "        }\n",
       "        </script>\n",
       "        "
      ]
     },
     "metadata": {},
     "output_type": "display_data"
    }
   ],
   "source": [
    "import plotly\n",
    "plotly.offline.init_notebook_mode(connected=True)\n",
    "import plotly.graph_objs as go"
   ]
  },
  {
   "cell_type": "code",
   "execution_count": 83,
   "metadata": {},
   "outputs": [],
   "source": [
    "import plotly.express as px"
   ]
  },
  {
   "cell_type": "code",
   "execution_count": 84,
   "metadata": {},
   "outputs": [
    {
     "data": {
      "application/vnd.plotly.v1+json": {
       "config": {
        "plotlyServerURL": "https://plot.ly"
       },
       "data": [
        {
         "alignmentgroup": "True",
         "hovertemplate": "variable=TOTAL_INSEGURIDAD<br>MES=%{x}<br>value=%{y}<extra></extra>",
         "legendgroup": "TOTAL_INSEGURIDAD",
         "marker": {
          "color": "rgb(158,202,225)",
          "line": {
           "color": "rgb(8,48,107)",
           "width": 1.5
          }
         },
         "name": "TOTAL_INSEGURIDAD",
         "offsetgroup": "TOTAL_INSEGURIDAD",
         "opacity": 0.6,
         "orientation": "v",
         "showlegend": true,
         "textposition": "auto",
         "type": "bar",
         "x": [
          "Marzo",
          "Marzo",
          "Marzo",
          "Marzo",
          "Marzo",
          "Marzo",
          "Marzo",
          "Marzo",
          "Marzo",
          "Marzo",
          "Marzo",
          "Marzo",
          "Marzo",
          "Marzo",
          "Marzo",
          "Marzo",
          "Marzo",
          "Marzo",
          "Marzo",
          "Marzo",
          "Marzo",
          "Marzo",
          "Abril",
          "Abril",
          "Abril",
          "Abril",
          "Abril",
          "Abril",
          "Abril",
          "Abril",
          "Abril",
          "Abril",
          "Abril",
          "Abril",
          "Abril",
          "Abril",
          "Abril",
          "Abril",
          "Abril",
          "Abril",
          "Abril",
          "Abril",
          "Abril",
          "Abril",
          "Mayo",
          "Mayo",
          "Mayo",
          "Mayo",
          "Mayo",
          "Mayo",
          "Mayo",
          "Mayo",
          "Mayo",
          "Mayo",
          "Mayo",
          "Mayo",
          "Mayo",
          "Mayo",
          "Mayo",
          "Mayo",
          "Mayo",
          "Mayo",
          "Mayo",
          "Mayo",
          "Mayo",
          "Mayo",
          "Febrero",
          "Febrero",
          "Febrero",
          "Febrero",
          "Febrero",
          "Febrero",
          "Febrero",
          "Febrero",
          "Febrero",
          "Febrero",
          "Febrero",
          "Febrero",
          "Febrero",
          "Febrero",
          "Febrero",
          "Febrero",
          "Febrero",
          "Febrero",
          "Febrero",
          "Febrero",
          "Febrero",
          "Febrero",
          "Enero",
          "Enero",
          "Enero",
          "Enero",
          "Enero",
          "Enero",
          "Enero",
          "Enero",
          "Enero",
          "Enero",
          "Enero",
          "Enero",
          "Enero",
          "Enero",
          "Enero",
          "Enero",
          "Enero",
          "Enero",
          "Enero",
          "Enero",
          "Enero",
          "Enero"
         ],
         "xaxis": "x",
         "y": [
          218,
          23,
          34,
          75,
          46,
          60,
          30,
          46,
          77,
          94,
          73,
          48,
          118,
          15,
          71,
          89,
          89,
          93,
          29,
          71,
          24,
          0,
          214,
          27,
          39,
          74,
          33,
          50,
          53,
          37,
          68,
          103,
          116,
          56,
          91,
          19,
          72,
          46,
          64,
          70,
          23,
          63,
          38,
          0,
          252,
          42,
          31,
          74,
          38,
          39,
          35,
          44,
          76,
          65,
          97,
          59,
          122,
          19,
          105,
          66,
          77,
          102,
          26,
          72,
          55,
          0,
          143,
          33,
          15,
          87,
          22,
          83,
          43,
          34,
          60,
          77,
          78,
          56,
          82,
          17,
          68,
          69,
          46,
          54,
          13,
          68,
          32,
          0,
          119,
          19,
          11,
          63,
          19,
          37,
          29,
          25,
          47,
          42,
          77,
          61,
          65,
          9,
          49,
          60,
          41,
          49,
          10,
          35,
          17,
          0
         ],
         "yaxis": "y"
        }
       ],
       "layout": {
        "barmode": "relative",
        "legend": {
         "title": {
          "text": "variable"
         },
         "tracegroupgap": 0
        },
        "template": {
         "data": {
          "bar": [
           {
            "error_x": {
             "color": "#2a3f5f"
            },
            "error_y": {
             "color": "#2a3f5f"
            },
            "marker": {
             "line": {
              "color": "#E5ECF6",
              "width": 0.5
             }
            },
            "type": "bar"
           }
          ],
          "barpolar": [
           {
            "marker": {
             "line": {
              "color": "#E5ECF6",
              "width": 0.5
             }
            },
            "type": "barpolar"
           }
          ],
          "carpet": [
           {
            "aaxis": {
             "endlinecolor": "#2a3f5f",
             "gridcolor": "white",
             "linecolor": "white",
             "minorgridcolor": "white",
             "startlinecolor": "#2a3f5f"
            },
            "baxis": {
             "endlinecolor": "#2a3f5f",
             "gridcolor": "white",
             "linecolor": "white",
             "minorgridcolor": "white",
             "startlinecolor": "#2a3f5f"
            },
            "type": "carpet"
           }
          ],
          "choropleth": [
           {
            "colorbar": {
             "outlinewidth": 0,
             "ticks": ""
            },
            "type": "choropleth"
           }
          ],
          "contour": [
           {
            "colorbar": {
             "outlinewidth": 0,
             "ticks": ""
            },
            "colorscale": [
             [
              0,
              "#0d0887"
             ],
             [
              0.1111111111111111,
              "#46039f"
             ],
             [
              0.2222222222222222,
              "#7201a8"
             ],
             [
              0.3333333333333333,
              "#9c179e"
             ],
             [
              0.4444444444444444,
              "#bd3786"
             ],
             [
              0.5555555555555556,
              "#d8576b"
             ],
             [
              0.6666666666666666,
              "#ed7953"
             ],
             [
              0.7777777777777778,
              "#fb9f3a"
             ],
             [
              0.8888888888888888,
              "#fdca26"
             ],
             [
              1,
              "#f0f921"
             ]
            ],
            "type": "contour"
           }
          ],
          "contourcarpet": [
           {
            "colorbar": {
             "outlinewidth": 0,
             "ticks": ""
            },
            "type": "contourcarpet"
           }
          ],
          "heatmap": [
           {
            "colorbar": {
             "outlinewidth": 0,
             "ticks": ""
            },
            "colorscale": [
             [
              0,
              "#0d0887"
             ],
             [
              0.1111111111111111,
              "#46039f"
             ],
             [
              0.2222222222222222,
              "#7201a8"
             ],
             [
              0.3333333333333333,
              "#9c179e"
             ],
             [
              0.4444444444444444,
              "#bd3786"
             ],
             [
              0.5555555555555556,
              "#d8576b"
             ],
             [
              0.6666666666666666,
              "#ed7953"
             ],
             [
              0.7777777777777778,
              "#fb9f3a"
             ],
             [
              0.8888888888888888,
              "#fdca26"
             ],
             [
              1,
              "#f0f921"
             ]
            ],
            "type": "heatmap"
           }
          ],
          "heatmapgl": [
           {
            "colorbar": {
             "outlinewidth": 0,
             "ticks": ""
            },
            "colorscale": [
             [
              0,
              "#0d0887"
             ],
             [
              0.1111111111111111,
              "#46039f"
             ],
             [
              0.2222222222222222,
              "#7201a8"
             ],
             [
              0.3333333333333333,
              "#9c179e"
             ],
             [
              0.4444444444444444,
              "#bd3786"
             ],
             [
              0.5555555555555556,
              "#d8576b"
             ],
             [
              0.6666666666666666,
              "#ed7953"
             ],
             [
              0.7777777777777778,
              "#fb9f3a"
             ],
             [
              0.8888888888888888,
              "#fdca26"
             ],
             [
              1,
              "#f0f921"
             ]
            ],
            "type": "heatmapgl"
           }
          ],
          "histogram": [
           {
            "marker": {
             "colorbar": {
              "outlinewidth": 0,
              "ticks": ""
             }
            },
            "type": "histogram"
           }
          ],
          "histogram2d": [
           {
            "colorbar": {
             "outlinewidth": 0,
             "ticks": ""
            },
            "colorscale": [
             [
              0,
              "#0d0887"
             ],
             [
              0.1111111111111111,
              "#46039f"
             ],
             [
              0.2222222222222222,
              "#7201a8"
             ],
             [
              0.3333333333333333,
              "#9c179e"
             ],
             [
              0.4444444444444444,
              "#bd3786"
             ],
             [
              0.5555555555555556,
              "#d8576b"
             ],
             [
              0.6666666666666666,
              "#ed7953"
             ],
             [
              0.7777777777777778,
              "#fb9f3a"
             ],
             [
              0.8888888888888888,
              "#fdca26"
             ],
             [
              1,
              "#f0f921"
             ]
            ],
            "type": "histogram2d"
           }
          ],
          "histogram2dcontour": [
           {
            "colorbar": {
             "outlinewidth": 0,
             "ticks": ""
            },
            "colorscale": [
             [
              0,
              "#0d0887"
             ],
             [
              0.1111111111111111,
              "#46039f"
             ],
             [
              0.2222222222222222,
              "#7201a8"
             ],
             [
              0.3333333333333333,
              "#9c179e"
             ],
             [
              0.4444444444444444,
              "#bd3786"
             ],
             [
              0.5555555555555556,
              "#d8576b"
             ],
             [
              0.6666666666666666,
              "#ed7953"
             ],
             [
              0.7777777777777778,
              "#fb9f3a"
             ],
             [
              0.8888888888888888,
              "#fdca26"
             ],
             [
              1,
              "#f0f921"
             ]
            ],
            "type": "histogram2dcontour"
           }
          ],
          "mesh3d": [
           {
            "colorbar": {
             "outlinewidth": 0,
             "ticks": ""
            },
            "type": "mesh3d"
           }
          ],
          "parcoords": [
           {
            "line": {
             "colorbar": {
              "outlinewidth": 0,
              "ticks": ""
             }
            },
            "type": "parcoords"
           }
          ],
          "pie": [
           {
            "automargin": true,
            "type": "pie"
           }
          ],
          "scatter": [
           {
            "marker": {
             "colorbar": {
              "outlinewidth": 0,
              "ticks": ""
             }
            },
            "type": "scatter"
           }
          ],
          "scatter3d": [
           {
            "line": {
             "colorbar": {
              "outlinewidth": 0,
              "ticks": ""
             }
            },
            "marker": {
             "colorbar": {
              "outlinewidth": 0,
              "ticks": ""
             }
            },
            "type": "scatter3d"
           }
          ],
          "scattercarpet": [
           {
            "marker": {
             "colorbar": {
              "outlinewidth": 0,
              "ticks": ""
             }
            },
            "type": "scattercarpet"
           }
          ],
          "scattergeo": [
           {
            "marker": {
             "colorbar": {
              "outlinewidth": 0,
              "ticks": ""
             }
            },
            "type": "scattergeo"
           }
          ],
          "scattergl": [
           {
            "marker": {
             "colorbar": {
              "outlinewidth": 0,
              "ticks": ""
             }
            },
            "type": "scattergl"
           }
          ],
          "scattermapbox": [
           {
            "marker": {
             "colorbar": {
              "outlinewidth": 0,
              "ticks": ""
             }
            },
            "type": "scattermapbox"
           }
          ],
          "scatterpolar": [
           {
            "marker": {
             "colorbar": {
              "outlinewidth": 0,
              "ticks": ""
             }
            },
            "type": "scatterpolar"
           }
          ],
          "scatterpolargl": [
           {
            "marker": {
             "colorbar": {
              "outlinewidth": 0,
              "ticks": ""
             }
            },
            "type": "scatterpolargl"
           }
          ],
          "scatterternary": [
           {
            "marker": {
             "colorbar": {
              "outlinewidth": 0,
              "ticks": ""
             }
            },
            "type": "scatterternary"
           }
          ],
          "surface": [
           {
            "colorbar": {
             "outlinewidth": 0,
             "ticks": ""
            },
            "colorscale": [
             [
              0,
              "#0d0887"
             ],
             [
              0.1111111111111111,
              "#46039f"
             ],
             [
              0.2222222222222222,
              "#7201a8"
             ],
             [
              0.3333333333333333,
              "#9c179e"
             ],
             [
              0.4444444444444444,
              "#bd3786"
             ],
             [
              0.5555555555555556,
              "#d8576b"
             ],
             [
              0.6666666666666666,
              "#ed7953"
             ],
             [
              0.7777777777777778,
              "#fb9f3a"
             ],
             [
              0.8888888888888888,
              "#fdca26"
             ],
             [
              1,
              "#f0f921"
             ]
            ],
            "type": "surface"
           }
          ],
          "table": [
           {
            "cells": {
             "fill": {
              "color": "#EBF0F8"
             },
             "line": {
              "color": "white"
             }
            },
            "header": {
             "fill": {
              "color": "#C8D4E3"
             },
             "line": {
              "color": "white"
             }
            },
            "type": "table"
           }
          ]
         },
         "layout": {
          "annotationdefaults": {
           "arrowcolor": "#2a3f5f",
           "arrowhead": 0,
           "arrowwidth": 1
          },
          "autotypenumbers": "strict",
          "coloraxis": {
           "colorbar": {
            "outlinewidth": 0,
            "ticks": ""
           }
          },
          "colorscale": {
           "diverging": [
            [
             0,
             "#8e0152"
            ],
            [
             0.1,
             "#c51b7d"
            ],
            [
             0.2,
             "#de77ae"
            ],
            [
             0.3,
             "#f1b6da"
            ],
            [
             0.4,
             "#fde0ef"
            ],
            [
             0.5,
             "#f7f7f7"
            ],
            [
             0.6,
             "#e6f5d0"
            ],
            [
             0.7,
             "#b8e186"
            ],
            [
             0.8,
             "#7fbc41"
            ],
            [
             0.9,
             "#4d9221"
            ],
            [
             1,
             "#276419"
            ]
           ],
           "sequential": [
            [
             0,
             "#0d0887"
            ],
            [
             0.1111111111111111,
             "#46039f"
            ],
            [
             0.2222222222222222,
             "#7201a8"
            ],
            [
             0.3333333333333333,
             "#9c179e"
            ],
            [
             0.4444444444444444,
             "#bd3786"
            ],
            [
             0.5555555555555556,
             "#d8576b"
            ],
            [
             0.6666666666666666,
             "#ed7953"
            ],
            [
             0.7777777777777778,
             "#fb9f3a"
            ],
            [
             0.8888888888888888,
             "#fdca26"
            ],
            [
             1,
             "#f0f921"
            ]
           ],
           "sequentialminus": [
            [
             0,
             "#0d0887"
            ],
            [
             0.1111111111111111,
             "#46039f"
            ],
            [
             0.2222222222222222,
             "#7201a8"
            ],
            [
             0.3333333333333333,
             "#9c179e"
            ],
            [
             0.4444444444444444,
             "#bd3786"
            ],
            [
             0.5555555555555556,
             "#d8576b"
            ],
            [
             0.6666666666666666,
             "#ed7953"
            ],
            [
             0.7777777777777778,
             "#fb9f3a"
            ],
            [
             0.8888888888888888,
             "#fdca26"
            ],
            [
             1,
             "#f0f921"
            ]
           ]
          },
          "colorway": [
           "#636efa",
           "#EF553B",
           "#00cc96",
           "#ab63fa",
           "#FFA15A",
           "#19d3f3",
           "#FF6692",
           "#B6E880",
           "#FF97FF",
           "#FECB52"
          ],
          "font": {
           "color": "#2a3f5f"
          },
          "geo": {
           "bgcolor": "white",
           "lakecolor": "white",
           "landcolor": "#E5ECF6",
           "showlakes": true,
           "showland": true,
           "subunitcolor": "white"
          },
          "hoverlabel": {
           "align": "left"
          },
          "hovermode": "closest",
          "mapbox": {
           "style": "light"
          },
          "paper_bgcolor": "white",
          "plot_bgcolor": "#E5ECF6",
          "polar": {
           "angularaxis": {
            "gridcolor": "white",
            "linecolor": "white",
            "ticks": ""
           },
           "bgcolor": "#E5ECF6",
           "radialaxis": {
            "gridcolor": "white",
            "linecolor": "white",
            "ticks": ""
           }
          },
          "scene": {
           "xaxis": {
            "backgroundcolor": "#E5ECF6",
            "gridcolor": "white",
            "gridwidth": 2,
            "linecolor": "white",
            "showbackground": true,
            "ticks": "",
            "zerolinecolor": "white"
           },
           "yaxis": {
            "backgroundcolor": "#E5ECF6",
            "gridcolor": "white",
            "gridwidth": 2,
            "linecolor": "white",
            "showbackground": true,
            "ticks": "",
            "zerolinecolor": "white"
           },
           "zaxis": {
            "backgroundcolor": "#E5ECF6",
            "gridcolor": "white",
            "gridwidth": 2,
            "linecolor": "white",
            "showbackground": true,
            "ticks": "",
            "zerolinecolor": "white"
           }
          },
          "shapedefaults": {
           "line": {
            "color": "#2a3f5f"
           }
          },
          "ternary": {
           "aaxis": {
            "gridcolor": "white",
            "linecolor": "white",
            "ticks": ""
           },
           "baxis": {
            "gridcolor": "white",
            "linecolor": "white",
            "ticks": ""
           },
           "bgcolor": "#E5ECF6",
           "caxis": {
            "gridcolor": "white",
            "linecolor": "white",
            "ticks": ""
           }
          },
          "title": {
           "x": 0.05
          },
          "xaxis": {
           "automargin": true,
           "gridcolor": "white",
           "linecolor": "white",
           "ticks": "",
           "title": {
            "standoff": 15
           },
           "zerolinecolor": "white",
           "zerolinewidth": 2
          },
          "yaxis": {
           "automargin": true,
           "gridcolor": "white",
           "linecolor": "white",
           "ticks": "",
           "title": {
            "standoff": 15
           },
           "zerolinecolor": "white",
           "zerolinewidth": 2
          }
         }
        },
        "title": {
         "text": "Wide-Form Input"
        },
        "xaxis": {
         "anchor": "y",
         "domain": [
          0,
          1
         ],
         "title": {
          "text": "MES"
         }
        },
        "yaxis": {
         "anchor": "x",
         "domain": [
          0,
          1
         ],
         "title": {
          "text": "value"
         }
        }
       }
      },
      "text/html": [
       "<div>                            <div id=\"1a21ae27-82ef-4243-b30f-cf26af8e9ce6\" class=\"plotly-graph-div\" style=\"height:525px; width:100%;\"></div>            <script type=\"text/javascript\">                require([\"plotly\"], function(Plotly) {                    window.PLOTLYENV=window.PLOTLYENV || {};                                    if (document.getElementById(\"1a21ae27-82ef-4243-b30f-cf26af8e9ce6\")) {                    Plotly.newPlot(                        \"1a21ae27-82ef-4243-b30f-cf26af8e9ce6\",                        [{\"alignmentgroup\": \"True\", \"hovertemplate\": \"variable=TOTAL_INSEGURIDAD<br>MES=%{x}<br>value=%{y}<extra></extra>\", \"legendgroup\": \"TOTAL_INSEGURIDAD\", \"marker\": {\"color\": \"rgb(158,202,225)\", \"line\": {\"color\": \"rgb(8,48,107)\", \"width\": 1.5}}, \"name\": \"TOTAL_INSEGURIDAD\", \"offsetgroup\": \"TOTAL_INSEGURIDAD\", \"opacity\": 0.6, \"orientation\": \"v\", \"showlegend\": true, \"textposition\": \"auto\", \"type\": \"bar\", \"x\": [\"Marzo\", \"Marzo\", \"Marzo\", \"Marzo\", \"Marzo\", \"Marzo\", \"Marzo\", \"Marzo\", \"Marzo\", \"Marzo\", \"Marzo\", \"Marzo\", \"Marzo\", \"Marzo\", \"Marzo\", \"Marzo\", \"Marzo\", \"Marzo\", \"Marzo\", \"Marzo\", \"Marzo\", \"Marzo\", \"Abril\", \"Abril\", \"Abril\", \"Abril\", \"Abril\", \"Abril\", \"Abril\", \"Abril\", \"Abril\", \"Abril\", \"Abril\", \"Abril\", \"Abril\", \"Abril\", \"Abril\", \"Abril\", \"Abril\", \"Abril\", \"Abril\", \"Abril\", \"Abril\", \"Abril\", \"Mayo\", \"Mayo\", \"Mayo\", \"Mayo\", \"Mayo\", \"Mayo\", \"Mayo\", \"Mayo\", \"Mayo\", \"Mayo\", \"Mayo\", \"Mayo\", \"Mayo\", \"Mayo\", \"Mayo\", \"Mayo\", \"Mayo\", \"Mayo\", \"Mayo\", \"Mayo\", \"Mayo\", \"Mayo\", \"Febrero\", \"Febrero\", \"Febrero\", \"Febrero\", \"Febrero\", \"Febrero\", \"Febrero\", \"Febrero\", \"Febrero\", \"Febrero\", \"Febrero\", \"Febrero\", \"Febrero\", \"Febrero\", \"Febrero\", \"Febrero\", \"Febrero\", \"Febrero\", \"Febrero\", \"Febrero\", \"Febrero\", \"Febrero\", \"Enero\", \"Enero\", \"Enero\", \"Enero\", \"Enero\", \"Enero\", \"Enero\", \"Enero\", \"Enero\", \"Enero\", \"Enero\", \"Enero\", \"Enero\", \"Enero\", \"Enero\", \"Enero\", \"Enero\", \"Enero\", \"Enero\", \"Enero\", \"Enero\", \"Enero\"], \"xaxis\": \"x\", \"y\": [218, 23, 34, 75, 46, 60, 30, 46, 77, 94, 73, 48, 118, 15, 71, 89, 89, 93, 29, 71, 24, 0, 214, 27, 39, 74, 33, 50, 53, 37, 68, 103, 116, 56, 91, 19, 72, 46, 64, 70, 23, 63, 38, 0, 252, 42, 31, 74, 38, 39, 35, 44, 76, 65, 97, 59, 122, 19, 105, 66, 77, 102, 26, 72, 55, 0, 143, 33, 15, 87, 22, 83, 43, 34, 60, 77, 78, 56, 82, 17, 68, 69, 46, 54, 13, 68, 32, 0, 119, 19, 11, 63, 19, 37, 29, 25, 47, 42, 77, 61, 65, 9, 49, 60, 41, 49, 10, 35, 17, 0], \"yaxis\": \"y\"}],                        {\"barmode\": \"relative\", \"legend\": {\"title\": {\"text\": \"variable\"}, \"tracegroupgap\": 0}, \"template\": {\"data\": {\"bar\": [{\"error_x\": {\"color\": \"#2a3f5f\"}, \"error_y\": {\"color\": \"#2a3f5f\"}, \"marker\": {\"line\": {\"color\": \"#E5ECF6\", \"width\": 0.5}}, \"type\": \"bar\"}], \"barpolar\": [{\"marker\": {\"line\": {\"color\": \"#E5ECF6\", \"width\": 0.5}}, \"type\": \"barpolar\"}], \"carpet\": [{\"aaxis\": {\"endlinecolor\": \"#2a3f5f\", \"gridcolor\": \"white\", \"linecolor\": \"white\", \"minorgridcolor\": \"white\", \"startlinecolor\": \"#2a3f5f\"}, \"baxis\": {\"endlinecolor\": \"#2a3f5f\", \"gridcolor\": \"white\", \"linecolor\": \"white\", \"minorgridcolor\": \"white\", \"startlinecolor\": \"#2a3f5f\"}, \"type\": \"carpet\"}], \"choropleth\": [{\"colorbar\": {\"outlinewidth\": 0, \"ticks\": \"\"}, \"type\": \"choropleth\"}], \"contour\": [{\"colorbar\": {\"outlinewidth\": 0, \"ticks\": \"\"}, \"colorscale\": [[0.0, \"#0d0887\"], [0.1111111111111111, \"#46039f\"], [0.2222222222222222, \"#7201a8\"], [0.3333333333333333, \"#9c179e\"], [0.4444444444444444, \"#bd3786\"], [0.5555555555555556, \"#d8576b\"], [0.6666666666666666, \"#ed7953\"], [0.7777777777777778, \"#fb9f3a\"], [0.8888888888888888, \"#fdca26\"], [1.0, \"#f0f921\"]], \"type\": \"contour\"}], \"contourcarpet\": [{\"colorbar\": {\"outlinewidth\": 0, \"ticks\": \"\"}, \"type\": \"contourcarpet\"}], \"heatmap\": [{\"colorbar\": {\"outlinewidth\": 0, \"ticks\": \"\"}, \"colorscale\": [[0.0, \"#0d0887\"], [0.1111111111111111, \"#46039f\"], [0.2222222222222222, \"#7201a8\"], [0.3333333333333333, \"#9c179e\"], [0.4444444444444444, \"#bd3786\"], [0.5555555555555556, \"#d8576b\"], [0.6666666666666666, \"#ed7953\"], [0.7777777777777778, \"#fb9f3a\"], [0.8888888888888888, \"#fdca26\"], [1.0, \"#f0f921\"]], \"type\": \"heatmap\"}], \"heatmapgl\": [{\"colorbar\": {\"outlinewidth\": 0, \"ticks\": \"\"}, \"colorscale\": [[0.0, \"#0d0887\"], [0.1111111111111111, \"#46039f\"], [0.2222222222222222, \"#7201a8\"], [0.3333333333333333, \"#9c179e\"], [0.4444444444444444, \"#bd3786\"], [0.5555555555555556, \"#d8576b\"], [0.6666666666666666, \"#ed7953\"], [0.7777777777777778, \"#fb9f3a\"], [0.8888888888888888, \"#fdca26\"], [1.0, \"#f0f921\"]], \"type\": \"heatmapgl\"}], \"histogram\": [{\"marker\": {\"colorbar\": {\"outlinewidth\": 0, \"ticks\": \"\"}}, \"type\": \"histogram\"}], \"histogram2d\": [{\"colorbar\": {\"outlinewidth\": 0, \"ticks\": \"\"}, \"colorscale\": [[0.0, \"#0d0887\"], [0.1111111111111111, \"#46039f\"], [0.2222222222222222, \"#7201a8\"], [0.3333333333333333, \"#9c179e\"], [0.4444444444444444, \"#bd3786\"], [0.5555555555555556, \"#d8576b\"], [0.6666666666666666, \"#ed7953\"], [0.7777777777777778, \"#fb9f3a\"], [0.8888888888888888, \"#fdca26\"], [1.0, \"#f0f921\"]], \"type\": \"histogram2d\"}], \"histogram2dcontour\": [{\"colorbar\": {\"outlinewidth\": 0, \"ticks\": \"\"}, \"colorscale\": [[0.0, \"#0d0887\"], [0.1111111111111111, \"#46039f\"], [0.2222222222222222, \"#7201a8\"], [0.3333333333333333, \"#9c179e\"], [0.4444444444444444, \"#bd3786\"], [0.5555555555555556, \"#d8576b\"], [0.6666666666666666, \"#ed7953\"], [0.7777777777777778, \"#fb9f3a\"], [0.8888888888888888, \"#fdca26\"], [1.0, \"#f0f921\"]], \"type\": \"histogram2dcontour\"}], \"mesh3d\": [{\"colorbar\": {\"outlinewidth\": 0, \"ticks\": \"\"}, \"type\": \"mesh3d\"}], \"parcoords\": [{\"line\": {\"colorbar\": {\"outlinewidth\": 0, \"ticks\": \"\"}}, \"type\": \"parcoords\"}], \"pie\": [{\"automargin\": true, \"type\": \"pie\"}], \"scatter\": [{\"marker\": {\"colorbar\": {\"outlinewidth\": 0, \"ticks\": \"\"}}, \"type\": \"scatter\"}], \"scatter3d\": [{\"line\": {\"colorbar\": {\"outlinewidth\": 0, \"ticks\": \"\"}}, \"marker\": {\"colorbar\": {\"outlinewidth\": 0, \"ticks\": \"\"}}, \"type\": \"scatter3d\"}], \"scattercarpet\": [{\"marker\": {\"colorbar\": {\"outlinewidth\": 0, \"ticks\": \"\"}}, \"type\": \"scattercarpet\"}], \"scattergeo\": [{\"marker\": {\"colorbar\": {\"outlinewidth\": 0, \"ticks\": \"\"}}, \"type\": \"scattergeo\"}], \"scattergl\": [{\"marker\": {\"colorbar\": {\"outlinewidth\": 0, \"ticks\": \"\"}}, \"type\": \"scattergl\"}], \"scattermapbox\": [{\"marker\": {\"colorbar\": {\"outlinewidth\": 0, \"ticks\": \"\"}}, \"type\": \"scattermapbox\"}], \"scatterpolar\": [{\"marker\": {\"colorbar\": {\"outlinewidth\": 0, \"ticks\": \"\"}}, \"type\": \"scatterpolar\"}], \"scatterpolargl\": [{\"marker\": {\"colorbar\": {\"outlinewidth\": 0, \"ticks\": \"\"}}, \"type\": \"scatterpolargl\"}], \"scatterternary\": [{\"marker\": {\"colorbar\": {\"outlinewidth\": 0, \"ticks\": \"\"}}, \"type\": \"scatterternary\"}], \"surface\": [{\"colorbar\": {\"outlinewidth\": 0, \"ticks\": \"\"}, \"colorscale\": [[0.0, \"#0d0887\"], [0.1111111111111111, \"#46039f\"], [0.2222222222222222, \"#7201a8\"], [0.3333333333333333, \"#9c179e\"], [0.4444444444444444, \"#bd3786\"], [0.5555555555555556, \"#d8576b\"], [0.6666666666666666, \"#ed7953\"], [0.7777777777777778, \"#fb9f3a\"], [0.8888888888888888, \"#fdca26\"], [1.0, \"#f0f921\"]], \"type\": \"surface\"}], \"table\": [{\"cells\": {\"fill\": {\"color\": \"#EBF0F8\"}, \"line\": {\"color\": \"white\"}}, \"header\": {\"fill\": {\"color\": \"#C8D4E3\"}, \"line\": {\"color\": \"white\"}}, \"type\": \"table\"}]}, \"layout\": {\"annotationdefaults\": {\"arrowcolor\": \"#2a3f5f\", \"arrowhead\": 0, \"arrowwidth\": 1}, \"autotypenumbers\": \"strict\", \"coloraxis\": {\"colorbar\": {\"outlinewidth\": 0, \"ticks\": \"\"}}, \"colorscale\": {\"diverging\": [[0, \"#8e0152\"], [0.1, \"#c51b7d\"], [0.2, \"#de77ae\"], [0.3, \"#f1b6da\"], [0.4, \"#fde0ef\"], [0.5, \"#f7f7f7\"], [0.6, \"#e6f5d0\"], [0.7, \"#b8e186\"], [0.8, \"#7fbc41\"], [0.9, \"#4d9221\"], [1, \"#276419\"]], \"sequential\": [[0.0, \"#0d0887\"], [0.1111111111111111, \"#46039f\"], [0.2222222222222222, \"#7201a8\"], [0.3333333333333333, \"#9c179e\"], [0.4444444444444444, \"#bd3786\"], [0.5555555555555556, \"#d8576b\"], [0.6666666666666666, \"#ed7953\"], [0.7777777777777778, \"#fb9f3a\"], [0.8888888888888888, \"#fdca26\"], [1.0, \"#f0f921\"]], \"sequentialminus\": [[0.0, \"#0d0887\"], [0.1111111111111111, \"#46039f\"], [0.2222222222222222, \"#7201a8\"], [0.3333333333333333, \"#9c179e\"], [0.4444444444444444, \"#bd3786\"], [0.5555555555555556, \"#d8576b\"], [0.6666666666666666, \"#ed7953\"], [0.7777777777777778, \"#fb9f3a\"], [0.8888888888888888, \"#fdca26\"], [1.0, \"#f0f921\"]]}, \"colorway\": [\"#636efa\", \"#EF553B\", \"#00cc96\", \"#ab63fa\", \"#FFA15A\", \"#19d3f3\", \"#FF6692\", \"#B6E880\", \"#FF97FF\", \"#FECB52\"], \"font\": {\"color\": \"#2a3f5f\"}, \"geo\": {\"bgcolor\": \"white\", \"lakecolor\": \"white\", \"landcolor\": \"#E5ECF6\", \"showlakes\": true, \"showland\": true, \"subunitcolor\": \"white\"}, \"hoverlabel\": {\"align\": \"left\"}, \"hovermode\": \"closest\", \"mapbox\": {\"style\": \"light\"}, \"paper_bgcolor\": \"white\", \"plot_bgcolor\": \"#E5ECF6\", \"polar\": {\"angularaxis\": {\"gridcolor\": \"white\", \"linecolor\": \"white\", \"ticks\": \"\"}, \"bgcolor\": \"#E5ECF6\", \"radialaxis\": {\"gridcolor\": \"white\", \"linecolor\": \"white\", \"ticks\": \"\"}}, \"scene\": {\"xaxis\": {\"backgroundcolor\": \"#E5ECF6\", \"gridcolor\": \"white\", \"gridwidth\": 2, \"linecolor\": \"white\", \"showbackground\": true, \"ticks\": \"\", \"zerolinecolor\": \"white\"}, \"yaxis\": {\"backgroundcolor\": \"#E5ECF6\", \"gridcolor\": \"white\", \"gridwidth\": 2, \"linecolor\": \"white\", \"showbackground\": true, \"ticks\": \"\", \"zerolinecolor\": \"white\"}, \"zaxis\": {\"backgroundcolor\": \"#E5ECF6\", \"gridcolor\": \"white\", \"gridwidth\": 2, \"linecolor\": \"white\", \"showbackground\": true, \"ticks\": \"\", \"zerolinecolor\": \"white\"}}, \"shapedefaults\": {\"line\": {\"color\": \"#2a3f5f\"}}, \"ternary\": {\"aaxis\": {\"gridcolor\": \"white\", \"linecolor\": \"white\", \"ticks\": \"\"}, \"baxis\": {\"gridcolor\": \"white\", \"linecolor\": \"white\", \"ticks\": \"\"}, \"bgcolor\": \"#E5ECF6\", \"caxis\": {\"gridcolor\": \"white\", \"linecolor\": \"white\", \"ticks\": \"\"}}, \"title\": {\"x\": 0.05}, \"xaxis\": {\"automargin\": true, \"gridcolor\": \"white\", \"linecolor\": \"white\", \"ticks\": \"\", \"title\": {\"standoff\": 15}, \"zerolinecolor\": \"white\", \"zerolinewidth\": 2}, \"yaxis\": {\"automargin\": true, \"gridcolor\": \"white\", \"linecolor\": \"white\", \"ticks\": \"\", \"title\": {\"standoff\": 15}, \"zerolinecolor\": \"white\", \"zerolinewidth\": 2}}}, \"title\": {\"text\": \"Wide-Form Input\"}, \"xaxis\": {\"anchor\": \"y\", \"domain\": [0.0, 1.0], \"title\": {\"text\": \"MES\"}}, \"yaxis\": {\"anchor\": \"x\", \"domain\": [0.0, 1.0], \"title\": {\"text\": \"value\"}}},                        {\"responsive\": true}                    ).then(function(){\n",
       "                            \n",
       "var gd = document.getElementById('1a21ae27-82ef-4243-b30f-cf26af8e9ce6');\n",
       "var x = new MutationObserver(function (mutations, observer) {{\n",
       "        var display = window.getComputedStyle(gd).display;\n",
       "        if (!display || display === 'none') {{\n",
       "            console.log([gd, 'removed!']);\n",
       "            Plotly.purge(gd);\n",
       "            observer.disconnect();\n",
       "        }}\n",
       "}});\n",
       "\n",
       "// Listen for the removal of the full notebook cells\n",
       "var notebookContainer = gd.closest('#notebook-container');\n",
       "if (notebookContainer) {{\n",
       "    x.observe(notebookContainer, {childList: true});\n",
       "}}\n",
       "\n",
       "// Listen for the clearing of the current output cell\n",
       "var outputEl = gd.closest('.output');\n",
       "if (outputEl) {{\n",
       "    x.observe(outputEl, {childList: true});\n",
       "}}\n",
       "\n",
       "                        })                };                });            </script>        </div>"
      ]
     },
     "metadata": {},
     "output_type": "display_data"
    }
   ],
   "source": [
    "fig = px.bar(df, x=\"MES\", y=[\"TOTAL_INSEGURIDAD\"], title=\"Wide-Form Input\")\n",
    "fig.update_traces(marker_color='rgb(158,202,225)', marker_line_color='rgb(8,48,107)',\n",
    "                  marker_line_width=1.5, opacity=0.6)\n",
    "fig.show()"
   ]
  },
  {
   "cell_type": "code",
   "execution_count": 85,
   "metadata": {},
   "outputs": [
    {
     "data": {
      "text/plain": [
       "Index(['DISTRITOS', 'RELACIONADAS CON LAS PERSONAS',\n",
       "       'RELACIONADAS CON EL PATRIMONIO', 'POR TENENCIA DE ARMAS',\n",
       "       'POR TENENCIA DE DROGAS', 'POR CONSUMO DE DROGAS', 'MES', 'AÑO',\n",
       "       'TOTAL_INSEGURIDAD'],\n",
       "      dtype='object', name=1)"
      ]
     },
     "execution_count": 85,
     "metadata": {},
     "output_type": "execute_result"
    }
   ],
   "source": [
    "df.columns"
   ]
  },
  {
   "cell_type": "code",
   "execution_count": 86,
   "metadata": {},
   "outputs": [
    {
     "data": {
      "application/vnd.plotly.v1+json": {
       "config": {
        "plotlyServerURL": "https://plot.ly"
       },
       "data": [
        {
         "alignmentgroup": "True",
         "customdata": [
          [
           37,
           71,
           11,
           83,
           16
          ],
          [
           6,
           3,
           2,
           7,
           5
          ],
          [
           4,
           5,
           1,
           24,
           0
          ],
          [
           10,
           43,
           3,
           17,
           2
          ],
          [
           7,
           8,
           1,
           26,
           4
          ],
          [
           15,
           24,
           2,
           14,
           5
          ],
          [
           10,
           7,
           1,
           8,
           4
          ],
          [
           10,
           8,
           2,
           26,
           0
          ],
          [
           34,
           16,
           5,
           22,
           0
          ],
          [
           17,
           24,
           6,
           37,
           10
          ],
          [
           37,
           15,
           2,
           14,
           5
          ],
          [
           19,
           23,
           1,
           5,
           0
          ],
          [
           24,
           35,
           12,
           46,
           1
          ],
          [
           2,
           7,
           2,
           4,
           0
          ],
          [
           14,
           15,
           3,
           34,
           5
          ],
          [
           6,
           3,
           8,
           56,
           16
          ],
          [
           20,
           29,
           0,
           33,
           7
          ],
          [
           19,
           16,
           5,
           23,
           30
          ],
          [
           17,
           11,
           0,
           1,
           0
          ],
          [
           21,
           25,
           4,
           19,
           2
          ],
          [
           7,
           8,
           0,
           9,
           0
          ],
          [
           0,
           0,
           0,
           0,
           0
          ]
         ],
         "hovertemplate": "MES=Marzo<br>DISTRITOS=%{x}<br>TOTAL_INSEGURIDAD=%{text}<br>RELACIONADAS CON LAS PERSONAS=%{customdata[0]}<br>RELACIONADAS CON EL PATRIMONIO=%{customdata[1]}<br>POR TENENCIA DE ARMAS=%{customdata[2]}<br>POR TENENCIA DE DROGAS=%{customdata[3]}<br>POR CONSUMO DE DROGAS=%{customdata[4]}<extra></extra>",
         "legendgroup": "Marzo",
         "marker": {
          "color": "#636efa"
         },
         "name": "Marzo",
         "offsetgroup": "Marzo",
         "orientation": "v",
         "showlegend": true,
         "text": [
          218,
          23,
          34,
          75,
          46,
          60,
          30,
          46,
          77,
          94,
          73,
          48,
          118,
          15,
          71,
          89,
          89,
          93,
          29,
          71,
          24,
          0
         ],
         "textposition": "outside",
         "texttemplate": "%{text:.2s}",
         "type": "bar",
         "x": [
          "CENTRO",
          "ARGANZUELA",
          "RETIRO",
          "SALAMANCA",
          "CHAMARTÍN",
          "TETUÁN",
          "CHAMBERÍ",
          "FUENCARRAL - EL PARDO",
          "MONCLOA - ARAVACA",
          "LATINA",
          "CARABANCHEL",
          "USERA",
          "PUENTE DE VALLECAS",
          "MORATALAZ",
          "CIUDAD LINEAL",
          "HORTALEZA",
          "VILLAVERDE",
          "VILLA DE VALLECAS",
          "VICÁLVARO",
          "SAN BLAS - CANILLEJAS",
          "BARAJAS",
          "SIN DISTRITO ASIGNADO"
         ],
         "xaxis": "x",
         "y": [
          218,
          23,
          34,
          75,
          46,
          60,
          30,
          46,
          77,
          94,
          73,
          48,
          118,
          15,
          71,
          89,
          89,
          93,
          29,
          71,
          24,
          0
         ],
         "yaxis": "y"
        },
        {
         "alignmentgroup": "True",
         "customdata": [
          [
           36,
           64,
           14,
           81,
           19
          ],
          [
           6,
           11,
           0,
           8,
           2
          ],
          [
           5,
           4,
           1,
           20,
           9
          ],
          [
           5,
           42,
           1,
           25,
           1
          ],
          [
           4,
           10,
           2,
           14,
           3
          ],
          [
           27,
           14,
           3,
           6,
           0
          ],
          [
           6,
           9,
           3,
           33,
           2
          ],
          [
           5,
           9,
           2,
           20,
           1
          ],
          [
           23,
           18,
           3,
           21,
           3
          ],
          [
           15,
           6,
           3,
           65,
           14
          ],
          [
           41,
           40,
           2,
           27,
           6
          ],
          [
           18,
           27,
           0,
           8,
           3
          ],
          [
           42,
           15,
           6,
           28,
           0
          ],
          [
           6,
           7,
           0,
           6,
           0
          ],
          [
           19,
           20,
           2,
           29,
           2
          ],
          [
           10,
           6,
           2,
           20,
           8
          ],
          [
           22,
           13,
           3,
           22,
           4
          ],
          [
           14,
           17,
           2,
           14,
           23
          ],
          [
           11,
           10,
           0,
           2,
           0
          ],
          [
           22,
           22,
           2,
           16,
           1
          ],
          [
           7,
           12,
           1,
           13,
           5
          ],
          [
           0,
           0,
           0,
           0,
           0
          ]
         ],
         "hovertemplate": "MES=Abril<br>DISTRITOS=%{x}<br>TOTAL_INSEGURIDAD=%{text}<br>RELACIONADAS CON LAS PERSONAS=%{customdata[0]}<br>RELACIONADAS CON EL PATRIMONIO=%{customdata[1]}<br>POR TENENCIA DE ARMAS=%{customdata[2]}<br>POR TENENCIA DE DROGAS=%{customdata[3]}<br>POR CONSUMO DE DROGAS=%{customdata[4]}<extra></extra>",
         "legendgroup": "Abril",
         "marker": {
          "color": "#EF553B"
         },
         "name": "Abril",
         "offsetgroup": "Abril",
         "orientation": "v",
         "showlegend": true,
         "text": [
          214,
          27,
          39,
          74,
          33,
          50,
          53,
          37,
          68,
          103,
          116,
          56,
          91,
          19,
          72,
          46,
          64,
          70,
          23,
          63,
          38,
          0
         ],
         "textposition": "outside",
         "texttemplate": "%{text:.2s}",
         "type": "bar",
         "x": [
          "CENTRO",
          "ARGANZUELA",
          "RETIRO",
          "SALAMANCA",
          "CHAMARTÍN",
          "TETUÁN",
          "CHAMBERÍ",
          "FUENCARRAL - EL PARDO",
          "MONCLOA - ARAVACA",
          "LATINA",
          "CARABANCHEL",
          "USERA",
          "PUENTE DE VALLECAS",
          "MORATALAZ",
          "CIUDAD LINEAL",
          "HORTALEZA",
          "VILLAVERDE",
          "VILLA DE VALLECAS",
          "VICÁLVARO",
          "SAN BLAS - CANILLEJAS",
          "BARAJAS",
          "SIN DISTRITO ASIGNADO"
         ],
         "xaxis": "x",
         "y": [
          214,
          27,
          39,
          74,
          33,
          50,
          53,
          37,
          68,
          103,
          116,
          56,
          91,
          19,
          72,
          46,
          64,
          70,
          23,
          63,
          38,
          0
         ],
         "yaxis": "y"
        },
        {
         "alignmentgroup": "True",
         "customdata": [
          [
           52,
           97,
           15,
           76,
           12
          ],
          [
           6,
           14,
           2,
           6,
           14
          ],
          [
           2,
           4,
           2,
           21,
           2
          ],
          [
           8,
           43,
           1,
           20,
           2
          ],
          [
           5,
           10,
           3,
           16,
           4
          ],
          [
           16,
           16,
           1,
           6,
           0
          ],
          [
           11,
           11,
           1,
           10,
           2
          ],
          [
           6,
           9,
           0,
           28,
           1
          ],
          [
           29,
           26,
           1,
           17,
           3
          ],
          [
           20,
           14,
           0,
           25,
           6
          ],
          [
           34,
           27,
           5,
           26,
           5
          ],
          [
           19,
           21,
           1,
           14,
           4
          ],
          [
           47,
           30,
           1,
           43,
           1
          ],
          [
           12,
           7,
           0,
           0,
           0
          ],
          [
           32,
           22,
           3,
           33,
           15
          ],
          [
           4,
           12,
           3,
           38,
           9
          ],
          [
           26,
           27,
           1,
           19,
           4
          ],
          [
           22,
           20,
           3,
           16,
           41
          ],
          [
           12,
           12,
           0,
           2,
           0
          ],
          [
           26,
           17,
           3,
           24,
           2
          ],
          [
           10,
           15,
           0,
           15,
           15
          ],
          [
           0,
           0,
           0,
           0,
           0
          ]
         ],
         "hovertemplate": "MES=Mayo<br>DISTRITOS=%{x}<br>TOTAL_INSEGURIDAD=%{text}<br>RELACIONADAS CON LAS PERSONAS=%{customdata[0]}<br>RELACIONADAS CON EL PATRIMONIO=%{customdata[1]}<br>POR TENENCIA DE ARMAS=%{customdata[2]}<br>POR TENENCIA DE DROGAS=%{customdata[3]}<br>POR CONSUMO DE DROGAS=%{customdata[4]}<extra></extra>",
         "legendgroup": "Mayo",
         "marker": {
          "color": "#00cc96"
         },
         "name": "Mayo",
         "offsetgroup": "Mayo",
         "orientation": "v",
         "showlegend": true,
         "text": [
          252,
          42,
          31,
          74,
          38,
          39,
          35,
          44,
          76,
          65,
          97,
          59,
          122,
          19,
          105,
          66,
          77,
          102,
          26,
          72,
          55,
          0
         ],
         "textposition": "outside",
         "texttemplate": "%{text:.2s}",
         "type": "bar",
         "x": [
          "CENTRO",
          "ARGANZUELA",
          "RETIRO",
          "SALAMANCA",
          "CHAMARTÍN",
          "TETUÁN",
          "CHAMBERÍ",
          "FUENCARRAL - EL PARDO",
          "MONCLOA - ARAVACA",
          "LATINA",
          "CARABANCHEL",
          "USERA",
          "PUENTE DE VALLECAS",
          "MORATALAZ",
          "CIUDAD LINEAL",
          "HORTALEZA",
          "VILLAVERDE",
          "VILLA DE VALLECAS",
          "VICÁLVARO",
          "SAN BLAS - CANILLEJAS",
          "BARAJAS",
          "SIN DISTRITO ASIGNADO"
         ],
         "xaxis": "x",
         "y": [
          252,
          42,
          31,
          74,
          38,
          39,
          35,
          44,
          76,
          65,
          97,
          59,
          122,
          19,
          105,
          66,
          77,
          102,
          26,
          72,
          55,
          0
         ],
         "yaxis": "y"
        },
        {
         "alignmentgroup": "True",
         "customdata": [
          [
           20,
           41,
           4,
           68,
           10
          ],
          [
           4,
           9,
           9,
           10,
           1
          ],
          [
           3,
           5,
           0,
           7,
           0
          ],
          [
           6,
           47,
           5,
           27,
           2
          ],
          [
           2,
           6,
           0,
           12,
           2
          ],
          [
           12,
           31,
           7,
           29,
           4
          ],
          [
           15,
           9,
           1,
           18,
           0
          ],
          [
           9,
           7,
           2,
           14,
           2
          ],
          [
           22,
           18,
           0,
           16,
           4
          ],
          [
           15,
           14,
           1,
           40,
           7
          ],
          [
           32,
           26,
           3,
           15,
           2
          ],
          [
           17,
           24,
           0,
           10,
           5
          ],
          [
           30,
           18,
           6,
           25,
           3
          ],
          [
           6,
           5,
           0,
           5,
           1
          ],
          [
           15,
           20,
           2,
           25,
           6
          ],
          [
           3,
           15,
           8,
           35,
           8
          ],
          [
           8,
           16,
           0,
           18,
           4
          ],
          [
           12,
           10,
           4,
           27,
           1
          ],
          [
           8,
           5,
           0,
           0,
           0
          ],
          [
           13,
           21,
           1,
           31,
           2
          ],
          [
           6,
           17,
           0,
           8,
           1
          ],
          [
           0,
           0,
           0,
           0,
           0
          ]
         ],
         "hovertemplate": "MES=Febrero<br>DISTRITOS=%{x}<br>TOTAL_INSEGURIDAD=%{text}<br>RELACIONADAS CON LAS PERSONAS=%{customdata[0]}<br>RELACIONADAS CON EL PATRIMONIO=%{customdata[1]}<br>POR TENENCIA DE ARMAS=%{customdata[2]}<br>POR TENENCIA DE DROGAS=%{customdata[3]}<br>POR CONSUMO DE DROGAS=%{customdata[4]}<extra></extra>",
         "legendgroup": "Febrero",
         "marker": {
          "color": "#ab63fa"
         },
         "name": "Febrero",
         "offsetgroup": "Febrero",
         "orientation": "v",
         "showlegend": true,
         "text": [
          143,
          33,
          15,
          87,
          22,
          83,
          43,
          34,
          60,
          77,
          78,
          56,
          82,
          17,
          68,
          69,
          46,
          54,
          13,
          68,
          32,
          0
         ],
         "textposition": "outside",
         "texttemplate": "%{text:.2s}",
         "type": "bar",
         "x": [
          "CENTRO",
          "ARGANZUELA",
          "RETIRO",
          "SALAMANCA",
          "CHAMARTÍN",
          "TETUÁN",
          "CHAMBERÍ",
          "FUENCARRAL - EL PARDO",
          "MONCLOA - ARAVACA",
          "LATINA",
          "CARABANCHEL",
          "USERA",
          "PUENTE DE VALLECAS",
          "MORATALAZ",
          "CIUDAD LINEAL",
          "HORTALEZA",
          "VILLAVERDE",
          "VILLA DE VALLECAS",
          "VICÁLVARO",
          "SAN BLAS - CANILLEJAS",
          "BARAJAS",
          "SIN DISTRITO ASIGNADO"
         ],
         "xaxis": "x",
         "y": [
          143,
          33,
          15,
          87,
          22,
          83,
          43,
          34,
          60,
          77,
          78,
          56,
          82,
          17,
          68,
          69,
          46,
          54,
          13,
          68,
          32,
          0
         ],
         "yaxis": "y"
        },
        {
         "alignmentgroup": "True",
         "customdata": [
          [
           19,
           43,
           17,
           32,
           8
          ],
          [
           4,
           10,
           1,
           3,
           1
          ],
          [
           1,
           4,
           0,
           5,
           1
          ],
          [
           3,
           49,
           0,
           11,
           0
          ],
          [
           3,
           6,
           1,
           7,
           2
          ],
          [
           14,
           13,
           1,
           3,
           6
          ],
          [
           4,
           13,
           3,
           7,
           2
          ],
          [
           4,
           10,
           0,
           10,
           1
          ],
          [
           23,
           17,
           0,
           4,
           3
          ],
          [
           8,
           12,
           9,
           11,
           2
          ],
          [
           27,
           31,
           4,
           9,
           6
          ],
          [
           30,
           20,
           1,
           8,
           2
          ],
          [
           25,
           29,
           3,
           8,
           0
          ],
          [
           5,
           2,
           0,
           1,
           1
          ],
          [
           15,
           14,
           1,
           14,
           5
          ],
          [
           4,
           14,
           7,
           26,
           9
          ],
          [
           14,
           11,
           1,
           13,
           2
          ],
          [
           16,
           10,
           3,
           20,
           0
          ],
          [
           7,
           3,
           0,
           0,
           0
          ],
          [
           11,
           9,
           3,
           11,
           1
          ],
          [
           5,
           5,
           0,
           5,
           2
          ],
          [
           0,
           0,
           0,
           0,
           0
          ]
         ],
         "hovertemplate": "MES=Enero<br>DISTRITOS=%{x}<br>TOTAL_INSEGURIDAD=%{text}<br>RELACIONADAS CON LAS PERSONAS=%{customdata[0]}<br>RELACIONADAS CON EL PATRIMONIO=%{customdata[1]}<br>POR TENENCIA DE ARMAS=%{customdata[2]}<br>POR TENENCIA DE DROGAS=%{customdata[3]}<br>POR CONSUMO DE DROGAS=%{customdata[4]}<extra></extra>",
         "legendgroup": "Enero",
         "marker": {
          "color": "#FFA15A"
         },
         "name": "Enero",
         "offsetgroup": "Enero",
         "orientation": "v",
         "showlegend": true,
         "text": [
          119,
          19,
          11,
          63,
          19,
          37,
          29,
          25,
          47,
          42,
          77,
          61,
          65,
          9,
          49,
          60,
          41,
          49,
          10,
          35,
          17,
          0
         ],
         "textposition": "outside",
         "texttemplate": "%{text:.2s}",
         "type": "bar",
         "x": [
          "CENTRO",
          "ARGANZUELA",
          "RETIRO",
          "SALAMANCA",
          "CHAMARTÍN",
          "TETUÁN",
          "CHAMBERÍ",
          "FUENCARRAL - EL PARDO",
          "MONCLOA - ARAVACA",
          "LATINA",
          "CARABANCHEL",
          "USERA",
          "PUENTE DE VALLECAS",
          "MORATALAZ",
          "CIUDAD LINEAL",
          "HORTALEZA",
          "VILLAVERDE",
          "VILLA DE VALLECAS",
          "VICÁLVARO",
          "SAN BLAS - CANILLEJAS",
          "BARAJAS",
          "SIN DISTRITO ASIGNADO"
         ],
         "xaxis": "x",
         "y": [
          119,
          19,
          11,
          63,
          19,
          37,
          29,
          25,
          47,
          42,
          77,
          61,
          65,
          9,
          49,
          60,
          41,
          49,
          10,
          35,
          17,
          0
         ],
         "yaxis": "y"
        }
       ],
       "layout": {
        "barmode": "relative",
        "legend": {
         "title": {
          "text": "MES"
         },
         "tracegroupgap": 0
        },
        "template": {
         "data": {
          "bar": [
           {
            "error_x": {
             "color": "#2a3f5f"
            },
            "error_y": {
             "color": "#2a3f5f"
            },
            "marker": {
             "line": {
              "color": "#E5ECF6",
              "width": 0.5
             }
            },
            "type": "bar"
           }
          ],
          "barpolar": [
           {
            "marker": {
             "line": {
              "color": "#E5ECF6",
              "width": 0.5
             }
            },
            "type": "barpolar"
           }
          ],
          "carpet": [
           {
            "aaxis": {
             "endlinecolor": "#2a3f5f",
             "gridcolor": "white",
             "linecolor": "white",
             "minorgridcolor": "white",
             "startlinecolor": "#2a3f5f"
            },
            "baxis": {
             "endlinecolor": "#2a3f5f",
             "gridcolor": "white",
             "linecolor": "white",
             "minorgridcolor": "white",
             "startlinecolor": "#2a3f5f"
            },
            "type": "carpet"
           }
          ],
          "choropleth": [
           {
            "colorbar": {
             "outlinewidth": 0,
             "ticks": ""
            },
            "type": "choropleth"
           }
          ],
          "contour": [
           {
            "colorbar": {
             "outlinewidth": 0,
             "ticks": ""
            },
            "colorscale": [
             [
              0,
              "#0d0887"
             ],
             [
              0.1111111111111111,
              "#46039f"
             ],
             [
              0.2222222222222222,
              "#7201a8"
             ],
             [
              0.3333333333333333,
              "#9c179e"
             ],
             [
              0.4444444444444444,
              "#bd3786"
             ],
             [
              0.5555555555555556,
              "#d8576b"
             ],
             [
              0.6666666666666666,
              "#ed7953"
             ],
             [
              0.7777777777777778,
              "#fb9f3a"
             ],
             [
              0.8888888888888888,
              "#fdca26"
             ],
             [
              1,
              "#f0f921"
             ]
            ],
            "type": "contour"
           }
          ],
          "contourcarpet": [
           {
            "colorbar": {
             "outlinewidth": 0,
             "ticks": ""
            },
            "type": "contourcarpet"
           }
          ],
          "heatmap": [
           {
            "colorbar": {
             "outlinewidth": 0,
             "ticks": ""
            },
            "colorscale": [
             [
              0,
              "#0d0887"
             ],
             [
              0.1111111111111111,
              "#46039f"
             ],
             [
              0.2222222222222222,
              "#7201a8"
             ],
             [
              0.3333333333333333,
              "#9c179e"
             ],
             [
              0.4444444444444444,
              "#bd3786"
             ],
             [
              0.5555555555555556,
              "#d8576b"
             ],
             [
              0.6666666666666666,
              "#ed7953"
             ],
             [
              0.7777777777777778,
              "#fb9f3a"
             ],
             [
              0.8888888888888888,
              "#fdca26"
             ],
             [
              1,
              "#f0f921"
             ]
            ],
            "type": "heatmap"
           }
          ],
          "heatmapgl": [
           {
            "colorbar": {
             "outlinewidth": 0,
             "ticks": ""
            },
            "colorscale": [
             [
              0,
              "#0d0887"
             ],
             [
              0.1111111111111111,
              "#46039f"
             ],
             [
              0.2222222222222222,
              "#7201a8"
             ],
             [
              0.3333333333333333,
              "#9c179e"
             ],
             [
              0.4444444444444444,
              "#bd3786"
             ],
             [
              0.5555555555555556,
              "#d8576b"
             ],
             [
              0.6666666666666666,
              "#ed7953"
             ],
             [
              0.7777777777777778,
              "#fb9f3a"
             ],
             [
              0.8888888888888888,
              "#fdca26"
             ],
             [
              1,
              "#f0f921"
             ]
            ],
            "type": "heatmapgl"
           }
          ],
          "histogram": [
           {
            "marker": {
             "colorbar": {
              "outlinewidth": 0,
              "ticks": ""
             }
            },
            "type": "histogram"
           }
          ],
          "histogram2d": [
           {
            "colorbar": {
             "outlinewidth": 0,
             "ticks": ""
            },
            "colorscale": [
             [
              0,
              "#0d0887"
             ],
             [
              0.1111111111111111,
              "#46039f"
             ],
             [
              0.2222222222222222,
              "#7201a8"
             ],
             [
              0.3333333333333333,
              "#9c179e"
             ],
             [
              0.4444444444444444,
              "#bd3786"
             ],
             [
              0.5555555555555556,
              "#d8576b"
             ],
             [
              0.6666666666666666,
              "#ed7953"
             ],
             [
              0.7777777777777778,
              "#fb9f3a"
             ],
             [
              0.8888888888888888,
              "#fdca26"
             ],
             [
              1,
              "#f0f921"
             ]
            ],
            "type": "histogram2d"
           }
          ],
          "histogram2dcontour": [
           {
            "colorbar": {
             "outlinewidth": 0,
             "ticks": ""
            },
            "colorscale": [
             [
              0,
              "#0d0887"
             ],
             [
              0.1111111111111111,
              "#46039f"
             ],
             [
              0.2222222222222222,
              "#7201a8"
             ],
             [
              0.3333333333333333,
              "#9c179e"
             ],
             [
              0.4444444444444444,
              "#bd3786"
             ],
             [
              0.5555555555555556,
              "#d8576b"
             ],
             [
              0.6666666666666666,
              "#ed7953"
             ],
             [
              0.7777777777777778,
              "#fb9f3a"
             ],
             [
              0.8888888888888888,
              "#fdca26"
             ],
             [
              1,
              "#f0f921"
             ]
            ],
            "type": "histogram2dcontour"
           }
          ],
          "mesh3d": [
           {
            "colorbar": {
             "outlinewidth": 0,
             "ticks": ""
            },
            "type": "mesh3d"
           }
          ],
          "parcoords": [
           {
            "line": {
             "colorbar": {
              "outlinewidth": 0,
              "ticks": ""
             }
            },
            "type": "parcoords"
           }
          ],
          "pie": [
           {
            "automargin": true,
            "type": "pie"
           }
          ],
          "scatter": [
           {
            "marker": {
             "colorbar": {
              "outlinewidth": 0,
              "ticks": ""
             }
            },
            "type": "scatter"
           }
          ],
          "scatter3d": [
           {
            "line": {
             "colorbar": {
              "outlinewidth": 0,
              "ticks": ""
             }
            },
            "marker": {
             "colorbar": {
              "outlinewidth": 0,
              "ticks": ""
             }
            },
            "type": "scatter3d"
           }
          ],
          "scattercarpet": [
           {
            "marker": {
             "colorbar": {
              "outlinewidth": 0,
              "ticks": ""
             }
            },
            "type": "scattercarpet"
           }
          ],
          "scattergeo": [
           {
            "marker": {
             "colorbar": {
              "outlinewidth": 0,
              "ticks": ""
             }
            },
            "type": "scattergeo"
           }
          ],
          "scattergl": [
           {
            "marker": {
             "colorbar": {
              "outlinewidth": 0,
              "ticks": ""
             }
            },
            "type": "scattergl"
           }
          ],
          "scattermapbox": [
           {
            "marker": {
             "colorbar": {
              "outlinewidth": 0,
              "ticks": ""
             }
            },
            "type": "scattermapbox"
           }
          ],
          "scatterpolar": [
           {
            "marker": {
             "colorbar": {
              "outlinewidth": 0,
              "ticks": ""
             }
            },
            "type": "scatterpolar"
           }
          ],
          "scatterpolargl": [
           {
            "marker": {
             "colorbar": {
              "outlinewidth": 0,
              "ticks": ""
             }
            },
            "type": "scatterpolargl"
           }
          ],
          "scatterternary": [
           {
            "marker": {
             "colorbar": {
              "outlinewidth": 0,
              "ticks": ""
             }
            },
            "type": "scatterternary"
           }
          ],
          "surface": [
           {
            "colorbar": {
             "outlinewidth": 0,
             "ticks": ""
            },
            "colorscale": [
             [
              0,
              "#0d0887"
             ],
             [
              0.1111111111111111,
              "#46039f"
             ],
             [
              0.2222222222222222,
              "#7201a8"
             ],
             [
              0.3333333333333333,
              "#9c179e"
             ],
             [
              0.4444444444444444,
              "#bd3786"
             ],
             [
              0.5555555555555556,
              "#d8576b"
             ],
             [
              0.6666666666666666,
              "#ed7953"
             ],
             [
              0.7777777777777778,
              "#fb9f3a"
             ],
             [
              0.8888888888888888,
              "#fdca26"
             ],
             [
              1,
              "#f0f921"
             ]
            ],
            "type": "surface"
           }
          ],
          "table": [
           {
            "cells": {
             "fill": {
              "color": "#EBF0F8"
             },
             "line": {
              "color": "white"
             }
            },
            "header": {
             "fill": {
              "color": "#C8D4E3"
             },
             "line": {
              "color": "white"
             }
            },
            "type": "table"
           }
          ]
         },
         "layout": {
          "annotationdefaults": {
           "arrowcolor": "#2a3f5f",
           "arrowhead": 0,
           "arrowwidth": 1
          },
          "autotypenumbers": "strict",
          "coloraxis": {
           "colorbar": {
            "outlinewidth": 0,
            "ticks": ""
           }
          },
          "colorscale": {
           "diverging": [
            [
             0,
             "#8e0152"
            ],
            [
             0.1,
             "#c51b7d"
            ],
            [
             0.2,
             "#de77ae"
            ],
            [
             0.3,
             "#f1b6da"
            ],
            [
             0.4,
             "#fde0ef"
            ],
            [
             0.5,
             "#f7f7f7"
            ],
            [
             0.6,
             "#e6f5d0"
            ],
            [
             0.7,
             "#b8e186"
            ],
            [
             0.8,
             "#7fbc41"
            ],
            [
             0.9,
             "#4d9221"
            ],
            [
             1,
             "#276419"
            ]
           ],
           "sequential": [
            [
             0,
             "#0d0887"
            ],
            [
             0.1111111111111111,
             "#46039f"
            ],
            [
             0.2222222222222222,
             "#7201a8"
            ],
            [
             0.3333333333333333,
             "#9c179e"
            ],
            [
             0.4444444444444444,
             "#bd3786"
            ],
            [
             0.5555555555555556,
             "#d8576b"
            ],
            [
             0.6666666666666666,
             "#ed7953"
            ],
            [
             0.7777777777777778,
             "#fb9f3a"
            ],
            [
             0.8888888888888888,
             "#fdca26"
            ],
            [
             1,
             "#f0f921"
            ]
           ],
           "sequentialminus": [
            [
             0,
             "#0d0887"
            ],
            [
             0.1111111111111111,
             "#46039f"
            ],
            [
             0.2222222222222222,
             "#7201a8"
            ],
            [
             0.3333333333333333,
             "#9c179e"
            ],
            [
             0.4444444444444444,
             "#bd3786"
            ],
            [
             0.5555555555555556,
             "#d8576b"
            ],
            [
             0.6666666666666666,
             "#ed7953"
            ],
            [
             0.7777777777777778,
             "#fb9f3a"
            ],
            [
             0.8888888888888888,
             "#fdca26"
            ],
            [
             1,
             "#f0f921"
            ]
           ]
          },
          "colorway": [
           "#636efa",
           "#EF553B",
           "#00cc96",
           "#ab63fa",
           "#FFA15A",
           "#19d3f3",
           "#FF6692",
           "#B6E880",
           "#FF97FF",
           "#FECB52"
          ],
          "font": {
           "color": "#2a3f5f"
          },
          "geo": {
           "bgcolor": "white",
           "lakecolor": "white",
           "landcolor": "#E5ECF6",
           "showlakes": true,
           "showland": true,
           "subunitcolor": "white"
          },
          "hoverlabel": {
           "align": "left"
          },
          "hovermode": "closest",
          "mapbox": {
           "style": "light"
          },
          "paper_bgcolor": "white",
          "plot_bgcolor": "#E5ECF6",
          "polar": {
           "angularaxis": {
            "gridcolor": "white",
            "linecolor": "white",
            "ticks": ""
           },
           "bgcolor": "#E5ECF6",
           "radialaxis": {
            "gridcolor": "white",
            "linecolor": "white",
            "ticks": ""
           }
          },
          "scene": {
           "xaxis": {
            "backgroundcolor": "#E5ECF6",
            "gridcolor": "white",
            "gridwidth": 2,
            "linecolor": "white",
            "showbackground": true,
            "ticks": "",
            "zerolinecolor": "white"
           },
           "yaxis": {
            "backgroundcolor": "#E5ECF6",
            "gridcolor": "white",
            "gridwidth": 2,
            "linecolor": "white",
            "showbackground": true,
            "ticks": "",
            "zerolinecolor": "white"
           },
           "zaxis": {
            "backgroundcolor": "#E5ECF6",
            "gridcolor": "white",
            "gridwidth": 2,
            "linecolor": "white",
            "showbackground": true,
            "ticks": "",
            "zerolinecolor": "white"
           }
          },
          "shapedefaults": {
           "line": {
            "color": "#2a3f5f"
           }
          },
          "ternary": {
           "aaxis": {
            "gridcolor": "white",
            "linecolor": "white",
            "ticks": ""
           },
           "baxis": {
            "gridcolor": "white",
            "linecolor": "white",
            "ticks": ""
           },
           "bgcolor": "#E5ECF6",
           "caxis": {
            "gridcolor": "white",
            "linecolor": "white",
            "ticks": ""
           }
          },
          "title": {
           "x": 0.05
          },
          "xaxis": {
           "automargin": true,
           "gridcolor": "white",
           "linecolor": "white",
           "ticks": "",
           "title": {
            "standoff": 15
           },
           "zerolinecolor": "white",
           "zerolinewidth": 2
          },
          "yaxis": {
           "automargin": true,
           "gridcolor": "white",
           "linecolor": "white",
           "ticks": "",
           "title": {
            "standoff": 15
           },
           "zerolinecolor": "white",
           "zerolinewidth": 2
          }
         }
        },
        "title": {
         "text": "Incidentes_criminalidad_mes_distrito"
        },
        "uniformtext": {
         "minsize": 8,
         "mode": "hide"
        },
        "xaxis": {
         "anchor": "y",
         "domain": [
          0,
          1
         ],
         "title": {
          "text": "DISTRITOS"
         }
        },
        "yaxis": {
         "anchor": "x",
         "domain": [
          0,
          1
         ],
         "title": {
          "text": "TOTAL_INSEGURIDAD"
         }
        }
       }
      },
      "text/html": [
       "<div>                            <div id=\"41433707-5b71-41a4-8f7d-a6bcceef253a\" class=\"plotly-graph-div\" style=\"height:525px; width:100%;\"></div>            <script type=\"text/javascript\">                require([\"plotly\"], function(Plotly) {                    window.PLOTLYENV=window.PLOTLYENV || {};                                    if (document.getElementById(\"41433707-5b71-41a4-8f7d-a6bcceef253a\")) {                    Plotly.newPlot(                        \"41433707-5b71-41a4-8f7d-a6bcceef253a\",                        [{\"alignmentgroup\": \"True\", \"customdata\": [[37, 71, 11, 83, 16], [6, 3, 2, 7, 5], [4, 5, 1, 24, 0], [10, 43, 3, 17, 2], [7, 8, 1, 26, 4], [15, 24, 2, 14, 5], [10, 7, 1, 8, 4], [10, 8, 2, 26, 0], [34, 16, 5, 22, 0], [17, 24, 6, 37, 10], [37, 15, 2, 14, 5], [19, 23, 1, 5, 0], [24, 35, 12, 46, 1], [2, 7, 2, 4, 0], [14, 15, 3, 34, 5], [6, 3, 8, 56, 16], [20, 29, 0, 33, 7], [19, 16, 5, 23, 30], [17, 11, 0, 1, 0], [21, 25, 4, 19, 2], [7, 8, 0, 9, 0], [0, 0, 0, 0, 0]], \"hovertemplate\": \"MES=Marzo<br>DISTRITOS=%{x}<br>TOTAL_INSEGURIDAD=%{text}<br>RELACIONADAS CON LAS PERSONAS=%{customdata[0]}<br>RELACIONADAS CON EL PATRIMONIO=%{customdata[1]}<br>POR TENENCIA DE ARMAS=%{customdata[2]}<br>POR TENENCIA DE DROGAS=%{customdata[3]}<br>POR CONSUMO DE DROGAS=%{customdata[4]}<extra></extra>\", \"legendgroup\": \"Marzo\", \"marker\": {\"color\": \"#636efa\"}, \"name\": \"Marzo\", \"offsetgroup\": \"Marzo\", \"orientation\": \"v\", \"showlegend\": true, \"text\": [218.0, 23.0, 34.0, 75.0, 46.0, 60.0, 30.0, 46.0, 77.0, 94.0, 73.0, 48.0, 118.0, 15.0, 71.0, 89.0, 89.0, 93.0, 29.0, 71.0, 24.0, 0.0], \"textposition\": \"outside\", \"texttemplate\": \"%{text:.2s}\", \"type\": \"bar\", \"x\": [\"CENTRO\", \"ARGANZUELA\", \"RETIRO\", \"SALAMANCA\", \"CHAMART\\u00cdN\", \"TETU\\u00c1N\", \"CHAMBER\\u00cd\", \"FUENCARRAL - EL PARDO\", \"MONCLOA - ARAVACA\", \"LATINA\", \"CARABANCHEL\", \"USERA\", \"PUENTE DE VALLECAS\", \"MORATALAZ\", \"CIUDAD LINEAL\", \"HORTALEZA\", \"VILLAVERDE\", \"VILLA DE VALLECAS\", \"VIC\\u00c1LVARO\", \"SAN BLAS - CANILLEJAS\", \"BARAJAS\", \"SIN DISTRITO ASIGNADO\"], \"xaxis\": \"x\", \"y\": [218, 23, 34, 75, 46, 60, 30, 46, 77, 94, 73, 48, 118, 15, 71, 89, 89, 93, 29, 71, 24, 0], \"yaxis\": \"y\"}, {\"alignmentgroup\": \"True\", \"customdata\": [[36, 64, 14, 81, 19], [6, 11, 0, 8, 2], [5, 4, 1, 20, 9], [5, 42, 1, 25, 1], [4, 10, 2, 14, 3], [27, 14, 3, 6, 0], [6, 9, 3, 33, 2], [5, 9, 2, 20, 1], [23, 18, 3, 21, 3], [15, 6, 3, 65, 14], [41, 40, 2, 27, 6], [18, 27, 0, 8, 3], [42, 15, 6, 28, 0], [6, 7, 0, 6, 0], [19, 20, 2, 29, 2], [10, 6, 2, 20, 8], [22, 13, 3, 22, 4], [14, 17, 2, 14, 23], [11, 10, 0, 2, 0], [22, 22, 2, 16, 1], [7, 12, 1, 13, 5], [0, 0, 0, 0, 0]], \"hovertemplate\": \"MES=Abril<br>DISTRITOS=%{x}<br>TOTAL_INSEGURIDAD=%{text}<br>RELACIONADAS CON LAS PERSONAS=%{customdata[0]}<br>RELACIONADAS CON EL PATRIMONIO=%{customdata[1]}<br>POR TENENCIA DE ARMAS=%{customdata[2]}<br>POR TENENCIA DE DROGAS=%{customdata[3]}<br>POR CONSUMO DE DROGAS=%{customdata[4]}<extra></extra>\", \"legendgroup\": \"Abril\", \"marker\": {\"color\": \"#EF553B\"}, \"name\": \"Abril\", \"offsetgroup\": \"Abril\", \"orientation\": \"v\", \"showlegend\": true, \"text\": [214.0, 27.0, 39.0, 74.0, 33.0, 50.0, 53.0, 37.0, 68.0, 103.0, 116.0, 56.0, 91.0, 19.0, 72.0, 46.0, 64.0, 70.0, 23.0, 63.0, 38.0, 0.0], \"textposition\": \"outside\", \"texttemplate\": \"%{text:.2s}\", \"type\": \"bar\", \"x\": [\"CENTRO\", \"ARGANZUELA\", \"RETIRO\", \"SALAMANCA\", \"CHAMART\\u00cdN\", \"TETU\\u00c1N\", \"CHAMBER\\u00cd\", \"FUENCARRAL - EL PARDO\", \"MONCLOA - ARAVACA\", \"LATINA\", \"CARABANCHEL\", \"USERA\", \"PUENTE DE VALLECAS\", \"MORATALAZ\", \"CIUDAD LINEAL\", \"HORTALEZA\", \"VILLAVERDE\", \"VILLA DE VALLECAS\", \"VIC\\u00c1LVARO\", \"SAN BLAS - CANILLEJAS\", \"BARAJAS\", \"SIN DISTRITO ASIGNADO\"], \"xaxis\": \"x\", \"y\": [214, 27, 39, 74, 33, 50, 53, 37, 68, 103, 116, 56, 91, 19, 72, 46, 64, 70, 23, 63, 38, 0], \"yaxis\": \"y\"}, {\"alignmentgroup\": \"True\", \"customdata\": [[52, 97, 15, 76, 12], [6, 14, 2, 6, 14], [2, 4, 2, 21, 2], [8, 43, 1, 20, 2], [5, 10, 3, 16, 4], [16, 16, 1, 6, 0], [11, 11, 1, 10, 2], [6, 9, 0, 28, 1], [29, 26, 1, 17, 3], [20, 14, 0, 25, 6], [34, 27, 5, 26, 5], [19, 21, 1, 14, 4], [47, 30, 1, 43, 1], [12, 7, 0, 0, 0], [32, 22, 3, 33, 15], [4, 12, 3, 38, 9], [26, 27, 1, 19, 4], [22, 20, 3, 16, 41], [12, 12, 0, 2, 0], [26, 17, 3, 24, 2], [10, 15, 0, 15, 15], [0, 0, 0, 0, 0]], \"hovertemplate\": \"MES=Mayo<br>DISTRITOS=%{x}<br>TOTAL_INSEGURIDAD=%{text}<br>RELACIONADAS CON LAS PERSONAS=%{customdata[0]}<br>RELACIONADAS CON EL PATRIMONIO=%{customdata[1]}<br>POR TENENCIA DE ARMAS=%{customdata[2]}<br>POR TENENCIA DE DROGAS=%{customdata[3]}<br>POR CONSUMO DE DROGAS=%{customdata[4]}<extra></extra>\", \"legendgroup\": \"Mayo\", \"marker\": {\"color\": \"#00cc96\"}, \"name\": \"Mayo\", \"offsetgroup\": \"Mayo\", \"orientation\": \"v\", \"showlegend\": true, \"text\": [252.0, 42.0, 31.0, 74.0, 38.0, 39.0, 35.0, 44.0, 76.0, 65.0, 97.0, 59.0, 122.0, 19.0, 105.0, 66.0, 77.0, 102.0, 26.0, 72.0, 55.0, 0.0], \"textposition\": \"outside\", \"texttemplate\": \"%{text:.2s}\", \"type\": \"bar\", \"x\": [\"CENTRO\", \"ARGANZUELA\", \"RETIRO\", \"SALAMANCA\", \"CHAMART\\u00cdN\", \"TETU\\u00c1N\", \"CHAMBER\\u00cd\", \"FUENCARRAL - EL PARDO\", \"MONCLOA - ARAVACA\", \"LATINA\", \"CARABANCHEL\", \"USERA\", \"PUENTE DE VALLECAS\", \"MORATALAZ\", \"CIUDAD LINEAL\", \"HORTALEZA\", \"VILLAVERDE\", \"VILLA DE VALLECAS\", \"VIC\\u00c1LVARO\", \"SAN BLAS - CANILLEJAS\", \"BARAJAS\", \"SIN DISTRITO ASIGNADO\"], \"xaxis\": \"x\", \"y\": [252, 42, 31, 74, 38, 39, 35, 44, 76, 65, 97, 59, 122, 19, 105, 66, 77, 102, 26, 72, 55, 0], \"yaxis\": \"y\"}, {\"alignmentgroup\": \"True\", \"customdata\": [[20, 41, 4, 68, 10], [4, 9, 9, 10, 1], [3, 5, 0, 7, 0], [6, 47, 5, 27, 2], [2, 6, 0, 12, 2], [12, 31, 7, 29, 4], [15, 9, 1, 18, 0], [9, 7, 2, 14, 2], [22, 18, 0, 16, 4], [15, 14, 1, 40, 7], [32, 26, 3, 15, 2], [17, 24, 0, 10, 5], [30, 18, 6, 25, 3], [6, 5, 0, 5, 1], [15, 20, 2, 25, 6], [3, 15, 8, 35, 8], [8, 16, 0, 18, 4], [12, 10, 4, 27, 1], [8, 5, 0, 0, 0], [13, 21, 1, 31, 2], [6, 17, 0, 8, 1], [0, 0, 0, 0, 0]], \"hovertemplate\": \"MES=Febrero<br>DISTRITOS=%{x}<br>TOTAL_INSEGURIDAD=%{text}<br>RELACIONADAS CON LAS PERSONAS=%{customdata[0]}<br>RELACIONADAS CON EL PATRIMONIO=%{customdata[1]}<br>POR TENENCIA DE ARMAS=%{customdata[2]}<br>POR TENENCIA DE DROGAS=%{customdata[3]}<br>POR CONSUMO DE DROGAS=%{customdata[4]}<extra></extra>\", \"legendgroup\": \"Febrero\", \"marker\": {\"color\": \"#ab63fa\"}, \"name\": \"Febrero\", \"offsetgroup\": \"Febrero\", \"orientation\": \"v\", \"showlegend\": true, \"text\": [143.0, 33.0, 15.0, 87.0, 22.0, 83.0, 43.0, 34.0, 60.0, 77.0, 78.0, 56.0, 82.0, 17.0, 68.0, 69.0, 46.0, 54.0, 13.0, 68.0, 32.0, 0.0], \"textposition\": \"outside\", \"texttemplate\": \"%{text:.2s}\", \"type\": \"bar\", \"x\": [\"CENTRO\", \"ARGANZUELA\", \"RETIRO\", \"SALAMANCA\", \"CHAMART\\u00cdN\", \"TETU\\u00c1N\", \"CHAMBER\\u00cd\", \"FUENCARRAL - EL PARDO\", \"MONCLOA - ARAVACA\", \"LATINA\", \"CARABANCHEL\", \"USERA\", \"PUENTE DE VALLECAS\", \"MORATALAZ\", \"CIUDAD LINEAL\", \"HORTALEZA\", \"VILLAVERDE\", \"VILLA DE VALLECAS\", \"VIC\\u00c1LVARO\", \"SAN BLAS - CANILLEJAS\", \"BARAJAS\", \"SIN DISTRITO ASIGNADO\"], \"xaxis\": \"x\", \"y\": [143, 33, 15, 87, 22, 83, 43, 34, 60, 77, 78, 56, 82, 17, 68, 69, 46, 54, 13, 68, 32, 0], \"yaxis\": \"y\"}, {\"alignmentgroup\": \"True\", \"customdata\": [[19, 43, 17, 32, 8], [4, 10, 1, 3, 1], [1, 4, 0, 5, 1], [3, 49, 0, 11, 0], [3, 6, 1, 7, 2], [14, 13, 1, 3, 6], [4, 13, 3, 7, 2], [4, 10, 0, 10, 1], [23, 17, 0, 4, 3], [8, 12, 9, 11, 2], [27, 31, 4, 9, 6], [30, 20, 1, 8, 2], [25, 29, 3, 8, 0], [5, 2, 0, 1, 1], [15, 14, 1, 14, 5], [4, 14, 7, 26, 9], [14, 11, 1, 13, 2], [16, 10, 3, 20, 0], [7, 3, 0, 0, 0], [11, 9, 3, 11, 1], [5, 5, 0, 5, 2], [0, 0, 0, 0, 0]], \"hovertemplate\": \"MES=Enero<br>DISTRITOS=%{x}<br>TOTAL_INSEGURIDAD=%{text}<br>RELACIONADAS CON LAS PERSONAS=%{customdata[0]}<br>RELACIONADAS CON EL PATRIMONIO=%{customdata[1]}<br>POR TENENCIA DE ARMAS=%{customdata[2]}<br>POR TENENCIA DE DROGAS=%{customdata[3]}<br>POR CONSUMO DE DROGAS=%{customdata[4]}<extra></extra>\", \"legendgroup\": \"Enero\", \"marker\": {\"color\": \"#FFA15A\"}, \"name\": \"Enero\", \"offsetgroup\": \"Enero\", \"orientation\": \"v\", \"showlegend\": true, \"text\": [119.0, 19.0, 11.0, 63.0, 19.0, 37.0, 29.0, 25.0, 47.0, 42.0, 77.0, 61.0, 65.0, 9.0, 49.0, 60.0, 41.0, 49.0, 10.0, 35.0, 17.0, 0.0], \"textposition\": \"outside\", \"texttemplate\": \"%{text:.2s}\", \"type\": \"bar\", \"x\": [\"CENTRO\", \"ARGANZUELA\", \"RETIRO\", \"SALAMANCA\", \"CHAMART\\u00cdN\", \"TETU\\u00c1N\", \"CHAMBER\\u00cd\", \"FUENCARRAL - EL PARDO\", \"MONCLOA - ARAVACA\", \"LATINA\", \"CARABANCHEL\", \"USERA\", \"PUENTE DE VALLECAS\", \"MORATALAZ\", \"CIUDAD LINEAL\", \"HORTALEZA\", \"VILLAVERDE\", \"VILLA DE VALLECAS\", \"VIC\\u00c1LVARO\", \"SAN BLAS - CANILLEJAS\", \"BARAJAS\", \"SIN DISTRITO ASIGNADO\"], \"xaxis\": \"x\", \"y\": [119, 19, 11, 63, 19, 37, 29, 25, 47, 42, 77, 61, 65, 9, 49, 60, 41, 49, 10, 35, 17, 0], \"yaxis\": \"y\"}],                        {\"barmode\": \"relative\", \"legend\": {\"title\": {\"text\": \"MES\"}, \"tracegroupgap\": 0}, \"template\": {\"data\": {\"bar\": [{\"error_x\": {\"color\": \"#2a3f5f\"}, \"error_y\": {\"color\": \"#2a3f5f\"}, \"marker\": {\"line\": {\"color\": \"#E5ECF6\", \"width\": 0.5}}, \"type\": \"bar\"}], \"barpolar\": [{\"marker\": {\"line\": {\"color\": \"#E5ECF6\", \"width\": 0.5}}, \"type\": \"barpolar\"}], \"carpet\": [{\"aaxis\": {\"endlinecolor\": \"#2a3f5f\", \"gridcolor\": \"white\", \"linecolor\": \"white\", \"minorgridcolor\": \"white\", \"startlinecolor\": \"#2a3f5f\"}, \"baxis\": {\"endlinecolor\": \"#2a3f5f\", \"gridcolor\": \"white\", \"linecolor\": \"white\", \"minorgridcolor\": \"white\", \"startlinecolor\": \"#2a3f5f\"}, \"type\": \"carpet\"}], \"choropleth\": [{\"colorbar\": {\"outlinewidth\": 0, \"ticks\": \"\"}, \"type\": \"choropleth\"}], \"contour\": [{\"colorbar\": {\"outlinewidth\": 0, \"ticks\": \"\"}, \"colorscale\": [[0.0, \"#0d0887\"], [0.1111111111111111, \"#46039f\"], [0.2222222222222222, \"#7201a8\"], [0.3333333333333333, \"#9c179e\"], [0.4444444444444444, \"#bd3786\"], [0.5555555555555556, \"#d8576b\"], [0.6666666666666666, \"#ed7953\"], [0.7777777777777778, \"#fb9f3a\"], [0.8888888888888888, \"#fdca26\"], [1.0, \"#f0f921\"]], \"type\": \"contour\"}], \"contourcarpet\": [{\"colorbar\": {\"outlinewidth\": 0, \"ticks\": \"\"}, \"type\": \"contourcarpet\"}], \"heatmap\": [{\"colorbar\": {\"outlinewidth\": 0, \"ticks\": \"\"}, \"colorscale\": [[0.0, \"#0d0887\"], [0.1111111111111111, \"#46039f\"], [0.2222222222222222, \"#7201a8\"], [0.3333333333333333, \"#9c179e\"], [0.4444444444444444, \"#bd3786\"], [0.5555555555555556, \"#d8576b\"], [0.6666666666666666, \"#ed7953\"], [0.7777777777777778, \"#fb9f3a\"], [0.8888888888888888, \"#fdca26\"], [1.0, \"#f0f921\"]], \"type\": \"heatmap\"}], \"heatmapgl\": [{\"colorbar\": {\"outlinewidth\": 0, \"ticks\": \"\"}, \"colorscale\": [[0.0, \"#0d0887\"], [0.1111111111111111, \"#46039f\"], [0.2222222222222222, \"#7201a8\"], [0.3333333333333333, \"#9c179e\"], [0.4444444444444444, \"#bd3786\"], [0.5555555555555556, \"#d8576b\"], [0.6666666666666666, \"#ed7953\"], [0.7777777777777778, \"#fb9f3a\"], [0.8888888888888888, \"#fdca26\"], [1.0, \"#f0f921\"]], \"type\": \"heatmapgl\"}], \"histogram\": [{\"marker\": {\"colorbar\": {\"outlinewidth\": 0, \"ticks\": \"\"}}, \"type\": \"histogram\"}], \"histogram2d\": [{\"colorbar\": {\"outlinewidth\": 0, \"ticks\": \"\"}, \"colorscale\": [[0.0, \"#0d0887\"], [0.1111111111111111, \"#46039f\"], [0.2222222222222222, \"#7201a8\"], [0.3333333333333333, \"#9c179e\"], [0.4444444444444444, \"#bd3786\"], [0.5555555555555556, \"#d8576b\"], [0.6666666666666666, \"#ed7953\"], [0.7777777777777778, \"#fb9f3a\"], [0.8888888888888888, \"#fdca26\"], [1.0, \"#f0f921\"]], \"type\": \"histogram2d\"}], \"histogram2dcontour\": [{\"colorbar\": {\"outlinewidth\": 0, \"ticks\": \"\"}, \"colorscale\": [[0.0, \"#0d0887\"], [0.1111111111111111, \"#46039f\"], [0.2222222222222222, \"#7201a8\"], [0.3333333333333333, \"#9c179e\"], [0.4444444444444444, \"#bd3786\"], [0.5555555555555556, \"#d8576b\"], [0.6666666666666666, \"#ed7953\"], [0.7777777777777778, \"#fb9f3a\"], [0.8888888888888888, \"#fdca26\"], [1.0, \"#f0f921\"]], \"type\": \"histogram2dcontour\"}], \"mesh3d\": [{\"colorbar\": {\"outlinewidth\": 0, \"ticks\": \"\"}, \"type\": \"mesh3d\"}], \"parcoords\": [{\"line\": {\"colorbar\": {\"outlinewidth\": 0, \"ticks\": \"\"}}, \"type\": \"parcoords\"}], \"pie\": [{\"automargin\": true, \"type\": \"pie\"}], \"scatter\": [{\"marker\": {\"colorbar\": {\"outlinewidth\": 0, \"ticks\": \"\"}}, \"type\": \"scatter\"}], \"scatter3d\": [{\"line\": {\"colorbar\": {\"outlinewidth\": 0, \"ticks\": \"\"}}, \"marker\": {\"colorbar\": {\"outlinewidth\": 0, \"ticks\": \"\"}}, \"type\": \"scatter3d\"}], \"scattercarpet\": [{\"marker\": {\"colorbar\": {\"outlinewidth\": 0, \"ticks\": \"\"}}, \"type\": \"scattercarpet\"}], \"scattergeo\": [{\"marker\": {\"colorbar\": {\"outlinewidth\": 0, \"ticks\": \"\"}}, \"type\": \"scattergeo\"}], \"scattergl\": [{\"marker\": {\"colorbar\": {\"outlinewidth\": 0, \"ticks\": \"\"}}, \"type\": \"scattergl\"}], \"scattermapbox\": [{\"marker\": {\"colorbar\": {\"outlinewidth\": 0, \"ticks\": \"\"}}, \"type\": \"scattermapbox\"}], \"scatterpolar\": [{\"marker\": {\"colorbar\": {\"outlinewidth\": 0, \"ticks\": \"\"}}, \"type\": \"scatterpolar\"}], \"scatterpolargl\": [{\"marker\": {\"colorbar\": {\"outlinewidth\": 0, \"ticks\": \"\"}}, \"type\": \"scatterpolargl\"}], \"scatterternary\": [{\"marker\": {\"colorbar\": {\"outlinewidth\": 0, \"ticks\": \"\"}}, \"type\": \"scatterternary\"}], \"surface\": [{\"colorbar\": {\"outlinewidth\": 0, \"ticks\": \"\"}, \"colorscale\": [[0.0, \"#0d0887\"], [0.1111111111111111, \"#46039f\"], [0.2222222222222222, \"#7201a8\"], [0.3333333333333333, \"#9c179e\"], [0.4444444444444444, \"#bd3786\"], [0.5555555555555556, \"#d8576b\"], [0.6666666666666666, \"#ed7953\"], [0.7777777777777778, \"#fb9f3a\"], [0.8888888888888888, \"#fdca26\"], [1.0, \"#f0f921\"]], \"type\": \"surface\"}], \"table\": [{\"cells\": {\"fill\": {\"color\": \"#EBF0F8\"}, \"line\": {\"color\": \"white\"}}, \"header\": {\"fill\": {\"color\": \"#C8D4E3\"}, \"line\": {\"color\": \"white\"}}, \"type\": \"table\"}]}, \"layout\": {\"annotationdefaults\": {\"arrowcolor\": \"#2a3f5f\", \"arrowhead\": 0, \"arrowwidth\": 1}, \"autotypenumbers\": \"strict\", \"coloraxis\": {\"colorbar\": {\"outlinewidth\": 0, \"ticks\": \"\"}}, \"colorscale\": {\"diverging\": [[0, \"#8e0152\"], [0.1, \"#c51b7d\"], [0.2, \"#de77ae\"], [0.3, \"#f1b6da\"], [0.4, \"#fde0ef\"], [0.5, \"#f7f7f7\"], [0.6, \"#e6f5d0\"], [0.7, \"#b8e186\"], [0.8, \"#7fbc41\"], [0.9, \"#4d9221\"], [1, \"#276419\"]], \"sequential\": [[0.0, \"#0d0887\"], [0.1111111111111111, \"#46039f\"], [0.2222222222222222, \"#7201a8\"], [0.3333333333333333, \"#9c179e\"], [0.4444444444444444, \"#bd3786\"], [0.5555555555555556, \"#d8576b\"], [0.6666666666666666, \"#ed7953\"], [0.7777777777777778, \"#fb9f3a\"], [0.8888888888888888, \"#fdca26\"], [1.0, \"#f0f921\"]], \"sequentialminus\": [[0.0, \"#0d0887\"], [0.1111111111111111, \"#46039f\"], [0.2222222222222222, \"#7201a8\"], [0.3333333333333333, \"#9c179e\"], [0.4444444444444444, \"#bd3786\"], [0.5555555555555556, \"#d8576b\"], [0.6666666666666666, \"#ed7953\"], [0.7777777777777778, \"#fb9f3a\"], [0.8888888888888888, \"#fdca26\"], [1.0, \"#f0f921\"]]}, \"colorway\": [\"#636efa\", \"#EF553B\", \"#00cc96\", \"#ab63fa\", \"#FFA15A\", \"#19d3f3\", \"#FF6692\", \"#B6E880\", \"#FF97FF\", \"#FECB52\"], \"font\": {\"color\": \"#2a3f5f\"}, \"geo\": {\"bgcolor\": \"white\", \"lakecolor\": \"white\", \"landcolor\": \"#E5ECF6\", \"showlakes\": true, \"showland\": true, \"subunitcolor\": \"white\"}, \"hoverlabel\": {\"align\": \"left\"}, \"hovermode\": \"closest\", \"mapbox\": {\"style\": \"light\"}, \"paper_bgcolor\": \"white\", \"plot_bgcolor\": \"#E5ECF6\", \"polar\": {\"angularaxis\": {\"gridcolor\": \"white\", \"linecolor\": \"white\", \"ticks\": \"\"}, \"bgcolor\": \"#E5ECF6\", \"radialaxis\": {\"gridcolor\": \"white\", \"linecolor\": \"white\", \"ticks\": \"\"}}, \"scene\": {\"xaxis\": {\"backgroundcolor\": \"#E5ECF6\", \"gridcolor\": \"white\", \"gridwidth\": 2, \"linecolor\": \"white\", \"showbackground\": true, \"ticks\": \"\", \"zerolinecolor\": \"white\"}, \"yaxis\": {\"backgroundcolor\": \"#E5ECF6\", \"gridcolor\": \"white\", \"gridwidth\": 2, \"linecolor\": \"white\", \"showbackground\": true, \"ticks\": \"\", \"zerolinecolor\": \"white\"}, \"zaxis\": {\"backgroundcolor\": \"#E5ECF6\", \"gridcolor\": \"white\", \"gridwidth\": 2, \"linecolor\": \"white\", \"showbackground\": true, \"ticks\": \"\", \"zerolinecolor\": \"white\"}}, \"shapedefaults\": {\"line\": {\"color\": \"#2a3f5f\"}}, \"ternary\": {\"aaxis\": {\"gridcolor\": \"white\", \"linecolor\": \"white\", \"ticks\": \"\"}, \"baxis\": {\"gridcolor\": \"white\", \"linecolor\": \"white\", \"ticks\": \"\"}, \"bgcolor\": \"#E5ECF6\", \"caxis\": {\"gridcolor\": \"white\", \"linecolor\": \"white\", \"ticks\": \"\"}}, \"title\": {\"x\": 0.05}, \"xaxis\": {\"automargin\": true, \"gridcolor\": \"white\", \"linecolor\": \"white\", \"ticks\": \"\", \"title\": {\"standoff\": 15}, \"zerolinecolor\": \"white\", \"zerolinewidth\": 2}, \"yaxis\": {\"automargin\": true, \"gridcolor\": \"white\", \"linecolor\": \"white\", \"ticks\": \"\", \"title\": {\"standoff\": 15}, \"zerolinecolor\": \"white\", \"zerolinewidth\": 2}}}, \"title\": {\"text\": \"Incidentes_criminalidad_mes_distrito\"}, \"uniformtext\": {\"minsize\": 8, \"mode\": \"hide\"}, \"xaxis\": {\"anchor\": \"y\", \"domain\": [0.0, 1.0], \"title\": {\"text\": \"DISTRITOS\"}}, \"yaxis\": {\"anchor\": \"x\", \"domain\": [0.0, 1.0], \"title\": {\"text\": \"TOTAL_INSEGURIDAD\"}}},                        {\"responsive\": true}                    ).then(function(){\n",
       "                            \n",
       "var gd = document.getElementById('41433707-5b71-41a4-8f7d-a6bcceef253a');\n",
       "var x = new MutationObserver(function (mutations, observer) {{\n",
       "        var display = window.getComputedStyle(gd).display;\n",
       "        if (!display || display === 'none') {{\n",
       "            console.log([gd, 'removed!']);\n",
       "            Plotly.purge(gd);\n",
       "            observer.disconnect();\n",
       "        }}\n",
       "}});\n",
       "\n",
       "// Listen for the removal of the full notebook cells\n",
       "var notebookContainer = gd.closest('#notebook-container');\n",
       "if (notebookContainer) {{\n",
       "    x.observe(notebookContainer, {childList: true});\n",
       "}}\n",
       "\n",
       "// Listen for the clearing of the current output cell\n",
       "var outputEl = gd.closest('.output');\n",
       "if (outputEl) {{\n",
       "    x.observe(outputEl, {childList: true});\n",
       "}}\n",
       "\n",
       "                        })                };                });            </script>        </div>"
      ]
     },
     "metadata": {},
     "output_type": "display_data"
    }
   ],
   "source": [
    "fig = px.bar(df, x='DISTRITOS', y='TOTAL_INSEGURIDAD',\n",
    "             hover_data=['RELACIONADAS CON LAS PERSONAS',\n",
    "       'RELACIONADAS CON EL PATRIMONIO', 'POR TENENCIA DE ARMAS',\n",
    "       'POR TENENCIA DE DROGAS', 'POR CONSUMO DE DROGAS'], color='MES',\n",
    "             title=\"Incidentes_criminalidad_mes_distrito\", text='TOTAL_INSEGURIDAD', )\n",
    "fig.update_traces(texttemplate='%{text:.2s}', textposition='outside')\n",
    "fig.update_layout(uniformtext_minsize=8, uniformtext_mode='hide')\n",
    "\n",
    "fig.show()"
   ]
  },
  {
   "cell_type": "code",
   "execution_count": 87,
   "metadata": {},
   "outputs": [
    {
     "name": "stdout",
     "output_type": "stream",
     "text": [
      "                DISTRITOS  TOTAL_INSEGURIDAD\n",
      "0              ARGANZUELA               28.8\n",
      "1                 BARAJAS               33.2\n",
      "2             CARABANCHEL               88.2\n",
      "3                  CENTRO              189.2\n",
      "4               CHAMARTÍN               31.6\n",
      "5                CHAMBERÍ               38.0\n",
      "6           CIUDAD LINEAL               73.0\n",
      "7   FUENCARRAL - EL PARDO               37.2\n",
      "8               HORTALEZA               66.0\n",
      "9                  LATINA               76.2\n",
      "10      MONCLOA - ARAVACA               65.6\n",
      "11              MORATALAZ               15.8\n",
      "12     PUENTE DE VALLECAS               95.6\n",
      "13                 RETIRO               26.0\n",
      "14              SALAMANCA               74.6\n",
      "15  SAN BLAS - CANILLEJAS               61.8\n",
      "16  SIN DISTRITO ASIGNADO                0.0\n",
      "17                 TETUÁN               53.8\n",
      "18                  USERA               56.0\n",
      "19              VICÁLVARO               20.2\n",
      "20      VILLA DE VALLECAS               73.6\n",
      "21             VILLAVERDE               63.4\n"
     ]
    }
   ],
   "source": [
    "promedio_criminalidad_distrito=df.groupby(\"DISTRITOS\")[\"TOTAL_INSEGURIDAD\"].mean().reset_index()\n",
    "print(promedio_criminalidad_distrito)"
   ]
  },
  {
   "cell_type": "code",
   "execution_count": 88,
   "metadata": {},
   "outputs": [],
   "source": [
    "#eliminamos la fila 16 carece de valores\n",
    "promedio_criminalidad_distrito.drop([16],axis=0, inplace=True)"
   ]
  },
  {
   "cell_type": "code",
   "execution_count": 89,
   "metadata": {},
   "outputs": [],
   "source": [
    "promedio_criminalidad_distrito['DISTRITOS'] = promedio_criminalidad_distrito['DISTRITOS'].replace('SALAMANCA','Barrio de Salamanca')"
   ]
  },
  {
   "cell_type": "code",
   "execution_count": 90,
   "metadata": {},
   "outputs": [
    {
     "name": "stdout",
     "output_type": "stream",
     "text": [
      "['ARGANZUELA', 'BARAJAS', 'Barrio de Salamanca', 'CARABANCHEL', 'CENTRO', 'CHAMARTÍN', 'CHAMBERÍ', 'CIUDAD LINEAL', 'FUENCARRAL - EL PARDO', 'HORTALEZA', 'LATINA', 'MONCLOA - ARAVACA', 'MORATALAZ', 'PUENTE DE VALLECAS', 'RETIRO', 'SAN BLAS - CANILLEJAS', 'TETUÁN', 'USERA', 'VICÁLVARO', 'VILLA DE VALLECAS', 'VILLAVERDE']\n"
     ]
    }
   ],
   "source": [
    "distrito_promedio_criminalidad=sorted(list(promedio_criminalidad_distrito.DISTRITOS))\n",
    "print(distrito_promedio_criminalidad)"
   ]
  },
  {
   "cell_type": "code",
   "execution_count": 94,
   "metadata": {},
   "outputs": [
    {
     "name": "stdout",
     "output_type": "stream",
     "text": [
      "['Arganzuela', 'Barrio de Salamanca', 'Carabanchel', 'Centro', 'Chamartín', 'Chamberí', 'Ciudad Lineal', 'Fuencarral', 'Hortaleza', 'Latina', 'Moncloa', 'Moratalaz', 'Puente de Vallecas', 'Retiro', 'San Blas', 'Tetuán', 'Usera', 'Vicálvaro', 'Villa de Vallecas', 'Villaverde']\n"
     ]
    }
   ],
   "source": [
    "#Para poder mergear con la tabla de idealista comprobamos que el nombre de los distritos es igual en ambas tablas\n",
    "district_idealista=pd.read_excel(\"../Project/output/tabla_district.xls\")\n",
    "district_idealista_list=list(district_idealista.district.unique())\n",
    "ordenados_idealista=sorted(district_idealista_list)\n",
    "print(ordenados_idealista)"
   ]
  },
  {
   "cell_type": "code",
   "execution_count": 95,
   "metadata": {},
   "outputs": [],
   "source": [
    "ordenados_idealista.append(\"Barajas\")\n",
    "ordenados_idealista=sorted(ordenados_idealista)"
   ]
  },
  {
   "cell_type": "code",
   "execution_count": 96,
   "metadata": {},
   "outputs": [
    {
     "data": {
      "text/plain": [
       "{'ARGANZUELA': 'Arganzuela',\n",
       " 'BARAJAS': 'Barajas',\n",
       " 'Barrio de Salamanca': 'Barrio de Salamanca',\n",
       " 'CARABANCHEL': 'Carabanchel',\n",
       " 'CENTRO': 'Centro',\n",
       " 'CHAMARTÍN': 'Chamartín',\n",
       " 'CHAMBERÍ': 'Chamberí',\n",
       " 'CIUDAD LINEAL': 'Ciudad Lineal',\n",
       " 'FUENCARRAL - EL PARDO': 'Fuencarral',\n",
       " 'HORTALEZA': 'Hortaleza',\n",
       " 'LATINA': 'Latina',\n",
       " 'MONCLOA - ARAVACA': 'Moncloa',\n",
       " 'MORATALAZ': 'Moratalaz',\n",
       " 'PUENTE DE VALLECAS': 'Puente de Vallecas',\n",
       " 'RETIRO': 'Retiro',\n",
       " 'SAN BLAS - CANILLEJAS': 'San Blas',\n",
       " 'TETUÁN': 'Tetuán',\n",
       " 'USERA': 'Usera',\n",
       " 'VICÁLVARO': 'Vicálvaro',\n",
       " 'VILLA DE VALLECAS': 'Villa de Vallecas',\n",
       " 'VILLAVERDE': 'Villaverde'}"
      ]
     },
     "execution_count": 96,
     "metadata": {},
     "output_type": "execute_result"
    }
   ],
   "source": [
    "conversion_dict= dict(zip(distrito_promedio_criminalidad,ordenados_idealista))\n",
    "conversion_dict"
   ]
  },
  {
   "cell_type": "code",
   "execution_count": 97,
   "metadata": {},
   "outputs": [],
   "source": [
    "promedio_criminalidad_distrito['DISTRITOS'] = promedio_criminalidad_distrito['DISTRITOS'] .replace(conversion_dict)"
   ]
  },
  {
   "cell_type": "code",
   "execution_count": 98,
   "metadata": {},
   "outputs": [
    {
     "data": {
      "text/html": [
       "<div>\n",
       "<style scoped>\n",
       "    .dataframe tbody tr th:only-of-type {\n",
       "        vertical-align: middle;\n",
       "    }\n",
       "\n",
       "    .dataframe tbody tr th {\n",
       "        vertical-align: top;\n",
       "    }\n",
       "\n",
       "    .dataframe thead th {\n",
       "        text-align: right;\n",
       "    }\n",
       "</style>\n",
       "<table border=\"1\" class=\"dataframe\">\n",
       "  <thead>\n",
       "    <tr style=\"text-align: right;\">\n",
       "      <th></th>\n",
       "      <th>DISTRITOS</th>\n",
       "      <th>TOTAL_INSEGURIDAD</th>\n",
       "    </tr>\n",
       "  </thead>\n",
       "  <tbody>\n",
       "    <tr>\n",
       "      <th>0</th>\n",
       "      <td>Arganzuela</td>\n",
       "      <td>28.8</td>\n",
       "    </tr>\n",
       "    <tr>\n",
       "      <th>1</th>\n",
       "      <td>Barajas</td>\n",
       "      <td>33.2</td>\n",
       "    </tr>\n",
       "    <tr>\n",
       "      <th>2</th>\n",
       "      <td>Carabanchel</td>\n",
       "      <td>88.2</td>\n",
       "    </tr>\n",
       "    <tr>\n",
       "      <th>3</th>\n",
       "      <td>Centro</td>\n",
       "      <td>189.2</td>\n",
       "    </tr>\n",
       "    <tr>\n",
       "      <th>4</th>\n",
       "      <td>Chamartín</td>\n",
       "      <td>31.6</td>\n",
       "    </tr>\n",
       "  </tbody>\n",
       "</table>\n",
       "</div>"
      ],
      "text/plain": [
       "     DISTRITOS  TOTAL_INSEGURIDAD\n",
       "0   Arganzuela               28.8\n",
       "1      Barajas               33.2\n",
       "2  Carabanchel               88.2\n",
       "3       Centro              189.2\n",
       "4    Chamartín               31.6"
      ]
     },
     "execution_count": 98,
     "metadata": {},
     "output_type": "execute_result"
    }
   ],
   "source": [
    "promedio_criminalidad_distrito.head()"
   ]
  },
  {
   "cell_type": "code",
   "execution_count": 99,
   "metadata": {
    "scrolled": true
   },
   "outputs": [
    {
     "data": {
      "text/html": [
       "<div>\n",
       "<style scoped>\n",
       "    .dataframe tbody tr th:only-of-type {\n",
       "        vertical-align: middle;\n",
       "    }\n",
       "\n",
       "    .dataframe tbody tr th {\n",
       "        vertical-align: top;\n",
       "    }\n",
       "\n",
       "    .dataframe thead th {\n",
       "        text-align: right;\n",
       "    }\n",
       "</style>\n",
       "<table border=\"1\" class=\"dataframe\">\n",
       "  <thead>\n",
       "    <tr style=\"text-align: right;\">\n",
       "      <th></th>\n",
       "      <th>district</th>\n",
       "      <th>insecurity_ratio</th>\n",
       "    </tr>\n",
       "  </thead>\n",
       "  <tbody>\n",
       "    <tr>\n",
       "      <th>0</th>\n",
       "      <td>Arganzuela</td>\n",
       "      <td>28.8</td>\n",
       "    </tr>\n",
       "    <tr>\n",
       "      <th>1</th>\n",
       "      <td>Barajas</td>\n",
       "      <td>33.2</td>\n",
       "    </tr>\n",
       "    <tr>\n",
       "      <th>2</th>\n",
       "      <td>Carabanchel</td>\n",
       "      <td>88.2</td>\n",
       "    </tr>\n",
       "    <tr>\n",
       "      <th>3</th>\n",
       "      <td>Centro</td>\n",
       "      <td>189.2</td>\n",
       "    </tr>\n",
       "    <tr>\n",
       "      <th>4</th>\n",
       "      <td>Chamartín</td>\n",
       "      <td>31.6</td>\n",
       "    </tr>\n",
       "  </tbody>\n",
       "</table>\n",
       "</div>"
      ],
      "text/plain": [
       "      district  insecurity_ratio\n",
       "0   Arganzuela              28.8\n",
       "1      Barajas              33.2\n",
       "2  Carabanchel              88.2\n",
       "3       Centro             189.2\n",
       "4    Chamartín              31.6"
      ]
     },
     "execution_count": 99,
     "metadata": {},
     "output_type": "execute_result"
    }
   ],
   "source": [
    "promedio_criminalidad_distrito.rename(columns = {'DISTRITOS':'district', 'TOTAL_INSEGURIDAD':'insecurity_ratio'},\n",
    "                                      inplace = True) \n",
    "promedio_criminalidad_distrito.head()"
   ]
  },
  {
   "cell_type": "code",
   "execution_count": 102,
   "metadata": {},
   "outputs": [],
   "source": [
    "# guardando df población/distrito\n",
    "promedio_criminalidad_distrito.to_excel('../Project/output/criminalidad_distrito.xls')"
   ]
  },
  {
   "cell_type": "code",
   "execution_count": null,
   "metadata": {},
   "outputs": [],
   "source": []
  }
 ],
 "metadata": {
  "kernelspec": {
   "display_name": "Python 3",
   "language": "python",
   "name": "python3"
  },
  "language_info": {
   "codemirror_mode": {
    "name": "ipython",
    "version": 3
   },
   "file_extension": ".py",
   "mimetype": "text/x-python",
   "name": "python",
   "nbconvert_exporter": "python",
   "pygments_lexer": "ipython3",
   "version": "3.8.3"
  }
 },
 "nbformat": 4,
 "nbformat_minor": 4
}
