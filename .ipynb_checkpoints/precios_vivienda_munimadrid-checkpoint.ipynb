{
 "cells": [
  {
   "cell_type": "code",
   "execution_count": 19,
   "metadata": {},
   "outputs": [],
   "source": [
    "import requests\n",
    "import pandas as pd\n",
    "\n",
    "\n",
    "#application/app2/some_folder/some_file.py"
   ]
  },
  {
   "cell_type": "markdown",
   "metadata": {},
   "source": [
    "https://www.madrid.es/portales/munimadrid/es/Inicio/El-Ayuntamiento/Estadistica/Distritos-en-cifras/Distritos-en-cifras-Informacion-de-Distritos-/?vgnextfmt=default&vgnextoid=74b33ece5284c310VgnVCM1000000b205a0aRCRD&vgnextchannel=27002d05cb71b310VgnVCM1000000b205a0aRCRD"
   ]
  },
  {
   "cell_type": "code",
   "execution_count": null,
   "metadata": {},
   "outputs": [],
   "source": []
  },
  {
   "cell_type": "code",
   "execution_count": 36,
   "metadata": {},
   "outputs": [
    {
     "ename": "NameError",
     "evalue": "name 'requests' is not defined",
     "output_type": "error",
     "traceback": [
      "\u001b[1;31m---------------------------------------------------------------------------\u001b[0m",
      "\u001b[1;31mNameError\u001b[0m                                 Traceback (most recent call last)",
      "\u001b[1;32m<ipython-input-36-ab3ed9062e4d>\u001b[0m in \u001b[0;36m<module>\u001b[1;34m\u001b[0m\n\u001b[0;32m      1\u001b[0m \u001b[1;32mfrom\u001b[0m \u001b[0mfunciones_precio_vivienda_ayuntamiento\u001b[0m \u001b[1;32mimport\u001b[0m \u001b[0mimport_excel\u001b[0m\u001b[1;33m\u001b[0m\u001b[1;33m\u001b[0m\u001b[0m\n\u001b[0;32m      2\u001b[0m \u001b[1;33m\u001b[0m\u001b[0m\n\u001b[1;32m----> 3\u001b[1;33m \u001b[0mimport_excel\u001b[0m\u001b[1;33m(\u001b[0m\u001b[0murl\u001b[0m\u001b[1;33m)\u001b[0m\u001b[1;33m\u001b[0m\u001b[1;33m\u001b[0m\u001b[0m\n\u001b[0m",
      "\u001b[1;32m~\\Project_draft\\Precio_vivienda\\funciones_precio_vivienda_ayuntamiento.py\u001b[0m in \u001b[0;36mimport_excel\u001b[1;34m(url)\u001b[0m\n\u001b[0;32m      1\u001b[0m \u001b[1;32mimport\u001b[0m \u001b[0mrequests\u001b[0m\u001b[1;33m\u001b[0m\u001b[1;33m\u001b[0m\u001b[0m\n\u001b[0;32m      2\u001b[0m \u001b[1;32mimport\u001b[0m \u001b[0mpandas\u001b[0m \u001b[1;32mas\u001b[0m \u001b[0mpandas\u001b[0m\u001b[1;33m\u001b[0m\u001b[1;33m\u001b[0m\u001b[0m\n\u001b[1;32m----> 3\u001b[1;33m \u001b[1;33m\u001b[0m\u001b[0m\n\u001b[0m\u001b[0;32m      4\u001b[0m \u001b[1;33m\u001b[0m\u001b[0m\n\u001b[0;32m      5\u001b[0m \u001b[1;32mdef\u001b[0m \u001b[0mimport_excel\u001b[0m\u001b[1;33m(\u001b[0m\u001b[0murl\u001b[0m\u001b[1;33m)\u001b[0m\u001b[1;33m:\u001b[0m\u001b[1;33m\u001b[0m\u001b[1;33m\u001b[0m\u001b[0m\n",
      "\u001b[1;31mNameError\u001b[0m: name 'requests' is not defined"
     ]
    }
   ],
   "source": [
    "from funciones_precio_vivienda_ayuntamiento import import_excel\n",
    "\n",
    "import_excel(url)\n"
   ]
  },
  {
   "cell_type": "code",
   "execution_count": 240,
   "metadata": {},
   "outputs": [
    {
     "data": {
      "text/html": [
       "<div>\n",
       "<style scoped>\n",
       "    .dataframe tbody tr th:only-of-type {\n",
       "        vertical-align: middle;\n",
       "    }\n",
       "\n",
       "    .dataframe tbody tr th {\n",
       "        vertical-align: top;\n",
       "    }\n",
       "\n",
       "    .dataframe thead th {\n",
       "        text-align: right;\n",
       "    }\n",
       "</style>\n",
       "<table border=\"1\" class=\"dataframe\">\n",
       "  <thead>\n",
       "    <tr style=\"text-align: right;\">\n",
       "      <th></th>\n",
       "      <th>Unnamed: 0</th>\n",
       "      <th>Distrito</th>\n",
       "      <th>Mayo</th>\n",
       "      <th>Abril</th>\n",
       "      <th>Marzo</th>\n",
       "      <th>Febrero</th>\n",
       "      <th>Enero</th>\n",
       "      <th>Unnamed: 7</th>\n",
       "      <th>Diciembre</th>\n",
       "      <th>Noviembre</th>\n",
       "      <th>Octubre</th>\n",
       "      <th>Septiembre</th>\n",
       "      <th>Agosto</th>\n",
       "      <th>Julio</th>\n",
       "      <th>Junio</th>\n",
       "      <th>Mayo.1</th>\n",
       "      <th>Abril.1</th>\n",
       "      <th>Marzo.1</th>\n",
       "      <th>Febrero.1</th>\n",
       "      <th>Enero.1</th>\n",
       "    </tr>\n",
       "  </thead>\n",
       "  <tbody>\n",
       "    <tr>\n",
       "      <th>0</th>\n",
       "      <td>NaN</td>\n",
       "      <td>NaN</td>\n",
       "      <td>NaN</td>\n",
       "      <td>NaN</td>\n",
       "      <td>NaN</td>\n",
       "      <td>NaN</td>\n",
       "      <td>NaN</td>\n",
       "      <td>NaN</td>\n",
       "      <td>NaN</td>\n",
       "      <td>NaN</td>\n",
       "      <td>NaN</td>\n",
       "      <td>NaN</td>\n",
       "      <td>NaN</td>\n",
       "      <td>NaN</td>\n",
       "      <td>NaN</td>\n",
       "      <td>NaN</td>\n",
       "      <td>NaN</td>\n",
       "      <td>NaN</td>\n",
       "      <td>NaN</td>\n",
       "      <td>NaN</td>\n",
       "    </tr>\n",
       "    <tr>\n",
       "      <th>1</th>\n",
       "      <td>NaN</td>\n",
       "      <td>Ciudad de Madrid</td>\n",
       "      <td>3746.0</td>\n",
       "      <td>3716.0</td>\n",
       "      <td>3712.0</td>\n",
       "      <td>3687.0</td>\n",
       "      <td>2867.0</td>\n",
       "      <td>NaN</td>\n",
       "      <td>3682.0</td>\n",
       "      <td>3664.0</td>\n",
       "      <td>3652.0</td>\n",
       "      <td>3665.0</td>\n",
       "      <td>3681.0</td>\n",
       "      <td>3687.0</td>\n",
       "      <td>3726.0</td>\n",
       "      <td>3782.0</td>\n",
       "      <td>3762.0</td>\n",
       "      <td>3741.0</td>\n",
       "      <td>3725.0</td>\n",
       "      <td>3718.0</td>\n",
       "    </tr>\n",
       "    <tr>\n",
       "      <th>2</th>\n",
       "      <td>NaN</td>\n",
       "      <td>NaN</td>\n",
       "      <td>NaN</td>\n",
       "      <td>NaN</td>\n",
       "      <td>NaN</td>\n",
       "      <td>NaN</td>\n",
       "      <td>NaN</td>\n",
       "      <td>NaN</td>\n",
       "      <td>NaN</td>\n",
       "      <td>NaN</td>\n",
       "      <td>NaN</td>\n",
       "      <td>NaN</td>\n",
       "      <td>NaN</td>\n",
       "      <td>NaN</td>\n",
       "      <td>NaN</td>\n",
       "      <td>NaN</td>\n",
       "      <td>NaN</td>\n",
       "      <td>NaN</td>\n",
       "      <td>NaN</td>\n",
       "      <td>NaN</td>\n",
       "    </tr>\n",
       "    <tr>\n",
       "      <th>3</th>\n",
       "      <td>NaN</td>\n",
       "      <td>01. Centro</td>\n",
       "      <td>4802.0</td>\n",
       "      <td>4809.0</td>\n",
       "      <td>4849.0</td>\n",
       "      <td>4830.0</td>\n",
       "      <td>4841.0</td>\n",
       "      <td>NaN</td>\n",
       "      <td>4865.0</td>\n",
       "      <td>4878.0</td>\n",
       "      <td>4909.0</td>\n",
       "      <td>4934.0</td>\n",
       "      <td>4963.0</td>\n",
       "      <td>4981.0</td>\n",
       "      <td>5061.0</td>\n",
       "      <td>5075.0</td>\n",
       "      <td>5062.0</td>\n",
       "      <td>5026.0</td>\n",
       "      <td>5088.0</td>\n",
       "      <td>5096.0</td>\n",
       "    </tr>\n",
       "    <tr>\n",
       "      <th>4</th>\n",
       "      <td>NaN</td>\n",
       "      <td>02. Arganzuela</td>\n",
       "      <td>4000.0</td>\n",
       "      <td>3932.0</td>\n",
       "      <td>3942.0</td>\n",
       "      <td>3915.0</td>\n",
       "      <td>3915.0</td>\n",
       "      <td>NaN</td>\n",
       "      <td>3888.0</td>\n",
       "      <td>3917.0</td>\n",
       "      <td>3908.0</td>\n",
       "      <td>3915.0</td>\n",
       "      <td>3912.0</td>\n",
       "      <td>3910.0</td>\n",
       "      <td>3948.0</td>\n",
       "      <td>3962.0</td>\n",
       "      <td>3903.0</td>\n",
       "      <td>3878.0</td>\n",
       "      <td>3894.0</td>\n",
       "      <td>3983.0</td>\n",
       "    </tr>\n",
       "  </tbody>\n",
       "</table>\n",
       "</div>"
      ],
      "text/plain": [
       "   Unnamed: 0          Distrito    Mayo   Abril   Marzo  Febrero   Enero  \\\n",
       "0         NaN               NaN     NaN     NaN     NaN      NaN     NaN   \n",
       "1         NaN  Ciudad de Madrid  3746.0  3716.0  3712.0   3687.0  2867.0   \n",
       "2         NaN               NaN     NaN     NaN     NaN      NaN     NaN   \n",
       "3         NaN        01. Centro  4802.0  4809.0  4849.0   4830.0  4841.0   \n",
       "4         NaN    02. Arganzuela  4000.0  3932.0  3942.0   3915.0  3915.0   \n",
       "\n",
       "   Unnamed: 7  Diciembre  Noviembre  Octubre  Septiembre  Agosto   Julio  \\\n",
       "0         NaN        NaN        NaN      NaN         NaN     NaN     NaN   \n",
       "1         NaN     3682.0     3664.0   3652.0      3665.0  3681.0  3687.0   \n",
       "2         NaN        NaN        NaN      NaN         NaN     NaN     NaN   \n",
       "3         NaN     4865.0     4878.0   4909.0      4934.0  4963.0  4981.0   \n",
       "4         NaN     3888.0     3917.0   3908.0      3915.0  3912.0  3910.0   \n",
       "\n",
       "    Junio  Mayo.1  Abril.1  Marzo.1  Febrero.1  Enero.1  \n",
       "0     NaN     NaN      NaN      NaN        NaN      NaN  \n",
       "1  3726.0  3782.0   3762.0   3741.0     3725.0   3718.0  \n",
       "2     NaN     NaN      NaN      NaN        NaN      NaN  \n",
       "3  5061.0  5075.0   5062.0   5026.0     5088.0   5096.0  \n",
       "4  3948.0  3962.0   3903.0   3878.0     3894.0   3983.0  "
      ]
     },
     "execution_count": 240,
     "metadata": {},
     "output_type": "execute_result"
    }
   ],
   "source": [
    "viviendas=\"https://www.madrid.es/UnidadesDescentralizadas/UDCEstadistica/Nuevaweb/Edificaci%C3%B3n%20y%20Vivienda/Mercado%20de%20la%20Vivienda/Precios%20de%20la%20Vivienda/Distritos/E3320121.xls\"\n",
    "resp = requests.get(viviendas)\n",
    "\n",
    "output = open('evolucion_precio_vivienda.xls', 'wb')\n",
    "output.write(resp.content)\n",
    "output.close()    \n",
    "\n",
    "file = \"evolucion_precio_vivienda.xls\"\n",
    "evolucion_precio_vivienda = pd.read_excel(file, header=[5]) #reading file\n",
    "evolucion_precio_vivienda.head() "
   ]
  },
  {
   "cell_type": "code",
   "execution_count": 241,
   "metadata": {},
   "outputs": [],
   "source": [
    "#df.to_excel(\"revisar_encabezados.xls\")"
   ]
  },
  {
   "cell_type": "code",
   "execution_count": 242,
   "metadata": {},
   "outputs": [
    {
     "data": {
      "text/html": [
       "<div>\n",
       "<style scoped>\n",
       "    .dataframe tbody tr th:only-of-type {\n",
       "        vertical-align: middle;\n",
       "    }\n",
       "\n",
       "    .dataframe tbody tr th {\n",
       "        vertical-align: top;\n",
       "    }\n",
       "\n",
       "    .dataframe thead th {\n",
       "        text-align: right;\n",
       "    }\n",
       "</style>\n",
       "<table border=\"1\" class=\"dataframe\">\n",
       "  <thead>\n",
       "    <tr style=\"text-align: right;\">\n",
       "      <th></th>\n",
       "      <th>Unnamed: 0</th>\n",
       "      <th>Distrito</th>\n",
       "      <th>Mayo</th>\n",
       "      <th>Abril</th>\n",
       "      <th>Marzo</th>\n",
       "      <th>Febrero</th>\n",
       "      <th>Enero</th>\n",
       "      <th>Unnamed: 7</th>\n",
       "      <th>Diciembre</th>\n",
       "      <th>Noviembre</th>\n",
       "      <th>Octubre</th>\n",
       "      <th>Septiembre</th>\n",
       "      <th>Agosto</th>\n",
       "      <th>Julio</th>\n",
       "      <th>Junio</th>\n",
       "      <th>Mayo.1</th>\n",
       "      <th>Abril.1</th>\n",
       "      <th>Marzo.1</th>\n",
       "      <th>Febrero.1</th>\n",
       "      <th>Enero.1</th>\n",
       "    </tr>\n",
       "  </thead>\n",
       "  <tbody>\n",
       "    <tr>\n",
       "      <th>0</th>\n",
       "      <td>NaN</td>\n",
       "      <td>NaN</td>\n",
       "      <td>NaN</td>\n",
       "      <td>NaN</td>\n",
       "      <td>NaN</td>\n",
       "      <td>NaN</td>\n",
       "      <td>NaN</td>\n",
       "      <td>NaN</td>\n",
       "      <td>NaN</td>\n",
       "      <td>NaN</td>\n",
       "      <td>NaN</td>\n",
       "      <td>NaN</td>\n",
       "      <td>NaN</td>\n",
       "      <td>NaN</td>\n",
       "      <td>NaN</td>\n",
       "      <td>NaN</td>\n",
       "      <td>NaN</td>\n",
       "      <td>NaN</td>\n",
       "      <td>NaN</td>\n",
       "      <td>NaN</td>\n",
       "    </tr>\n",
       "    <tr>\n",
       "      <th>1</th>\n",
       "      <td>NaN</td>\n",
       "      <td>Ciudad de Madrid</td>\n",
       "      <td>3746.0</td>\n",
       "      <td>3716.0</td>\n",
       "      <td>3712.0</td>\n",
       "      <td>3687.0</td>\n",
       "      <td>2867.0</td>\n",
       "      <td>NaN</td>\n",
       "      <td>3682.0</td>\n",
       "      <td>3664.0</td>\n",
       "      <td>3652.0</td>\n",
       "      <td>3665.0</td>\n",
       "      <td>3681.0</td>\n",
       "      <td>3687.0</td>\n",
       "      <td>3726.0</td>\n",
       "      <td>3782.0</td>\n",
       "      <td>3762.0</td>\n",
       "      <td>3741.0</td>\n",
       "      <td>3725.0</td>\n",
       "      <td>3718.0</td>\n",
       "    </tr>\n",
       "    <tr>\n",
       "      <th>2</th>\n",
       "      <td>NaN</td>\n",
       "      <td>NaN</td>\n",
       "      <td>NaN</td>\n",
       "      <td>NaN</td>\n",
       "      <td>NaN</td>\n",
       "      <td>NaN</td>\n",
       "      <td>NaN</td>\n",
       "      <td>NaN</td>\n",
       "      <td>NaN</td>\n",
       "      <td>NaN</td>\n",
       "      <td>NaN</td>\n",
       "      <td>NaN</td>\n",
       "      <td>NaN</td>\n",
       "      <td>NaN</td>\n",
       "      <td>NaN</td>\n",
       "      <td>NaN</td>\n",
       "      <td>NaN</td>\n",
       "      <td>NaN</td>\n",
       "      <td>NaN</td>\n",
       "      <td>NaN</td>\n",
       "    </tr>\n",
       "    <tr>\n",
       "      <th>3</th>\n",
       "      <td>NaN</td>\n",
       "      <td>01. Centro</td>\n",
       "      <td>4802.0</td>\n",
       "      <td>4809.0</td>\n",
       "      <td>4849.0</td>\n",
       "      <td>4830.0</td>\n",
       "      <td>4841.0</td>\n",
       "      <td>NaN</td>\n",
       "      <td>4865.0</td>\n",
       "      <td>4878.0</td>\n",
       "      <td>4909.0</td>\n",
       "      <td>4934.0</td>\n",
       "      <td>4963.0</td>\n",
       "      <td>4981.0</td>\n",
       "      <td>5061.0</td>\n",
       "      <td>5075.0</td>\n",
       "      <td>5062.0</td>\n",
       "      <td>5026.0</td>\n",
       "      <td>5088.0</td>\n",
       "      <td>5096.0</td>\n",
       "    </tr>\n",
       "    <tr>\n",
       "      <th>4</th>\n",
       "      <td>NaN</td>\n",
       "      <td>02. Arganzuela</td>\n",
       "      <td>4000.0</td>\n",
       "      <td>3932.0</td>\n",
       "      <td>3942.0</td>\n",
       "      <td>3915.0</td>\n",
       "      <td>3915.0</td>\n",
       "      <td>NaN</td>\n",
       "      <td>3888.0</td>\n",
       "      <td>3917.0</td>\n",
       "      <td>3908.0</td>\n",
       "      <td>3915.0</td>\n",
       "      <td>3912.0</td>\n",
       "      <td>3910.0</td>\n",
       "      <td>3948.0</td>\n",
       "      <td>3962.0</td>\n",
       "      <td>3903.0</td>\n",
       "      <td>3878.0</td>\n",
       "      <td>3894.0</td>\n",
       "      <td>3983.0</td>\n",
       "    </tr>\n",
       "  </tbody>\n",
       "</table>\n",
       "</div>"
      ],
      "text/plain": [
       "   Unnamed: 0          Distrito    Mayo   Abril   Marzo  Febrero   Enero  \\\n",
       "0         NaN               NaN     NaN     NaN     NaN      NaN     NaN   \n",
       "1         NaN  Ciudad de Madrid  3746.0  3716.0  3712.0   3687.0  2867.0   \n",
       "2         NaN               NaN     NaN     NaN     NaN      NaN     NaN   \n",
       "3         NaN        01. Centro  4802.0  4809.0  4849.0   4830.0  4841.0   \n",
       "4         NaN    02. Arganzuela  4000.0  3932.0  3942.0   3915.0  3915.0   \n",
       "\n",
       "   Unnamed: 7  Diciembre  Noviembre  Octubre  Septiembre  Agosto   Julio  \\\n",
       "0         NaN        NaN        NaN      NaN         NaN     NaN     NaN   \n",
       "1         NaN     3682.0     3664.0   3652.0      3665.0  3681.0  3687.0   \n",
       "2         NaN        NaN        NaN      NaN         NaN     NaN     NaN   \n",
       "3         NaN     4865.0     4878.0   4909.0      4934.0  4963.0  4981.0   \n",
       "4         NaN     3888.0     3917.0   3908.0      3915.0  3912.0  3910.0   \n",
       "\n",
       "    Junio  Mayo.1  Abril.1  Marzo.1  Febrero.1  Enero.1  \n",
       "0     NaN     NaN      NaN      NaN        NaN      NaN  \n",
       "1  3726.0  3782.0   3762.0   3741.0     3725.0   3718.0  \n",
       "2     NaN     NaN      NaN      NaN        NaN      NaN  \n",
       "3  5061.0  5075.0   5062.0   5026.0     5088.0   5096.0  \n",
       "4  3948.0  3962.0   3903.0   3878.0     3894.0   3983.0  "
      ]
     },
     "execution_count": 242,
     "metadata": {},
     "output_type": "execute_result"
    }
   ],
   "source": [
    "df=evolucion_precio_vivienda.copy()\n",
    "df.head()"
   ]
  },
  {
   "cell_type": "code",
   "execution_count": 243,
   "metadata": {},
   "outputs": [
    {
     "data": {
      "text/plain": [
       "Index(['Unnamed: 0', 'Distrito', 'Mayo', 'Abril', 'Marzo', 'Febrero', 'Enero',\n",
       "       'Unnamed: 7', 'Diciembre', 'Noviembre', 'Octubre', 'Septiembre',\n",
       "       'Agosto', 'Julio', 'Junio', 'Mayo.1', 'Abril.1', 'Marzo.1', 'Febrero.1',\n",
       "       'Enero.1'],\n",
       "      dtype='object')"
      ]
     },
     "execution_count": 243,
     "metadata": {},
     "output_type": "execute_result"
    }
   ],
   "source": [
    "df.columns"
   ]
  },
  {
   "cell_type": "code",
   "execution_count": 244,
   "metadata": {},
   "outputs": [],
   "source": [
    "df.drop([\"Unnamed: 0\", \"Unnamed: 7\"],axis=1, inplace=True)"
   ]
  },
  {
   "cell_type": "code",
   "execution_count": 245,
   "metadata": {},
   "outputs": [],
   "source": [
    "df.drop([0,1,2, 23, 24,25],axis=0, inplace=True)"
   ]
  },
  {
   "cell_type": "code",
   "execution_count": 246,
   "metadata": {},
   "outputs": [
    {
     "data": {
      "text/html": [
       "<div>\n",
       "<style scoped>\n",
       "    .dataframe tbody tr th:only-of-type {\n",
       "        vertical-align: middle;\n",
       "    }\n",
       "\n",
       "    .dataframe tbody tr th {\n",
       "        vertical-align: top;\n",
       "    }\n",
       "\n",
       "    .dataframe thead th {\n",
       "        text-align: right;\n",
       "    }\n",
       "</style>\n",
       "<table border=\"1\" class=\"dataframe\">\n",
       "  <thead>\n",
       "    <tr style=\"text-align: right;\">\n",
       "      <th></th>\n",
       "      <th>Distrito</th>\n",
       "      <th>Mayo</th>\n",
       "      <th>Abril</th>\n",
       "      <th>Marzo</th>\n",
       "      <th>Febrero</th>\n",
       "      <th>Enero</th>\n",
       "      <th>Diciembre</th>\n",
       "      <th>Noviembre</th>\n",
       "      <th>Octubre</th>\n",
       "      <th>Septiembre</th>\n",
       "      <th>Agosto</th>\n",
       "      <th>Julio</th>\n",
       "      <th>Junio</th>\n",
       "      <th>Mayo.1</th>\n",
       "      <th>Abril.1</th>\n",
       "      <th>Marzo.1</th>\n",
       "      <th>Febrero.1</th>\n",
       "      <th>Enero.1</th>\n",
       "    </tr>\n",
       "  </thead>\n",
       "  <tbody>\n",
       "    <tr>\n",
       "      <th>3</th>\n",
       "      <td>01. Centro</td>\n",
       "      <td>4802.0</td>\n",
       "      <td>4809.0</td>\n",
       "      <td>4849.0</td>\n",
       "      <td>4830.0</td>\n",
       "      <td>4841.0</td>\n",
       "      <td>4865.0</td>\n",
       "      <td>4878.0</td>\n",
       "      <td>4909.0</td>\n",
       "      <td>4934.0</td>\n",
       "      <td>4963.0</td>\n",
       "      <td>4981.0</td>\n",
       "      <td>5061.0</td>\n",
       "      <td>5075.0</td>\n",
       "      <td>5062.0</td>\n",
       "      <td>5026.0</td>\n",
       "      <td>5088.0</td>\n",
       "      <td>5096.0</td>\n",
       "    </tr>\n",
       "    <tr>\n",
       "      <th>4</th>\n",
       "      <td>02. Arganzuela</td>\n",
       "      <td>4000.0</td>\n",
       "      <td>3932.0</td>\n",
       "      <td>3942.0</td>\n",
       "      <td>3915.0</td>\n",
       "      <td>3915.0</td>\n",
       "      <td>3888.0</td>\n",
       "      <td>3917.0</td>\n",
       "      <td>3908.0</td>\n",
       "      <td>3915.0</td>\n",
       "      <td>3912.0</td>\n",
       "      <td>3910.0</td>\n",
       "      <td>3948.0</td>\n",
       "      <td>3962.0</td>\n",
       "      <td>3903.0</td>\n",
       "      <td>3878.0</td>\n",
       "      <td>3894.0</td>\n",
       "      <td>3983.0</td>\n",
       "    </tr>\n",
       "    <tr>\n",
       "      <th>5</th>\n",
       "      <td>03. Retiro</td>\n",
       "      <td>4692.0</td>\n",
       "      <td>4583.0</td>\n",
       "      <td>4584.0</td>\n",
       "      <td>4537.0</td>\n",
       "      <td>4496.0</td>\n",
       "      <td>4502.0</td>\n",
       "      <td>4520.0</td>\n",
       "      <td>4517.0</td>\n",
       "      <td>4548.0</td>\n",
       "      <td>4514.0</td>\n",
       "      <td>4513.0</td>\n",
       "      <td>4564.0</td>\n",
       "      <td>4586.0</td>\n",
       "      <td>4560.0</td>\n",
       "      <td>4555.0</td>\n",
       "      <td>4549.0</td>\n",
       "      <td>4572.0</td>\n",
       "    </tr>\n",
       "    <tr>\n",
       "      <th>6</th>\n",
       "      <td>04. Salamanca</td>\n",
       "      <td>5949.0</td>\n",
       "      <td>5933.0</td>\n",
       "      <td>5914.0</td>\n",
       "      <td>5807.0</td>\n",
       "      <td>5789.0</td>\n",
       "      <td>5740.0</td>\n",
       "      <td>5747.0</td>\n",
       "      <td>5808.0</td>\n",
       "      <td>5826.0</td>\n",
       "      <td>5833.0</td>\n",
       "      <td>5903.0</td>\n",
       "      <td>5986.0</td>\n",
       "      <td>5985.0</td>\n",
       "      <td>5893.0</td>\n",
       "      <td>5815.0</td>\n",
       "      <td>5786.0</td>\n",
       "      <td>5872.0</td>\n",
       "    </tr>\n",
       "    <tr>\n",
       "      <th>7</th>\n",
       "      <td>05. Chamartín</td>\n",
       "      <td>5115.0</td>\n",
       "      <td>5097.0</td>\n",
       "      <td>5084.0</td>\n",
       "      <td>5056.0</td>\n",
       "      <td>5020.0</td>\n",
       "      <td>4999.0</td>\n",
       "      <td>5018.0</td>\n",
       "      <td>5040.0</td>\n",
       "      <td>5056.0</td>\n",
       "      <td>5068.0</td>\n",
       "      <td>5109.0</td>\n",
       "      <td>5180.0</td>\n",
       "      <td>5179.0</td>\n",
       "      <td>5143.0</td>\n",
       "      <td>5118.0</td>\n",
       "      <td>5105.0</td>\n",
       "      <td>5070.0</td>\n",
       "    </tr>\n",
       "  </tbody>\n",
       "</table>\n",
       "</div>"
      ],
      "text/plain": [
       "         Distrito    Mayo   Abril   Marzo  Febrero   Enero  Diciembre  \\\n",
       "3      01. Centro  4802.0  4809.0  4849.0   4830.0  4841.0     4865.0   \n",
       "4  02. Arganzuela  4000.0  3932.0  3942.0   3915.0  3915.0     3888.0   \n",
       "5      03. Retiro  4692.0  4583.0  4584.0   4537.0  4496.0     4502.0   \n",
       "6   04. Salamanca  5949.0  5933.0  5914.0   5807.0  5789.0     5740.0   \n",
       "7   05. Chamartín  5115.0  5097.0  5084.0   5056.0  5020.0     4999.0   \n",
       "\n",
       "   Noviembre  Octubre  Septiembre  Agosto   Julio   Junio  Mayo.1  Abril.1  \\\n",
       "3     4878.0   4909.0      4934.0  4963.0  4981.0  5061.0  5075.0   5062.0   \n",
       "4     3917.0   3908.0      3915.0  3912.0  3910.0  3948.0  3962.0   3903.0   \n",
       "5     4520.0   4517.0      4548.0  4514.0  4513.0  4564.0  4586.0   4560.0   \n",
       "6     5747.0   5808.0      5826.0  5833.0  5903.0  5986.0  5985.0   5893.0   \n",
       "7     5018.0   5040.0      5056.0  5068.0  5109.0  5180.0  5179.0   5143.0   \n",
       "\n",
       "   Marzo.1  Febrero.1  Enero.1  \n",
       "3   5026.0     5088.0   5096.0  \n",
       "4   3878.0     3894.0   3983.0  \n",
       "5   4555.0     4549.0   4572.0  \n",
       "6   5815.0     5786.0   5872.0  \n",
       "7   5118.0     5105.0   5070.0  "
      ]
     },
     "execution_count": 246,
     "metadata": {},
     "output_type": "execute_result"
    }
   ],
   "source": [
    "df.head()"
   ]
  },
  {
   "cell_type": "code",
   "execution_count": 233,
   "metadata": {},
   "outputs": [
    {
     "data": {
      "text/plain": [
       "Index(['Distrito',     202105,     202104,     202103,     202102,     202101,\n",
       "           202012,     202011,     202010,     202009,     202008,     202007,\n",
       "           202007,     202005,     202004,     202003,     202002,     202001],\n",
       "      dtype='object')"
      ]
     },
     "execution_count": 233,
     "metadata": {},
     "output_type": "execute_result"
    }
   ],
   "source": [
    "df = df.rename(columns={'Mayo':2021_05, 'Abril':202104, 'Marzo':202103, 'Febrero':202102,\n",
    "                       'Enero':202101,'Diciembre':202012, \"Noviembre\":202011, \"Octubre\":202010,\n",
    "                        \"Septiembre\":202009, \"Agosto\": 202008, \"Julio\":202007, \"Junio\":202007,\n",
    "                        \"Mayo.1\": 202005, \"Abril.1\":202004, \"Marzo.1\":202003, \"Febrero.1\": 202002,\n",
    "                        \"Enero.1\":202001})\n",
    "df.columns"
   ]
  },
  {
   "cell_type": "code",
   "execution_count": 234,
   "metadata": {},
   "outputs": [
    {
     "data": {
      "text/html": [
       "<div>\n",
       "<style scoped>\n",
       "    .dataframe tbody tr th:only-of-type {\n",
       "        vertical-align: middle;\n",
       "    }\n",
       "\n",
       "    .dataframe tbody tr th {\n",
       "        vertical-align: top;\n",
       "    }\n",
       "\n",
       "    .dataframe thead th {\n",
       "        text-align: right;\n",
       "    }\n",
       "</style>\n",
       "<table border=\"1\" class=\"dataframe\">\n",
       "  <thead>\n",
       "    <tr style=\"text-align: right;\">\n",
       "      <th></th>\n",
       "      <th>Distrito</th>\n",
       "      <th>202105</th>\n",
       "      <th>202104</th>\n",
       "      <th>202103</th>\n",
       "      <th>202102</th>\n",
       "      <th>202101</th>\n",
       "      <th>202012</th>\n",
       "      <th>202011</th>\n",
       "      <th>202010</th>\n",
       "      <th>202009</th>\n",
       "      <th>202008</th>\n",
       "      <th>202007</th>\n",
       "      <th>202007</th>\n",
       "      <th>202005</th>\n",
       "      <th>202004</th>\n",
       "      <th>202003</th>\n",
       "      <th>202002</th>\n",
       "      <th>202001</th>\n",
       "    </tr>\n",
       "  </thead>\n",
       "  <tbody>\n",
       "    <tr>\n",
       "      <th>3</th>\n",
       "      <td>01. Centro</td>\n",
       "      <td>4802.0</td>\n",
       "      <td>4809.0</td>\n",
       "      <td>4849.0</td>\n",
       "      <td>4830.0</td>\n",
       "      <td>4841.0</td>\n",
       "      <td>4865.0</td>\n",
       "      <td>4878.0</td>\n",
       "      <td>4909.0</td>\n",
       "      <td>4934.0</td>\n",
       "      <td>4963.0</td>\n",
       "      <td>4981.0</td>\n",
       "      <td>5061.0</td>\n",
       "      <td>5075.0</td>\n",
       "      <td>5062.0</td>\n",
       "      <td>5026.0</td>\n",
       "      <td>5088.0</td>\n",
       "      <td>5096.0</td>\n",
       "    </tr>\n",
       "    <tr>\n",
       "      <th>4</th>\n",
       "      <td>02. Arganzuela</td>\n",
       "      <td>4000.0</td>\n",
       "      <td>3932.0</td>\n",
       "      <td>3942.0</td>\n",
       "      <td>3915.0</td>\n",
       "      <td>3915.0</td>\n",
       "      <td>3888.0</td>\n",
       "      <td>3917.0</td>\n",
       "      <td>3908.0</td>\n",
       "      <td>3915.0</td>\n",
       "      <td>3912.0</td>\n",
       "      <td>3910.0</td>\n",
       "      <td>3948.0</td>\n",
       "      <td>3962.0</td>\n",
       "      <td>3903.0</td>\n",
       "      <td>3878.0</td>\n",
       "      <td>3894.0</td>\n",
       "      <td>3983.0</td>\n",
       "    </tr>\n",
       "    <tr>\n",
       "      <th>5</th>\n",
       "      <td>03. Retiro</td>\n",
       "      <td>4692.0</td>\n",
       "      <td>4583.0</td>\n",
       "      <td>4584.0</td>\n",
       "      <td>4537.0</td>\n",
       "      <td>4496.0</td>\n",
       "      <td>4502.0</td>\n",
       "      <td>4520.0</td>\n",
       "      <td>4517.0</td>\n",
       "      <td>4548.0</td>\n",
       "      <td>4514.0</td>\n",
       "      <td>4513.0</td>\n",
       "      <td>4564.0</td>\n",
       "      <td>4586.0</td>\n",
       "      <td>4560.0</td>\n",
       "      <td>4555.0</td>\n",
       "      <td>4549.0</td>\n",
       "      <td>4572.0</td>\n",
       "    </tr>\n",
       "    <tr>\n",
       "      <th>6</th>\n",
       "      <td>04. Salamanca</td>\n",
       "      <td>5949.0</td>\n",
       "      <td>5933.0</td>\n",
       "      <td>5914.0</td>\n",
       "      <td>5807.0</td>\n",
       "      <td>5789.0</td>\n",
       "      <td>5740.0</td>\n",
       "      <td>5747.0</td>\n",
       "      <td>5808.0</td>\n",
       "      <td>5826.0</td>\n",
       "      <td>5833.0</td>\n",
       "      <td>5903.0</td>\n",
       "      <td>5986.0</td>\n",
       "      <td>5985.0</td>\n",
       "      <td>5893.0</td>\n",
       "      <td>5815.0</td>\n",
       "      <td>5786.0</td>\n",
       "      <td>5872.0</td>\n",
       "    </tr>\n",
       "    <tr>\n",
       "      <th>7</th>\n",
       "      <td>05. Chamartín</td>\n",
       "      <td>5115.0</td>\n",
       "      <td>5097.0</td>\n",
       "      <td>5084.0</td>\n",
       "      <td>5056.0</td>\n",
       "      <td>5020.0</td>\n",
       "      <td>4999.0</td>\n",
       "      <td>5018.0</td>\n",
       "      <td>5040.0</td>\n",
       "      <td>5056.0</td>\n",
       "      <td>5068.0</td>\n",
       "      <td>5109.0</td>\n",
       "      <td>5180.0</td>\n",
       "      <td>5179.0</td>\n",
       "      <td>5143.0</td>\n",
       "      <td>5118.0</td>\n",
       "      <td>5105.0</td>\n",
       "      <td>5070.0</td>\n",
       "    </tr>\n",
       "  </tbody>\n",
       "</table>\n",
       "</div>"
      ],
      "text/plain": [
       "         Distrito  202105  202104  202103  202102  202101  202012  202011  \\\n",
       "3      01. Centro  4802.0  4809.0  4849.0  4830.0  4841.0  4865.0  4878.0   \n",
       "4  02. Arganzuela  4000.0  3932.0  3942.0  3915.0  3915.0  3888.0  3917.0   \n",
       "5      03. Retiro  4692.0  4583.0  4584.0  4537.0  4496.0  4502.0  4520.0   \n",
       "6   04. Salamanca  5949.0  5933.0  5914.0  5807.0  5789.0  5740.0  5747.0   \n",
       "7   05. Chamartín  5115.0  5097.0  5084.0  5056.0  5020.0  4999.0  5018.0   \n",
       "\n",
       "   202010  202009  202008  202007  202007  202005  202004  202003  202002  \\\n",
       "3  4909.0  4934.0  4963.0  4981.0  5061.0  5075.0  5062.0  5026.0  5088.0   \n",
       "4  3908.0  3915.0  3912.0  3910.0  3948.0  3962.0  3903.0  3878.0  3894.0   \n",
       "5  4517.0  4548.0  4514.0  4513.0  4564.0  4586.0  4560.0  4555.0  4549.0   \n",
       "6  5808.0  5826.0  5833.0  5903.0  5986.0  5985.0  5893.0  5815.0  5786.0   \n",
       "7  5040.0  5056.0  5068.0  5109.0  5180.0  5179.0  5143.0  5118.0  5105.0   \n",
       "\n",
       "   202001  \n",
       "3  5096.0  \n",
       "4  3983.0  \n",
       "5  4572.0  \n",
       "6  5872.0  \n",
       "7  5070.0  "
      ]
     },
     "execution_count": 234,
     "metadata": {},
     "output_type": "execute_result"
    }
   ],
   "source": [
    "df.head()"
   ]
  },
  {
   "cell_type": "code",
   "execution_count": 235,
   "metadata": {},
   "outputs": [
    {
     "data": {
      "text/html": [
       "<div>\n",
       "<style scoped>\n",
       "    .dataframe tbody tr th:only-of-type {\n",
       "        vertical-align: middle;\n",
       "    }\n",
       "\n",
       "    .dataframe tbody tr th {\n",
       "        vertical-align: top;\n",
       "    }\n",
       "\n",
       "    .dataframe thead th {\n",
       "        text-align: right;\n",
       "    }\n",
       "</style>\n",
       "<table border=\"1\" class=\"dataframe\">\n",
       "  <thead>\n",
       "    <tr style=\"text-align: right;\">\n",
       "      <th></th>\n",
       "      <th>Distrito</th>\n",
       "      <th>202105</th>\n",
       "      <th>202104</th>\n",
       "      <th>202103</th>\n",
       "      <th>202102</th>\n",
       "      <th>202101</th>\n",
       "      <th>202012</th>\n",
       "      <th>202011</th>\n",
       "      <th>202010</th>\n",
       "      <th>202009</th>\n",
       "      <th>202008</th>\n",
       "      <th>202007</th>\n",
       "      <th>202007</th>\n",
       "      <th>202005</th>\n",
       "      <th>202004</th>\n",
       "      <th>202003</th>\n",
       "      <th>202002</th>\n",
       "      <th>202001</th>\n",
       "    </tr>\n",
       "  </thead>\n",
       "  <tbody>\n",
       "    <tr>\n",
       "      <th>18</th>\n",
       "      <td>16. Hortaleza</td>\n",
       "      <td>3754.0</td>\n",
       "      <td>3688.0</td>\n",
       "      <td>3647.0</td>\n",
       "      <td>3665.0</td>\n",
       "      <td>3660.0</td>\n",
       "      <td>3668.0</td>\n",
       "      <td>3641.0</td>\n",
       "      <td>3583.0</td>\n",
       "      <td>3601.0</td>\n",
       "      <td>3646.0</td>\n",
       "      <td>3711.0</td>\n",
       "      <td>3710.0</td>\n",
       "      <td>3714.0</td>\n",
       "      <td>3759.0</td>\n",
       "      <td>3738.0</td>\n",
       "      <td>3737.0</td>\n",
       "      <td>3688.0</td>\n",
       "    </tr>\n",
       "    <tr>\n",
       "      <th>19</th>\n",
       "      <td>17. Villaverde</td>\n",
       "      <td>1721.0</td>\n",
       "      <td>1707.0</td>\n",
       "      <td>1717.0</td>\n",
       "      <td>1701.0</td>\n",
       "      <td>1692.0</td>\n",
       "      <td>1706.0</td>\n",
       "      <td>1714.0</td>\n",
       "      <td>1716.0</td>\n",
       "      <td>1712.0</td>\n",
       "      <td>1709.0</td>\n",
       "      <td>1707.0</td>\n",
       "      <td>1707.0</td>\n",
       "      <td>1728.0</td>\n",
       "      <td>1727.0</td>\n",
       "      <td>1734.0</td>\n",
       "      <td>1730.0</td>\n",
       "      <td>1730.0</td>\n",
       "    </tr>\n",
       "    <tr>\n",
       "      <th>20</th>\n",
       "      <td>18. Villa Vallecas</td>\n",
       "      <td>2313.0</td>\n",
       "      <td>2307.0</td>\n",
       "      <td>2320.0</td>\n",
       "      <td>2343.0</td>\n",
       "      <td>2396.0</td>\n",
       "      <td>2384.0</td>\n",
       "      <td>2376.0</td>\n",
       "      <td>2363.0</td>\n",
       "      <td>2389.0</td>\n",
       "      <td>2413.0</td>\n",
       "      <td>2461.0</td>\n",
       "      <td>2471.0</td>\n",
       "      <td>2437.0</td>\n",
       "      <td>2366.0</td>\n",
       "      <td>2367.0</td>\n",
       "      <td>2364.0</td>\n",
       "      <td>2434.0</td>\n",
       "    </tr>\n",
       "    <tr>\n",
       "      <th>21</th>\n",
       "      <td>19. Vicálvaro</td>\n",
       "      <td>2438.0</td>\n",
       "      <td>2451.0</td>\n",
       "      <td>2417.0</td>\n",
       "      <td>2374.0</td>\n",
       "      <td>2354.0</td>\n",
       "      <td>2318.0</td>\n",
       "      <td>2322.0</td>\n",
       "      <td>2324.0</td>\n",
       "      <td>2323.0</td>\n",
       "      <td>2303.0</td>\n",
       "      <td>2296.0</td>\n",
       "      <td>2331.0</td>\n",
       "      <td>2350.0</td>\n",
       "      <td>2334.0</td>\n",
       "      <td>2322.0</td>\n",
       "      <td>2346.0</td>\n",
       "      <td>2355.0</td>\n",
       "    </tr>\n",
       "    <tr>\n",
       "      <th>22</th>\n",
       "      <td>20. San Blas-Canillejas</td>\n",
       "      <td>2520.0</td>\n",
       "      <td>2554.0</td>\n",
       "      <td>2573.0</td>\n",
       "      <td>2528.0</td>\n",
       "      <td>2501.0</td>\n",
       "      <td>2558.0</td>\n",
       "      <td>2570.0</td>\n",
       "      <td>2538.0</td>\n",
       "      <td>2538.0</td>\n",
       "      <td>2511.0</td>\n",
       "      <td>2482.0</td>\n",
       "      <td>2446.0</td>\n",
       "      <td>2497.0</td>\n",
       "      <td>2517.0</td>\n",
       "      <td>2499.0</td>\n",
       "      <td>2491.0</td>\n",
       "      <td>2488.0</td>\n",
       "    </tr>\n",
       "  </tbody>\n",
       "</table>\n",
       "</div>"
      ],
      "text/plain": [
       "                   Distrito  202105  202104  202103  202102  202101  202012  \\\n",
       "18            16. Hortaleza  3754.0  3688.0  3647.0  3665.0  3660.0  3668.0   \n",
       "19           17. Villaverde  1721.0  1707.0  1717.0  1701.0  1692.0  1706.0   \n",
       "20       18. Villa Vallecas  2313.0  2307.0  2320.0  2343.0  2396.0  2384.0   \n",
       "21            19. Vicálvaro  2438.0  2451.0  2417.0  2374.0  2354.0  2318.0   \n",
       "22  20. San Blas-Canillejas  2520.0  2554.0  2573.0  2528.0  2501.0  2558.0   \n",
       "\n",
       "    202011  202010  202009  202008  202007  202007  202005  202004  202003  \\\n",
       "18  3641.0  3583.0  3601.0  3646.0  3711.0  3710.0  3714.0  3759.0  3738.0   \n",
       "19  1714.0  1716.0  1712.0  1709.0  1707.0  1707.0  1728.0  1727.0  1734.0   \n",
       "20  2376.0  2363.0  2389.0  2413.0  2461.0  2471.0  2437.0  2366.0  2367.0   \n",
       "21  2322.0  2324.0  2323.0  2303.0  2296.0  2331.0  2350.0  2334.0  2322.0   \n",
       "22  2570.0  2538.0  2538.0  2511.0  2482.0  2446.0  2497.0  2517.0  2499.0   \n",
       "\n",
       "    202002  202001  \n",
       "18  3737.0  3688.0  \n",
       "19  1730.0  1730.0  \n",
       "20  2364.0  2434.0  \n",
       "21  2346.0  2355.0  \n",
       "22  2491.0  2488.0  "
      ]
     },
     "execution_count": 235,
     "metadata": {},
     "output_type": "execute_result"
    }
   ],
   "source": [
    "df.tail()"
   ]
  },
  {
   "cell_type": "code",
   "execution_count": 254,
   "metadata": {},
   "outputs": [
    {
     "data": {
      "text/plain": [
       "Index(['Mayo', 'Abril', 'Marzo', 'Febrero', 'Enero', 'Diciembre', 'Noviembre',\n",
       "       'Octubre', 'Septiembre', 'Agosto', 'Julio', 'Junio', 'Mayo.1',\n",
       "       'Abril.1', 'Marzo.1', 'Febrero.1', 'Enero.1'],\n",
       "      dtype='object')"
      ]
     },
     "execution_count": 254,
     "metadata": {},
     "output_type": "execute_result"
    }
   ],
   "source": [
    "df.columns"
   ]
  },
  {
   "cell_type": "code",
   "execution_count": 252,
   "metadata": {},
   "outputs": [
    {
     "name": "stdout",
     "output_type": "stream",
     "text": [
      "<class 'pandas.core.frame.DataFrame'>\n",
      "Index: 20 entries, 01. Centro to 20. San Blas-Canillejas\n",
      "Data columns (total 17 columns):\n",
      " #   Column      Non-Null Count  Dtype  \n",
      "---  ------      --------------  -----  \n",
      " 0   Mayo        20 non-null     float64\n",
      " 1   Abril       20 non-null     float64\n",
      " 2   Marzo       20 non-null     float64\n",
      " 3   Febrero     20 non-null     float64\n",
      " 4   Enero       20 non-null     float64\n",
      " 5   Diciembre   20 non-null     float64\n",
      " 6   Noviembre   20 non-null     float64\n",
      " 7   Octubre     20 non-null     float64\n",
      " 8   Septiembre  20 non-null     float64\n",
      " 9   Agosto      20 non-null     float64\n",
      " 10  Julio       20 non-null     float64\n",
      " 11  Junio       20 non-null     float64\n",
      " 12  Mayo.1      20 non-null     float64\n",
      " 13  Abril.1     20 non-null     float64\n",
      " 14  Marzo.1     20 non-null     float64\n",
      " 15  Febrero.1   20 non-null     float64\n",
      " 16  Enero.1     20 non-null     float64\n",
      "dtypes: float64(17)\n",
      "memory usage: 2.8+ KB\n"
     ]
    }
   ],
   "source": [
    "df.info()"
   ]
  },
  {
   "cell_type": "code",
   "execution_count": 236,
   "metadata": {},
   "outputs": [
    {
     "data": {
      "text/plain": [
       "['01. Centro',\n",
       " '02. Arganzuela',\n",
       " '03. Retiro',\n",
       " '04. Salamanca',\n",
       " '05. Chamartín',\n",
       " '06. Tetuán',\n",
       " '07. Chamberí',\n",
       " '08. Fuencarral-El Pardo',\n",
       " '09. Moncloa-Aravaca',\n",
       " '10. Latina',\n",
       " '11. Carabanchel',\n",
       " '12. Usera',\n",
       " '13. Puente Vallecas',\n",
       " '14. Moratalaz',\n",
       " '15. Ciudad Lineal',\n",
       " '16. Hortaleza',\n",
       " '17. Villaverde',\n",
       " '18. Villa Vallecas',\n",
       " '19. Vicálvaro',\n",
       " '20. San Blas-Canillejas']"
      ]
     },
     "execution_count": 236,
     "metadata": {},
     "output_type": "execute_result"
    }
   ],
   "source": [
    "Distrito_list=df.Distrito.to_list()\n",
    "Distrito_list"
   ]
  },
  {
   "cell_type": "code",
   "execution_count": 253,
   "metadata": {},
   "outputs": [
    {
     "ename": "KeyError",
     "evalue": "\"None of ['Distrito'] are in the columns\"",
     "output_type": "error",
     "traceback": [
      "\u001b[1;31m---------------------------------------------------------------------------\u001b[0m",
      "\u001b[1;31mKeyError\u001b[0m                                  Traceback (most recent call last)",
      "\u001b[1;32m<ipython-input-253-48cd9ae2da2f>\u001b[0m in \u001b[0;36m<module>\u001b[1;34m\u001b[0m\n\u001b[1;32m----> 1\u001b[1;33m \u001b[0mdf\u001b[0m\u001b[1;33m.\u001b[0m\u001b[0mset_index\u001b[0m\u001b[1;33m(\u001b[0m\u001b[1;34m'Distrito'\u001b[0m\u001b[1;33m,\u001b[0m\u001b[0minplace\u001b[0m\u001b[1;33m=\u001b[0m\u001b[1;32mTrue\u001b[0m\u001b[1;33m)\u001b[0m\u001b[1;33m\u001b[0m\u001b[1;33m\u001b[0m\u001b[0m\n\u001b[0m\u001b[0;32m      2\u001b[0m \u001b[0mdf\u001b[0m\u001b[1;33m.\u001b[0m\u001b[0mtranspose\u001b[0m\u001b[1;33m(\u001b[0m\u001b[1;33m)\u001b[0m\u001b[1;33m\u001b[0m\u001b[1;33m\u001b[0m\u001b[0m\n\u001b[0;32m      3\u001b[0m \u001b[0mdf_trasp\u001b[0m\u001b[1;33m=\u001b[0m\u001b[0mdf\u001b[0m\u001b[1;33m.\u001b[0m\u001b[0mtranspose\u001b[0m \u001b[1;33m(\u001b[0m\u001b[1;33m)\u001b[0m\u001b[1;33m\u001b[0m\u001b[1;33m\u001b[0m\u001b[0m\n\u001b[0;32m      4\u001b[0m \u001b[0mdf_trasp\u001b[0m\u001b[1;33m\u001b[0m\u001b[1;33m\u001b[0m\u001b[0m\n",
      "\u001b[1;32m~\\anaconda3\\lib\\site-packages\\pandas\\core\\frame.py\u001b[0m in \u001b[0;36mset_index\u001b[1;34m(self, keys, drop, append, inplace, verify_integrity)\u001b[0m\n\u001b[0;32m   4301\u001b[0m \u001b[1;33m\u001b[0m\u001b[0m\n\u001b[0;32m   4302\u001b[0m         \u001b[1;32mif\u001b[0m \u001b[0mmissing\u001b[0m\u001b[1;33m:\u001b[0m\u001b[1;33m\u001b[0m\u001b[1;33m\u001b[0m\u001b[0m\n\u001b[1;32m-> 4303\u001b[1;33m             \u001b[1;32mraise\u001b[0m \u001b[0mKeyError\u001b[0m\u001b[1;33m(\u001b[0m\u001b[1;34mf\"None of {missing} are in the columns\"\u001b[0m\u001b[1;33m)\u001b[0m\u001b[1;33m\u001b[0m\u001b[1;33m\u001b[0m\u001b[0m\n\u001b[0m\u001b[0;32m   4304\u001b[0m \u001b[1;33m\u001b[0m\u001b[0m\n\u001b[0;32m   4305\u001b[0m         \u001b[1;32mif\u001b[0m \u001b[0minplace\u001b[0m\u001b[1;33m:\u001b[0m\u001b[1;33m\u001b[0m\u001b[1;33m\u001b[0m\u001b[0m\n",
      "\u001b[1;31mKeyError\u001b[0m: \"None of ['Distrito'] are in the columns\""
     ]
    }
   ],
   "source": [
    "df.set_index('Distrito',inplace=True)\n",
    "df.transpose()\n",
    "df_trasp=df.transpose () \n",
    "df_trasp"
   ]
  },
  {
   "cell_type": "code",
   "execution_count": null,
   "metadata": {},
   "outputs": [],
   "source": []
  },
  {
   "cell_type": "code",
   "execution_count": 221,
   "metadata": {},
   "outputs": [],
   "source": [
    "import plotly.express as px "
   ]
  },
  {
   "cell_type": "code",
   "execution_count": 225,
   "metadata": {},
   "outputs": [
    {
     "ename": "ValueError",
     "evalue": "Value of 'x' is not the name of a column in 'data_frame'. Expected one of [202105, 202104, 202103, 202102, 202101, 202012, 202011, 202010, 202009, 202008, 202007, 202007, 202005, 202004, 202003, 202002, 202001] but received: Distrito",
     "output_type": "error",
     "traceback": [
      "\u001b[1;31m---------------------------------------------------------------------------\u001b[0m",
      "\u001b[1;31mValueError\u001b[0m                                Traceback (most recent call last)",
      "\u001b[1;32m<ipython-input-225-7047f9505106>\u001b[0m in \u001b[0;36m<module>\u001b[1;34m\u001b[0m\n\u001b[1;32m----> 1\u001b[1;33m fig = px.line(df, x=\"Distrito\", y=\"df.columns\",  \n\u001b[0m\u001b[0;32m      2\u001b[0m               color=\"Distrito\") \n\u001b[0;32m      3\u001b[0m \u001b[0mfig\u001b[0m\u001b[1;33m.\u001b[0m\u001b[0mshow\u001b[0m\u001b[1;33m(\u001b[0m\u001b[1;33m)\u001b[0m\u001b[1;33m\u001b[0m\u001b[1;33m\u001b[0m\u001b[0m\n",
      "\u001b[1;32m~\\anaconda3\\lib\\site-packages\\plotly\\express\\_chart_types.py\u001b[0m in \u001b[0;36mline\u001b[1;34m(data_frame, x, y, line_group, color, line_dash, hover_name, hover_data, custom_data, text, facet_row, facet_col, facet_col_wrap, facet_row_spacing, facet_col_spacing, error_x, error_x_minus, error_y, error_y_minus, animation_frame, animation_group, category_orders, labels, orientation, color_discrete_sequence, color_discrete_map, line_dash_sequence, line_dash_map, log_x, log_y, range_x, range_y, line_shape, render_mode, title, template, width, height)\u001b[0m\n\u001b[0;32m    250\u001b[0m     \u001b[0ma\u001b[0m \u001b[0mpolyline\u001b[0m \u001b[0mmark\u001b[0m \u001b[1;32min\u001b[0m \u001b[1;36m2\u001b[0m\u001b[0mD\u001b[0m \u001b[0mspace\u001b[0m\u001b[1;33m.\u001b[0m\u001b[1;33m\u001b[0m\u001b[1;33m\u001b[0m\u001b[0m\n\u001b[0;32m    251\u001b[0m     \"\"\"\n\u001b[1;32m--> 252\u001b[1;33m     \u001b[1;32mreturn\u001b[0m \u001b[0mmake_figure\u001b[0m\u001b[1;33m(\u001b[0m\u001b[0margs\u001b[0m\u001b[1;33m=\u001b[0m\u001b[0mlocals\u001b[0m\u001b[1;33m(\u001b[0m\u001b[1;33m)\u001b[0m\u001b[1;33m,\u001b[0m \u001b[0mconstructor\u001b[0m\u001b[1;33m=\u001b[0m\u001b[0mgo\u001b[0m\u001b[1;33m.\u001b[0m\u001b[0mScatter\u001b[0m\u001b[1;33m)\u001b[0m\u001b[1;33m\u001b[0m\u001b[1;33m\u001b[0m\u001b[0m\n\u001b[0m\u001b[0;32m    253\u001b[0m \u001b[1;33m\u001b[0m\u001b[0m\n\u001b[0;32m    254\u001b[0m \u001b[1;33m\u001b[0m\u001b[0m\n",
      "\u001b[1;32m~\\anaconda3\\lib\\site-packages\\plotly\\express\\_core.py\u001b[0m in \u001b[0;36mmake_figure\u001b[1;34m(args, constructor, trace_patch, layout_patch)\u001b[0m\n\u001b[0;32m   1859\u001b[0m     \u001b[0mapply_default_cascade\u001b[0m\u001b[1;33m(\u001b[0m\u001b[0margs\u001b[0m\u001b[1;33m)\u001b[0m\u001b[1;33m\u001b[0m\u001b[1;33m\u001b[0m\u001b[0m\n\u001b[0;32m   1860\u001b[0m \u001b[1;33m\u001b[0m\u001b[0m\n\u001b[1;32m-> 1861\u001b[1;33m     \u001b[0margs\u001b[0m \u001b[1;33m=\u001b[0m \u001b[0mbuild_dataframe\u001b[0m\u001b[1;33m(\u001b[0m\u001b[0margs\u001b[0m\u001b[1;33m,\u001b[0m \u001b[0mconstructor\u001b[0m\u001b[1;33m)\u001b[0m\u001b[1;33m\u001b[0m\u001b[1;33m\u001b[0m\u001b[0m\n\u001b[0m\u001b[0;32m   1862\u001b[0m     \u001b[1;32mif\u001b[0m \u001b[0mconstructor\u001b[0m \u001b[1;32min\u001b[0m \u001b[1;33m[\u001b[0m\u001b[0mgo\u001b[0m\u001b[1;33m.\u001b[0m\u001b[0mTreemap\u001b[0m\u001b[1;33m,\u001b[0m \u001b[0mgo\u001b[0m\u001b[1;33m.\u001b[0m\u001b[0mSunburst\u001b[0m\u001b[1;33m]\u001b[0m \u001b[1;32mand\u001b[0m \u001b[0margs\u001b[0m\u001b[1;33m[\u001b[0m\u001b[1;34m\"path\"\u001b[0m\u001b[1;33m]\u001b[0m \u001b[1;32mis\u001b[0m \u001b[1;32mnot\u001b[0m \u001b[1;32mNone\u001b[0m\u001b[1;33m:\u001b[0m\u001b[1;33m\u001b[0m\u001b[1;33m\u001b[0m\u001b[0m\n\u001b[0;32m   1863\u001b[0m         \u001b[0margs\u001b[0m \u001b[1;33m=\u001b[0m \u001b[0mprocess_dataframe_hierarchy\u001b[0m\u001b[1;33m(\u001b[0m\u001b[0margs\u001b[0m\u001b[1;33m)\u001b[0m\u001b[1;33m\u001b[0m\u001b[1;33m\u001b[0m\u001b[0m\n",
      "\u001b[1;32m~\\anaconda3\\lib\\site-packages\\plotly\\express\\_core.py\u001b[0m in \u001b[0;36mbuild_dataframe\u001b[1;34m(args, constructor)\u001b[0m\n\u001b[0;32m   1375\u001b[0m     \u001b[1;31m# now that things have been prepped, we do the systematic rewriting of `args`\u001b[0m\u001b[1;33m\u001b[0m\u001b[1;33m\u001b[0m\u001b[1;33m\u001b[0m\u001b[0m\n\u001b[0;32m   1376\u001b[0m \u001b[1;33m\u001b[0m\u001b[0m\n\u001b[1;32m-> 1377\u001b[1;33m     df_output, wide_id_vars = process_args_into_dataframe(\n\u001b[0m\u001b[0;32m   1378\u001b[0m         \u001b[0margs\u001b[0m\u001b[1;33m,\u001b[0m \u001b[0mwide_mode\u001b[0m\u001b[1;33m,\u001b[0m \u001b[0mvar_name\u001b[0m\u001b[1;33m,\u001b[0m \u001b[0mvalue_name\u001b[0m\u001b[1;33m\u001b[0m\u001b[1;33m\u001b[0m\u001b[0m\n\u001b[0;32m   1379\u001b[0m     )\n",
      "\u001b[1;32m~\\anaconda3\\lib\\site-packages\\plotly\\express\\_core.py\u001b[0m in \u001b[0;36mprocess_args_into_dataframe\u001b[1;34m(args, wide_mode, var_name, value_name)\u001b[0m\n\u001b[0;32m   1181\u001b[0m                         \u001b[1;32mif\u001b[0m \u001b[0margument\u001b[0m \u001b[1;33m==\u001b[0m \u001b[1;34m\"index\"\u001b[0m\u001b[1;33m:\u001b[0m\u001b[1;33m\u001b[0m\u001b[1;33m\u001b[0m\u001b[0m\n\u001b[0;32m   1182\u001b[0m                             \u001b[0merr_msg\u001b[0m \u001b[1;33m+=\u001b[0m \u001b[1;34m\"\\n To use the index, pass it in directly as `df.index`.\"\u001b[0m\u001b[1;33m\u001b[0m\u001b[1;33m\u001b[0m\u001b[0m\n\u001b[1;32m-> 1183\u001b[1;33m                         \u001b[1;32mraise\u001b[0m \u001b[0mValueError\u001b[0m\u001b[1;33m(\u001b[0m\u001b[0merr_msg\u001b[0m\u001b[1;33m)\u001b[0m\u001b[1;33m\u001b[0m\u001b[1;33m\u001b[0m\u001b[0m\n\u001b[0m\u001b[0;32m   1184\u001b[0m                 \u001b[1;32melif\u001b[0m \u001b[0mlength\u001b[0m \u001b[1;32mand\u001b[0m \u001b[0mlen\u001b[0m\u001b[1;33m(\u001b[0m\u001b[0mdf_input\u001b[0m\u001b[1;33m[\u001b[0m\u001b[0margument\u001b[0m\u001b[1;33m]\u001b[0m\u001b[1;33m)\u001b[0m \u001b[1;33m!=\u001b[0m \u001b[0mlength\u001b[0m\u001b[1;33m:\u001b[0m\u001b[1;33m\u001b[0m\u001b[1;33m\u001b[0m\u001b[0m\n\u001b[0;32m   1185\u001b[0m                     raise ValueError(\n",
      "\u001b[1;31mValueError\u001b[0m: Value of 'x' is not the name of a column in 'data_frame'. Expected one of [202105, 202104, 202103, 202102, 202101, 202012, 202011, 202010, 202009, 202008, 202007, 202007, 202005, 202004, 202003, 202002, 202001] but received: Distrito"
     ]
    }
   ],
   "source": [
    "fig = px.line(df_t, x=\"Distrito\", y=\"df.columns\",  \n",
    "              color=\"Distrito\") \n",
    "fig.show()"
   ]
  },
  {
   "cell_type": "code",
   "execution_count": null,
   "metadata": {},
   "outputs": [],
   "source": [
    "\n"
   ]
  },
  {
   "cell_type": "code",
   "execution_count": null,
   "metadata": {},
   "outputs": [],
   "source": []
  },
  {
   "cell_type": "code",
   "execution_count": 49,
   "metadata": {},
   "outputs": [],
   "source": []
  },
  {
   "cell_type": "code",
   "execution_count": null,
   "metadata": {},
   "outputs": [],
   "source": []
  },
  {
   "cell_type": "code",
   "execution_count": 51,
   "metadata": {},
   "outputs": [],
   "source": [
    "df_criminalidad_mayo_21[\"MES\"]=\"Mayo\"\n",
    "df_criminalidad_mayo_21[\"AÑO\"]=2021"
   ]
  },
  {
   "cell_type": "code",
   "execution_count": 52,
   "metadata": {},
   "outputs": [
    {
     "data": {
      "text/html": [
       "<div>\n",
       "<style scoped>\n",
       "    .dataframe tbody tr th:only-of-type {\n",
       "        vertical-align: middle;\n",
       "    }\n",
       "\n",
       "    .dataframe tbody tr th {\n",
       "        vertical-align: top;\n",
       "    }\n",
       "\n",
       "    .dataframe thead th {\n",
       "        text-align: right;\n",
       "    }\n",
       "</style>\n",
       "<table border=\"1\" class=\"dataframe\">\n",
       "  <thead>\n",
       "    <tr style=\"text-align: right;\">\n",
       "      <th>1</th>\n",
       "      <th>DISTRITOS</th>\n",
       "      <th>RELACIONADAS CON LAS PERSONAS</th>\n",
       "      <th>RELACIONADAS CON EL PATRIMONIO</th>\n",
       "      <th>POR TENENCIA DE ARMAS</th>\n",
       "      <th>POR TENENCIA DE DROGAS</th>\n",
       "      <th>POR CONSUMO DE DROGAS</th>\n",
       "      <th>MES</th>\n",
       "      <th>AÑO</th>\n",
       "    </tr>\n",
       "  </thead>\n",
       "  <tbody>\n",
       "    <tr>\n",
       "      <th>2</th>\n",
       "      <td>CENTRO</td>\n",
       "      <td>52</td>\n",
       "      <td>97</td>\n",
       "      <td>15</td>\n",
       "      <td>76</td>\n",
       "      <td>12</td>\n",
       "      <td>Mayo</td>\n",
       "      <td>2021</td>\n",
       "    </tr>\n",
       "    <tr>\n",
       "      <th>3</th>\n",
       "      <td>ARGANZUELA</td>\n",
       "      <td>6</td>\n",
       "      <td>14</td>\n",
       "      <td>2</td>\n",
       "      <td>6</td>\n",
       "      <td>14</td>\n",
       "      <td>Mayo</td>\n",
       "      <td>2021</td>\n",
       "    </tr>\n",
       "    <tr>\n",
       "      <th>4</th>\n",
       "      <td>RETIRO</td>\n",
       "      <td>2</td>\n",
       "      <td>4</td>\n",
       "      <td>2</td>\n",
       "      <td>21</td>\n",
       "      <td>2</td>\n",
       "      <td>Mayo</td>\n",
       "      <td>2021</td>\n",
       "    </tr>\n",
       "    <tr>\n",
       "      <th>5</th>\n",
       "      <td>SALAMANCA</td>\n",
       "      <td>8</td>\n",
       "      <td>43</td>\n",
       "      <td>1</td>\n",
       "      <td>20</td>\n",
       "      <td>2</td>\n",
       "      <td>Mayo</td>\n",
       "      <td>2021</td>\n",
       "    </tr>\n",
       "    <tr>\n",
       "      <th>6</th>\n",
       "      <td>CHAMARTÍN</td>\n",
       "      <td>5</td>\n",
       "      <td>10</td>\n",
       "      <td>3</td>\n",
       "      <td>16</td>\n",
       "      <td>4</td>\n",
       "      <td>Mayo</td>\n",
       "      <td>2021</td>\n",
       "    </tr>\n",
       "  </tbody>\n",
       "</table>\n",
       "</div>"
      ],
      "text/plain": [
       "1   DISTRITOS RELACIONADAS CON LAS PERSONAS RELACIONADAS CON EL PATRIMONIO  \\\n",
       "2      CENTRO                            52                             97   \n",
       "3  ARGANZUELA                             6                             14   \n",
       "4      RETIRO                             2                              4   \n",
       "5   SALAMANCA                             8                             43   \n",
       "6   CHAMARTÍN                             5                             10   \n",
       "\n",
       "1 POR TENENCIA DE ARMAS POR TENENCIA DE DROGAS POR CONSUMO DE DROGAS   MES  \\\n",
       "2                    15                     76                    12  Mayo   \n",
       "3                     2                      6                    14  Mayo   \n",
       "4                     2                     21                     2  Mayo   \n",
       "5                     1                     20                     2  Mayo   \n",
       "6                     3                     16                     4  Mayo   \n",
       "\n",
       "1   AÑO  \n",
       "2  2021  \n",
       "3  2021  \n",
       "4  2021  \n",
       "5  2021  \n",
       "6  2021  "
      ]
     },
     "execution_count": 52,
     "metadata": {},
     "output_type": "execute_result"
    }
   ],
   "source": [
    "df_criminalidad_mayo_21.head()"
   ]
  },
  {
   "cell_type": "code",
   "execution_count": 53,
   "metadata": {},
   "outputs": [
    {
     "name": "stdout",
     "output_type": "stream",
     "text": [
      "<class 'pandas.core.frame.DataFrame'>\n",
      "Int64Index: 23 entries, 2 to 24\n",
      "Data columns (total 8 columns):\n",
      " #   Column                          Non-Null Count  Dtype \n",
      "---  ------                          --------------  ----- \n",
      " 0   DISTRITOS                       23 non-null     object\n",
      " 1   RELACIONADAS CON LAS PERSONAS   23 non-null     object\n",
      " 2   RELACIONADAS CON EL PATRIMONIO  23 non-null     object\n",
      " 3   POR TENENCIA DE ARMAS           23 non-null     object\n",
      " 4   POR TENENCIA DE DROGAS          23 non-null     object\n",
      " 5   POR CONSUMO DE DROGAS           23 non-null     object\n",
      " 6   MES                             23 non-null     object\n",
      " 7   AÑO                             23 non-null     int64 \n",
      "dtypes: int64(1), object(7)\n",
      "memory usage: 1.6+ KB\n"
     ]
    }
   ],
   "source": [
    "df_criminalidad_mayo_21.info()"
   ]
  },
  {
   "cell_type": "code",
   "execution_count": 54,
   "metadata": {},
   "outputs": [
    {
     "name": "stdout",
     "output_type": "stream",
     "text": [
      "1\n",
      "DISTRITOS                         object\n",
      "RELACIONADAS CON LAS PERSONAS      int32\n",
      "RELACIONADAS CON EL PATRIMONIO     int32\n",
      "POR TENENCIA DE ARMAS              int32\n",
      "POR TENENCIA DE DROGAS             int32\n",
      "POR CONSUMO DE DROGAS              int32\n",
      "MES                               object\n",
      "AÑO                                int64\n",
      "dtype: object\n"
     ]
    }
   ],
   "source": [
    "#print(pd.to_numeric(df_criminalidad_mayo_21, errors='coerce'))\n",
    "df_criminalidad_mayo_21[['RELACIONADAS CON LAS PERSONAS',\n",
    "       'RELACIONADAS CON EL PATRIMONIO', 'POR TENENCIA DE ARMAS',\n",
    "       'POR TENENCIA DE DROGAS', 'POR CONSUMO DE DROGAS']] = df_criminalidad_mayo_21[['RELACIONADAS CON LAS PERSONAS',\n",
    "       'RELACIONADAS CON EL PATRIMONIO', 'POR TENENCIA DE ARMAS',\n",
    "       'POR TENENCIA DE DROGAS', 'POR CONSUMO DE DROGAS']].astype(str).astype(int)\n",
    "  \n",
    "print(df_criminalidad_mayo_21.dtypes)"
   ]
  },
  {
   "cell_type": "code",
   "execution_count": 55,
   "metadata": {},
   "outputs": [],
   "source": [
    "df_criminalidad_mayo_21[\"TOTAL_INSEGURIDAD\"]= df_criminalidad_mayo_21.apply(lambda row: (row['RELACIONADAS CON LAS PERSONAS'] +\n",
    "       row['RELACIONADAS CON EL PATRIMONIO'] + row['POR TENENCIA DE ARMAS']+ row['POR TENENCIA DE DROGAS'] + \n",
    "        row['POR CONSUMO DE DROGAS']), axis=1)"
   ]
  },
  {
   "cell_type": "code",
   "execution_count": 56,
   "metadata": {},
   "outputs": [
    {
     "data": {
      "text/html": [
       "<div>\n",
       "<style scoped>\n",
       "    .dataframe tbody tr th:only-of-type {\n",
       "        vertical-align: middle;\n",
       "    }\n",
       "\n",
       "    .dataframe tbody tr th {\n",
       "        vertical-align: top;\n",
       "    }\n",
       "\n",
       "    .dataframe thead th {\n",
       "        text-align: right;\n",
       "    }\n",
       "</style>\n",
       "<table border=\"1\" class=\"dataframe\">\n",
       "  <thead>\n",
       "    <tr style=\"text-align: right;\">\n",
       "      <th>1</th>\n",
       "      <th>DISTRITOS</th>\n",
       "      <th>RELACIONADAS CON LAS PERSONAS</th>\n",
       "      <th>RELACIONADAS CON EL PATRIMONIO</th>\n",
       "      <th>POR TENENCIA DE ARMAS</th>\n",
       "      <th>POR TENENCIA DE DROGAS</th>\n",
       "      <th>POR CONSUMO DE DROGAS</th>\n",
       "      <th>MES</th>\n",
       "      <th>AÑO</th>\n",
       "      <th>TOTAL_INSEGURIDAD</th>\n",
       "    </tr>\n",
       "  </thead>\n",
       "  <tbody>\n",
       "    <tr>\n",
       "      <th>2</th>\n",
       "      <td>CENTRO</td>\n",
       "      <td>52</td>\n",
       "      <td>97</td>\n",
       "      <td>15</td>\n",
       "      <td>76</td>\n",
       "      <td>12</td>\n",
       "      <td>Mayo</td>\n",
       "      <td>2021</td>\n",
       "      <td>252</td>\n",
       "    </tr>\n",
       "    <tr>\n",
       "      <th>3</th>\n",
       "      <td>ARGANZUELA</td>\n",
       "      <td>6</td>\n",
       "      <td>14</td>\n",
       "      <td>2</td>\n",
       "      <td>6</td>\n",
       "      <td>14</td>\n",
       "      <td>Mayo</td>\n",
       "      <td>2021</td>\n",
       "      <td>42</td>\n",
       "    </tr>\n",
       "    <tr>\n",
       "      <th>4</th>\n",
       "      <td>RETIRO</td>\n",
       "      <td>2</td>\n",
       "      <td>4</td>\n",
       "      <td>2</td>\n",
       "      <td>21</td>\n",
       "      <td>2</td>\n",
       "      <td>Mayo</td>\n",
       "      <td>2021</td>\n",
       "      <td>31</td>\n",
       "    </tr>\n",
       "  </tbody>\n",
       "</table>\n",
       "</div>"
      ],
      "text/plain": [
       "1   DISTRITOS  RELACIONADAS CON LAS PERSONAS  RELACIONADAS CON EL PATRIMONIO  \\\n",
       "2      CENTRO                             52                              97   \n",
       "3  ARGANZUELA                              6                              14   \n",
       "4      RETIRO                              2                               4   \n",
       "\n",
       "1  POR TENENCIA DE ARMAS  POR TENENCIA DE DROGAS  POR CONSUMO DE DROGAS   MES  \\\n",
       "2                     15                      76                     12  Mayo   \n",
       "3                      2                       6                     14  Mayo   \n",
       "4                      2                      21                      2  Mayo   \n",
       "\n",
       "1   AÑO  TOTAL_INSEGURIDAD  \n",
       "2  2021                252  \n",
       "3  2021                 42  \n",
       "4  2021                 31  "
      ]
     },
     "execution_count": 56,
     "metadata": {},
     "output_type": "execute_result"
    }
   ],
   "source": [
    "df_criminalidad_mayo_21.head(3)"
   ]
  },
  {
   "cell_type": "code",
   "execution_count": 57,
   "metadata": {},
   "outputs": [],
   "source": [
    "#df_criminalidad_mayo_21.drop(columns=['RELACIONADAS CON LAS PERSONAS','RELACIONADAS CON EL PATRIMONIO',\n",
    "                                      #'POR TENENCIA DE ARMAS', 'POR TENENCIA DE DROGAS','POR CONSUMO DE DROGAS'],\n",
    "                             #inplace=True)\n"
   ]
  },
  {
   "cell_type": "code",
   "execution_count": 58,
   "metadata": {},
   "outputs": [
    {
     "data": {
      "text/html": [
       "<div>\n",
       "<style scoped>\n",
       "    .dataframe tbody tr th:only-of-type {\n",
       "        vertical-align: middle;\n",
       "    }\n",
       "\n",
       "    .dataframe tbody tr th {\n",
       "        vertical-align: top;\n",
       "    }\n",
       "\n",
       "    .dataframe thead th {\n",
       "        text-align: right;\n",
       "    }\n",
       "</style>\n",
       "<table border=\"1\" class=\"dataframe\">\n",
       "  <thead>\n",
       "    <tr style=\"text-align: right;\">\n",
       "      <th>1</th>\n",
       "      <th>DISTRITOS</th>\n",
       "      <th>RELACIONADAS CON LAS PERSONAS</th>\n",
       "      <th>RELACIONADAS CON EL PATRIMONIO</th>\n",
       "      <th>POR TENENCIA DE ARMAS</th>\n",
       "      <th>POR TENENCIA DE DROGAS</th>\n",
       "      <th>POR CONSUMO DE DROGAS</th>\n",
       "      <th>MES</th>\n",
       "      <th>AÑO</th>\n",
       "      <th>TOTAL_INSEGURIDAD</th>\n",
       "    </tr>\n",
       "  </thead>\n",
       "  <tbody>\n",
       "    <tr>\n",
       "      <th>2</th>\n",
       "      <td>CENTRO</td>\n",
       "      <td>52</td>\n",
       "      <td>97</td>\n",
       "      <td>15</td>\n",
       "      <td>76</td>\n",
       "      <td>12</td>\n",
       "      <td>Mayo</td>\n",
       "      <td>2021</td>\n",
       "      <td>252</td>\n",
       "    </tr>\n",
       "    <tr>\n",
       "      <th>3</th>\n",
       "      <td>ARGANZUELA</td>\n",
       "      <td>6</td>\n",
       "      <td>14</td>\n",
       "      <td>2</td>\n",
       "      <td>6</td>\n",
       "      <td>14</td>\n",
       "      <td>Mayo</td>\n",
       "      <td>2021</td>\n",
       "      <td>42</td>\n",
       "    </tr>\n",
       "    <tr>\n",
       "      <th>4</th>\n",
       "      <td>RETIRO</td>\n",
       "      <td>2</td>\n",
       "      <td>4</td>\n",
       "      <td>2</td>\n",
       "      <td>21</td>\n",
       "      <td>2</td>\n",
       "      <td>Mayo</td>\n",
       "      <td>2021</td>\n",
       "      <td>31</td>\n",
       "    </tr>\n",
       "    <tr>\n",
       "      <th>5</th>\n",
       "      <td>SALAMANCA</td>\n",
       "      <td>8</td>\n",
       "      <td>43</td>\n",
       "      <td>1</td>\n",
       "      <td>20</td>\n",
       "      <td>2</td>\n",
       "      <td>Mayo</td>\n",
       "      <td>2021</td>\n",
       "      <td>74</td>\n",
       "    </tr>\n",
       "    <tr>\n",
       "      <th>6</th>\n",
       "      <td>CHAMARTÍN</td>\n",
       "      <td>5</td>\n",
       "      <td>10</td>\n",
       "      <td>3</td>\n",
       "      <td>16</td>\n",
       "      <td>4</td>\n",
       "      <td>Mayo</td>\n",
       "      <td>2021</td>\n",
       "      <td>38</td>\n",
       "    </tr>\n",
       "  </tbody>\n",
       "</table>\n",
       "</div>"
      ],
      "text/plain": [
       "1   DISTRITOS  RELACIONADAS CON LAS PERSONAS  RELACIONADAS CON EL PATRIMONIO  \\\n",
       "2      CENTRO                             52                              97   \n",
       "3  ARGANZUELA                              6                              14   \n",
       "4      RETIRO                              2                               4   \n",
       "5   SALAMANCA                              8                              43   \n",
       "6   CHAMARTÍN                              5                              10   \n",
       "\n",
       "1  POR TENENCIA DE ARMAS  POR TENENCIA DE DROGAS  POR CONSUMO DE DROGAS   MES  \\\n",
       "2                     15                      76                     12  Mayo   \n",
       "3                      2                       6                     14  Mayo   \n",
       "4                      2                      21                      2  Mayo   \n",
       "5                      1                      20                      2  Mayo   \n",
       "6                      3                      16                      4  Mayo   \n",
       "\n",
       "1   AÑO  TOTAL_INSEGURIDAD  \n",
       "2  2021                252  \n",
       "3  2021                 42  \n",
       "4  2021                 31  \n",
       "5  2021                 74  \n",
       "6  2021                 38  "
      ]
     },
     "execution_count": 58,
     "metadata": {},
     "output_type": "execute_result"
    }
   ],
   "source": [
    "df_criminalidad_mayo_21.head()"
   ]
  },
  {
   "cell_type": "markdown",
   "metadata": {},
   "source": [
    "### CRIMINALIDAD abril_21"
   ]
  },
  {
   "cell_type": "code",
   "execution_count": 59,
   "metadata": {},
   "outputs": [],
   "source": [
    "dls_abril_21 = \"https://datos.madrid.es/egob/catalogo/212616-88-policia-estadisticas.xlsx\"\n",
    "resp = requests.get(dls_abril_21)\n",
    "\n",
    "output = open('criminalidad_abril_21.xls', 'wb')\n",
    "output.write(resp.content)\n",
    "output.close()\n",
    "file = \"criminalidad_abril_21.xls\"\n",
    "df_criminalidad_abril_21 = pd.read_excel(file, sheet_name=\"SEGURIDAD\" ) #reading file\n",
    "df_criminalidad_abril_21.head() \n",
    "df_criminalidad_abril_21.columns = df_criminalidad_abril_21.iloc[1]\n",
    "\n",
    "df_criminalidad_abril_21 = df_criminalidad_abril_21.drop(1)\n",
    "df_criminalidad_abril_21 = df_criminalidad_abril_21.drop(0)\n",
    "\n",
    "df_criminalidad_abril_21[\"MES\"]=\"Abril\"\n",
    "df_criminalidad_abril_21[\"AÑO\"]=2021\n",
    "\n",
    "df_criminalidad_abril_21[['RELACIONADAS CON LAS PERSONAS',\n",
    "       'RELACIONADAS CON EL PATRIMONIO', 'POR TENENCIA DE ARMAS',\n",
    "       'POR TENENCIA DE DROGAS', 'POR CONSUMO DE DROGAS']] = df_criminalidad_abril_21[['RELACIONADAS CON LAS PERSONAS',\n",
    "       'RELACIONADAS CON EL PATRIMONIO', 'POR TENENCIA DE ARMAS',\n",
    "       'POR TENENCIA DE DROGAS', 'POR CONSUMO DE DROGAS']].astype(str).astype(int)\n",
    "  \n",
    "\n",
    "df_criminalidad_abril_21[\"TOTAL_INSEGURIDAD\"]= df_criminalidad_abril_21.apply(lambda row: (row['RELACIONADAS CON LAS PERSONAS'] +\n",
    "       row['RELACIONADAS CON EL PATRIMONIO'] + row['POR TENENCIA DE ARMAS']+ row['POR TENENCIA DE DROGAS'] + \n",
    "        row['POR CONSUMO DE DROGAS']), axis=1)\n",
    "\n",
    "#df_criminalidad_abril_21.drop(columns=['RELACIONADAS CON LAS PERSONAS','RELACIONADAS CON EL PATRIMONIO',\n",
    "                                      #'POR TENENCIA DE ARMAS', 'POR TENENCIA DE DROGAS','POR CONSUMO DE DROGAS'],\n",
    "                             #inplace=True)\n"
   ]
  },
  {
   "cell_type": "code",
   "execution_count": 60,
   "metadata": {},
   "outputs": [
    {
     "data": {
      "text/html": [
       "<div>\n",
       "<style scoped>\n",
       "    .dataframe tbody tr th:only-of-type {\n",
       "        vertical-align: middle;\n",
       "    }\n",
       "\n",
       "    .dataframe tbody tr th {\n",
       "        vertical-align: top;\n",
       "    }\n",
       "\n",
       "    .dataframe thead th {\n",
       "        text-align: right;\n",
       "    }\n",
       "</style>\n",
       "<table border=\"1\" class=\"dataframe\">\n",
       "  <thead>\n",
       "    <tr style=\"text-align: right;\">\n",
       "      <th>1</th>\n",
       "      <th>DISTRITOS</th>\n",
       "      <th>RELACIONADAS CON LAS PERSONAS</th>\n",
       "      <th>RELACIONADAS CON EL PATRIMONIO</th>\n",
       "      <th>POR TENENCIA DE ARMAS</th>\n",
       "      <th>POR TENENCIA DE DROGAS</th>\n",
       "      <th>POR CONSUMO DE DROGAS</th>\n",
       "      <th>MES</th>\n",
       "      <th>AÑO</th>\n",
       "      <th>TOTAL_INSEGURIDAD</th>\n",
       "    </tr>\n",
       "  </thead>\n",
       "  <tbody>\n",
       "    <tr>\n",
       "      <th>2</th>\n",
       "      <td>CENTRO</td>\n",
       "      <td>36</td>\n",
       "      <td>64</td>\n",
       "      <td>14</td>\n",
       "      <td>81</td>\n",
       "      <td>19</td>\n",
       "      <td>Abril</td>\n",
       "      <td>2021</td>\n",
       "      <td>214</td>\n",
       "    </tr>\n",
       "    <tr>\n",
       "      <th>3</th>\n",
       "      <td>ARGANZUELA</td>\n",
       "      <td>6</td>\n",
       "      <td>11</td>\n",
       "      <td>0</td>\n",
       "      <td>8</td>\n",
       "      <td>2</td>\n",
       "      <td>Abril</td>\n",
       "      <td>2021</td>\n",
       "      <td>27</td>\n",
       "    </tr>\n",
       "    <tr>\n",
       "      <th>4</th>\n",
       "      <td>RETIRO</td>\n",
       "      <td>5</td>\n",
       "      <td>4</td>\n",
       "      <td>1</td>\n",
       "      <td>20</td>\n",
       "      <td>9</td>\n",
       "      <td>Abril</td>\n",
       "      <td>2021</td>\n",
       "      <td>39</td>\n",
       "    </tr>\n",
       "    <tr>\n",
       "      <th>5</th>\n",
       "      <td>SALAMANCA</td>\n",
       "      <td>5</td>\n",
       "      <td>42</td>\n",
       "      <td>1</td>\n",
       "      <td>25</td>\n",
       "      <td>1</td>\n",
       "      <td>Abril</td>\n",
       "      <td>2021</td>\n",
       "      <td>74</td>\n",
       "    </tr>\n",
       "    <tr>\n",
       "      <th>6</th>\n",
       "      <td>CHAMARTÍN</td>\n",
       "      <td>4</td>\n",
       "      <td>10</td>\n",
       "      <td>2</td>\n",
       "      <td>14</td>\n",
       "      <td>3</td>\n",
       "      <td>Abril</td>\n",
       "      <td>2021</td>\n",
       "      <td>33</td>\n",
       "    </tr>\n",
       "  </tbody>\n",
       "</table>\n",
       "</div>"
      ],
      "text/plain": [
       "1   DISTRITOS  RELACIONADAS CON LAS PERSONAS  RELACIONADAS CON EL PATRIMONIO  \\\n",
       "2      CENTRO                             36                              64   \n",
       "3  ARGANZUELA                              6                              11   \n",
       "4      RETIRO                              5                               4   \n",
       "5   SALAMANCA                              5                              42   \n",
       "6   CHAMARTÍN                              4                              10   \n",
       "\n",
       "1  POR TENENCIA DE ARMAS  POR TENENCIA DE DROGAS  POR CONSUMO DE DROGAS  \\\n",
       "2                     14                      81                     19   \n",
       "3                      0                       8                      2   \n",
       "4                      1                      20                      9   \n",
       "5                      1                      25                      1   \n",
       "6                      2                      14                      3   \n",
       "\n",
       "1    MES   AÑO  TOTAL_INSEGURIDAD  \n",
       "2  Abril  2021                214  \n",
       "3  Abril  2021                 27  \n",
       "4  Abril  2021                 39  \n",
       "5  Abril  2021                 74  \n",
       "6  Abril  2021                 33  "
      ]
     },
     "execution_count": 60,
     "metadata": {},
     "output_type": "execute_result"
    }
   ],
   "source": [
    "df_criminalidad_abril_21.head()"
   ]
  },
  {
   "cell_type": "markdown",
   "metadata": {},
   "source": [
    "### CRIMINALIDAD marzo_21"
   ]
  },
  {
   "cell_type": "code",
   "execution_count": 61,
   "metadata": {},
   "outputs": [],
   "source": [
    "dls_marzo_21 = \"https://datos.madrid.es/egob/catalogo/212616-87-policia-estadisticas.xlsx\"\n",
    "resp = requests.get(dls_marzo_21)\n",
    "\n",
    "output = open('criminalidad_marzo_21.xls', 'wb')\n",
    "output.write(resp.content)\n",
    "output.close()\n",
    "file = \"criminalidad_marzo_21.xls\"\n",
    "df_criminalidad_marzo_21 = pd.read_excel(file, sheet_name=\"SEGURIDAD\" ) #reading file\n",
    "df_criminalidad_marzo_21.head() \n",
    "df_criminalidad_marzo_21.columns = df_criminalidad_marzo_21.iloc[1]\n",
    "\n",
    "df_criminalidad_marzo_21 = df_criminalidad_marzo_21.drop(1)\n",
    "df_criminalidad_marzo_21 = df_criminalidad_marzo_21.drop(0)\n",
    "\n",
    "df_criminalidad_marzo_21[\"MES\"]=\"Marzo\"\n",
    "df_criminalidad_marzo_21[\"AÑO\"]=2021\n",
    "\n",
    "df_criminalidad_marzo_21[['RELACIONADAS CON LAS PERSONAS',\n",
    "       'RELACIONADAS CON EL PATRIMONIO', 'POR TENENCIA DE ARMAS',\n",
    "       'POR TENENCIA DE DROGAS', 'POR CONSUMO DE DROGAS']] = df_criminalidad_marzo_21[['RELACIONADAS CON LAS PERSONAS',\n",
    "       'RELACIONADAS CON EL PATRIMONIO', 'POR TENENCIA DE ARMAS',\n",
    "       'POR TENENCIA DE DROGAS', 'POR CONSUMO DE DROGAS']].astype(str).astype(int)\n",
    "  \n",
    "\n",
    "df_criminalidad_marzo_21[\"TOTAL_INSEGURIDAD\"]= df_criminalidad_marzo_21.apply(lambda row: (row['RELACIONADAS CON LAS PERSONAS'] +\n",
    "       row['RELACIONADAS CON EL PATRIMONIO'] + row['POR TENENCIA DE ARMAS']+ row['POR TENENCIA DE DROGAS'] + \n",
    "        row['POR CONSUMO DE DROGAS']), axis=1)\n",
    "\n",
    "#df_criminalidad_marzo_21.drop(columns=['RELACIONADAS CON LAS PERSONAS','RELACIONADAS CON EL PATRIMONIO',\n",
    "                                      #'POR TENENCIA DE ARMAS', 'POR TENENCIA DE DROGAS','POR CONSUMO DE DROGAS'],inplace=True)"
   ]
  },
  {
   "cell_type": "code",
   "execution_count": 62,
   "metadata": {},
   "outputs": [
    {
     "data": {
      "text/html": [
       "<div>\n",
       "<style scoped>\n",
       "    .dataframe tbody tr th:only-of-type {\n",
       "        vertical-align: middle;\n",
       "    }\n",
       "\n",
       "    .dataframe tbody tr th {\n",
       "        vertical-align: top;\n",
       "    }\n",
       "\n",
       "    .dataframe thead th {\n",
       "        text-align: right;\n",
       "    }\n",
       "</style>\n",
       "<table border=\"1\" class=\"dataframe\">\n",
       "  <thead>\n",
       "    <tr style=\"text-align: right;\">\n",
       "      <th>1</th>\n",
       "      <th>DISTRITOS</th>\n",
       "      <th>RELACIONADAS CON LAS PERSONAS</th>\n",
       "      <th>RELACIONADAS CON EL PATRIMONIO</th>\n",
       "      <th>POR TENENCIA DE ARMAS</th>\n",
       "      <th>POR TENENCIA DE DROGAS</th>\n",
       "      <th>POR CONSUMO DE DROGAS</th>\n",
       "      <th>MES</th>\n",
       "      <th>AÑO</th>\n",
       "      <th>TOTAL_INSEGURIDAD</th>\n",
       "    </tr>\n",
       "  </thead>\n",
       "  <tbody>\n",
       "    <tr>\n",
       "      <th>2</th>\n",
       "      <td>CENTRO</td>\n",
       "      <td>37</td>\n",
       "      <td>71</td>\n",
       "      <td>11</td>\n",
       "      <td>83</td>\n",
       "      <td>16</td>\n",
       "      <td>Marzo</td>\n",
       "      <td>2021</td>\n",
       "      <td>218</td>\n",
       "    </tr>\n",
       "    <tr>\n",
       "      <th>3</th>\n",
       "      <td>ARGANZUELA</td>\n",
       "      <td>6</td>\n",
       "      <td>3</td>\n",
       "      <td>2</td>\n",
       "      <td>7</td>\n",
       "      <td>5</td>\n",
       "      <td>Marzo</td>\n",
       "      <td>2021</td>\n",
       "      <td>23</td>\n",
       "    </tr>\n",
       "    <tr>\n",
       "      <th>4</th>\n",
       "      <td>RETIRO</td>\n",
       "      <td>4</td>\n",
       "      <td>5</td>\n",
       "      <td>1</td>\n",
       "      <td>24</td>\n",
       "      <td>0</td>\n",
       "      <td>Marzo</td>\n",
       "      <td>2021</td>\n",
       "      <td>34</td>\n",
       "    </tr>\n",
       "    <tr>\n",
       "      <th>5</th>\n",
       "      <td>SALAMANCA</td>\n",
       "      <td>10</td>\n",
       "      <td>43</td>\n",
       "      <td>3</td>\n",
       "      <td>17</td>\n",
       "      <td>2</td>\n",
       "      <td>Marzo</td>\n",
       "      <td>2021</td>\n",
       "      <td>75</td>\n",
       "    </tr>\n",
       "    <tr>\n",
       "      <th>6</th>\n",
       "      <td>CHAMARTÍN</td>\n",
       "      <td>7</td>\n",
       "      <td>8</td>\n",
       "      <td>1</td>\n",
       "      <td>26</td>\n",
       "      <td>4</td>\n",
       "      <td>Marzo</td>\n",
       "      <td>2021</td>\n",
       "      <td>46</td>\n",
       "    </tr>\n",
       "  </tbody>\n",
       "</table>\n",
       "</div>"
      ],
      "text/plain": [
       "1   DISTRITOS  RELACIONADAS CON LAS PERSONAS  RELACIONADAS CON EL PATRIMONIO  \\\n",
       "2      CENTRO                             37                              71   \n",
       "3  ARGANZUELA                              6                               3   \n",
       "4      RETIRO                              4                               5   \n",
       "5   SALAMANCA                             10                              43   \n",
       "6   CHAMARTÍN                              7                               8   \n",
       "\n",
       "1  POR TENENCIA DE ARMAS  POR TENENCIA DE DROGAS  POR CONSUMO DE DROGAS  \\\n",
       "2                     11                      83                     16   \n",
       "3                      2                       7                      5   \n",
       "4                      1                      24                      0   \n",
       "5                      3                      17                      2   \n",
       "6                      1                      26                      4   \n",
       "\n",
       "1    MES   AÑO  TOTAL_INSEGURIDAD  \n",
       "2  Marzo  2021                218  \n",
       "3  Marzo  2021                 23  \n",
       "4  Marzo  2021                 34  \n",
       "5  Marzo  2021                 75  \n",
       "6  Marzo  2021                 46  "
      ]
     },
     "execution_count": 62,
     "metadata": {},
     "output_type": "execute_result"
    }
   ],
   "source": [
    "df_criminalidad_marzo_21.head()"
   ]
  },
  {
   "cell_type": "markdown",
   "metadata": {},
   "source": [
    "### CRIMINALIDAD febrero_21"
   ]
  },
  {
   "cell_type": "code",
   "execution_count": 63,
   "metadata": {},
   "outputs": [],
   "source": [
    "dls_febrero_21 = \"https://datos.madrid.es/egob/catalogo/212616-86-policia-estadisticas.xlsx\"\n",
    "resp = requests.get(dls_febrero_21)\n",
    "\n",
    "output = open('criminalidad_febrero_21.xls', 'wb')\n",
    "output.write(resp.content)\n",
    "output.close()\n",
    "file = \"criminalidad_febrero_21.xls\"\n",
    "df_criminalidad_febrero_21 = pd.read_excel(file, sheet_name=\"SEGURIDAD\" ) #reading file\n",
    "df_criminalidad_febrero_21.head() \n",
    "df_criminalidad_febrero_21.columns = df_criminalidad_febrero_21.iloc[1]\n",
    "\n",
    "df_criminalidad_febrero_21 = df_criminalidad_febrero_21.drop(1)\n",
    "df_criminalidad_febrero_21 = df_criminalidad_febrero_21.drop(0)\n",
    "\n",
    "df_criminalidad_febrero_21[\"MES\"]=\"Febrero\"\n",
    "df_criminalidad_febrero_21[\"AÑO\"]=2021\n",
    "\n",
    "df_criminalidad_febrero_21[['RELACIONADAS CON LAS PERSONAS',\n",
    "       'RELACIONADAS CON EL PATRIMONIO', 'POR TENENCIA DE ARMAS',\n",
    "       'POR TENENCIA DE DROGAS', 'POR CONSUMO DE DROGAS']] = df_criminalidad_febrero_21[['RELACIONADAS CON LAS PERSONAS',\n",
    "       'RELACIONADAS CON EL PATRIMONIO', 'POR TENENCIA DE ARMAS',\n",
    "       'POR TENENCIA DE DROGAS', 'POR CONSUMO DE DROGAS']].astype(str).astype(int)\n",
    "  \n",
    "\n",
    "df_criminalidad_febrero_21[\"TOTAL_INSEGURIDAD\"]= df_criminalidad_febrero_21.apply(lambda row: (row['RELACIONADAS CON LAS PERSONAS'] +\n",
    "       row['RELACIONADAS CON EL PATRIMONIO'] + row['POR TENENCIA DE ARMAS']+ row['POR TENENCIA DE DROGAS'] + \n",
    "        row['POR CONSUMO DE DROGAS']), axis=1)\n",
    "\n",
    "#df_criminalidad_febrero_21.drop(columns=['RELACIONADAS CON LAS PERSONAS','RELACIONADAS CON EL PATRIMONIO',\n",
    "                                      #'POR TENENCIA DE ARMAS', 'POR TENENCIA DE DROGAS','POR CONSUMO DE DROGAS'],\n",
    "                             #inplace=True)"
   ]
  },
  {
   "cell_type": "code",
   "execution_count": 64,
   "metadata": {},
   "outputs": [
    {
     "data": {
      "text/html": [
       "<div>\n",
       "<style scoped>\n",
       "    .dataframe tbody tr th:only-of-type {\n",
       "        vertical-align: middle;\n",
       "    }\n",
       "\n",
       "    .dataframe tbody tr th {\n",
       "        vertical-align: top;\n",
       "    }\n",
       "\n",
       "    .dataframe thead th {\n",
       "        text-align: right;\n",
       "    }\n",
       "</style>\n",
       "<table border=\"1\" class=\"dataframe\">\n",
       "  <thead>\n",
       "    <tr style=\"text-align: right;\">\n",
       "      <th>1</th>\n",
       "      <th>DISTRITOS</th>\n",
       "      <th>RELACIONADAS CON LAS PERSONAS</th>\n",
       "      <th>RELACIONADAS CON EL PATRIMONIO</th>\n",
       "      <th>POR TENENCIA DE ARMAS</th>\n",
       "      <th>POR TENENCIA DE DROGAS</th>\n",
       "      <th>POR CONSUMO DE DROGAS</th>\n",
       "      <th>MES</th>\n",
       "      <th>AÑO</th>\n",
       "      <th>TOTAL_INSEGURIDAD</th>\n",
       "    </tr>\n",
       "  </thead>\n",
       "  <tbody>\n",
       "    <tr>\n",
       "      <th>2</th>\n",
       "      <td>CENTRO</td>\n",
       "      <td>20</td>\n",
       "      <td>41</td>\n",
       "      <td>4</td>\n",
       "      <td>68</td>\n",
       "      <td>10</td>\n",
       "      <td>Febrero</td>\n",
       "      <td>2021</td>\n",
       "      <td>143</td>\n",
       "    </tr>\n",
       "    <tr>\n",
       "      <th>3</th>\n",
       "      <td>ARGANZUELA</td>\n",
       "      <td>4</td>\n",
       "      <td>9</td>\n",
       "      <td>9</td>\n",
       "      <td>10</td>\n",
       "      <td>1</td>\n",
       "      <td>Febrero</td>\n",
       "      <td>2021</td>\n",
       "      <td>33</td>\n",
       "    </tr>\n",
       "    <tr>\n",
       "      <th>4</th>\n",
       "      <td>RETIRO</td>\n",
       "      <td>3</td>\n",
       "      <td>5</td>\n",
       "      <td>0</td>\n",
       "      <td>7</td>\n",
       "      <td>0</td>\n",
       "      <td>Febrero</td>\n",
       "      <td>2021</td>\n",
       "      <td>15</td>\n",
       "    </tr>\n",
       "  </tbody>\n",
       "</table>\n",
       "</div>"
      ],
      "text/plain": [
       "1   DISTRITOS  RELACIONADAS CON LAS PERSONAS  RELACIONADAS CON EL PATRIMONIO  \\\n",
       "2      CENTRO                             20                              41   \n",
       "3  ARGANZUELA                              4                               9   \n",
       "4      RETIRO                              3                               5   \n",
       "\n",
       "1  POR TENENCIA DE ARMAS  POR TENENCIA DE DROGAS  POR CONSUMO DE DROGAS  \\\n",
       "2                      4                      68                     10   \n",
       "3                      9                      10                      1   \n",
       "4                      0                       7                      0   \n",
       "\n",
       "1      MES   AÑO  TOTAL_INSEGURIDAD  \n",
       "2  Febrero  2021                143  \n",
       "3  Febrero  2021                 33  \n",
       "4  Febrero  2021                 15  "
      ]
     },
     "execution_count": 64,
     "metadata": {},
     "output_type": "execute_result"
    }
   ],
   "source": [
    "df_criminalidad_febrero_21.head(3)"
   ]
  },
  {
   "cell_type": "code",
   "execution_count": 65,
   "metadata": {},
   "outputs": [],
   "source": [
    "### CRIMINALIDAD enero_21"
   ]
  },
  {
   "cell_type": "code",
   "execution_count": 66,
   "metadata": {},
   "outputs": [],
   "source": [
    "dls_enero_21 = \"https://datos.madrid.es/egob/catalogo/212616-85-policia-estadisticas.xlsx\"\n",
    "resp = requests.get(dls_enero_21)\n",
    "\n",
    "output = open('criminalidad_enero_21.xls', 'wb')\n",
    "output.write(resp.content)\n",
    "output.close()\n",
    "file = \"criminalidad_enero_21.xls\"\n",
    "df_criminalidad_enero_21 = pd.read_excel(file, sheet_name=\"SEGURIDAD\" ) #reading file\n",
    "df_criminalidad_enero_21.head() \n",
    "df_criminalidad_enero_21.columns = df_criminalidad_enero_21.iloc[1]\n",
    "\n",
    "df_criminalidad_enero_21 = df_criminalidad_enero_21.drop(1)\n",
    "df_criminalidad_enero_21 = df_criminalidad_enero_21.drop(0)\n",
    "\n",
    "df_criminalidad_enero_21[\"MES\"]=\"Enero\"\n",
    "df_criminalidad_enero_21[\"AÑO\"]=2021\n",
    "\n",
    "df_criminalidad_enero_21[['RELACIONADAS CON LAS PERSONAS',\n",
    "       'RELACIONADAS CON EL PATRIMONIO', 'POR TENENCIA DE ARMAS',\n",
    "       'POR TENENCIA DE DROGAS', 'POR CONSUMO DE DROGAS']] = df_criminalidad_enero_21[['RELACIONADAS CON LAS PERSONAS',\n",
    "       'RELACIONADAS CON EL PATRIMONIO', 'POR TENENCIA DE ARMAS',\n",
    "       'POR TENENCIA DE DROGAS', 'POR CONSUMO DE DROGAS']].astype(str).astype(int)\n",
    "  \n",
    "\n",
    "df_criminalidad_enero_21[\"TOTAL_INSEGURIDAD\"]= df_criminalidad_enero_21.apply(lambda row: (row['RELACIONADAS CON LAS PERSONAS'] +\n",
    "       row['RELACIONADAS CON EL PATRIMONIO'] + row['POR TENENCIA DE ARMAS']+ row['POR TENENCIA DE DROGAS'] + \n",
    "        row['POR CONSUMO DE DROGAS']), axis=1)\n",
    "\n",
    "#df_criminalidad_enero_21.drop(columns=['RELACIONADAS CON LAS PERSONAS','RELACIONADAS CON EL PATRIMONIO',\n",
    "                                      #'POR TENENCIA DE ARMAS', 'POR TENENCIA DE DROGAS','POR CONSUMO DE DROGAS'],\n",
    "                             #inplace=True)"
   ]
  },
  {
   "cell_type": "code",
   "execution_count": 67,
   "metadata": {},
   "outputs": [
    {
     "data": {
      "text/html": [
       "<div>\n",
       "<style scoped>\n",
       "    .dataframe tbody tr th:only-of-type {\n",
       "        vertical-align: middle;\n",
       "    }\n",
       "\n",
       "    .dataframe tbody tr th {\n",
       "        vertical-align: top;\n",
       "    }\n",
       "\n",
       "    .dataframe thead th {\n",
       "        text-align: right;\n",
       "    }\n",
       "</style>\n",
       "<table border=\"1\" class=\"dataframe\">\n",
       "  <thead>\n",
       "    <tr style=\"text-align: right;\">\n",
       "      <th>1</th>\n",
       "      <th>DISTRITOS</th>\n",
       "      <th>RELACIONADAS CON LAS PERSONAS</th>\n",
       "      <th>RELACIONADAS CON EL PATRIMONIO</th>\n",
       "      <th>POR TENENCIA DE ARMAS</th>\n",
       "      <th>POR TENENCIA DE DROGAS</th>\n",
       "      <th>POR CONSUMO DE DROGAS</th>\n",
       "      <th>MES</th>\n",
       "      <th>AÑO</th>\n",
       "      <th>TOTAL_INSEGURIDAD</th>\n",
       "    </tr>\n",
       "  </thead>\n",
       "  <tbody>\n",
       "    <tr>\n",
       "      <th>2</th>\n",
       "      <td>CENTRO</td>\n",
       "      <td>19</td>\n",
       "      <td>43</td>\n",
       "      <td>17</td>\n",
       "      <td>32</td>\n",
       "      <td>8</td>\n",
       "      <td>Enero</td>\n",
       "      <td>2021</td>\n",
       "      <td>119</td>\n",
       "    </tr>\n",
       "    <tr>\n",
       "      <th>3</th>\n",
       "      <td>ARGANZUELA</td>\n",
       "      <td>4</td>\n",
       "      <td>10</td>\n",
       "      <td>1</td>\n",
       "      <td>3</td>\n",
       "      <td>1</td>\n",
       "      <td>Enero</td>\n",
       "      <td>2021</td>\n",
       "      <td>19</td>\n",
       "    </tr>\n",
       "    <tr>\n",
       "      <th>4</th>\n",
       "      <td>RETIRO</td>\n",
       "      <td>1</td>\n",
       "      <td>4</td>\n",
       "      <td>0</td>\n",
       "      <td>5</td>\n",
       "      <td>1</td>\n",
       "      <td>Enero</td>\n",
       "      <td>2021</td>\n",
       "      <td>11</td>\n",
       "    </tr>\n",
       "    <tr>\n",
       "      <th>5</th>\n",
       "      <td>SALAMANCA</td>\n",
       "      <td>3</td>\n",
       "      <td>49</td>\n",
       "      <td>0</td>\n",
       "      <td>11</td>\n",
       "      <td>0</td>\n",
       "      <td>Enero</td>\n",
       "      <td>2021</td>\n",
       "      <td>63</td>\n",
       "    </tr>\n",
       "    <tr>\n",
       "      <th>6</th>\n",
       "      <td>CHAMARTÍN</td>\n",
       "      <td>3</td>\n",
       "      <td>6</td>\n",
       "      <td>1</td>\n",
       "      <td>7</td>\n",
       "      <td>2</td>\n",
       "      <td>Enero</td>\n",
       "      <td>2021</td>\n",
       "      <td>19</td>\n",
       "    </tr>\n",
       "  </tbody>\n",
       "</table>\n",
       "</div>"
      ],
      "text/plain": [
       "1   DISTRITOS  RELACIONADAS CON LAS PERSONAS  RELACIONADAS CON EL PATRIMONIO  \\\n",
       "2      CENTRO                             19                              43   \n",
       "3  ARGANZUELA                              4                              10   \n",
       "4      RETIRO                              1                               4   \n",
       "5   SALAMANCA                              3                              49   \n",
       "6   CHAMARTÍN                              3                               6   \n",
       "\n",
       "1  POR TENENCIA DE ARMAS  POR TENENCIA DE DROGAS  POR CONSUMO DE DROGAS  \\\n",
       "2                     17                      32                      8   \n",
       "3                      1                       3                      1   \n",
       "4                      0                       5                      1   \n",
       "5                      0                      11                      0   \n",
       "6                      1                       7                      2   \n",
       "\n",
       "1    MES   AÑO  TOTAL_INSEGURIDAD  \n",
       "2  Enero  2021                119  \n",
       "3  Enero  2021                 19  \n",
       "4  Enero  2021                 11  \n",
       "5  Enero  2021                 63  \n",
       "6  Enero  2021                 19  "
      ]
     },
     "execution_count": 67,
     "metadata": {},
     "output_type": "execute_result"
    }
   ],
   "source": [
    "df_criminalidad_enero_21.head()"
   ]
  },
  {
   "cell_type": "markdown",
   "metadata": {},
   "source": [
    "## Concatenar df"
   ]
  },
  {
   "cell_type": "code",
   "execution_count": 68,
   "metadata": {},
   "outputs": [],
   "source": [
    "frames = [df_criminalidad_marzo_21, df_criminalidad_abril_21, df_criminalidad_mayo_21, df_criminalidad_febrero_21,\n",
    "          df_criminalidad_enero_21 ]\n",
    "\n",
    "#concatenate dataframes\n",
    "df = pd.concat(frames, sort=False)"
   ]
  },
  {
   "cell_type": "code",
   "execution_count": 69,
   "metadata": {},
   "outputs": [
    {
     "data": {
      "text/plain": [
       "array(['CENTRO', 'ARGANZUELA', 'RETIRO', 'SALAMANCA', 'CHAMARTÍN',\n",
       "       'TETUÁN', 'CHAMBERÍ', 'FUENCARRAL - EL PARDO', 'MONCLOA - ARAVACA',\n",
       "       'LATINA', 'CARABANCHEL', 'USERA', 'PUENTE DE VALLECAS',\n",
       "       'MORATALAZ', 'CIUDAD LINEAL', 'HORTALEZA', 'VILLAVERDE',\n",
       "       'VILLA DE VALLECAS', 'VICÁLVARO', 'SAN BLAS - CANILLEJAS',\n",
       "       'BARAJAS', 'SIN DISTRITO ASIGNADO', 'TOTAL'], dtype=object)"
      ]
     },
     "execution_count": 69,
     "metadata": {},
     "output_type": "execute_result"
    }
   ],
   "source": [
    "df.DISTRITOS.unique()"
   ]
  },
  {
   "cell_type": "code",
   "execution_count": 70,
   "metadata": {},
   "outputs": [],
   "source": [
    "df=df[(df.DISTRITOS !=  \"TOTAL\")] "
   ]
  },
  {
   "cell_type": "code",
   "execution_count": 71,
   "metadata": {},
   "outputs": [
    {
     "data": {
      "text/html": [
       "        <script type=\"text/javascript\">\n",
       "        window.PlotlyConfig = {MathJaxConfig: 'local'};\n",
       "        if (window.MathJax) {MathJax.Hub.Config({SVG: {font: \"STIX-Web\"}});}\n",
       "        if (typeof require !== 'undefined') {\n",
       "        require.undef(\"plotly\");\n",
       "        requirejs.config({\n",
       "            paths: {\n",
       "                'plotly': ['https://cdn.plot.ly/plotly-latest.min']\n",
       "            }\n",
       "        });\n",
       "        require(['plotly'], function(Plotly) {\n",
       "            window._Plotly = Plotly;\n",
       "        });\n",
       "        }\n",
       "        </script>\n",
       "        "
      ]
     },
     "metadata": {},
     "output_type": "display_data"
    }
   ],
   "source": [
    "import plotly\n",
    "plotly.offline.init_notebook_mode(connected=True)\n",
    "import plotly.graph_objs as go"
   ]
  },
  {
   "cell_type": "code",
   "execution_count": 72,
   "metadata": {},
   "outputs": [],
   "source": [
    "import plotly.express as px"
   ]
  },
  {
   "cell_type": "code",
   "execution_count": 73,
   "metadata": {},
   "outputs": [
    {
     "data": {
      "application/vnd.plotly.v1+json": {
       "config": {
        "plotlyServerURL": "https://plot.ly"
       },
       "data": [
        {
         "alignmentgroup": "True",
         "hovertemplate": "variable=TOTAL_INSEGURIDAD<br>MES=%{x}<br>value=%{y}<extra></extra>",
         "legendgroup": "TOTAL_INSEGURIDAD",
         "marker": {
          "color": "rgb(158,202,225)",
          "line": {
           "color": "rgb(8,48,107)",
           "width": 1.5
          }
         },
         "name": "TOTAL_INSEGURIDAD",
         "offsetgroup": "TOTAL_INSEGURIDAD",
         "opacity": 0.6,
         "orientation": "v",
         "showlegend": true,
         "textposition": "auto",
         "type": "bar",
         "x": [
          "Marzo",
          "Marzo",
          "Marzo",
          "Marzo",
          "Marzo",
          "Marzo",
          "Marzo",
          "Marzo",
          "Marzo",
          "Marzo",
          "Marzo",
          "Marzo",
          "Marzo",
          "Marzo",
          "Marzo",
          "Marzo",
          "Marzo",
          "Marzo",
          "Marzo",
          "Marzo",
          "Marzo",
          "Marzo",
          "Abril",
          "Abril",
          "Abril",
          "Abril",
          "Abril",
          "Abril",
          "Abril",
          "Abril",
          "Abril",
          "Abril",
          "Abril",
          "Abril",
          "Abril",
          "Abril",
          "Abril",
          "Abril",
          "Abril",
          "Abril",
          "Abril",
          "Abril",
          "Abril",
          "Abril",
          "Mayo",
          "Mayo",
          "Mayo",
          "Mayo",
          "Mayo",
          "Mayo",
          "Mayo",
          "Mayo",
          "Mayo",
          "Mayo",
          "Mayo",
          "Mayo",
          "Mayo",
          "Mayo",
          "Mayo",
          "Mayo",
          "Mayo",
          "Mayo",
          "Mayo",
          "Mayo",
          "Mayo",
          "Mayo",
          "Febrero",
          "Febrero",
          "Febrero",
          "Febrero",
          "Febrero",
          "Febrero",
          "Febrero",
          "Febrero",
          "Febrero",
          "Febrero",
          "Febrero",
          "Febrero",
          "Febrero",
          "Febrero",
          "Febrero",
          "Febrero",
          "Febrero",
          "Febrero",
          "Febrero",
          "Febrero",
          "Febrero",
          "Febrero",
          "Enero",
          "Enero",
          "Enero",
          "Enero",
          "Enero",
          "Enero",
          "Enero",
          "Enero",
          "Enero",
          "Enero",
          "Enero",
          "Enero",
          "Enero",
          "Enero",
          "Enero",
          "Enero",
          "Enero",
          "Enero",
          "Enero",
          "Enero",
          "Enero",
          "Enero"
         ],
         "xaxis": "x",
         "y": [
          218,
          23,
          34,
          75,
          46,
          60,
          30,
          46,
          77,
          94,
          73,
          48,
          118,
          15,
          71,
          89,
          89,
          93,
          29,
          71,
          24,
          0,
          214,
          27,
          39,
          74,
          33,
          50,
          53,
          37,
          68,
          103,
          116,
          56,
          91,
          19,
          72,
          46,
          64,
          70,
          23,
          63,
          38,
          0,
          252,
          42,
          31,
          74,
          38,
          39,
          35,
          44,
          76,
          65,
          97,
          59,
          122,
          19,
          105,
          66,
          77,
          102,
          26,
          72,
          55,
          0,
          143,
          33,
          15,
          87,
          22,
          83,
          43,
          34,
          60,
          77,
          78,
          56,
          82,
          17,
          68,
          69,
          46,
          54,
          13,
          68,
          32,
          0,
          119,
          19,
          11,
          63,
          19,
          37,
          29,
          25,
          47,
          42,
          77,
          61,
          65,
          9,
          49,
          60,
          41,
          49,
          10,
          35,
          17,
          0
         ],
         "yaxis": "y"
        }
       ],
       "layout": {
        "barmode": "relative",
        "legend": {
         "title": {
          "text": "variable"
         },
         "tracegroupgap": 0
        },
        "template": {
         "data": {
          "bar": [
           {
            "error_x": {
             "color": "#2a3f5f"
            },
            "error_y": {
             "color": "#2a3f5f"
            },
            "marker": {
             "line": {
              "color": "#E5ECF6",
              "width": 0.5
             }
            },
            "type": "bar"
           }
          ],
          "barpolar": [
           {
            "marker": {
             "line": {
              "color": "#E5ECF6",
              "width": 0.5
             }
            },
            "type": "barpolar"
           }
          ],
          "carpet": [
           {
            "aaxis": {
             "endlinecolor": "#2a3f5f",
             "gridcolor": "white",
             "linecolor": "white",
             "minorgridcolor": "white",
             "startlinecolor": "#2a3f5f"
            },
            "baxis": {
             "endlinecolor": "#2a3f5f",
             "gridcolor": "white",
             "linecolor": "white",
             "minorgridcolor": "white",
             "startlinecolor": "#2a3f5f"
            },
            "type": "carpet"
           }
          ],
          "choropleth": [
           {
            "colorbar": {
             "outlinewidth": 0,
             "ticks": ""
            },
            "type": "choropleth"
           }
          ],
          "contour": [
           {
            "colorbar": {
             "outlinewidth": 0,
             "ticks": ""
            },
            "colorscale": [
             [
              0,
              "#0d0887"
             ],
             [
              0.1111111111111111,
              "#46039f"
             ],
             [
              0.2222222222222222,
              "#7201a8"
             ],
             [
              0.3333333333333333,
              "#9c179e"
             ],
             [
              0.4444444444444444,
              "#bd3786"
             ],
             [
              0.5555555555555556,
              "#d8576b"
             ],
             [
              0.6666666666666666,
              "#ed7953"
             ],
             [
              0.7777777777777778,
              "#fb9f3a"
             ],
             [
              0.8888888888888888,
              "#fdca26"
             ],
             [
              1,
              "#f0f921"
             ]
            ],
            "type": "contour"
           }
          ],
          "contourcarpet": [
           {
            "colorbar": {
             "outlinewidth": 0,
             "ticks": ""
            },
            "type": "contourcarpet"
           }
          ],
          "heatmap": [
           {
            "colorbar": {
             "outlinewidth": 0,
             "ticks": ""
            },
            "colorscale": [
             [
              0,
              "#0d0887"
             ],
             [
              0.1111111111111111,
              "#46039f"
             ],
             [
              0.2222222222222222,
              "#7201a8"
             ],
             [
              0.3333333333333333,
              "#9c179e"
             ],
             [
              0.4444444444444444,
              "#bd3786"
             ],
             [
              0.5555555555555556,
              "#d8576b"
             ],
             [
              0.6666666666666666,
              "#ed7953"
             ],
             [
              0.7777777777777778,
              "#fb9f3a"
             ],
             [
              0.8888888888888888,
              "#fdca26"
             ],
             [
              1,
              "#f0f921"
             ]
            ],
            "type": "heatmap"
           }
          ],
          "heatmapgl": [
           {
            "colorbar": {
             "outlinewidth": 0,
             "ticks": ""
            },
            "colorscale": [
             [
              0,
              "#0d0887"
             ],
             [
              0.1111111111111111,
              "#46039f"
             ],
             [
              0.2222222222222222,
              "#7201a8"
             ],
             [
              0.3333333333333333,
              "#9c179e"
             ],
             [
              0.4444444444444444,
              "#bd3786"
             ],
             [
              0.5555555555555556,
              "#d8576b"
             ],
             [
              0.6666666666666666,
              "#ed7953"
             ],
             [
              0.7777777777777778,
              "#fb9f3a"
             ],
             [
              0.8888888888888888,
              "#fdca26"
             ],
             [
              1,
              "#f0f921"
             ]
            ],
            "type": "heatmapgl"
           }
          ],
          "histogram": [
           {
            "marker": {
             "colorbar": {
              "outlinewidth": 0,
              "ticks": ""
             }
            },
            "type": "histogram"
           }
          ],
          "histogram2d": [
           {
            "colorbar": {
             "outlinewidth": 0,
             "ticks": ""
            },
            "colorscale": [
             [
              0,
              "#0d0887"
             ],
             [
              0.1111111111111111,
              "#46039f"
             ],
             [
              0.2222222222222222,
              "#7201a8"
             ],
             [
              0.3333333333333333,
              "#9c179e"
             ],
             [
              0.4444444444444444,
              "#bd3786"
             ],
             [
              0.5555555555555556,
              "#d8576b"
             ],
             [
              0.6666666666666666,
              "#ed7953"
             ],
             [
              0.7777777777777778,
              "#fb9f3a"
             ],
             [
              0.8888888888888888,
              "#fdca26"
             ],
             [
              1,
              "#f0f921"
             ]
            ],
            "type": "histogram2d"
           }
          ],
          "histogram2dcontour": [
           {
            "colorbar": {
             "outlinewidth": 0,
             "ticks": ""
            },
            "colorscale": [
             [
              0,
              "#0d0887"
             ],
             [
              0.1111111111111111,
              "#46039f"
             ],
             [
              0.2222222222222222,
              "#7201a8"
             ],
             [
              0.3333333333333333,
              "#9c179e"
             ],
             [
              0.4444444444444444,
              "#bd3786"
             ],
             [
              0.5555555555555556,
              "#d8576b"
             ],
             [
              0.6666666666666666,
              "#ed7953"
             ],
             [
              0.7777777777777778,
              "#fb9f3a"
             ],
             [
              0.8888888888888888,
              "#fdca26"
             ],
             [
              1,
              "#f0f921"
             ]
            ],
            "type": "histogram2dcontour"
           }
          ],
          "mesh3d": [
           {
            "colorbar": {
             "outlinewidth": 0,
             "ticks": ""
            },
            "type": "mesh3d"
           }
          ],
          "parcoords": [
           {
            "line": {
             "colorbar": {
              "outlinewidth": 0,
              "ticks": ""
             }
            },
            "type": "parcoords"
           }
          ],
          "pie": [
           {
            "automargin": true,
            "type": "pie"
           }
          ],
          "scatter": [
           {
            "marker": {
             "colorbar": {
              "outlinewidth": 0,
              "ticks": ""
             }
            },
            "type": "scatter"
           }
          ],
          "scatter3d": [
           {
            "line": {
             "colorbar": {
              "outlinewidth": 0,
              "ticks": ""
             }
            },
            "marker": {
             "colorbar": {
              "outlinewidth": 0,
              "ticks": ""
             }
            },
            "type": "scatter3d"
           }
          ],
          "scattercarpet": [
           {
            "marker": {
             "colorbar": {
              "outlinewidth": 0,
              "ticks": ""
             }
            },
            "type": "scattercarpet"
           }
          ],
          "scattergeo": [
           {
            "marker": {
             "colorbar": {
              "outlinewidth": 0,
              "ticks": ""
             }
            },
            "type": "scattergeo"
           }
          ],
          "scattergl": [
           {
            "marker": {
             "colorbar": {
              "outlinewidth": 0,
              "ticks": ""
             }
            },
            "type": "scattergl"
           }
          ],
          "scattermapbox": [
           {
            "marker": {
             "colorbar": {
              "outlinewidth": 0,
              "ticks": ""
             }
            },
            "type": "scattermapbox"
           }
          ],
          "scatterpolar": [
           {
            "marker": {
             "colorbar": {
              "outlinewidth": 0,
              "ticks": ""
             }
            },
            "type": "scatterpolar"
           }
          ],
          "scatterpolargl": [
           {
            "marker": {
             "colorbar": {
              "outlinewidth": 0,
              "ticks": ""
             }
            },
            "type": "scatterpolargl"
           }
          ],
          "scatterternary": [
           {
            "marker": {
             "colorbar": {
              "outlinewidth": 0,
              "ticks": ""
             }
            },
            "type": "scatterternary"
           }
          ],
          "surface": [
           {
            "colorbar": {
             "outlinewidth": 0,
             "ticks": ""
            },
            "colorscale": [
             [
              0,
              "#0d0887"
             ],
             [
              0.1111111111111111,
              "#46039f"
             ],
             [
              0.2222222222222222,
              "#7201a8"
             ],
             [
              0.3333333333333333,
              "#9c179e"
             ],
             [
              0.4444444444444444,
              "#bd3786"
             ],
             [
              0.5555555555555556,
              "#d8576b"
             ],
             [
              0.6666666666666666,
              "#ed7953"
             ],
             [
              0.7777777777777778,
              "#fb9f3a"
             ],
             [
              0.8888888888888888,
              "#fdca26"
             ],
             [
              1,
              "#f0f921"
             ]
            ],
            "type": "surface"
           }
          ],
          "table": [
           {
            "cells": {
             "fill": {
              "color": "#EBF0F8"
             },
             "line": {
              "color": "white"
             }
            },
            "header": {
             "fill": {
              "color": "#C8D4E3"
             },
             "line": {
              "color": "white"
             }
            },
            "type": "table"
           }
          ]
         },
         "layout": {
          "annotationdefaults": {
           "arrowcolor": "#2a3f5f",
           "arrowhead": 0,
           "arrowwidth": 1
          },
          "autotypenumbers": "strict",
          "coloraxis": {
           "colorbar": {
            "outlinewidth": 0,
            "ticks": ""
           }
          },
          "colorscale": {
           "diverging": [
            [
             0,
             "#8e0152"
            ],
            [
             0.1,
             "#c51b7d"
            ],
            [
             0.2,
             "#de77ae"
            ],
            [
             0.3,
             "#f1b6da"
            ],
            [
             0.4,
             "#fde0ef"
            ],
            [
             0.5,
             "#f7f7f7"
            ],
            [
             0.6,
             "#e6f5d0"
            ],
            [
             0.7,
             "#b8e186"
            ],
            [
             0.8,
             "#7fbc41"
            ],
            [
             0.9,
             "#4d9221"
            ],
            [
             1,
             "#276419"
            ]
           ],
           "sequential": [
            [
             0,
             "#0d0887"
            ],
            [
             0.1111111111111111,
             "#46039f"
            ],
            [
             0.2222222222222222,
             "#7201a8"
            ],
            [
             0.3333333333333333,
             "#9c179e"
            ],
            [
             0.4444444444444444,
             "#bd3786"
            ],
            [
             0.5555555555555556,
             "#d8576b"
            ],
            [
             0.6666666666666666,
             "#ed7953"
            ],
            [
             0.7777777777777778,
             "#fb9f3a"
            ],
            [
             0.8888888888888888,
             "#fdca26"
            ],
            [
             1,
             "#f0f921"
            ]
           ],
           "sequentialminus": [
            [
             0,
             "#0d0887"
            ],
            [
             0.1111111111111111,
             "#46039f"
            ],
            [
             0.2222222222222222,
             "#7201a8"
            ],
            [
             0.3333333333333333,
             "#9c179e"
            ],
            [
             0.4444444444444444,
             "#bd3786"
            ],
            [
             0.5555555555555556,
             "#d8576b"
            ],
            [
             0.6666666666666666,
             "#ed7953"
            ],
            [
             0.7777777777777778,
             "#fb9f3a"
            ],
            [
             0.8888888888888888,
             "#fdca26"
            ],
            [
             1,
             "#f0f921"
            ]
           ]
          },
          "colorway": [
           "#636efa",
           "#EF553B",
           "#00cc96",
           "#ab63fa",
           "#FFA15A",
           "#19d3f3",
           "#FF6692",
           "#B6E880",
           "#FF97FF",
           "#FECB52"
          ],
          "font": {
           "color": "#2a3f5f"
          },
          "geo": {
           "bgcolor": "white",
           "lakecolor": "white",
           "landcolor": "#E5ECF6",
           "showlakes": true,
           "showland": true,
           "subunitcolor": "white"
          },
          "hoverlabel": {
           "align": "left"
          },
          "hovermode": "closest",
          "mapbox": {
           "style": "light"
          },
          "paper_bgcolor": "white",
          "plot_bgcolor": "#E5ECF6",
          "polar": {
           "angularaxis": {
            "gridcolor": "white",
            "linecolor": "white",
            "ticks": ""
           },
           "bgcolor": "#E5ECF6",
           "radialaxis": {
            "gridcolor": "white",
            "linecolor": "white",
            "ticks": ""
           }
          },
          "scene": {
           "xaxis": {
            "backgroundcolor": "#E5ECF6",
            "gridcolor": "white",
            "gridwidth": 2,
            "linecolor": "white",
            "showbackground": true,
            "ticks": "",
            "zerolinecolor": "white"
           },
           "yaxis": {
            "backgroundcolor": "#E5ECF6",
            "gridcolor": "white",
            "gridwidth": 2,
            "linecolor": "white",
            "showbackground": true,
            "ticks": "",
            "zerolinecolor": "white"
           },
           "zaxis": {
            "backgroundcolor": "#E5ECF6",
            "gridcolor": "white",
            "gridwidth": 2,
            "linecolor": "white",
            "showbackground": true,
            "ticks": "",
            "zerolinecolor": "white"
           }
          },
          "shapedefaults": {
           "line": {
            "color": "#2a3f5f"
           }
          },
          "ternary": {
           "aaxis": {
            "gridcolor": "white",
            "linecolor": "white",
            "ticks": ""
           },
           "baxis": {
            "gridcolor": "white",
            "linecolor": "white",
            "ticks": ""
           },
           "bgcolor": "#E5ECF6",
           "caxis": {
            "gridcolor": "white",
            "linecolor": "white",
            "ticks": ""
           }
          },
          "title": {
           "x": 0.05
          },
          "xaxis": {
           "automargin": true,
           "gridcolor": "white",
           "linecolor": "white",
           "ticks": "",
           "title": {
            "standoff": 15
           },
           "zerolinecolor": "white",
           "zerolinewidth": 2
          },
          "yaxis": {
           "automargin": true,
           "gridcolor": "white",
           "linecolor": "white",
           "ticks": "",
           "title": {
            "standoff": 15
           },
           "zerolinecolor": "white",
           "zerolinewidth": 2
          }
         }
        },
        "title": {
         "text": "Wide-Form Input"
        },
        "xaxis": {
         "anchor": "y",
         "domain": [
          0,
          1
         ],
         "title": {
          "text": "MES"
         }
        },
        "yaxis": {
         "anchor": "x",
         "domain": [
          0,
          1
         ],
         "title": {
          "text": "value"
         }
        }
       }
      },
      "text/html": [
       "<div>                            <div id=\"a494eb9c-b539-44ee-951d-19f62d1feebf\" class=\"plotly-graph-div\" style=\"height:525px; width:100%;\"></div>            <script type=\"text/javascript\">                require([\"plotly\"], function(Plotly) {                    window.PLOTLYENV=window.PLOTLYENV || {};                                    if (document.getElementById(\"a494eb9c-b539-44ee-951d-19f62d1feebf\")) {                    Plotly.newPlot(                        \"a494eb9c-b539-44ee-951d-19f62d1feebf\",                        [{\"alignmentgroup\": \"True\", \"hovertemplate\": \"variable=TOTAL_INSEGURIDAD<br>MES=%{x}<br>value=%{y}<extra></extra>\", \"legendgroup\": \"TOTAL_INSEGURIDAD\", \"marker\": {\"color\": \"rgb(158,202,225)\", \"line\": {\"color\": \"rgb(8,48,107)\", \"width\": 1.5}}, \"name\": \"TOTAL_INSEGURIDAD\", \"offsetgroup\": \"TOTAL_INSEGURIDAD\", \"opacity\": 0.6, \"orientation\": \"v\", \"showlegend\": true, \"textposition\": \"auto\", \"type\": \"bar\", \"x\": [\"Marzo\", \"Marzo\", \"Marzo\", \"Marzo\", \"Marzo\", \"Marzo\", \"Marzo\", \"Marzo\", \"Marzo\", \"Marzo\", \"Marzo\", \"Marzo\", \"Marzo\", \"Marzo\", \"Marzo\", \"Marzo\", \"Marzo\", \"Marzo\", \"Marzo\", \"Marzo\", \"Marzo\", \"Marzo\", \"Abril\", \"Abril\", \"Abril\", \"Abril\", \"Abril\", \"Abril\", \"Abril\", \"Abril\", \"Abril\", \"Abril\", \"Abril\", \"Abril\", \"Abril\", \"Abril\", \"Abril\", \"Abril\", \"Abril\", \"Abril\", \"Abril\", \"Abril\", \"Abril\", \"Abril\", \"Mayo\", \"Mayo\", \"Mayo\", \"Mayo\", \"Mayo\", \"Mayo\", \"Mayo\", \"Mayo\", \"Mayo\", \"Mayo\", \"Mayo\", \"Mayo\", \"Mayo\", \"Mayo\", \"Mayo\", \"Mayo\", \"Mayo\", \"Mayo\", \"Mayo\", \"Mayo\", \"Mayo\", \"Mayo\", \"Febrero\", \"Febrero\", \"Febrero\", \"Febrero\", \"Febrero\", \"Febrero\", \"Febrero\", \"Febrero\", \"Febrero\", \"Febrero\", \"Febrero\", \"Febrero\", \"Febrero\", \"Febrero\", \"Febrero\", \"Febrero\", \"Febrero\", \"Febrero\", \"Febrero\", \"Febrero\", \"Febrero\", \"Febrero\", \"Enero\", \"Enero\", \"Enero\", \"Enero\", \"Enero\", \"Enero\", \"Enero\", \"Enero\", \"Enero\", \"Enero\", \"Enero\", \"Enero\", \"Enero\", \"Enero\", \"Enero\", \"Enero\", \"Enero\", \"Enero\", \"Enero\", \"Enero\", \"Enero\", \"Enero\"], \"xaxis\": \"x\", \"y\": [218, 23, 34, 75, 46, 60, 30, 46, 77, 94, 73, 48, 118, 15, 71, 89, 89, 93, 29, 71, 24, 0, 214, 27, 39, 74, 33, 50, 53, 37, 68, 103, 116, 56, 91, 19, 72, 46, 64, 70, 23, 63, 38, 0, 252, 42, 31, 74, 38, 39, 35, 44, 76, 65, 97, 59, 122, 19, 105, 66, 77, 102, 26, 72, 55, 0, 143, 33, 15, 87, 22, 83, 43, 34, 60, 77, 78, 56, 82, 17, 68, 69, 46, 54, 13, 68, 32, 0, 119, 19, 11, 63, 19, 37, 29, 25, 47, 42, 77, 61, 65, 9, 49, 60, 41, 49, 10, 35, 17, 0], \"yaxis\": \"y\"}],                        {\"barmode\": \"relative\", \"legend\": {\"title\": {\"text\": \"variable\"}, \"tracegroupgap\": 0}, \"template\": {\"data\": {\"bar\": [{\"error_x\": {\"color\": \"#2a3f5f\"}, \"error_y\": {\"color\": \"#2a3f5f\"}, \"marker\": {\"line\": {\"color\": \"#E5ECF6\", \"width\": 0.5}}, \"type\": \"bar\"}], \"barpolar\": [{\"marker\": {\"line\": {\"color\": \"#E5ECF6\", \"width\": 0.5}}, \"type\": \"barpolar\"}], \"carpet\": [{\"aaxis\": {\"endlinecolor\": \"#2a3f5f\", \"gridcolor\": \"white\", \"linecolor\": \"white\", \"minorgridcolor\": \"white\", \"startlinecolor\": \"#2a3f5f\"}, \"baxis\": {\"endlinecolor\": \"#2a3f5f\", \"gridcolor\": \"white\", \"linecolor\": \"white\", \"minorgridcolor\": \"white\", \"startlinecolor\": \"#2a3f5f\"}, \"type\": \"carpet\"}], \"choropleth\": [{\"colorbar\": {\"outlinewidth\": 0, \"ticks\": \"\"}, \"type\": \"choropleth\"}], \"contour\": [{\"colorbar\": {\"outlinewidth\": 0, \"ticks\": \"\"}, \"colorscale\": [[0.0, \"#0d0887\"], [0.1111111111111111, \"#46039f\"], [0.2222222222222222, \"#7201a8\"], [0.3333333333333333, \"#9c179e\"], [0.4444444444444444, \"#bd3786\"], [0.5555555555555556, \"#d8576b\"], [0.6666666666666666, \"#ed7953\"], [0.7777777777777778, \"#fb9f3a\"], [0.8888888888888888, \"#fdca26\"], [1.0, \"#f0f921\"]], \"type\": \"contour\"}], \"contourcarpet\": [{\"colorbar\": {\"outlinewidth\": 0, \"ticks\": \"\"}, \"type\": \"contourcarpet\"}], \"heatmap\": [{\"colorbar\": {\"outlinewidth\": 0, \"ticks\": \"\"}, \"colorscale\": [[0.0, \"#0d0887\"], [0.1111111111111111, \"#46039f\"], [0.2222222222222222, \"#7201a8\"], [0.3333333333333333, \"#9c179e\"], [0.4444444444444444, \"#bd3786\"], [0.5555555555555556, \"#d8576b\"], [0.6666666666666666, \"#ed7953\"], [0.7777777777777778, \"#fb9f3a\"], [0.8888888888888888, \"#fdca26\"], [1.0, \"#f0f921\"]], \"type\": \"heatmap\"}], \"heatmapgl\": [{\"colorbar\": {\"outlinewidth\": 0, \"ticks\": \"\"}, \"colorscale\": [[0.0, \"#0d0887\"], [0.1111111111111111, \"#46039f\"], [0.2222222222222222, \"#7201a8\"], [0.3333333333333333, \"#9c179e\"], [0.4444444444444444, \"#bd3786\"], [0.5555555555555556, \"#d8576b\"], [0.6666666666666666, \"#ed7953\"], [0.7777777777777778, \"#fb9f3a\"], [0.8888888888888888, \"#fdca26\"], [1.0, \"#f0f921\"]], \"type\": \"heatmapgl\"}], \"histogram\": [{\"marker\": {\"colorbar\": {\"outlinewidth\": 0, \"ticks\": \"\"}}, \"type\": \"histogram\"}], \"histogram2d\": [{\"colorbar\": {\"outlinewidth\": 0, \"ticks\": \"\"}, \"colorscale\": [[0.0, \"#0d0887\"], [0.1111111111111111, \"#46039f\"], [0.2222222222222222, \"#7201a8\"], [0.3333333333333333, \"#9c179e\"], [0.4444444444444444, \"#bd3786\"], [0.5555555555555556, \"#d8576b\"], [0.6666666666666666, \"#ed7953\"], [0.7777777777777778, \"#fb9f3a\"], [0.8888888888888888, \"#fdca26\"], [1.0, \"#f0f921\"]], \"type\": \"histogram2d\"}], \"histogram2dcontour\": [{\"colorbar\": {\"outlinewidth\": 0, \"ticks\": \"\"}, \"colorscale\": [[0.0, \"#0d0887\"], [0.1111111111111111, \"#46039f\"], [0.2222222222222222, \"#7201a8\"], [0.3333333333333333, \"#9c179e\"], [0.4444444444444444, \"#bd3786\"], [0.5555555555555556, \"#d8576b\"], [0.6666666666666666, \"#ed7953\"], [0.7777777777777778, \"#fb9f3a\"], [0.8888888888888888, \"#fdca26\"], [1.0, \"#f0f921\"]], \"type\": \"histogram2dcontour\"}], \"mesh3d\": [{\"colorbar\": {\"outlinewidth\": 0, \"ticks\": \"\"}, \"type\": \"mesh3d\"}], \"parcoords\": [{\"line\": {\"colorbar\": {\"outlinewidth\": 0, \"ticks\": \"\"}}, \"type\": \"parcoords\"}], \"pie\": [{\"automargin\": true, \"type\": \"pie\"}], \"scatter\": [{\"marker\": {\"colorbar\": {\"outlinewidth\": 0, \"ticks\": \"\"}}, \"type\": \"scatter\"}], \"scatter3d\": [{\"line\": {\"colorbar\": {\"outlinewidth\": 0, \"ticks\": \"\"}}, \"marker\": {\"colorbar\": {\"outlinewidth\": 0, \"ticks\": \"\"}}, \"type\": \"scatter3d\"}], \"scattercarpet\": [{\"marker\": {\"colorbar\": {\"outlinewidth\": 0, \"ticks\": \"\"}}, \"type\": \"scattercarpet\"}], \"scattergeo\": [{\"marker\": {\"colorbar\": {\"outlinewidth\": 0, \"ticks\": \"\"}}, \"type\": \"scattergeo\"}], \"scattergl\": [{\"marker\": {\"colorbar\": {\"outlinewidth\": 0, \"ticks\": \"\"}}, \"type\": \"scattergl\"}], \"scattermapbox\": [{\"marker\": {\"colorbar\": {\"outlinewidth\": 0, \"ticks\": \"\"}}, \"type\": \"scattermapbox\"}], \"scatterpolar\": [{\"marker\": {\"colorbar\": {\"outlinewidth\": 0, \"ticks\": \"\"}}, \"type\": \"scatterpolar\"}], \"scatterpolargl\": [{\"marker\": {\"colorbar\": {\"outlinewidth\": 0, \"ticks\": \"\"}}, \"type\": \"scatterpolargl\"}], \"scatterternary\": [{\"marker\": {\"colorbar\": {\"outlinewidth\": 0, \"ticks\": \"\"}}, \"type\": \"scatterternary\"}], \"surface\": [{\"colorbar\": {\"outlinewidth\": 0, \"ticks\": \"\"}, \"colorscale\": [[0.0, \"#0d0887\"], [0.1111111111111111, \"#46039f\"], [0.2222222222222222, \"#7201a8\"], [0.3333333333333333, \"#9c179e\"], [0.4444444444444444, \"#bd3786\"], [0.5555555555555556, \"#d8576b\"], [0.6666666666666666, \"#ed7953\"], [0.7777777777777778, \"#fb9f3a\"], [0.8888888888888888, \"#fdca26\"], [1.0, \"#f0f921\"]], \"type\": \"surface\"}], \"table\": [{\"cells\": {\"fill\": {\"color\": \"#EBF0F8\"}, \"line\": {\"color\": \"white\"}}, \"header\": {\"fill\": {\"color\": \"#C8D4E3\"}, \"line\": {\"color\": \"white\"}}, \"type\": \"table\"}]}, \"layout\": {\"annotationdefaults\": {\"arrowcolor\": \"#2a3f5f\", \"arrowhead\": 0, \"arrowwidth\": 1}, \"autotypenumbers\": \"strict\", \"coloraxis\": {\"colorbar\": {\"outlinewidth\": 0, \"ticks\": \"\"}}, \"colorscale\": {\"diverging\": [[0, \"#8e0152\"], [0.1, \"#c51b7d\"], [0.2, \"#de77ae\"], [0.3, \"#f1b6da\"], [0.4, \"#fde0ef\"], [0.5, \"#f7f7f7\"], [0.6, \"#e6f5d0\"], [0.7, \"#b8e186\"], [0.8, \"#7fbc41\"], [0.9, \"#4d9221\"], [1, \"#276419\"]], \"sequential\": [[0.0, \"#0d0887\"], [0.1111111111111111, \"#46039f\"], [0.2222222222222222, \"#7201a8\"], [0.3333333333333333, \"#9c179e\"], [0.4444444444444444, \"#bd3786\"], [0.5555555555555556, \"#d8576b\"], [0.6666666666666666, \"#ed7953\"], [0.7777777777777778, \"#fb9f3a\"], [0.8888888888888888, \"#fdca26\"], [1.0, \"#f0f921\"]], \"sequentialminus\": [[0.0, \"#0d0887\"], [0.1111111111111111, \"#46039f\"], [0.2222222222222222, \"#7201a8\"], [0.3333333333333333, \"#9c179e\"], [0.4444444444444444, \"#bd3786\"], [0.5555555555555556, \"#d8576b\"], [0.6666666666666666, \"#ed7953\"], [0.7777777777777778, \"#fb9f3a\"], [0.8888888888888888, \"#fdca26\"], [1.0, \"#f0f921\"]]}, \"colorway\": [\"#636efa\", \"#EF553B\", \"#00cc96\", \"#ab63fa\", \"#FFA15A\", \"#19d3f3\", \"#FF6692\", \"#B6E880\", \"#FF97FF\", \"#FECB52\"], \"font\": {\"color\": \"#2a3f5f\"}, \"geo\": {\"bgcolor\": \"white\", \"lakecolor\": \"white\", \"landcolor\": \"#E5ECF6\", \"showlakes\": true, \"showland\": true, \"subunitcolor\": \"white\"}, \"hoverlabel\": {\"align\": \"left\"}, \"hovermode\": \"closest\", \"mapbox\": {\"style\": \"light\"}, \"paper_bgcolor\": \"white\", \"plot_bgcolor\": \"#E5ECF6\", \"polar\": {\"angularaxis\": {\"gridcolor\": \"white\", \"linecolor\": \"white\", \"ticks\": \"\"}, \"bgcolor\": \"#E5ECF6\", \"radialaxis\": {\"gridcolor\": \"white\", \"linecolor\": \"white\", \"ticks\": \"\"}}, \"scene\": {\"xaxis\": {\"backgroundcolor\": \"#E5ECF6\", \"gridcolor\": \"white\", \"gridwidth\": 2, \"linecolor\": \"white\", \"showbackground\": true, \"ticks\": \"\", \"zerolinecolor\": \"white\"}, \"yaxis\": {\"backgroundcolor\": \"#E5ECF6\", \"gridcolor\": \"white\", \"gridwidth\": 2, \"linecolor\": \"white\", \"showbackground\": true, \"ticks\": \"\", \"zerolinecolor\": \"white\"}, \"zaxis\": {\"backgroundcolor\": \"#E5ECF6\", \"gridcolor\": \"white\", \"gridwidth\": 2, \"linecolor\": \"white\", \"showbackground\": true, \"ticks\": \"\", \"zerolinecolor\": \"white\"}}, \"shapedefaults\": {\"line\": {\"color\": \"#2a3f5f\"}}, \"ternary\": {\"aaxis\": {\"gridcolor\": \"white\", \"linecolor\": \"white\", \"ticks\": \"\"}, \"baxis\": {\"gridcolor\": \"white\", \"linecolor\": \"white\", \"ticks\": \"\"}, \"bgcolor\": \"#E5ECF6\", \"caxis\": {\"gridcolor\": \"white\", \"linecolor\": \"white\", \"ticks\": \"\"}}, \"title\": {\"x\": 0.05}, \"xaxis\": {\"automargin\": true, \"gridcolor\": \"white\", \"linecolor\": \"white\", \"ticks\": \"\", \"title\": {\"standoff\": 15}, \"zerolinecolor\": \"white\", \"zerolinewidth\": 2}, \"yaxis\": {\"automargin\": true, \"gridcolor\": \"white\", \"linecolor\": \"white\", \"ticks\": \"\", \"title\": {\"standoff\": 15}, \"zerolinecolor\": \"white\", \"zerolinewidth\": 2}}}, \"title\": {\"text\": \"Wide-Form Input\"}, \"xaxis\": {\"anchor\": \"y\", \"domain\": [0.0, 1.0], \"title\": {\"text\": \"MES\"}}, \"yaxis\": {\"anchor\": \"x\", \"domain\": [0.0, 1.0], \"title\": {\"text\": \"value\"}}},                        {\"responsive\": true}                    ).then(function(){\n",
       "                            \n",
       "var gd = document.getElementById('a494eb9c-b539-44ee-951d-19f62d1feebf');\n",
       "var x = new MutationObserver(function (mutations, observer) {{\n",
       "        var display = window.getComputedStyle(gd).display;\n",
       "        if (!display || display === 'none') {{\n",
       "            console.log([gd, 'removed!']);\n",
       "            Plotly.purge(gd);\n",
       "            observer.disconnect();\n",
       "        }}\n",
       "}});\n",
       "\n",
       "// Listen for the removal of the full notebook cells\n",
       "var notebookContainer = gd.closest('#notebook-container');\n",
       "if (notebookContainer) {{\n",
       "    x.observe(notebookContainer, {childList: true});\n",
       "}}\n",
       "\n",
       "// Listen for the clearing of the current output cell\n",
       "var outputEl = gd.closest('.output');\n",
       "if (outputEl) {{\n",
       "    x.observe(outputEl, {childList: true});\n",
       "}}\n",
       "\n",
       "                        })                };                });            </script>        </div>"
      ]
     },
     "metadata": {},
     "output_type": "display_data"
    }
   ],
   "source": [
    "fig = px.bar(df, x=\"MES\", y=[\"TOTAL_INSEGURIDAD\"], title=\"Wide-Form Input\")\n",
    "fig.update_traces(marker_color='rgb(158,202,225)', marker_line_color='rgb(8,48,107)',\n",
    "                  marker_line_width=1.5, opacity=0.6)\n",
    "fig.show()"
   ]
  },
  {
   "cell_type": "code",
   "execution_count": 74,
   "metadata": {},
   "outputs": [
    {
     "data": {
      "text/plain": [
       "Index(['DISTRITOS', 'RELACIONADAS CON LAS PERSONAS',\n",
       "       'RELACIONADAS CON EL PATRIMONIO', 'POR TENENCIA DE ARMAS',\n",
       "       'POR TENENCIA DE DROGAS', 'POR CONSUMO DE DROGAS', 'MES', 'AÑO',\n",
       "       'TOTAL_INSEGURIDAD'],\n",
       "      dtype='object', name=1)"
      ]
     },
     "execution_count": 74,
     "metadata": {},
     "output_type": "execute_result"
    }
   ],
   "source": [
    "df.columns"
   ]
  },
  {
   "cell_type": "code",
   "execution_count": 75,
   "metadata": {},
   "outputs": [
    {
     "data": {
      "application/vnd.plotly.v1+json": {
       "config": {
        "plotlyServerURL": "https://plot.ly"
       },
       "data": [
        {
         "alignmentgroup": "True",
         "customdata": [
          [
           37,
           71,
           11,
           83,
           16
          ],
          [
           6,
           3,
           2,
           7,
           5
          ],
          [
           4,
           5,
           1,
           24,
           0
          ],
          [
           10,
           43,
           3,
           17,
           2
          ],
          [
           7,
           8,
           1,
           26,
           4
          ],
          [
           15,
           24,
           2,
           14,
           5
          ],
          [
           10,
           7,
           1,
           8,
           4
          ],
          [
           10,
           8,
           2,
           26,
           0
          ],
          [
           34,
           16,
           5,
           22,
           0
          ],
          [
           17,
           24,
           6,
           37,
           10
          ],
          [
           37,
           15,
           2,
           14,
           5
          ],
          [
           19,
           23,
           1,
           5,
           0
          ],
          [
           24,
           35,
           12,
           46,
           1
          ],
          [
           2,
           7,
           2,
           4,
           0
          ],
          [
           14,
           15,
           3,
           34,
           5
          ],
          [
           6,
           3,
           8,
           56,
           16
          ],
          [
           20,
           29,
           0,
           33,
           7
          ],
          [
           19,
           16,
           5,
           23,
           30
          ],
          [
           17,
           11,
           0,
           1,
           0
          ],
          [
           21,
           25,
           4,
           19,
           2
          ],
          [
           7,
           8,
           0,
           9,
           0
          ],
          [
           0,
           0,
           0,
           0,
           0
          ]
         ],
         "hovertemplate": "MES=Marzo<br>DISTRITOS=%{x}<br>TOTAL_INSEGURIDAD=%{text}<br>RELACIONADAS CON LAS PERSONAS=%{customdata[0]}<br>RELACIONADAS CON EL PATRIMONIO=%{customdata[1]}<br>POR TENENCIA DE ARMAS=%{customdata[2]}<br>POR TENENCIA DE DROGAS=%{customdata[3]}<br>POR CONSUMO DE DROGAS=%{customdata[4]}<extra></extra>",
         "legendgroup": "Marzo",
         "marker": {
          "color": "#636efa"
         },
         "name": "Marzo",
         "offsetgroup": "Marzo",
         "orientation": "v",
         "showlegend": true,
         "text": [
          218,
          23,
          34,
          75,
          46,
          60,
          30,
          46,
          77,
          94,
          73,
          48,
          118,
          15,
          71,
          89,
          89,
          93,
          29,
          71,
          24,
          0
         ],
         "textposition": "outside",
         "texttemplate": "%{text:.2s}",
         "type": "bar",
         "x": [
          "CENTRO",
          "ARGANZUELA",
          "RETIRO",
          "SALAMANCA",
          "CHAMARTÍN",
          "TETUÁN",
          "CHAMBERÍ",
          "FUENCARRAL - EL PARDO",
          "MONCLOA - ARAVACA",
          "LATINA",
          "CARABANCHEL",
          "USERA",
          "PUENTE DE VALLECAS",
          "MORATALAZ",
          "CIUDAD LINEAL",
          "HORTALEZA",
          "VILLAVERDE",
          "VILLA DE VALLECAS",
          "VICÁLVARO",
          "SAN BLAS - CANILLEJAS",
          "BARAJAS",
          "SIN DISTRITO ASIGNADO"
         ],
         "xaxis": "x",
         "y": [
          218,
          23,
          34,
          75,
          46,
          60,
          30,
          46,
          77,
          94,
          73,
          48,
          118,
          15,
          71,
          89,
          89,
          93,
          29,
          71,
          24,
          0
         ],
         "yaxis": "y"
        },
        {
         "alignmentgroup": "True",
         "customdata": [
          [
           36,
           64,
           14,
           81,
           19
          ],
          [
           6,
           11,
           0,
           8,
           2
          ],
          [
           5,
           4,
           1,
           20,
           9
          ],
          [
           5,
           42,
           1,
           25,
           1
          ],
          [
           4,
           10,
           2,
           14,
           3
          ],
          [
           27,
           14,
           3,
           6,
           0
          ],
          [
           6,
           9,
           3,
           33,
           2
          ],
          [
           5,
           9,
           2,
           20,
           1
          ],
          [
           23,
           18,
           3,
           21,
           3
          ],
          [
           15,
           6,
           3,
           65,
           14
          ],
          [
           41,
           40,
           2,
           27,
           6
          ],
          [
           18,
           27,
           0,
           8,
           3
          ],
          [
           42,
           15,
           6,
           28,
           0
          ],
          [
           6,
           7,
           0,
           6,
           0
          ],
          [
           19,
           20,
           2,
           29,
           2
          ],
          [
           10,
           6,
           2,
           20,
           8
          ],
          [
           22,
           13,
           3,
           22,
           4
          ],
          [
           14,
           17,
           2,
           14,
           23
          ],
          [
           11,
           10,
           0,
           2,
           0
          ],
          [
           22,
           22,
           2,
           16,
           1
          ],
          [
           7,
           12,
           1,
           13,
           5
          ],
          [
           0,
           0,
           0,
           0,
           0
          ]
         ],
         "hovertemplate": "MES=Abril<br>DISTRITOS=%{x}<br>TOTAL_INSEGURIDAD=%{text}<br>RELACIONADAS CON LAS PERSONAS=%{customdata[0]}<br>RELACIONADAS CON EL PATRIMONIO=%{customdata[1]}<br>POR TENENCIA DE ARMAS=%{customdata[2]}<br>POR TENENCIA DE DROGAS=%{customdata[3]}<br>POR CONSUMO DE DROGAS=%{customdata[4]}<extra></extra>",
         "legendgroup": "Abril",
         "marker": {
          "color": "#EF553B"
         },
         "name": "Abril",
         "offsetgroup": "Abril",
         "orientation": "v",
         "showlegend": true,
         "text": [
          214,
          27,
          39,
          74,
          33,
          50,
          53,
          37,
          68,
          103,
          116,
          56,
          91,
          19,
          72,
          46,
          64,
          70,
          23,
          63,
          38,
          0
         ],
         "textposition": "outside",
         "texttemplate": "%{text:.2s}",
         "type": "bar",
         "x": [
          "CENTRO",
          "ARGANZUELA",
          "RETIRO",
          "SALAMANCA",
          "CHAMARTÍN",
          "TETUÁN",
          "CHAMBERÍ",
          "FUENCARRAL - EL PARDO",
          "MONCLOA - ARAVACA",
          "LATINA",
          "CARABANCHEL",
          "USERA",
          "PUENTE DE VALLECAS",
          "MORATALAZ",
          "CIUDAD LINEAL",
          "HORTALEZA",
          "VILLAVERDE",
          "VILLA DE VALLECAS",
          "VICÁLVARO",
          "SAN BLAS - CANILLEJAS",
          "BARAJAS",
          "SIN DISTRITO ASIGNADO"
         ],
         "xaxis": "x",
         "y": [
          214,
          27,
          39,
          74,
          33,
          50,
          53,
          37,
          68,
          103,
          116,
          56,
          91,
          19,
          72,
          46,
          64,
          70,
          23,
          63,
          38,
          0
         ],
         "yaxis": "y"
        },
        {
         "alignmentgroup": "True",
         "customdata": [
          [
           52,
           97,
           15,
           76,
           12
          ],
          [
           6,
           14,
           2,
           6,
           14
          ],
          [
           2,
           4,
           2,
           21,
           2
          ],
          [
           8,
           43,
           1,
           20,
           2
          ],
          [
           5,
           10,
           3,
           16,
           4
          ],
          [
           16,
           16,
           1,
           6,
           0
          ],
          [
           11,
           11,
           1,
           10,
           2
          ],
          [
           6,
           9,
           0,
           28,
           1
          ],
          [
           29,
           26,
           1,
           17,
           3
          ],
          [
           20,
           14,
           0,
           25,
           6
          ],
          [
           34,
           27,
           5,
           26,
           5
          ],
          [
           19,
           21,
           1,
           14,
           4
          ],
          [
           47,
           30,
           1,
           43,
           1
          ],
          [
           12,
           7,
           0,
           0,
           0
          ],
          [
           32,
           22,
           3,
           33,
           15
          ],
          [
           4,
           12,
           3,
           38,
           9
          ],
          [
           26,
           27,
           1,
           19,
           4
          ],
          [
           22,
           20,
           3,
           16,
           41
          ],
          [
           12,
           12,
           0,
           2,
           0
          ],
          [
           26,
           17,
           3,
           24,
           2
          ],
          [
           10,
           15,
           0,
           15,
           15
          ],
          [
           0,
           0,
           0,
           0,
           0
          ]
         ],
         "hovertemplate": "MES=Mayo<br>DISTRITOS=%{x}<br>TOTAL_INSEGURIDAD=%{text}<br>RELACIONADAS CON LAS PERSONAS=%{customdata[0]}<br>RELACIONADAS CON EL PATRIMONIO=%{customdata[1]}<br>POR TENENCIA DE ARMAS=%{customdata[2]}<br>POR TENENCIA DE DROGAS=%{customdata[3]}<br>POR CONSUMO DE DROGAS=%{customdata[4]}<extra></extra>",
         "legendgroup": "Mayo",
         "marker": {
          "color": "#00cc96"
         },
         "name": "Mayo",
         "offsetgroup": "Mayo",
         "orientation": "v",
         "showlegend": true,
         "text": [
          252,
          42,
          31,
          74,
          38,
          39,
          35,
          44,
          76,
          65,
          97,
          59,
          122,
          19,
          105,
          66,
          77,
          102,
          26,
          72,
          55,
          0
         ],
         "textposition": "outside",
         "texttemplate": "%{text:.2s}",
         "type": "bar",
         "x": [
          "CENTRO",
          "ARGANZUELA",
          "RETIRO",
          "SALAMANCA",
          "CHAMARTÍN",
          "TETUÁN",
          "CHAMBERÍ",
          "FUENCARRAL - EL PARDO",
          "MONCLOA - ARAVACA",
          "LATINA",
          "CARABANCHEL",
          "USERA",
          "PUENTE DE VALLECAS",
          "MORATALAZ",
          "CIUDAD LINEAL",
          "HORTALEZA",
          "VILLAVERDE",
          "VILLA DE VALLECAS",
          "VICÁLVARO",
          "SAN BLAS - CANILLEJAS",
          "BARAJAS",
          "SIN DISTRITO ASIGNADO"
         ],
         "xaxis": "x",
         "y": [
          252,
          42,
          31,
          74,
          38,
          39,
          35,
          44,
          76,
          65,
          97,
          59,
          122,
          19,
          105,
          66,
          77,
          102,
          26,
          72,
          55,
          0
         ],
         "yaxis": "y"
        },
        {
         "alignmentgroup": "True",
         "customdata": [
          [
           20,
           41,
           4,
           68,
           10
          ],
          [
           4,
           9,
           9,
           10,
           1
          ],
          [
           3,
           5,
           0,
           7,
           0
          ],
          [
           6,
           47,
           5,
           27,
           2
          ],
          [
           2,
           6,
           0,
           12,
           2
          ],
          [
           12,
           31,
           7,
           29,
           4
          ],
          [
           15,
           9,
           1,
           18,
           0
          ],
          [
           9,
           7,
           2,
           14,
           2
          ],
          [
           22,
           18,
           0,
           16,
           4
          ],
          [
           15,
           14,
           1,
           40,
           7
          ],
          [
           32,
           26,
           3,
           15,
           2
          ],
          [
           17,
           24,
           0,
           10,
           5
          ],
          [
           30,
           18,
           6,
           25,
           3
          ],
          [
           6,
           5,
           0,
           5,
           1
          ],
          [
           15,
           20,
           2,
           25,
           6
          ],
          [
           3,
           15,
           8,
           35,
           8
          ],
          [
           8,
           16,
           0,
           18,
           4
          ],
          [
           12,
           10,
           4,
           27,
           1
          ],
          [
           8,
           5,
           0,
           0,
           0
          ],
          [
           13,
           21,
           1,
           31,
           2
          ],
          [
           6,
           17,
           0,
           8,
           1
          ],
          [
           0,
           0,
           0,
           0,
           0
          ]
         ],
         "hovertemplate": "MES=Febrero<br>DISTRITOS=%{x}<br>TOTAL_INSEGURIDAD=%{text}<br>RELACIONADAS CON LAS PERSONAS=%{customdata[0]}<br>RELACIONADAS CON EL PATRIMONIO=%{customdata[1]}<br>POR TENENCIA DE ARMAS=%{customdata[2]}<br>POR TENENCIA DE DROGAS=%{customdata[3]}<br>POR CONSUMO DE DROGAS=%{customdata[4]}<extra></extra>",
         "legendgroup": "Febrero",
         "marker": {
          "color": "#ab63fa"
         },
         "name": "Febrero",
         "offsetgroup": "Febrero",
         "orientation": "v",
         "showlegend": true,
         "text": [
          143,
          33,
          15,
          87,
          22,
          83,
          43,
          34,
          60,
          77,
          78,
          56,
          82,
          17,
          68,
          69,
          46,
          54,
          13,
          68,
          32,
          0
         ],
         "textposition": "outside",
         "texttemplate": "%{text:.2s}",
         "type": "bar",
         "x": [
          "CENTRO",
          "ARGANZUELA",
          "RETIRO",
          "SALAMANCA",
          "CHAMARTÍN",
          "TETUÁN",
          "CHAMBERÍ",
          "FUENCARRAL - EL PARDO",
          "MONCLOA - ARAVACA",
          "LATINA",
          "CARABANCHEL",
          "USERA",
          "PUENTE DE VALLECAS",
          "MORATALAZ",
          "CIUDAD LINEAL",
          "HORTALEZA",
          "VILLAVERDE",
          "VILLA DE VALLECAS",
          "VICÁLVARO",
          "SAN BLAS - CANILLEJAS",
          "BARAJAS",
          "SIN DISTRITO ASIGNADO"
         ],
         "xaxis": "x",
         "y": [
          143,
          33,
          15,
          87,
          22,
          83,
          43,
          34,
          60,
          77,
          78,
          56,
          82,
          17,
          68,
          69,
          46,
          54,
          13,
          68,
          32,
          0
         ],
         "yaxis": "y"
        },
        {
         "alignmentgroup": "True",
         "customdata": [
          [
           19,
           43,
           17,
           32,
           8
          ],
          [
           4,
           10,
           1,
           3,
           1
          ],
          [
           1,
           4,
           0,
           5,
           1
          ],
          [
           3,
           49,
           0,
           11,
           0
          ],
          [
           3,
           6,
           1,
           7,
           2
          ],
          [
           14,
           13,
           1,
           3,
           6
          ],
          [
           4,
           13,
           3,
           7,
           2
          ],
          [
           4,
           10,
           0,
           10,
           1
          ],
          [
           23,
           17,
           0,
           4,
           3
          ],
          [
           8,
           12,
           9,
           11,
           2
          ],
          [
           27,
           31,
           4,
           9,
           6
          ],
          [
           30,
           20,
           1,
           8,
           2
          ],
          [
           25,
           29,
           3,
           8,
           0
          ],
          [
           5,
           2,
           0,
           1,
           1
          ],
          [
           15,
           14,
           1,
           14,
           5
          ],
          [
           4,
           14,
           7,
           26,
           9
          ],
          [
           14,
           11,
           1,
           13,
           2
          ],
          [
           16,
           10,
           3,
           20,
           0
          ],
          [
           7,
           3,
           0,
           0,
           0
          ],
          [
           11,
           9,
           3,
           11,
           1
          ],
          [
           5,
           5,
           0,
           5,
           2
          ],
          [
           0,
           0,
           0,
           0,
           0
          ]
         ],
         "hovertemplate": "MES=Enero<br>DISTRITOS=%{x}<br>TOTAL_INSEGURIDAD=%{text}<br>RELACIONADAS CON LAS PERSONAS=%{customdata[0]}<br>RELACIONADAS CON EL PATRIMONIO=%{customdata[1]}<br>POR TENENCIA DE ARMAS=%{customdata[2]}<br>POR TENENCIA DE DROGAS=%{customdata[3]}<br>POR CONSUMO DE DROGAS=%{customdata[4]}<extra></extra>",
         "legendgroup": "Enero",
         "marker": {
          "color": "#FFA15A"
         },
         "name": "Enero",
         "offsetgroup": "Enero",
         "orientation": "v",
         "showlegend": true,
         "text": [
          119,
          19,
          11,
          63,
          19,
          37,
          29,
          25,
          47,
          42,
          77,
          61,
          65,
          9,
          49,
          60,
          41,
          49,
          10,
          35,
          17,
          0
         ],
         "textposition": "outside",
         "texttemplate": "%{text:.2s}",
         "type": "bar",
         "x": [
          "CENTRO",
          "ARGANZUELA",
          "RETIRO",
          "SALAMANCA",
          "CHAMARTÍN",
          "TETUÁN",
          "CHAMBERÍ",
          "FUENCARRAL - EL PARDO",
          "MONCLOA - ARAVACA",
          "LATINA",
          "CARABANCHEL",
          "USERA",
          "PUENTE DE VALLECAS",
          "MORATALAZ",
          "CIUDAD LINEAL",
          "HORTALEZA",
          "VILLAVERDE",
          "VILLA DE VALLECAS",
          "VICÁLVARO",
          "SAN BLAS - CANILLEJAS",
          "BARAJAS",
          "SIN DISTRITO ASIGNADO"
         ],
         "xaxis": "x",
         "y": [
          119,
          19,
          11,
          63,
          19,
          37,
          29,
          25,
          47,
          42,
          77,
          61,
          65,
          9,
          49,
          60,
          41,
          49,
          10,
          35,
          17,
          0
         ],
         "yaxis": "y"
        }
       ],
       "layout": {
        "barmode": "relative",
        "legend": {
         "title": {
          "text": "MES"
         },
         "tracegroupgap": 0
        },
        "template": {
         "data": {
          "bar": [
           {
            "error_x": {
             "color": "#2a3f5f"
            },
            "error_y": {
             "color": "#2a3f5f"
            },
            "marker": {
             "line": {
              "color": "#E5ECF6",
              "width": 0.5
             }
            },
            "type": "bar"
           }
          ],
          "barpolar": [
           {
            "marker": {
             "line": {
              "color": "#E5ECF6",
              "width": 0.5
             }
            },
            "type": "barpolar"
           }
          ],
          "carpet": [
           {
            "aaxis": {
             "endlinecolor": "#2a3f5f",
             "gridcolor": "white",
             "linecolor": "white",
             "minorgridcolor": "white",
             "startlinecolor": "#2a3f5f"
            },
            "baxis": {
             "endlinecolor": "#2a3f5f",
             "gridcolor": "white",
             "linecolor": "white",
             "minorgridcolor": "white",
             "startlinecolor": "#2a3f5f"
            },
            "type": "carpet"
           }
          ],
          "choropleth": [
           {
            "colorbar": {
             "outlinewidth": 0,
             "ticks": ""
            },
            "type": "choropleth"
           }
          ],
          "contour": [
           {
            "colorbar": {
             "outlinewidth": 0,
             "ticks": ""
            },
            "colorscale": [
             [
              0,
              "#0d0887"
             ],
             [
              0.1111111111111111,
              "#46039f"
             ],
             [
              0.2222222222222222,
              "#7201a8"
             ],
             [
              0.3333333333333333,
              "#9c179e"
             ],
             [
              0.4444444444444444,
              "#bd3786"
             ],
             [
              0.5555555555555556,
              "#d8576b"
             ],
             [
              0.6666666666666666,
              "#ed7953"
             ],
             [
              0.7777777777777778,
              "#fb9f3a"
             ],
             [
              0.8888888888888888,
              "#fdca26"
             ],
             [
              1,
              "#f0f921"
             ]
            ],
            "type": "contour"
           }
          ],
          "contourcarpet": [
           {
            "colorbar": {
             "outlinewidth": 0,
             "ticks": ""
            },
            "type": "contourcarpet"
           }
          ],
          "heatmap": [
           {
            "colorbar": {
             "outlinewidth": 0,
             "ticks": ""
            },
            "colorscale": [
             [
              0,
              "#0d0887"
             ],
             [
              0.1111111111111111,
              "#46039f"
             ],
             [
              0.2222222222222222,
              "#7201a8"
             ],
             [
              0.3333333333333333,
              "#9c179e"
             ],
             [
              0.4444444444444444,
              "#bd3786"
             ],
             [
              0.5555555555555556,
              "#d8576b"
             ],
             [
              0.6666666666666666,
              "#ed7953"
             ],
             [
              0.7777777777777778,
              "#fb9f3a"
             ],
             [
              0.8888888888888888,
              "#fdca26"
             ],
             [
              1,
              "#f0f921"
             ]
            ],
            "type": "heatmap"
           }
          ],
          "heatmapgl": [
           {
            "colorbar": {
             "outlinewidth": 0,
             "ticks": ""
            },
            "colorscale": [
             [
              0,
              "#0d0887"
             ],
             [
              0.1111111111111111,
              "#46039f"
             ],
             [
              0.2222222222222222,
              "#7201a8"
             ],
             [
              0.3333333333333333,
              "#9c179e"
             ],
             [
              0.4444444444444444,
              "#bd3786"
             ],
             [
              0.5555555555555556,
              "#d8576b"
             ],
             [
              0.6666666666666666,
              "#ed7953"
             ],
             [
              0.7777777777777778,
              "#fb9f3a"
             ],
             [
              0.8888888888888888,
              "#fdca26"
             ],
             [
              1,
              "#f0f921"
             ]
            ],
            "type": "heatmapgl"
           }
          ],
          "histogram": [
           {
            "marker": {
             "colorbar": {
              "outlinewidth": 0,
              "ticks": ""
             }
            },
            "type": "histogram"
           }
          ],
          "histogram2d": [
           {
            "colorbar": {
             "outlinewidth": 0,
             "ticks": ""
            },
            "colorscale": [
             [
              0,
              "#0d0887"
             ],
             [
              0.1111111111111111,
              "#46039f"
             ],
             [
              0.2222222222222222,
              "#7201a8"
             ],
             [
              0.3333333333333333,
              "#9c179e"
             ],
             [
              0.4444444444444444,
              "#bd3786"
             ],
             [
              0.5555555555555556,
              "#d8576b"
             ],
             [
              0.6666666666666666,
              "#ed7953"
             ],
             [
              0.7777777777777778,
              "#fb9f3a"
             ],
             [
              0.8888888888888888,
              "#fdca26"
             ],
             [
              1,
              "#f0f921"
             ]
            ],
            "type": "histogram2d"
           }
          ],
          "histogram2dcontour": [
           {
            "colorbar": {
             "outlinewidth": 0,
             "ticks": ""
            },
            "colorscale": [
             [
              0,
              "#0d0887"
             ],
             [
              0.1111111111111111,
              "#46039f"
             ],
             [
              0.2222222222222222,
              "#7201a8"
             ],
             [
              0.3333333333333333,
              "#9c179e"
             ],
             [
              0.4444444444444444,
              "#bd3786"
             ],
             [
              0.5555555555555556,
              "#d8576b"
             ],
             [
              0.6666666666666666,
              "#ed7953"
             ],
             [
              0.7777777777777778,
              "#fb9f3a"
             ],
             [
              0.8888888888888888,
              "#fdca26"
             ],
             [
              1,
              "#f0f921"
             ]
            ],
            "type": "histogram2dcontour"
           }
          ],
          "mesh3d": [
           {
            "colorbar": {
             "outlinewidth": 0,
             "ticks": ""
            },
            "type": "mesh3d"
           }
          ],
          "parcoords": [
           {
            "line": {
             "colorbar": {
              "outlinewidth": 0,
              "ticks": ""
             }
            },
            "type": "parcoords"
           }
          ],
          "pie": [
           {
            "automargin": true,
            "type": "pie"
           }
          ],
          "scatter": [
           {
            "marker": {
             "colorbar": {
              "outlinewidth": 0,
              "ticks": ""
             }
            },
            "type": "scatter"
           }
          ],
          "scatter3d": [
           {
            "line": {
             "colorbar": {
              "outlinewidth": 0,
              "ticks": ""
             }
            },
            "marker": {
             "colorbar": {
              "outlinewidth": 0,
              "ticks": ""
             }
            },
            "type": "scatter3d"
           }
          ],
          "scattercarpet": [
           {
            "marker": {
             "colorbar": {
              "outlinewidth": 0,
              "ticks": ""
             }
            },
            "type": "scattercarpet"
           }
          ],
          "scattergeo": [
           {
            "marker": {
             "colorbar": {
              "outlinewidth": 0,
              "ticks": ""
             }
            },
            "type": "scattergeo"
           }
          ],
          "scattergl": [
           {
            "marker": {
             "colorbar": {
              "outlinewidth": 0,
              "ticks": ""
             }
            },
            "type": "scattergl"
           }
          ],
          "scattermapbox": [
           {
            "marker": {
             "colorbar": {
              "outlinewidth": 0,
              "ticks": ""
             }
            },
            "type": "scattermapbox"
           }
          ],
          "scatterpolar": [
           {
            "marker": {
             "colorbar": {
              "outlinewidth": 0,
              "ticks": ""
             }
            },
            "type": "scatterpolar"
           }
          ],
          "scatterpolargl": [
           {
            "marker": {
             "colorbar": {
              "outlinewidth": 0,
              "ticks": ""
             }
            },
            "type": "scatterpolargl"
           }
          ],
          "scatterternary": [
           {
            "marker": {
             "colorbar": {
              "outlinewidth": 0,
              "ticks": ""
             }
            },
            "type": "scatterternary"
           }
          ],
          "surface": [
           {
            "colorbar": {
             "outlinewidth": 0,
             "ticks": ""
            },
            "colorscale": [
             [
              0,
              "#0d0887"
             ],
             [
              0.1111111111111111,
              "#46039f"
             ],
             [
              0.2222222222222222,
              "#7201a8"
             ],
             [
              0.3333333333333333,
              "#9c179e"
             ],
             [
              0.4444444444444444,
              "#bd3786"
             ],
             [
              0.5555555555555556,
              "#d8576b"
             ],
             [
              0.6666666666666666,
              "#ed7953"
             ],
             [
              0.7777777777777778,
              "#fb9f3a"
             ],
             [
              0.8888888888888888,
              "#fdca26"
             ],
             [
              1,
              "#f0f921"
             ]
            ],
            "type": "surface"
           }
          ],
          "table": [
           {
            "cells": {
             "fill": {
              "color": "#EBF0F8"
             },
             "line": {
              "color": "white"
             }
            },
            "header": {
             "fill": {
              "color": "#C8D4E3"
             },
             "line": {
              "color": "white"
             }
            },
            "type": "table"
           }
          ]
         },
         "layout": {
          "annotationdefaults": {
           "arrowcolor": "#2a3f5f",
           "arrowhead": 0,
           "arrowwidth": 1
          },
          "autotypenumbers": "strict",
          "coloraxis": {
           "colorbar": {
            "outlinewidth": 0,
            "ticks": ""
           }
          },
          "colorscale": {
           "diverging": [
            [
             0,
             "#8e0152"
            ],
            [
             0.1,
             "#c51b7d"
            ],
            [
             0.2,
             "#de77ae"
            ],
            [
             0.3,
             "#f1b6da"
            ],
            [
             0.4,
             "#fde0ef"
            ],
            [
             0.5,
             "#f7f7f7"
            ],
            [
             0.6,
             "#e6f5d0"
            ],
            [
             0.7,
             "#b8e186"
            ],
            [
             0.8,
             "#7fbc41"
            ],
            [
             0.9,
             "#4d9221"
            ],
            [
             1,
             "#276419"
            ]
           ],
           "sequential": [
            [
             0,
             "#0d0887"
            ],
            [
             0.1111111111111111,
             "#46039f"
            ],
            [
             0.2222222222222222,
             "#7201a8"
            ],
            [
             0.3333333333333333,
             "#9c179e"
            ],
            [
             0.4444444444444444,
             "#bd3786"
            ],
            [
             0.5555555555555556,
             "#d8576b"
            ],
            [
             0.6666666666666666,
             "#ed7953"
            ],
            [
             0.7777777777777778,
             "#fb9f3a"
            ],
            [
             0.8888888888888888,
             "#fdca26"
            ],
            [
             1,
             "#f0f921"
            ]
           ],
           "sequentialminus": [
            [
             0,
             "#0d0887"
            ],
            [
             0.1111111111111111,
             "#46039f"
            ],
            [
             0.2222222222222222,
             "#7201a8"
            ],
            [
             0.3333333333333333,
             "#9c179e"
            ],
            [
             0.4444444444444444,
             "#bd3786"
            ],
            [
             0.5555555555555556,
             "#d8576b"
            ],
            [
             0.6666666666666666,
             "#ed7953"
            ],
            [
             0.7777777777777778,
             "#fb9f3a"
            ],
            [
             0.8888888888888888,
             "#fdca26"
            ],
            [
             1,
             "#f0f921"
            ]
           ]
          },
          "colorway": [
           "#636efa",
           "#EF553B",
           "#00cc96",
           "#ab63fa",
           "#FFA15A",
           "#19d3f3",
           "#FF6692",
           "#B6E880",
           "#FF97FF",
           "#FECB52"
          ],
          "font": {
           "color": "#2a3f5f"
          },
          "geo": {
           "bgcolor": "white",
           "lakecolor": "white",
           "landcolor": "#E5ECF6",
           "showlakes": true,
           "showland": true,
           "subunitcolor": "white"
          },
          "hoverlabel": {
           "align": "left"
          },
          "hovermode": "closest",
          "mapbox": {
           "style": "light"
          },
          "paper_bgcolor": "white",
          "plot_bgcolor": "#E5ECF6",
          "polar": {
           "angularaxis": {
            "gridcolor": "white",
            "linecolor": "white",
            "ticks": ""
           },
           "bgcolor": "#E5ECF6",
           "radialaxis": {
            "gridcolor": "white",
            "linecolor": "white",
            "ticks": ""
           }
          },
          "scene": {
           "xaxis": {
            "backgroundcolor": "#E5ECF6",
            "gridcolor": "white",
            "gridwidth": 2,
            "linecolor": "white",
            "showbackground": true,
            "ticks": "",
            "zerolinecolor": "white"
           },
           "yaxis": {
            "backgroundcolor": "#E5ECF6",
            "gridcolor": "white",
            "gridwidth": 2,
            "linecolor": "white",
            "showbackground": true,
            "ticks": "",
            "zerolinecolor": "white"
           },
           "zaxis": {
            "backgroundcolor": "#E5ECF6",
            "gridcolor": "white",
            "gridwidth": 2,
            "linecolor": "white",
            "showbackground": true,
            "ticks": "",
            "zerolinecolor": "white"
           }
          },
          "shapedefaults": {
           "line": {
            "color": "#2a3f5f"
           }
          },
          "ternary": {
           "aaxis": {
            "gridcolor": "white",
            "linecolor": "white",
            "ticks": ""
           },
           "baxis": {
            "gridcolor": "white",
            "linecolor": "white",
            "ticks": ""
           },
           "bgcolor": "#E5ECF6",
           "caxis": {
            "gridcolor": "white",
            "linecolor": "white",
            "ticks": ""
           }
          },
          "title": {
           "x": 0.05
          },
          "xaxis": {
           "automargin": true,
           "gridcolor": "white",
           "linecolor": "white",
           "ticks": "",
           "title": {
            "standoff": 15
           },
           "zerolinecolor": "white",
           "zerolinewidth": 2
          },
          "yaxis": {
           "automargin": true,
           "gridcolor": "white",
           "linecolor": "white",
           "ticks": "",
           "title": {
            "standoff": 15
           },
           "zerolinecolor": "white",
           "zerolinewidth": 2
          }
         }
        },
        "title": {
         "text": "Incidentes_criminalidad_mes_distrito"
        },
        "uniformtext": {
         "minsize": 8,
         "mode": "hide"
        },
        "xaxis": {
         "anchor": "y",
         "domain": [
          0,
          1
         ],
         "title": {
          "text": "DISTRITOS"
         }
        },
        "yaxis": {
         "anchor": "x",
         "domain": [
          0,
          1
         ],
         "title": {
          "text": "TOTAL_INSEGURIDAD"
         }
        }
       }
      },
      "text/html": [
       "<div>                            <div id=\"5e1a55b9-1428-4003-9c26-6e3cfe65695f\" class=\"plotly-graph-div\" style=\"height:525px; width:100%;\"></div>            <script type=\"text/javascript\">                require([\"plotly\"], function(Plotly) {                    window.PLOTLYENV=window.PLOTLYENV || {};                                    if (document.getElementById(\"5e1a55b9-1428-4003-9c26-6e3cfe65695f\")) {                    Plotly.newPlot(                        \"5e1a55b9-1428-4003-9c26-6e3cfe65695f\",                        [{\"alignmentgroup\": \"True\", \"customdata\": [[37, 71, 11, 83, 16], [6, 3, 2, 7, 5], [4, 5, 1, 24, 0], [10, 43, 3, 17, 2], [7, 8, 1, 26, 4], [15, 24, 2, 14, 5], [10, 7, 1, 8, 4], [10, 8, 2, 26, 0], [34, 16, 5, 22, 0], [17, 24, 6, 37, 10], [37, 15, 2, 14, 5], [19, 23, 1, 5, 0], [24, 35, 12, 46, 1], [2, 7, 2, 4, 0], [14, 15, 3, 34, 5], [6, 3, 8, 56, 16], [20, 29, 0, 33, 7], [19, 16, 5, 23, 30], [17, 11, 0, 1, 0], [21, 25, 4, 19, 2], [7, 8, 0, 9, 0], [0, 0, 0, 0, 0]], \"hovertemplate\": \"MES=Marzo<br>DISTRITOS=%{x}<br>TOTAL_INSEGURIDAD=%{text}<br>RELACIONADAS CON LAS PERSONAS=%{customdata[0]}<br>RELACIONADAS CON EL PATRIMONIO=%{customdata[1]}<br>POR TENENCIA DE ARMAS=%{customdata[2]}<br>POR TENENCIA DE DROGAS=%{customdata[3]}<br>POR CONSUMO DE DROGAS=%{customdata[4]}<extra></extra>\", \"legendgroup\": \"Marzo\", \"marker\": {\"color\": \"#636efa\"}, \"name\": \"Marzo\", \"offsetgroup\": \"Marzo\", \"orientation\": \"v\", \"showlegend\": true, \"text\": [218.0, 23.0, 34.0, 75.0, 46.0, 60.0, 30.0, 46.0, 77.0, 94.0, 73.0, 48.0, 118.0, 15.0, 71.0, 89.0, 89.0, 93.0, 29.0, 71.0, 24.0, 0.0], \"textposition\": \"outside\", \"texttemplate\": \"%{text:.2s}\", \"type\": \"bar\", \"x\": [\"CENTRO\", \"ARGANZUELA\", \"RETIRO\", \"SALAMANCA\", \"CHAMART\\u00cdN\", \"TETU\\u00c1N\", \"CHAMBER\\u00cd\", \"FUENCARRAL - EL PARDO\", \"MONCLOA - ARAVACA\", \"LATINA\", \"CARABANCHEL\", \"USERA\", \"PUENTE DE VALLECAS\", \"MORATALAZ\", \"CIUDAD LINEAL\", \"HORTALEZA\", \"VILLAVERDE\", \"VILLA DE VALLECAS\", \"VIC\\u00c1LVARO\", \"SAN BLAS - CANILLEJAS\", \"BARAJAS\", \"SIN DISTRITO ASIGNADO\"], \"xaxis\": \"x\", \"y\": [218, 23, 34, 75, 46, 60, 30, 46, 77, 94, 73, 48, 118, 15, 71, 89, 89, 93, 29, 71, 24, 0], \"yaxis\": \"y\"}, {\"alignmentgroup\": \"True\", \"customdata\": [[36, 64, 14, 81, 19], [6, 11, 0, 8, 2], [5, 4, 1, 20, 9], [5, 42, 1, 25, 1], [4, 10, 2, 14, 3], [27, 14, 3, 6, 0], [6, 9, 3, 33, 2], [5, 9, 2, 20, 1], [23, 18, 3, 21, 3], [15, 6, 3, 65, 14], [41, 40, 2, 27, 6], [18, 27, 0, 8, 3], [42, 15, 6, 28, 0], [6, 7, 0, 6, 0], [19, 20, 2, 29, 2], [10, 6, 2, 20, 8], [22, 13, 3, 22, 4], [14, 17, 2, 14, 23], [11, 10, 0, 2, 0], [22, 22, 2, 16, 1], [7, 12, 1, 13, 5], [0, 0, 0, 0, 0]], \"hovertemplate\": \"MES=Abril<br>DISTRITOS=%{x}<br>TOTAL_INSEGURIDAD=%{text}<br>RELACIONADAS CON LAS PERSONAS=%{customdata[0]}<br>RELACIONADAS CON EL PATRIMONIO=%{customdata[1]}<br>POR TENENCIA DE ARMAS=%{customdata[2]}<br>POR TENENCIA DE DROGAS=%{customdata[3]}<br>POR CONSUMO DE DROGAS=%{customdata[4]}<extra></extra>\", \"legendgroup\": \"Abril\", \"marker\": {\"color\": \"#EF553B\"}, \"name\": \"Abril\", \"offsetgroup\": \"Abril\", \"orientation\": \"v\", \"showlegend\": true, \"text\": [214.0, 27.0, 39.0, 74.0, 33.0, 50.0, 53.0, 37.0, 68.0, 103.0, 116.0, 56.0, 91.0, 19.0, 72.0, 46.0, 64.0, 70.0, 23.0, 63.0, 38.0, 0.0], \"textposition\": \"outside\", \"texttemplate\": \"%{text:.2s}\", \"type\": \"bar\", \"x\": [\"CENTRO\", \"ARGANZUELA\", \"RETIRO\", \"SALAMANCA\", \"CHAMART\\u00cdN\", \"TETU\\u00c1N\", \"CHAMBER\\u00cd\", \"FUENCARRAL - EL PARDO\", \"MONCLOA - ARAVACA\", \"LATINA\", \"CARABANCHEL\", \"USERA\", \"PUENTE DE VALLECAS\", \"MORATALAZ\", \"CIUDAD LINEAL\", \"HORTALEZA\", \"VILLAVERDE\", \"VILLA DE VALLECAS\", \"VIC\\u00c1LVARO\", \"SAN BLAS - CANILLEJAS\", \"BARAJAS\", \"SIN DISTRITO ASIGNADO\"], \"xaxis\": \"x\", \"y\": [214, 27, 39, 74, 33, 50, 53, 37, 68, 103, 116, 56, 91, 19, 72, 46, 64, 70, 23, 63, 38, 0], \"yaxis\": \"y\"}, {\"alignmentgroup\": \"True\", \"customdata\": [[52, 97, 15, 76, 12], [6, 14, 2, 6, 14], [2, 4, 2, 21, 2], [8, 43, 1, 20, 2], [5, 10, 3, 16, 4], [16, 16, 1, 6, 0], [11, 11, 1, 10, 2], [6, 9, 0, 28, 1], [29, 26, 1, 17, 3], [20, 14, 0, 25, 6], [34, 27, 5, 26, 5], [19, 21, 1, 14, 4], [47, 30, 1, 43, 1], [12, 7, 0, 0, 0], [32, 22, 3, 33, 15], [4, 12, 3, 38, 9], [26, 27, 1, 19, 4], [22, 20, 3, 16, 41], [12, 12, 0, 2, 0], [26, 17, 3, 24, 2], [10, 15, 0, 15, 15], [0, 0, 0, 0, 0]], \"hovertemplate\": \"MES=Mayo<br>DISTRITOS=%{x}<br>TOTAL_INSEGURIDAD=%{text}<br>RELACIONADAS CON LAS PERSONAS=%{customdata[0]}<br>RELACIONADAS CON EL PATRIMONIO=%{customdata[1]}<br>POR TENENCIA DE ARMAS=%{customdata[2]}<br>POR TENENCIA DE DROGAS=%{customdata[3]}<br>POR CONSUMO DE DROGAS=%{customdata[4]}<extra></extra>\", \"legendgroup\": \"Mayo\", \"marker\": {\"color\": \"#00cc96\"}, \"name\": \"Mayo\", \"offsetgroup\": \"Mayo\", \"orientation\": \"v\", \"showlegend\": true, \"text\": [252.0, 42.0, 31.0, 74.0, 38.0, 39.0, 35.0, 44.0, 76.0, 65.0, 97.0, 59.0, 122.0, 19.0, 105.0, 66.0, 77.0, 102.0, 26.0, 72.0, 55.0, 0.0], \"textposition\": \"outside\", \"texttemplate\": \"%{text:.2s}\", \"type\": \"bar\", \"x\": [\"CENTRO\", \"ARGANZUELA\", \"RETIRO\", \"SALAMANCA\", \"CHAMART\\u00cdN\", \"TETU\\u00c1N\", \"CHAMBER\\u00cd\", \"FUENCARRAL - EL PARDO\", \"MONCLOA - ARAVACA\", \"LATINA\", \"CARABANCHEL\", \"USERA\", \"PUENTE DE VALLECAS\", \"MORATALAZ\", \"CIUDAD LINEAL\", \"HORTALEZA\", \"VILLAVERDE\", \"VILLA DE VALLECAS\", \"VIC\\u00c1LVARO\", \"SAN BLAS - CANILLEJAS\", \"BARAJAS\", \"SIN DISTRITO ASIGNADO\"], \"xaxis\": \"x\", \"y\": [252, 42, 31, 74, 38, 39, 35, 44, 76, 65, 97, 59, 122, 19, 105, 66, 77, 102, 26, 72, 55, 0], \"yaxis\": \"y\"}, {\"alignmentgroup\": \"True\", \"customdata\": [[20, 41, 4, 68, 10], [4, 9, 9, 10, 1], [3, 5, 0, 7, 0], [6, 47, 5, 27, 2], [2, 6, 0, 12, 2], [12, 31, 7, 29, 4], [15, 9, 1, 18, 0], [9, 7, 2, 14, 2], [22, 18, 0, 16, 4], [15, 14, 1, 40, 7], [32, 26, 3, 15, 2], [17, 24, 0, 10, 5], [30, 18, 6, 25, 3], [6, 5, 0, 5, 1], [15, 20, 2, 25, 6], [3, 15, 8, 35, 8], [8, 16, 0, 18, 4], [12, 10, 4, 27, 1], [8, 5, 0, 0, 0], [13, 21, 1, 31, 2], [6, 17, 0, 8, 1], [0, 0, 0, 0, 0]], \"hovertemplate\": \"MES=Febrero<br>DISTRITOS=%{x}<br>TOTAL_INSEGURIDAD=%{text}<br>RELACIONADAS CON LAS PERSONAS=%{customdata[0]}<br>RELACIONADAS CON EL PATRIMONIO=%{customdata[1]}<br>POR TENENCIA DE ARMAS=%{customdata[2]}<br>POR TENENCIA DE DROGAS=%{customdata[3]}<br>POR CONSUMO DE DROGAS=%{customdata[4]}<extra></extra>\", \"legendgroup\": \"Febrero\", \"marker\": {\"color\": \"#ab63fa\"}, \"name\": \"Febrero\", \"offsetgroup\": \"Febrero\", \"orientation\": \"v\", \"showlegend\": true, \"text\": [143.0, 33.0, 15.0, 87.0, 22.0, 83.0, 43.0, 34.0, 60.0, 77.0, 78.0, 56.0, 82.0, 17.0, 68.0, 69.0, 46.0, 54.0, 13.0, 68.0, 32.0, 0.0], \"textposition\": \"outside\", \"texttemplate\": \"%{text:.2s}\", \"type\": \"bar\", \"x\": [\"CENTRO\", \"ARGANZUELA\", \"RETIRO\", \"SALAMANCA\", \"CHAMART\\u00cdN\", \"TETU\\u00c1N\", \"CHAMBER\\u00cd\", \"FUENCARRAL - EL PARDO\", \"MONCLOA - ARAVACA\", \"LATINA\", \"CARABANCHEL\", \"USERA\", \"PUENTE DE VALLECAS\", \"MORATALAZ\", \"CIUDAD LINEAL\", \"HORTALEZA\", \"VILLAVERDE\", \"VILLA DE VALLECAS\", \"VIC\\u00c1LVARO\", \"SAN BLAS - CANILLEJAS\", \"BARAJAS\", \"SIN DISTRITO ASIGNADO\"], \"xaxis\": \"x\", \"y\": [143, 33, 15, 87, 22, 83, 43, 34, 60, 77, 78, 56, 82, 17, 68, 69, 46, 54, 13, 68, 32, 0], \"yaxis\": \"y\"}, {\"alignmentgroup\": \"True\", \"customdata\": [[19, 43, 17, 32, 8], [4, 10, 1, 3, 1], [1, 4, 0, 5, 1], [3, 49, 0, 11, 0], [3, 6, 1, 7, 2], [14, 13, 1, 3, 6], [4, 13, 3, 7, 2], [4, 10, 0, 10, 1], [23, 17, 0, 4, 3], [8, 12, 9, 11, 2], [27, 31, 4, 9, 6], [30, 20, 1, 8, 2], [25, 29, 3, 8, 0], [5, 2, 0, 1, 1], [15, 14, 1, 14, 5], [4, 14, 7, 26, 9], [14, 11, 1, 13, 2], [16, 10, 3, 20, 0], [7, 3, 0, 0, 0], [11, 9, 3, 11, 1], [5, 5, 0, 5, 2], [0, 0, 0, 0, 0]], \"hovertemplate\": \"MES=Enero<br>DISTRITOS=%{x}<br>TOTAL_INSEGURIDAD=%{text}<br>RELACIONADAS CON LAS PERSONAS=%{customdata[0]}<br>RELACIONADAS CON EL PATRIMONIO=%{customdata[1]}<br>POR TENENCIA DE ARMAS=%{customdata[2]}<br>POR TENENCIA DE DROGAS=%{customdata[3]}<br>POR CONSUMO DE DROGAS=%{customdata[4]}<extra></extra>\", \"legendgroup\": \"Enero\", \"marker\": {\"color\": \"#FFA15A\"}, \"name\": \"Enero\", \"offsetgroup\": \"Enero\", \"orientation\": \"v\", \"showlegend\": true, \"text\": [119.0, 19.0, 11.0, 63.0, 19.0, 37.0, 29.0, 25.0, 47.0, 42.0, 77.0, 61.0, 65.0, 9.0, 49.0, 60.0, 41.0, 49.0, 10.0, 35.0, 17.0, 0.0], \"textposition\": \"outside\", \"texttemplate\": \"%{text:.2s}\", \"type\": \"bar\", \"x\": [\"CENTRO\", \"ARGANZUELA\", \"RETIRO\", \"SALAMANCA\", \"CHAMART\\u00cdN\", \"TETU\\u00c1N\", \"CHAMBER\\u00cd\", \"FUENCARRAL - EL PARDO\", \"MONCLOA - ARAVACA\", \"LATINA\", \"CARABANCHEL\", \"USERA\", \"PUENTE DE VALLECAS\", \"MORATALAZ\", \"CIUDAD LINEAL\", \"HORTALEZA\", \"VILLAVERDE\", \"VILLA DE VALLECAS\", \"VIC\\u00c1LVARO\", \"SAN BLAS - CANILLEJAS\", \"BARAJAS\", \"SIN DISTRITO ASIGNADO\"], \"xaxis\": \"x\", \"y\": [119, 19, 11, 63, 19, 37, 29, 25, 47, 42, 77, 61, 65, 9, 49, 60, 41, 49, 10, 35, 17, 0], \"yaxis\": \"y\"}],                        {\"barmode\": \"relative\", \"legend\": {\"title\": {\"text\": \"MES\"}, \"tracegroupgap\": 0}, \"template\": {\"data\": {\"bar\": [{\"error_x\": {\"color\": \"#2a3f5f\"}, \"error_y\": {\"color\": \"#2a3f5f\"}, \"marker\": {\"line\": {\"color\": \"#E5ECF6\", \"width\": 0.5}}, \"type\": \"bar\"}], \"barpolar\": [{\"marker\": {\"line\": {\"color\": \"#E5ECF6\", \"width\": 0.5}}, \"type\": \"barpolar\"}], \"carpet\": [{\"aaxis\": {\"endlinecolor\": \"#2a3f5f\", \"gridcolor\": \"white\", \"linecolor\": \"white\", \"minorgridcolor\": \"white\", \"startlinecolor\": \"#2a3f5f\"}, \"baxis\": {\"endlinecolor\": \"#2a3f5f\", \"gridcolor\": \"white\", \"linecolor\": \"white\", \"minorgridcolor\": \"white\", \"startlinecolor\": \"#2a3f5f\"}, \"type\": \"carpet\"}], \"choropleth\": [{\"colorbar\": {\"outlinewidth\": 0, \"ticks\": \"\"}, \"type\": \"choropleth\"}], \"contour\": [{\"colorbar\": {\"outlinewidth\": 0, \"ticks\": \"\"}, \"colorscale\": [[0.0, \"#0d0887\"], [0.1111111111111111, \"#46039f\"], [0.2222222222222222, \"#7201a8\"], [0.3333333333333333, \"#9c179e\"], [0.4444444444444444, \"#bd3786\"], [0.5555555555555556, \"#d8576b\"], [0.6666666666666666, \"#ed7953\"], [0.7777777777777778, \"#fb9f3a\"], [0.8888888888888888, \"#fdca26\"], [1.0, \"#f0f921\"]], \"type\": \"contour\"}], \"contourcarpet\": [{\"colorbar\": {\"outlinewidth\": 0, \"ticks\": \"\"}, \"type\": \"contourcarpet\"}], \"heatmap\": [{\"colorbar\": {\"outlinewidth\": 0, \"ticks\": \"\"}, \"colorscale\": [[0.0, \"#0d0887\"], [0.1111111111111111, \"#46039f\"], [0.2222222222222222, \"#7201a8\"], [0.3333333333333333, \"#9c179e\"], [0.4444444444444444, \"#bd3786\"], [0.5555555555555556, \"#d8576b\"], [0.6666666666666666, \"#ed7953\"], [0.7777777777777778, \"#fb9f3a\"], [0.8888888888888888, \"#fdca26\"], [1.0, \"#f0f921\"]], \"type\": \"heatmap\"}], \"heatmapgl\": [{\"colorbar\": {\"outlinewidth\": 0, \"ticks\": \"\"}, \"colorscale\": [[0.0, \"#0d0887\"], [0.1111111111111111, \"#46039f\"], [0.2222222222222222, \"#7201a8\"], [0.3333333333333333, \"#9c179e\"], [0.4444444444444444, \"#bd3786\"], [0.5555555555555556, \"#d8576b\"], [0.6666666666666666, \"#ed7953\"], [0.7777777777777778, \"#fb9f3a\"], [0.8888888888888888, \"#fdca26\"], [1.0, \"#f0f921\"]], \"type\": \"heatmapgl\"}], \"histogram\": [{\"marker\": {\"colorbar\": {\"outlinewidth\": 0, \"ticks\": \"\"}}, \"type\": \"histogram\"}], \"histogram2d\": [{\"colorbar\": {\"outlinewidth\": 0, \"ticks\": \"\"}, \"colorscale\": [[0.0, \"#0d0887\"], [0.1111111111111111, \"#46039f\"], [0.2222222222222222, \"#7201a8\"], [0.3333333333333333, \"#9c179e\"], [0.4444444444444444, \"#bd3786\"], [0.5555555555555556, \"#d8576b\"], [0.6666666666666666, \"#ed7953\"], [0.7777777777777778, \"#fb9f3a\"], [0.8888888888888888, \"#fdca26\"], [1.0, \"#f0f921\"]], \"type\": \"histogram2d\"}], \"histogram2dcontour\": [{\"colorbar\": {\"outlinewidth\": 0, \"ticks\": \"\"}, \"colorscale\": [[0.0, \"#0d0887\"], [0.1111111111111111, \"#46039f\"], [0.2222222222222222, \"#7201a8\"], [0.3333333333333333, \"#9c179e\"], [0.4444444444444444, \"#bd3786\"], [0.5555555555555556, \"#d8576b\"], [0.6666666666666666, \"#ed7953\"], [0.7777777777777778, \"#fb9f3a\"], [0.8888888888888888, \"#fdca26\"], [1.0, \"#f0f921\"]], \"type\": \"histogram2dcontour\"}], \"mesh3d\": [{\"colorbar\": {\"outlinewidth\": 0, \"ticks\": \"\"}, \"type\": \"mesh3d\"}], \"parcoords\": [{\"line\": {\"colorbar\": {\"outlinewidth\": 0, \"ticks\": \"\"}}, \"type\": \"parcoords\"}], \"pie\": [{\"automargin\": true, \"type\": \"pie\"}], \"scatter\": [{\"marker\": {\"colorbar\": {\"outlinewidth\": 0, \"ticks\": \"\"}}, \"type\": \"scatter\"}], \"scatter3d\": [{\"line\": {\"colorbar\": {\"outlinewidth\": 0, \"ticks\": \"\"}}, \"marker\": {\"colorbar\": {\"outlinewidth\": 0, \"ticks\": \"\"}}, \"type\": \"scatter3d\"}], \"scattercarpet\": [{\"marker\": {\"colorbar\": {\"outlinewidth\": 0, \"ticks\": \"\"}}, \"type\": \"scattercarpet\"}], \"scattergeo\": [{\"marker\": {\"colorbar\": {\"outlinewidth\": 0, \"ticks\": \"\"}}, \"type\": \"scattergeo\"}], \"scattergl\": [{\"marker\": {\"colorbar\": {\"outlinewidth\": 0, \"ticks\": \"\"}}, \"type\": \"scattergl\"}], \"scattermapbox\": [{\"marker\": {\"colorbar\": {\"outlinewidth\": 0, \"ticks\": \"\"}}, \"type\": \"scattermapbox\"}], \"scatterpolar\": [{\"marker\": {\"colorbar\": {\"outlinewidth\": 0, \"ticks\": \"\"}}, \"type\": \"scatterpolar\"}], \"scatterpolargl\": [{\"marker\": {\"colorbar\": {\"outlinewidth\": 0, \"ticks\": \"\"}}, \"type\": \"scatterpolargl\"}], \"scatterternary\": [{\"marker\": {\"colorbar\": {\"outlinewidth\": 0, \"ticks\": \"\"}}, \"type\": \"scatterternary\"}], \"surface\": [{\"colorbar\": {\"outlinewidth\": 0, \"ticks\": \"\"}, \"colorscale\": [[0.0, \"#0d0887\"], [0.1111111111111111, \"#46039f\"], [0.2222222222222222, \"#7201a8\"], [0.3333333333333333, \"#9c179e\"], [0.4444444444444444, \"#bd3786\"], [0.5555555555555556, \"#d8576b\"], [0.6666666666666666, \"#ed7953\"], [0.7777777777777778, \"#fb9f3a\"], [0.8888888888888888, \"#fdca26\"], [1.0, \"#f0f921\"]], \"type\": \"surface\"}], \"table\": [{\"cells\": {\"fill\": {\"color\": \"#EBF0F8\"}, \"line\": {\"color\": \"white\"}}, \"header\": {\"fill\": {\"color\": \"#C8D4E3\"}, \"line\": {\"color\": \"white\"}}, \"type\": \"table\"}]}, \"layout\": {\"annotationdefaults\": {\"arrowcolor\": \"#2a3f5f\", \"arrowhead\": 0, \"arrowwidth\": 1}, \"autotypenumbers\": \"strict\", \"coloraxis\": {\"colorbar\": {\"outlinewidth\": 0, \"ticks\": \"\"}}, \"colorscale\": {\"diverging\": [[0, \"#8e0152\"], [0.1, \"#c51b7d\"], [0.2, \"#de77ae\"], [0.3, \"#f1b6da\"], [0.4, \"#fde0ef\"], [0.5, \"#f7f7f7\"], [0.6, \"#e6f5d0\"], [0.7, \"#b8e186\"], [0.8, \"#7fbc41\"], [0.9, \"#4d9221\"], [1, \"#276419\"]], \"sequential\": [[0.0, \"#0d0887\"], [0.1111111111111111, \"#46039f\"], [0.2222222222222222, \"#7201a8\"], [0.3333333333333333, \"#9c179e\"], [0.4444444444444444, \"#bd3786\"], [0.5555555555555556, \"#d8576b\"], [0.6666666666666666, \"#ed7953\"], [0.7777777777777778, \"#fb9f3a\"], [0.8888888888888888, \"#fdca26\"], [1.0, \"#f0f921\"]], \"sequentialminus\": [[0.0, \"#0d0887\"], [0.1111111111111111, \"#46039f\"], [0.2222222222222222, \"#7201a8\"], [0.3333333333333333, \"#9c179e\"], [0.4444444444444444, \"#bd3786\"], [0.5555555555555556, \"#d8576b\"], [0.6666666666666666, \"#ed7953\"], [0.7777777777777778, \"#fb9f3a\"], [0.8888888888888888, \"#fdca26\"], [1.0, \"#f0f921\"]]}, \"colorway\": [\"#636efa\", \"#EF553B\", \"#00cc96\", \"#ab63fa\", \"#FFA15A\", \"#19d3f3\", \"#FF6692\", \"#B6E880\", \"#FF97FF\", \"#FECB52\"], \"font\": {\"color\": \"#2a3f5f\"}, \"geo\": {\"bgcolor\": \"white\", \"lakecolor\": \"white\", \"landcolor\": \"#E5ECF6\", \"showlakes\": true, \"showland\": true, \"subunitcolor\": \"white\"}, \"hoverlabel\": {\"align\": \"left\"}, \"hovermode\": \"closest\", \"mapbox\": {\"style\": \"light\"}, \"paper_bgcolor\": \"white\", \"plot_bgcolor\": \"#E5ECF6\", \"polar\": {\"angularaxis\": {\"gridcolor\": \"white\", \"linecolor\": \"white\", \"ticks\": \"\"}, \"bgcolor\": \"#E5ECF6\", \"radialaxis\": {\"gridcolor\": \"white\", \"linecolor\": \"white\", \"ticks\": \"\"}}, \"scene\": {\"xaxis\": {\"backgroundcolor\": \"#E5ECF6\", \"gridcolor\": \"white\", \"gridwidth\": 2, \"linecolor\": \"white\", \"showbackground\": true, \"ticks\": \"\", \"zerolinecolor\": \"white\"}, \"yaxis\": {\"backgroundcolor\": \"#E5ECF6\", \"gridcolor\": \"white\", \"gridwidth\": 2, \"linecolor\": \"white\", \"showbackground\": true, \"ticks\": \"\", \"zerolinecolor\": \"white\"}, \"zaxis\": {\"backgroundcolor\": \"#E5ECF6\", \"gridcolor\": \"white\", \"gridwidth\": 2, \"linecolor\": \"white\", \"showbackground\": true, \"ticks\": \"\", \"zerolinecolor\": \"white\"}}, \"shapedefaults\": {\"line\": {\"color\": \"#2a3f5f\"}}, \"ternary\": {\"aaxis\": {\"gridcolor\": \"white\", \"linecolor\": \"white\", \"ticks\": \"\"}, \"baxis\": {\"gridcolor\": \"white\", \"linecolor\": \"white\", \"ticks\": \"\"}, \"bgcolor\": \"#E5ECF6\", \"caxis\": {\"gridcolor\": \"white\", \"linecolor\": \"white\", \"ticks\": \"\"}}, \"title\": {\"x\": 0.05}, \"xaxis\": {\"automargin\": true, \"gridcolor\": \"white\", \"linecolor\": \"white\", \"ticks\": \"\", \"title\": {\"standoff\": 15}, \"zerolinecolor\": \"white\", \"zerolinewidth\": 2}, \"yaxis\": {\"automargin\": true, \"gridcolor\": \"white\", \"linecolor\": \"white\", \"ticks\": \"\", \"title\": {\"standoff\": 15}, \"zerolinecolor\": \"white\", \"zerolinewidth\": 2}}}, \"title\": {\"text\": \"Incidentes_criminalidad_mes_distrito\"}, \"uniformtext\": {\"minsize\": 8, \"mode\": \"hide\"}, \"xaxis\": {\"anchor\": \"y\", \"domain\": [0.0, 1.0], \"title\": {\"text\": \"DISTRITOS\"}}, \"yaxis\": {\"anchor\": \"x\", \"domain\": [0.0, 1.0], \"title\": {\"text\": \"TOTAL_INSEGURIDAD\"}}},                        {\"responsive\": true}                    ).then(function(){\n",
       "                            \n",
       "var gd = document.getElementById('5e1a55b9-1428-4003-9c26-6e3cfe65695f');\n",
       "var x = new MutationObserver(function (mutations, observer) {{\n",
       "        var display = window.getComputedStyle(gd).display;\n",
       "        if (!display || display === 'none') {{\n",
       "            console.log([gd, 'removed!']);\n",
       "            Plotly.purge(gd);\n",
       "            observer.disconnect();\n",
       "        }}\n",
       "}});\n",
       "\n",
       "// Listen for the removal of the full notebook cells\n",
       "var notebookContainer = gd.closest('#notebook-container');\n",
       "if (notebookContainer) {{\n",
       "    x.observe(notebookContainer, {childList: true});\n",
       "}}\n",
       "\n",
       "// Listen for the clearing of the current output cell\n",
       "var outputEl = gd.closest('.output');\n",
       "if (outputEl) {{\n",
       "    x.observe(outputEl, {childList: true});\n",
       "}}\n",
       "\n",
       "                        })                };                });            </script>        </div>"
      ]
     },
     "metadata": {},
     "output_type": "display_data"
    }
   ],
   "source": [
    "fig = px.bar(df, x='DISTRITOS', y='TOTAL_INSEGURIDAD',\n",
    "             hover_data=['RELACIONADAS CON LAS PERSONAS',\n",
    "       'RELACIONADAS CON EL PATRIMONIO', 'POR TENENCIA DE ARMAS',\n",
    "       'POR TENENCIA DE DROGAS', 'POR CONSUMO DE DROGAS'], color='MES',\n",
    "             title=\"Incidentes_criminalidad_mes_distrito\", text='TOTAL_INSEGURIDAD', )\n",
    "fig.update_traces(texttemplate='%{text:.2s}', textposition='outside')\n",
    "fig.update_layout(uniformtext_minsize=8, uniformtext_mode='hide')\n",
    "\n",
    "fig.show()"
   ]
  },
  {
   "cell_type": "code",
   "execution_count": 87,
   "metadata": {},
   "outputs": [
    {
     "data": {
      "text/plain": [
       "{'ARGANZUELA': 28.8,\n",
       " 'BARAJAS': 33.2,\n",
       " 'CARABANCHEL': 88.2,\n",
       " 'CENTRO': 189.2,\n",
       " 'CHAMARTÍN': 31.6,\n",
       " 'CHAMBERÍ': 38.0,\n",
       " 'CIUDAD LINEAL': 73.0,\n",
       " 'FUENCARRAL - EL PARDO': 37.2,\n",
       " 'HORTALEZA': 66.0,\n",
       " 'LATINA': 76.2,\n",
       " 'MONCLOA - ARAVACA': 65.6,\n",
       " 'MORATALAZ': 15.8,\n",
       " 'PUENTE DE VALLECAS': 95.6,\n",
       " 'RETIRO': 26.0,\n",
       " 'SALAMANCA': 74.6,\n",
       " 'SAN BLAS - CANILLEJAS': 61.8,\n",
       " 'SIN DISTRITO ASIGNADO': 0.0,\n",
       " 'TETUÁN': 53.8,\n",
       " 'USERA': 56.0,\n",
       " 'VICÁLVARO': 20.2,\n",
       " 'VILLA DE VALLECAS': 73.6,\n",
       " 'VILLAVERDE': 63.4}"
      ]
     },
     "execution_count": 87,
     "metadata": {},
     "output_type": "execute_result"
    }
   ],
   "source": [
    "promedio_criminalidad_distrito=df.groupby(\"DISTRITOS\")[\"TOTAL_INSEGURIDAD\"].mean().to_dict()\n",
    "promedio_criminalidad_distrito"
   ]
  },
  {
   "cell_type": "markdown",
   "metadata": {},
   "source": [
    "### Catastro"
   ]
  },
  {
   "cell_type": "code",
   "execution_count": null,
   "metadata": {},
   "outputs": [],
   "source": [
    "https://www.madrid.es/UnidadesDescentralizadas/UDCEstadistica/Nuevaweb/Edificaci%C3%B3n%20y%20Vivienda/Catastro/E4000121.xls"
   ]
  }
 ],
 "metadata": {
  "kernelspec": {
   "display_name": "Python 3",
   "language": "python",
   "name": "python3"
  },
  "language_info": {
   "codemirror_mode": {
    "name": "ipython",
    "version": 3
   },
   "file_extension": ".py",
   "mimetype": "text/x-python",
   "name": "python",
   "nbconvert_exporter": "python",
   "pygments_lexer": "ipython3",
   "version": "3.8.3"
  }
 },
 "nbformat": 4,
 "nbformat_minor": 4
}
