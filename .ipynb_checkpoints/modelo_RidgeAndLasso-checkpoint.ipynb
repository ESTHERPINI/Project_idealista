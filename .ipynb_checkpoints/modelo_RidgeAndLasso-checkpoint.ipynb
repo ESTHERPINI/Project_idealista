{
 "cells": [
  {
   "cell_type": "code",
   "execution_count": 1,
   "metadata": {},
   "outputs": [],
   "source": [
    "import matplotlib.pyplot as plt\n",
    "import numpy as np \n",
    "import pandas as pd\n",
    "import matplotlib\n",
    "matplotlib.rcParams.update({'font.size': 12})\n",
    "from sklearn.model_selection import train_test_split\n",
    "from sklearn.linear_model import LinearRegression\n",
    "from sklearn.linear_model import Ridge\n",
    "train = pd.read_excel(\"../Project/output/project_dataset.xls\")"
   ]
  },
  {
   "cell_type": "code",
   "execution_count": 31,
   "metadata": {},
   "outputs": [
    {
     "data": {
      "text/html": [
       "<div>\n",
       "<style scoped>\n",
       "    .dataframe tbody tr th:only-of-type {\n",
       "        vertical-align: middle;\n",
       "    }\n",
       "\n",
       "    .dataframe tbody tr th {\n",
       "        vertical-align: top;\n",
       "    }\n",
       "\n",
       "    .dataframe thead th {\n",
       "        text-align: right;\n",
       "    }\n",
       "</style>\n",
       "<table border=\"1\" class=\"dataframe\">\n",
       "  <thead>\n",
       "    <tr style=\"text-align: right;\">\n",
       "      <th></th>\n",
       "      <th>Unnamed: 0</th>\n",
       "      <th>propertyCode</th>\n",
       "      <th>numPhotos</th>\n",
       "      <th>price</th>\n",
       "      <th>size</th>\n",
       "      <th>rooms</th>\n",
       "      <th>bathrooms</th>\n",
       "      <th>latitude</th>\n",
       "      <th>longitude</th>\n",
       "      <th>distance</th>\n",
       "      <th>hasLift</th>\n",
       "      <th>priceByArea</th>\n",
       "      <th>preciom2</th>\n",
       "      <th>criminality_ratio</th>\n",
       "      <th>mean_price_munimadrid</th>\n",
       "      <th>education_centers_ratio</th>\n",
       "    </tr>\n",
       "  </thead>\n",
       "  <tbody>\n",
       "    <tr>\n",
       "      <th>count</th>\n",
       "      <td>1520.000000</td>\n",
       "      <td>1.520000e+03</td>\n",
       "      <td>1520.000000</td>\n",
       "      <td>1.520000e+03</td>\n",
       "      <td>1520.000000</td>\n",
       "      <td>1520.000000</td>\n",
       "      <td>1520.000000</td>\n",
       "      <td>1520.000000</td>\n",
       "      <td>1520.000000</td>\n",
       "      <td>1520.000000</td>\n",
       "      <td>1520.000000</td>\n",
       "      <td>1520.000000</td>\n",
       "      <td>1520.000000</td>\n",
       "      <td>1520.000000</td>\n",
       "      <td>1520.000000</td>\n",
       "      <td>1520.000000</td>\n",
       "    </tr>\n",
       "    <tr>\n",
       "      <th>mean</th>\n",
       "      <td>759.500000</td>\n",
       "      <td>9.417673e+07</td>\n",
       "      <td>23.423684</td>\n",
       "      <td>3.261533e+05</td>\n",
       "      <td>88.197368</td>\n",
       "      <td>2.492763</td>\n",
       "      <td>1.421711</td>\n",
       "      <td>40.402150</td>\n",
       "      <td>-3.706227</td>\n",
       "      <td>3444.026974</td>\n",
       "      <td>0.596327</td>\n",
       "      <td>3427.080263</td>\n",
       "      <td>3426.656579</td>\n",
       "      <td>0.600758</td>\n",
       "      <td>3559.251234</td>\n",
       "      <td>0.399976</td>\n",
       "    </tr>\n",
       "    <tr>\n",
       "      <th>std</th>\n",
       "      <td>438.930518</td>\n",
       "      <td>1.726230e+06</td>\n",
       "      <td>12.925144</td>\n",
       "      <td>3.764044e+05</td>\n",
       "      <td>49.280049</td>\n",
       "      <td>1.301723</td>\n",
       "      <td>0.897911</td>\n",
       "      <td>0.027762</td>\n",
       "      <td>0.029034</td>\n",
       "      <td>2423.695330</td>\n",
       "      <td>0.487379</td>\n",
       "      <td>1670.356548</td>\n",
       "      <td>1670.352237</td>\n",
       "      <td>0.485006</td>\n",
       "      <td>1341.380846</td>\n",
       "      <td>0.046243</td>\n",
       "    </tr>\n",
       "    <tr>\n",
       "      <th>min</th>\n",
       "      <td>0.000000</td>\n",
       "      <td>3.921269e+07</td>\n",
       "      <td>0.000000</td>\n",
       "      <td>6.900000e+04</td>\n",
       "      <td>20.000000</td>\n",
       "      <td>0.000000</td>\n",
       "      <td>0.000000</td>\n",
       "      <td>40.331470</td>\n",
       "      <td>-3.791130</td>\n",
       "      <td>77.000000</td>\n",
       "      <td>0.000000</td>\n",
       "      <td>945.000000</td>\n",
       "      <td>944.000000</td>\n",
       "      <td>0.166635</td>\n",
       "      <td>1822.375000</td>\n",
       "      <td>0.366435</td>\n",
       "    </tr>\n",
       "    <tr>\n",
       "      <th>25%</th>\n",
       "      <td>379.750000</td>\n",
       "      <td>9.433460e+07</td>\n",
       "      <td>14.000000</td>\n",
       "      <td>1.440000e+05</td>\n",
       "      <td>60.000000</td>\n",
       "      <td>2.000000</td>\n",
       "      <td>1.000000</td>\n",
       "      <td>40.386837</td>\n",
       "      <td>-3.724915</td>\n",
       "      <td>1302.750000</td>\n",
       "      <td>0.000000</td>\n",
       "      <td>2072.000000</td>\n",
       "      <td>2072.000000</td>\n",
       "      <td>0.318961</td>\n",
       "      <td>2289.875000</td>\n",
       "      <td>0.369496</td>\n",
       "    </tr>\n",
       "    <tr>\n",
       "      <th>50%</th>\n",
       "      <td>759.500000</td>\n",
       "      <td>9.438822e+07</td>\n",
       "      <td>22.000000</td>\n",
       "      <td>2.094500e+05</td>\n",
       "      <td>77.000000</td>\n",
       "      <td>3.000000</td>\n",
       "      <td>1.000000</td>\n",
       "      <td>40.402961</td>\n",
       "      <td>-3.704769</td>\n",
       "      <td>2941.000000</td>\n",
       "      <td>1.000000</td>\n",
       "      <td>3088.000000</td>\n",
       "      <td>3087.500000</td>\n",
       "      <td>0.347522</td>\n",
       "      <td>3913.125000</td>\n",
       "      <td>0.384291</td>\n",
       "    </tr>\n",
       "    <tr>\n",
       "      <th>75%</th>\n",
       "      <td>1139.250000</td>\n",
       "      <td>9.443705e+07</td>\n",
       "      <td>31.000000</td>\n",
       "      <td>3.650000e+05</td>\n",
       "      <td>103.000000</td>\n",
       "      <td>3.000000</td>\n",
       "      <td>2.000000</td>\n",
       "      <td>40.414025</td>\n",
       "      <td>-3.694261</td>\n",
       "      <td>4989.250000</td>\n",
       "      <td>1.000000</td>\n",
       "      <td>4450.500000</td>\n",
       "      <td>4450.500000</td>\n",
       "      <td>1.398229</td>\n",
       "      <td>5254.312500</td>\n",
       "      <td>0.392691</td>\n",
       "    </tr>\n",
       "    <tr>\n",
       "      <th>max</th>\n",
       "      <td>1519.000000</td>\n",
       "      <td>9.447742e+07</td>\n",
       "      <td>86.000000</td>\n",
       "      <td>4.700000e+06</td>\n",
       "      <td>471.000000</td>\n",
       "      <td>25.000000</td>\n",
       "      <td>17.000000</td>\n",
       "      <td>40.495776</td>\n",
       "      <td>-3.617214</td>\n",
       "      <td>9750.000000</td>\n",
       "      <td>1.000000</td>\n",
       "      <td>14224.000000</td>\n",
       "      <td>14224.000000</td>\n",
       "      <td>1.398229</td>\n",
       "      <td>5254.312500</td>\n",
       "      <td>0.545857</td>\n",
       "    </tr>\n",
       "  </tbody>\n",
       "</table>\n",
       "</div>"
      ],
      "text/plain": [
       "        Unnamed: 0  propertyCode    numPhotos         price         size  \\\n",
       "count  1520.000000  1.520000e+03  1520.000000  1.520000e+03  1520.000000   \n",
       "mean    759.500000  9.417673e+07    23.423684  3.261533e+05    88.197368   \n",
       "std     438.930518  1.726230e+06    12.925144  3.764044e+05    49.280049   \n",
       "min       0.000000  3.921269e+07     0.000000  6.900000e+04    20.000000   \n",
       "25%     379.750000  9.433460e+07    14.000000  1.440000e+05    60.000000   \n",
       "50%     759.500000  9.438822e+07    22.000000  2.094500e+05    77.000000   \n",
       "75%    1139.250000  9.443705e+07    31.000000  3.650000e+05   103.000000   \n",
       "max    1519.000000  9.447742e+07    86.000000  4.700000e+06   471.000000   \n",
       "\n",
       "             rooms    bathrooms     latitude    longitude     distance  \\\n",
       "count  1520.000000  1520.000000  1520.000000  1520.000000  1520.000000   \n",
       "mean      2.492763     1.421711    40.402150    -3.706227  3444.026974   \n",
       "std       1.301723     0.897911     0.027762     0.029034  2423.695330   \n",
       "min       0.000000     0.000000    40.331470    -3.791130    77.000000   \n",
       "25%       2.000000     1.000000    40.386837    -3.724915  1302.750000   \n",
       "50%       3.000000     1.000000    40.402961    -3.704769  2941.000000   \n",
       "75%       3.000000     2.000000    40.414025    -3.694261  4989.250000   \n",
       "max      25.000000    17.000000    40.495776    -3.617214  9750.000000   \n",
       "\n",
       "           hasLift   priceByArea      preciom2  criminality_ratio  \\\n",
       "count  1520.000000   1520.000000   1520.000000        1520.000000   \n",
       "mean      0.596327   3427.080263   3426.656579           0.600758   \n",
       "std       0.487379   1670.356548   1670.352237           0.485006   \n",
       "min       0.000000    945.000000    944.000000           0.166635   \n",
       "25%       0.000000   2072.000000   2072.000000           0.318961   \n",
       "50%       1.000000   3088.000000   3087.500000           0.347522   \n",
       "75%       1.000000   4450.500000   4450.500000           1.398229   \n",
       "max       1.000000  14224.000000  14224.000000           1.398229   \n",
       "\n",
       "       mean_price_munimadrid  education_centers_ratio  \n",
       "count            1520.000000              1520.000000  \n",
       "mean             3559.251234                 0.399976  \n",
       "std              1341.380846                 0.046243  \n",
       "min              1822.375000                 0.366435  \n",
       "25%              2289.875000                 0.369496  \n",
       "50%              3913.125000                 0.384291  \n",
       "75%              5254.312500                 0.392691  \n",
       "max              5254.312500                 0.545857  "
      ]
     },
     "execution_count": 31,
     "metadata": {},
     "output_type": "execute_result"
    }
   ],
   "source": [
    "train.describe()"
   ]
  },
  {
   "cell_type": "code",
   "execution_count": 32,
   "metadata": {},
   "outputs": [
    {
     "name": "stdout",
     "output_type": "stream",
     "text": [
      "Numerical columns:  ['Unnamed: 0', 'propertyCode', 'numPhotos', 'price', 'size', 'exterior', 'rooms', 'bathrooms', 'latitude', 'longitude', 'showAddress', 'distance', 'hasVideo', 'newDevelopment', 'hasLift', 'priceByArea', 'hasPlan', 'has3DTour', 'has360', 'parking', 'preciom2', 'criminality_ratio', 'mean_price_munimadrid', 'education_centers_ratio']\n",
      "Categorical columns:  ['floor', 'address', 'propertyType', 'status', 'district']\n"
     ]
    }
   ],
   "source": [
    "num_cols = list(train._get_numeric_data().columns)\n",
    "print(\"Numerical columns: \", num_cols)\n",
    "\n",
    "cat_cols=list(set(train.columns) - set(num_cols))\n",
    "print(\"Categorical columns: \", cat_cols)"
   ]
  },
  {
   "cell_type": "code",
   "execution_count": 33,
   "metadata": {},
   "outputs": [],
   "source": [
    "train = train.copy()\n",
    "train = pd.get_dummies(train, prefix=['floor', 'status', 'district', 'address', 'propertyType'])"
   ]
  },
  {
   "cell_type": "code",
   "execution_count": 41,
   "metadata": {},
   "outputs": [],
   "source": [
    "X = train.drop('price', axis=1) \n",
    "y = train['price']"
   ]
  },
  {
   "cell_type": "code",
   "execution_count": 35,
   "metadata": {},
   "outputs": [
    {
     "name": "stderr",
     "output_type": "stream",
     "text": [
      "C:\\Users\\pinil\\anaconda3\\lib\\site-packages\\sklearn\\linear_model\\_ridge.py:147: LinAlgWarning: Ill-conditioned matrix (rcond=9.50193e-19): result may not be accurate.\n",
      "  return linalg.solve(A, Xy, sym_pos=True,\n"
     ]
    }
   ],
   "source": [
    "X_train, X_test, y_train, y_test = train_test_split(X,y, test_size = 0.2, random_state=0)\n",
    "lr = LinearRegression()\n",
    "lr.fit(X_train, y_train)\n",
    "rr = Ridge(alpha=0.01) # higher the alpha value, more restriction on the coefficients; low alpha > more generalization, coefficients are barely\n",
    "# restricted and in this case linear and ridge regression resembles\n",
    "rr.fit(X_train, y_train)\n",
    "rr100 = Ridge(alpha=100) #  comparison with alpha value\n",
    "rr100.fit(X_train, y_train)\n",
    "train_score=lr.score(X_train, y_train)\n",
    "test_score=lr.score(X_test, y_test)\n",
    "Ridge_train_score = rr.score(X_train,y_train)\n",
    "Ridge_test_score = rr.score(X_test, y_test)\n",
    "Ridge_train_score100 = rr100.score(X_train,y_train)\n",
    "Ridge_test_score100 = rr100.score(X_test, y_test)"
   ]
  },
  {
   "cell_type": "code",
   "execution_count": 36,
   "metadata": {},
   "outputs": [
    {
     "name": "stdout",
     "output_type": "stream",
     "text": [
      "linear regression train score: 0.9859131952670803\n",
      "linear regression test score: -387729.2602523918\n",
      "ridge regression train score low alpha: 0.9858469777581631\n",
      "ridge regression test score low alpha: 0.9096151683113394\n",
      "ridge regression train score high alpha: 0.931348416116477\n",
      "ridge regression test score high alpha: 0.9071236435207242\n"
     ]
    }
   ],
   "source": [
    "print(\"linear regression train score:\", train_score)\n",
    "print(\"linear regression test score:\", test_score)\n",
    "print(\"ridge regression train score low alpha:\", Ridge_train_score)\n",
    "print(\"ridge regression test score low alpha:\", Ridge_test_score)\n",
    "print(\"ridge regression train score high alpha:\", Ridge_train_score100)\n",
    "print(\"ridge regression test score high alpha:\", Ridge_test_score100)"
   ]
  },
  {
   "cell_type": "code",
   "execution_count": 37,
   "metadata": {},
   "outputs": [
    {
     "data": {
      "image/png": "[encoded data removed]",
      "text/plain": [
       "<Figure size 432x288 with 1 Axes>"
      ]
     },
     "metadata": {
      "needs_background": "light"
     },
     "output_type": "display_data"
    }
   ],
   "source": [
    "plt.plot(rr.coef_,alpha=0.7,linestyle='none',marker='*',markersize=5,color='red',label=r'Ridge; $\\alpha = 0.01$',zorder=7) # zorder for ordering the markers\n",
    "plt.plot(rr100.coef_,alpha=0.5,linestyle='none',marker='d',markersize=6,color='blue',label=r'Ridge; $\\alpha = 100$') # alpha here is for transparency\n",
    "plt.plot(lr.coef_,alpha=0.4,linestyle='none',marker='o',markersize=7,color='green',label='Linear Regression')\n",
    "plt.xlabel('Coefficient Index',fontsize=16)\n",
    "plt.ylabel('Coefficient Magnitude',fontsize=16)\n",
    "plt.legend(fontsize=13,loc=4)\n",
    "plt.show()"
   ]
  },
  {
   "cell_type": "code",
   "execution_count": 38,
   "metadata": {},
   "outputs": [],
   "source": [
    "import math \n",
    "import matplotlib.pyplot as plt \n",
    "import pandas as pd\n",
    "import numpy as np\n",
    "from sklearn.linear_model import Lasso\n",
    "from sklearn.linear_model import LinearRegression\n",
    "from sklearn.model_selection import train_test_split"
   ]
  },
  {
   "cell_type": "code",
   "execution_count": 39,
   "metadata": {
    "scrolled": true
   },
   "outputs": [
    {
     "name": "stderr",
     "output_type": "stream",
     "text": [
      "C:\\Users\\pinil\\anaconda3\\lib\\site-packages\\sklearn\\linear_model\\_coordinate_descent.py:529: ConvergenceWarning: Objective did not converge. You might want to increase the number of iterations. Duality gap: 1195625084766.5435, tolerance: 16950189121.132658\n",
      "  model = cd_fast.enet_coordinate_descent(\n"
     ]
    },
    {
     "name": "stdout",
     "output_type": "stream",
     "text": [
      "training score: 0.9867211067739794\n",
      "test score:  0.8873956428625897\n",
      "number of features used:  810\n"
     ]
    },
    {
     "name": "stderr",
     "output_type": "stream",
     "text": [
      "C:\\Users\\pinil\\anaconda3\\lib\\site-packages\\sklearn\\linear_model\\_coordinate_descent.py:529: ConvergenceWarning: Objective did not converge. You might want to increase the number of iterations. Duality gap: 1113747991596.7112, tolerance: 16950189121.132658\n",
      "  model = cd_fast.enet_coordinate_descent(\n"
     ]
    },
    {
     "name": "stdout",
     "output_type": "stream",
     "text": [
      "training score for alpha=0.01: 0.9868619155297038\n",
      "test score for alpha =0.01:  0.8657526950575596\n",
      "number of features used: for alpha =0.01: 820\n"
     ]
    },
    {
     "name": "stderr",
     "output_type": "stream",
     "text": [
      "C:\\Users\\pinil\\anaconda3\\lib\\site-packages\\sklearn\\linear_model\\_coordinate_descent.py:529: ConvergenceWarning: Objective did not converge. You might want to increase the number of iterations. Duality gap: 1113466420909.0854, tolerance: 16950189121.132658\n",
      "  model = cd_fast.enet_coordinate_descent(\n"
     ]
    },
    {
     "name": "stdout",
     "output_type": "stream",
     "text": [
      "training score for alpha=0.0001: 0.986861948280167\n",
      "test score for alpha =0.0001:  0.859526474993799\n",
      "number of features used: for alpha =0.0001: 828\n",
      "LR training score: 0.9868620452323643\n",
      "LR test score:  0.8675017278995905\n"
     ]
    }
   ],
   "source": [
    "X_train,X_test,y_train,y_test=train_test_split(X,y, test_size=0.2, random_state=31)\n",
    "lasso = Lasso()\n",
    "lasso.fit(X_train,y_train)\n",
    "train_score=lasso.score(X_train,y_train)\n",
    "test_score=lasso.score(X_test,y_test)\n",
    "coeff_used = np.sum(lasso.coef_!=0)\n",
    "print(\"training score:\", train_score) \n",
    "print(\"test score: \", test_score)\n",
    "print(\"number of features used: \", coeff_used)\n",
    "lasso001 = Lasso(alpha=0.01, max_iter=10e5)\n",
    "lasso001.fit(X_train,y_train)\n",
    "train_score001=lasso001.score(X_train,y_train)\n",
    "test_score001=lasso001.score(X_test,y_test)\n",
    "coeff_used001 = np.sum(lasso001.coef_!=0)\n",
    "print(\"training score for alpha=0.01:\", train_score001) \n",
    "print(\"test score for alpha =0.01: \", test_score001)\n",
    "print(\"number of features used: for alpha =0.01:\", coeff_used001)\n",
    "lasso00001 = Lasso(alpha=0.0001, max_iter=10e5)\n",
    "lasso00001.fit(X_train,y_train)\n",
    "train_score00001=lasso00001.score(X_train,y_train)\n",
    "test_score00001=lasso00001.score(X_test,y_test)\n",
    "coeff_used00001 = np.sum(lasso00001.coef_!=0)\n",
    "print(\"training score for alpha=0.0001:\", train_score00001) \n",
    "print(\"test score for alpha =0.0001: \", test_score00001)\n",
    "print(\"number of features used: for alpha =0.0001:\", coeff_used00001)\n",
    "lr = LinearRegression()\n",
    "lr.fit(X_train,y_train)\n",
    "lr_train_score=lr.score(X_train,y_train)\n",
    "lr_test_score=lr.score(X_test,y_test)\n",
    "print(\"LR training score:\", lr_train_score) \n",
    "print(\"LR test score: \", lr_test_score)"
   ]
  },
  {
   "cell_type": "code",
   "execution_count": 40,
   "metadata": {},
   "outputs": [
    {
     "data": {
      "image/png": "[encoded data removed]",
      "text/plain": [
       "<Figure size 432x288 with 2 Axes>"
      ]
     },
     "metadata": {
      "needs_background": "light"
     },
     "output_type": "display_data"
    }
   ],
   "source": [
    "plt.subplot(1,2,1)\n",
    "plt.plot(lasso.coef_,alpha=0.7,linestyle='none',marker='*',markersize=5,color='red',label=r'Lasso; $\\alpha = 1$',zorder=7) # alpha here is for transparency\n",
    "plt.plot(lasso001.coef_,alpha=0.5,linestyle='none',marker='d',markersize=6,color='blue',label=r'Lasso; $\\alpha = 0.01$') # alpha here is for transparency\n",
    "plt.xlabel('Coefficient Index',fontsize=16)\n",
    "plt.ylabel('Coefficient Magnitude',fontsize=16)\n",
    "plt.legend(fontsize=13,loc=4)\n",
    "plt.subplot(1,2,2)\n",
    "plt.plot(lasso.coef_,alpha=0.7,linestyle='none',marker='*',markersize=5,color='red',label=r'Lasso; $\\alpha = 1$',zorder=7) # alpha here is for transparency\n",
    "plt.plot(lasso001.coef_,alpha=0.5,linestyle='none',marker='d',markersize=6,color='blue',label=r'Lasso; $\\alpha = 0.01$') # alpha here is for transparency\n",
    "plt.plot(lasso00001.coef_,alpha=0.8,linestyle='none',marker='v',markersize=6,color='black',label=r'Lasso; $\\alpha = 0.00001$') # alpha here is for transparency\n",
    "plt.plot(lr.coef_,alpha=0.7,linestyle='none',marker='o',markersize=5,color='green',label='Linear Regression',zorder=2)\n",
    "plt.xlabel('Coefficient Index',fontsize=16)\n",
    "plt.ylabel('Coefficient Magnitude',fontsize=16)\n",
    "plt.legend(fontsize=13,loc=4)\n",
    "plt.tight_layout()\n",
    "plt.show()"
   ]
  },
  {
   "cell_type": "code",
   "execution_count": null,
   "metadata": {},
   "outputs": [],
   "source": []
  },
  {
   "cell_type": "code",
   "execution_count": null,
   "metadata": {},
   "outputs": [],
   "source": []
  }
 ],
 "metadata": {
  "kernelspec": {
   "display_name": "Python 3",
   "language": "python",
   "name": "python3"
  },
  "language_info": {
   "codemirror_mode": {
    "name": "ipython",
    "version": 3
   },
   "file_extension": ".py",
   "mimetype": "text/x-python",
   "name": "python",
   "nbconvert_exporter": "python",
   "pygments_lexer": "ipython3",
   "version": "3.8.3"
  },
  "toc": {
   "base_numbering": 1,
   "nav_menu": {},
   "number_sections": true,
   "sideBar": true,
   "skip_h1_title": false,
   "title_cell": "Table of Contents",
   "title_sidebar": "Contents",
   "toc_cell": false,
   "toc_position": {},
   "toc_section_display": true,
   "toc_window_display": false
  }
 },
 "nbformat": 4,
 "nbformat_minor": 2
}
